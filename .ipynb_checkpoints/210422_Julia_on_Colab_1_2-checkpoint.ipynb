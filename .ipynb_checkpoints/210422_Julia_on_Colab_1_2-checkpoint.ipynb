{
 "cells": [
  {
   "cell_type": "markdown",
   "metadata": {
    "colab_type": "text",
    "id": "view-in-github"
   },
   "source": [
    "<a href=\"https://colab.research.google.com/github/kathuman/Julia-Experiments/blob/main/210422_Julia_on_Colab_1_2.ipynb\" target=\"_parent\"><img src=\"https://colab.research.google.com/assets/colab-badge.svg\" alt=\"Open In Colab\"/></a>"
   ]
  },
  {
   "cell_type": "code",
   "execution_count": 1,
   "metadata": {
    "colab": {
     "base_uri": "https://localhost:8080/"
    },
    "id": "oMSuTc3pDlHv",
    "outputId": "6c4647ba-a041-4b57-b4a2-c4f36aa8e7e4"
   },
   "outputs": [
    {
     "ename": "LoadError",
     "evalue": "syntax: extra token \"\"\" after end of expression",
     "output_type": "error",
     "traceback": [
      "syntax: extra token \"\"\" after end of expression",
      "",
      "Stacktrace:",
      " [1] top-level scope",
      "   @ In[1]:1",
      " [2] eval",
      "   @ .\\boot.jl:360 [inlined]",
      " [3] include_string(mapexpr::typeof(REPL.softscope), mod::Module, code::String, filename::String)",
      "   @ Base .\\loading.jl:1116"
     ]
    }
   ],
   "source": [
    "!curl -sSL \"https://julialang-s3.julialang.org/bin/linux/x64/1.2/julia-1.2.0-linux-x86_64.tar.gz\" -o julia.tar.gz\n",
    "!tar -xzf julia.tar.gz -C /usr --strip-components 1\n",
    "!rm -rf julia.tar.gz*\n",
    "!julia -e 'using Pkg; pkg\"add IJulia; precompile\"'\n",
    "!echo \"DONE\""
   ]
  },
  {
   "cell_type": "code",
   "execution_count": 2,
   "metadata": {
    "colab": {
     "base_uri": "https://localhost:8080/"
    },
    "id": "2V6gBY70kT8n",
    "outputId": "75dd802f-a080-4cd7-c5b6-5c66cea3539b"
   },
   "outputs": [
    {
     "name": "stdout",
     "output_type": "stream",
     "text": [
      "                                                                                \n",
      "                                                                                \n",
      "                                                                                \n",
      "                                                           **                   \n",
      "                                                         ******                 \n",
      "                                                       ********                 \n",
      "                                                         ******                 \n",
      "                                                      ******** **   *           \n",
      "                                              ***   *****************           \n",
      "                                              ************************  ***     \n",
      "                                              ****************************      \n",
      "                                           ******************************       \n",
      "                                            ******************************      \n",
      "                                         ************************************   \n",
      "                                *         **********************************    \n",
      "                           ** ***** *     **********************************    \n",
      "                           ***********   ************************************   \n",
      "                         ************** ************************************    \n",
      "                         ***************************************************    \n",
      "                     *****************************************************      \n",
      " ***********************************************************************        \n",
      "                     *****************************************************      \n",
      "                         ***************************************************    \n",
      "                         ************** ************************************    \n",
      "                           ***********   ************************************   \n",
      "                           ** ***** *     **********************************    \n",
      "                                *         **********************************    \n",
      "                                         ************************************   \n",
      "                                            ******************************      \n",
      "                                           ******************************       \n",
      "                                              ****************************      \n",
      "                                              ************************  ***     \n",
      "                                              ***   *****************           \n",
      "                                                      ******** **   *           \n",
      "                                                         ******                 \n",
      "                                                       ********                 \n",
      "                                                         ******                 \n",
      "                                                           **                   \n",
      "                                                                                \n",
      "                                                                                \n",
      "                                                                                \n"
     ]
    }
   ],
   "source": [
    "function mandelbrot(a)\n",
    "    z = 0\n",
    "    for i=1:50\n",
    "        z = z^2 + a\n",
    "    end\n",
    "    return z\n",
    "end\n",
    "\n",
    "for y=1.0:-0.05:-1.0\n",
    "    for x=-2.0:0.0315:0.5\n",
    "        abs(mandelbrot(complex(x, y))) < 2 ? print(\"*\") : print(\" \")\n",
    "    end\n",
    "    println()\n",
    "end"
   ]
  },
  {
   "cell_type": "code",
   "execution_count": null,
   "metadata": {},
   "outputs": [],
   "source": []
  }
 ],
 "metadata": {
  "accelerator": "GPU",
  "colab": {
   "include_colab_link": true,
   "name": "Julia on Colab_1.2.ipynb",
   "provenance": []
  },
  "kernelspec": {
   "display_name": "Julia 1.6.2",
   "language": "julia",
   "name": "julia-1.6"
  },
  "language_info": {
   "file_extension": ".jl",
   "mimetype": "application/julia",
   "name": "julia",
   "version": "1.6.2"
  }
 },
 "nbformat": 4,
 "nbformat_minor": 1
}
