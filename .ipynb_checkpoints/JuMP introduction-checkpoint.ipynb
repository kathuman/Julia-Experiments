{
 "cells": [
  {
   "cell_type": "markdown",
   "metadata": {},
   "source": [
    "Creating a Model"
   ]
  },
  {
   "cell_type": "code",
   "execution_count": null,
   "metadata": {},
   "outputs": [],
   "source": [
    "using Pkg\n",
    "Pkg.add(\"JuMP\")"
   ]
  },
  {
   "cell_type": "code",
   "execution_count": 2,
   "metadata": {},
   "outputs": [
    {
     "name": "stderr",
     "output_type": "stream",
     "text": [
      "┌ Info: Precompiling JuMP [4076af6c-e467-56ae-b986-b466b2749572]\n",
      "└ @ Base loading.jl:1342\n",
      "\u001b[91m\u001b[1mERROR: \u001b[22m\u001b[39mLoadError: LoadError: UndefVarError: Grisu not defined\n",
      "Stacktrace:\n",
      "  [1] \u001b[0m\u001b[1mgetproperty\u001b[22m\u001b[0m\u001b[1m(\u001b[22m\u001b[90mx\u001b[39m::\u001b[0mModule, \u001b[90mf\u001b[39m::\u001b[0mSymbol\u001b[0m\u001b[1m)\u001b[22m\n",
      "\u001b[90m    @ \u001b[39m\u001b[90mBase\u001b[39m \u001b[90m.\\\u001b[39m\u001b[90;4mBase.jl:26\u001b[0m\n",
      "  [2] top-level scope\n",
      "\u001b[90m    @ \u001b[39m\u001b[90mC:\\Users\\DSEP0001\\.julia\\packages\\JuMP\\I7whV\\src\\\u001b[39m\u001b[90;4mwriters.jl:6\u001b[0m\n",
      "  [3] \u001b[0m\u001b[1minclude\u001b[22m\u001b[0m\u001b[1m(\u001b[22m\u001b[90mmod\u001b[39m::\u001b[0mModule, \u001b[90m_path\u001b[39m::\u001b[0mString\u001b[0m\u001b[1m)\u001b[22m\n",
      "\u001b[90m    @ \u001b[39m\u001b[90mBase\u001b[39m \u001b[90m.\\\u001b[39m\u001b[90;4mBase.jl:386\u001b[0m\n",
      "  [4] \u001b[0m\u001b[1minclude\u001b[22m\u001b[0m\u001b[1m(\u001b[22m\u001b[90mx\u001b[39m::\u001b[0mString\u001b[0m\u001b[1m)\u001b[22m\n",
      "\u001b[90m    @ \u001b[39m\u001b[35mJuMP\u001b[39m \u001b[90mC:\\Users\\DSEP0001\\.julia\\packages\\JuMP\\I7whV\\src\\\u001b[39m\u001b[90;4mJuMP.jl:11\u001b[0m\n",
      "  [5] top-level scope\n",
      "\u001b[90m    @ \u001b[39m\u001b[90mC:\\Users\\DSEP0001\\.julia\\packages\\JuMP\\I7whV\\src\\\u001b[39m\u001b[90;4mJuMP.jl:947\u001b[0m\n",
      "  [6] \u001b[0m\u001b[1minclude\u001b[22m\n",
      "\u001b[90m    @ \u001b[39m\u001b[90m.\\\u001b[39m\u001b[90;4mBase.jl:386\u001b[0m\u001b[90m [inlined]\u001b[39m\n",
      "  [7] \u001b[0m\u001b[1minclude_package_for_output\u001b[22m\u001b[0m\u001b[1m(\u001b[22m\u001b[90mpkg\u001b[39m::\u001b[0mBase.PkgId, \u001b[90minput\u001b[39m::\u001b[0mString, \u001b[90mdepot_path\u001b[39m::\u001b[0mVector\u001b[90m{String}\u001b[39m, \u001b[90mdl_load_path\u001b[39m::\u001b[0mVector\u001b[90m{String}\u001b[39m, \u001b[90mload_path\u001b[39m::\u001b[0mVector\u001b[90m{String}\u001b[39m, \u001b[90mconcrete_deps\u001b[39m::\u001b[0mVector\u001b[90m{Pair{Base.PkgId, UInt64}}\u001b[39m, \u001b[90msource\u001b[39m::\u001b[0mNothing\u001b[0m\u001b[1m)\u001b[22m\n",
      "\u001b[90m    @ \u001b[39m\u001b[90mBase\u001b[39m \u001b[90m.\\\u001b[39m\u001b[90;4mloading.jl:1235\u001b[0m\n",
      "  [8] top-level scope\n",
      "\u001b[90m    @ \u001b[39m\u001b[90;4mnone:1\u001b[0m\n",
      "  [9] \u001b[0m\u001b[1meval\u001b[22m\n",
      "\u001b[90m    @ \u001b[39m\u001b[90m.\\\u001b[39m\u001b[90;4mboot.jl:360\u001b[0m\u001b[90m [inlined]\u001b[39m\n",
      " [10] \u001b[0m\u001b[1meval\u001b[22m\u001b[0m\u001b[1m(\u001b[22m\u001b[90mx\u001b[39m::\u001b[0mExpr\u001b[0m\u001b[1m)\u001b[22m\n",
      "\u001b[90m    @ \u001b[39m\u001b[90mBase.MainInclude\u001b[39m \u001b[90m.\\\u001b[39m\u001b[90;4mclient.jl:446\u001b[0m\n",
      " [11] top-level scope\n",
      "\u001b[90m    @ \u001b[39m\u001b[90;4mnone:1\u001b[0m\n",
      "in expression starting at C:\\Users\\DSEP0001\\.julia\\packages\\JuMP\\I7whV\\src\\writers.jl:5\n",
      "in expression starting at C:\\Users\\DSEP0001\\.julia\\packages\\JuMP\\I7whV\\src\\JuMP.jl:11\n"
     ]
    },
    {
     "ename": "LoadError",
     "evalue": "Failed to precompile JuMP [4076af6c-e467-56ae-b986-b466b2749572] to C:\\Users\\DSEP0001\\.julia\\compiled\\v1.6\\JuMP\\jl_F632.tmp.",
     "output_type": "error",
     "traceback": [
      "Failed to precompile JuMP [4076af6c-e467-56ae-b986-b466b2749572] to C:\\Users\\DSEP0001\\.julia\\compiled\\v1.6\\JuMP\\jl_F632.tmp.",
      "",
      "Stacktrace:",
      " [1] error(s::String)",
      "   @ Base .\\error.jl:33",
      " [2] compilecache(pkg::Base.PkgId, path::String, internal_stderr::IJulia.IJuliaStdio{Base.PipeEndpoint}, internal_stdout::IJulia.IJuliaStdio{Base.PipeEndpoint}, ignore_loaded_modules::Bool)",
      "   @ Base .\\loading.jl:1385",
      " [3] compilecache(pkg::Base.PkgId, path::String)",
      "   @ Base .\\loading.jl:1329",
      " [4] _require(pkg::Base.PkgId)",
      "   @ Base .\\loading.jl:1043",
      " [5] require(uuidkey::Base.PkgId)",
      "   @ Base .\\loading.jl:936",
      " [6] require(into::Module, mod::Symbol)",
      "   @ Base .\\loading.jl:923",
      " [7] eval",
      "   @ .\\boot.jl:360 [inlined]",
      " [8] include_string(mapexpr::typeof(REPL.softscope), mod::Module, code::String, filename::String)",
      "   @ Base .\\loading.jl:1116"
     ]
    }
   ],
   "source": [
    "using JuMP"
   ]
  },
  {
   "cell_type": "code",
   "execution_count": 2,
   "metadata": {},
   "outputs": [
    {
     "data": {
      "text/plain": [
       "A JuMP Model\n",
       "Feasibility problem with:\n",
       "Variables: 0\n",
       "Model mode: AUTOMATIC\n",
       "CachingOptimizer state: NO_OPTIMIZER\n",
       "Solver name: No optimizer attached."
      ]
     },
     "execution_count": 2,
     "metadata": {},
     "output_type": "execute_result"
    }
   ],
   "source": [
    "m = Model()"
   ]
  },
  {
   "cell_type": "code",
   "execution_count": 4,
   "metadata": {},
   "outputs": [],
   "source": [
    "# @defVar(m, x )              # No bounds\n",
    "# @defVar(m, x >= lb )        # Lower bound only (note: 'lb <= x' is not valid)\n",
    "# @defVar(m, x <= ub )        # Upper bound only\n",
    "# @defVar(m, lb <= x <= ub )  # Lower and upper bounds\n",
    "\n",
    "# An example of a array of variables\n",
    "# @defVar(m, x[1:M,1:N] >= 0 )"
   ]
  },
  {
   "cell_type": "code",
   "execution_count": 3,
   "metadata": {
    "scrolled": true
   },
   "outputs": [
    {
     "ename": "LoadError",
     "evalue": "LoadError: UndefVarError: @setObjective not defined\nin expression starting at In[3]:7",
     "output_type": "error",
     "traceback": [
      "LoadError: UndefVarError: @setObjective not defined\nin expression starting at In[3]:7",
      "",
      "Stacktrace:",
      " [1] top-level scope",
      "   @ :0",
      " [2] eval",
      "   @ .\\boot.jl:360 [inlined]",
      " [3] include_string(mapexpr::typeof(REPL.softscope), mod::Module, code::String, filename::String)",
      "   @ Base .\\loading.jl:1116"
     ]
    }
   ],
   "source": [
    "using JuMP\n",
    "\n",
    "m = Model()\n",
    "@variable(m, 0 <= x <= 2 )\n",
    "@variable(m, 0 <= y <= 30 )\n",
    "\n",
    "@setObjective(m, Max, 5x + 3*y )\n",
    "@addConstraint(m, 1x + 5y <= 3.0 )\n",
    "\n",
    "print(m)\n",
    "\n",
    "status = solve(m)\n",
    "\n",
    "println(\"Objective value: \", getObjectiveValue(m))\n",
    "println(\"x = \", getValue(x))\n",
    "println(\"y = \", getValue(y))"
   ]
  },
  {
   "cell_type": "code",
   "execution_count": 7,
   "metadata": {},
   "outputs": [
    {
     "name": "stdout",
     "output_type": "stream",
     "text": [
      "  1.472001 seconds (4.50 M allocations: 260.055 MiB, 5.55% gc time, 99.98% compilation time)\n",
      "  0.000085 seconds (304 allocations: 17.594 KiB)\n"
     ]
    },
    {
     "data": {
      "text/plain": [
       "2-element Vector{Float64}:\n",
       " -1.0733250637041452\n",
       "  0.2537450497038758"
      ]
     },
     "execution_count": 7,
     "metadata": {},
     "output_type": "execute_result"
    }
   ],
   "source": [
    "using Distributions, Optim\n",
    "\n",
    "# hard-coded data\\observations\n",
    "odr=[0.10,0.20,0.15,0.22,0.15,0.10,0.08,0.09,0.12]\n",
    "Q_t = quantile.(Normal(0,1), odr)\n",
    "\n",
    "# return a function that accepts `[mu, sigma]` as parameter\n",
    "function neglik_tn(Q_t)\n",
    "    maxx = maximum(Q_t)\n",
    "    f(μσ) = -sum(logpdf.(Truncated(Normal(μσ[1],μσ[2]), -Inf, maxx), Q_t))\n",
    "    f\n",
    "end\n",
    "\n",
    "neglikfn = neglik_tn(Q_t)\n",
    "\n",
    "# optimize!\n",
    "# start searching \n",
    "@time res = optimize(neglikfn, [mean(Q_t), std(Q_t)]) # 0.8 seconds\n",
    "@time res = optimize(neglikfn, [mean(Q_t), std(Q_t)]) # 0.000137 seconds\n",
    "\n",
    "# the \\mu and \\sigma estimates\n",
    "Optim.minimizer(res) # [-1.0733250637041452,0.2537450497038758] # or\n",
    "\n",
    "# use `fieldnames(res)` to see the list of field names that can be referenced via . (dot)\n",
    "res.minimizer # [-1.0733250637041452,0.2537450497038758]"
   ]
  },
  {
   "cell_type": "code",
   "execution_count": null,
   "metadata": {
    "collapsed": true,
    "jupyter": {
     "outputs_hidden": true
    }
   },
   "outputs": [],
   "source": []
  }
 ],
 "metadata": {
  "kernelspec": {
   "display_name": "Julia 1.6.2",
   "language": "julia",
   "name": "julia-1.6"
  },
  "language_info": {
   "file_extension": ".jl",
   "mimetype": "application/julia",
   "name": "julia",
   "version": "1.6.2"
  }
 },
 "nbformat": 4,
 "nbformat_minor": 4
}
