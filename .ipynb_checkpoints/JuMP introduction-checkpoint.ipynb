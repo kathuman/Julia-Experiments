{
 "cells": [
  {
   "cell_type": "markdown",
   "metadata": {},
   "source": [
    "Creating a Model"
   ]
  },
  {
   "cell_type": "code",
   "execution_count": 7,
   "metadata": {},
   "outputs": [],
   "source": [
    "#using Pkg\n",
    "#Pkg.add(\"JuMP\")\n",
    "using JuMP"
   ]
  },
  {
   "cell_type": "code",
   "execution_count": 9,
   "metadata": {},
   "outputs": [
    {
     "data": {
      "text/latex": [
       "$$ \\begin{alignat*}{1}\\text{feasibility}\\\\\n",
       "\\text{Subject to} \\quad\\end{alignat*}\n",
       " $$"
      ],
      "text/plain": [
       "A JuMP Model\n",
       "Feasibility problem with:\n",
       "Variables: 0\n",
       "Model mode: AUTOMATIC\n",
       "CachingOptimizer state: NO_OPTIMIZER\n",
       "Solver name: No optimizer attached."
      ]
     },
     "execution_count": 9,
     "metadata": {},
     "output_type": "execute_result"
    }
   ],
   "source": [
    "m = Model()"
   ]
  },
  {
   "cell_type": "code",
   "execution_count": 4,
   "metadata": {},
   "outputs": [],
   "source": [
    "# @defVar(m, x )              # No bounds\n",
    "# @defVar(m, x >= lb )        # Lower bound only (note: 'lb <= x' is not valid)\n",
    "# @defVar(m, x <= ub )        # Upper bound only\n",
    "# @defVar(m, lb <= x <= ub )  # Lower and upper bounds\n",
    "\n",
    "# An example of a array of variables\n",
    "# @defVar(m, x[1:M,1:N] >= 0 )"
   ]
  },
  {
   "cell_type": "code",
   "execution_count": 8,
   "metadata": {},
   "outputs": [
    {
     "ename": "LoadError",
     "evalue": "\u001b[91mUndefVarError: @setObjective not defined\u001b[39m",
     "output_type": "error",
     "traceback": [
      "\u001b[91mUndefVarError: @setObjective not defined\u001b[39m",
      ""
     ]
    }
   ],
   "source": [
    "using JuMP\n",
    "\n",
    "m = Model()\n",
    "@variable(m, 0 <= x <= 2 )\n",
    "@variable(m, 0 <= y <= 30 )\n",
    "\n",
    "@setObjective(m, Max, 5x + 3*y )\n",
    "@addConstraint(m, 1x + 5y <= 3.0 )\n",
    "\n",
    "print(m)\n",
    "\n",
    "status = solve(m)\n",
    "\n",
    "println(\"Objective value: \", getObjectiveValue(m))\n",
    "println(\"x = \", getValue(x))\n",
    "println(\"y = \", getValue(y))"
   ]
  },
  {
   "cell_type": "code",
   "execution_count": 5,
   "metadata": {},
   "outputs": [
    {
     "name": "stderr",
     "output_type": "stream",
     "text": [
      "\u001b[1m\u001b[34mINFO: Precompiling module Distributions.\n",
      "\u001b[0m\u001b[1m\u001b[31mERROR: LoadError: Rmath not properly installed. Please run Pkg.build(\"Rmath\") and restart julia\n",
      " in error(::String) at .\\error.jl:21\n",
      " in include_from_node1(::String) at .\\loading.jl:488\n",
      " in macro expansion; at .\\none:2 [inlined]\n",
      " in anonymous at .\\<missing>:?\n",
      " in eval(::Module, ::Any) at .\\boot.jl:234\n",
      " in process_options(::Base.JLOptions) at .\\client.jl:242\n",
      " in _start() at .\\client.jl:321\n",
      "while loading C:\\Users\\dasep\\.julia\\v0.5\\Rmath\\src\\Rmath.jl, in expression starting on line 17\n",
      "\u001b[0m\u001b[1m\u001b[31mERROR: LoadError: LoadError: Failed to precompile Rmath to C:\\Users\\dasep\\.julia\\lib\\v0.5\\Rmath.ji.\n",
      " in compilecache(::String) at .\\loading.jl:593\n",
      " in require(::Symbol) at .\\loading.jl:393\n",
      " in include_from_node1(::String) at .\\loading.jl:488 (repeats 2 times)\n",
      " in macro expansion; at .\\none:2 [inlined]\n",
      " in anonymous at .\\<missing>:?\n",
      " in eval(::Module, ::Any) at .\\boot.jl:234\n",
      " in process_options(::Base.JLOptions) at .\\client.jl:242\n",
      " in _start() at .\\client.jl:321\n",
      "while loading C:\\Users\\dasep\\.julia\\v0.5\\StatsFuns\\src\\rmath.jl, in expression starting on line 6\n",
      "while loading C:\\Users\\dasep\\.julia\\v0.5\\StatsFuns\\src\\StatsFuns.jl, in expression starting on line 228\n",
      "\u001b[0m\u001b[1m\u001b[31mERROR: LoadError: Failed to precompile StatsFuns to C:\\Users\\dasep\\.julia\\lib\\v0.5\\StatsFuns.ji.\n",
      " in compilecache(::String) at .\\loading.jl:593\n",
      " in require(::Symbol) at .\\loading.jl:393\n",
      " in include_from_node1(::String) at .\\loading.jl:488\n",
      " in macro expansion; at .\\none:2 [inlined]\n",
      " in anonymous at .\\<missing>:?\n",
      " in eval(::Module, ::Any) at .\\boot.jl:234\n",
      " in process_options(::Base.JLOptions) at .\\client.jl:242\n",
      " in _start() at .\\client.jl:321\n",
      "while loading C:\\Users\\dasep\\.julia\\v0.5\\Distributions\\src\\Distributions.jl, in expression starting on line 6\n",
      "\u001b[0m"
     ]
    },
    {
     "ename": "LoadError",
     "evalue": "Failed to precompile Distributions to C:\\Users\\dasep\\.julia\\lib\\v0.5\\Distributions.ji.",
     "output_type": "error",
     "traceback": [
      "Failed to precompile Distributions to C:\\Users\\dasep\\.julia\\lib\\v0.5\\Distributions.ji.",
      "",
      " in compilecache(::String) at .\\loading.jl:593",
      " in require(::Symbol) at .\\loading.jl:422",
      " in include_string(::String, ::String) at .\\loading.jl:441"
     ]
    }
   ],
   "source": [
    "using Distributions, Optim\n",
    "\n",
    "# hard-coded data\\observations\n",
    "odr=[0.10,0.20,0.15,0.22,0.15,0.10,0.08,0.09,0.12]\n",
    "Q_t = quantile.(Normal(0,1), odr)\n",
    "\n",
    "# return a function that accepts `[mu, sigma]` as parameter\n",
    "function neglik_tn(Q_t)\n",
    "    maxx = maximum(Q_t)\n",
    "    f(μσ) = -sum(logpdf.(Truncated(Normal(μσ[1],μσ[2]), -Inf, maxx), Q_t))\n",
    "    f\n",
    "end\n",
    "\n",
    "neglikfn = neglik_tn(Q_t)\n",
    "\n",
    "# optimize!\n",
    "# start searching \n",
    "@time res = optimize(neglikfn, [mean(Q_t), std(Q_t)]) # 0.8 seconds\n",
    "@time res = optimize(neglikfn, [mean(Q_t), std(Q_t)]) # 0.000137 seconds\n",
    "\n",
    "# the \\mu and \\sigma estimates\n",
    "Optim.minimizer(res) # [-1.0733250637041452,0.2537450497038758] # or\n",
    "\n",
    "# use `fieldnames(res)` to see the list of field names that can be referenced via . (dot)\n",
    "res.minimizer # [-1.0733250637041452,0.2537450497038758]"
   ]
  },
  {
   "cell_type": "code",
   "execution_count": null,
   "metadata": {
    "collapsed": true,
    "jupyter": {
     "outputs_hidden": true
    }
   },
   "outputs": [],
   "source": []
  }
 ],
 "metadata": {
  "kernelspec": {
   "display_name": "Julia 1.4.1",
   "language": "julia",
   "name": "julia-1.4"
  },
  "language_info": {
   "file_extension": ".jl",
   "mimetype": "application/julia",
   "name": "julia",
   "version": "1.4.1"
  }
 },
 "nbformat": 4,
 "nbformat_minor": 4
}
