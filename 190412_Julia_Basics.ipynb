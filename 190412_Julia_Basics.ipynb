{
 "cells": [
  {
   "cell_type": "code",
   "execution_count": 1,
   "metadata": {},
   "outputs": [
    {
     "name": "stdout",
     "output_type": "stream",
     "text": [
      "Julia Version 0.5.2\n",
      "Commit f4c6c9d (2017-05-06 16:34 UTC)\n",
      "Platform Info:\n",
      "  OS: Windows (x86_64-w64-mingw32)\n",
      "  CPU: Intel(R) Core(TM) i7-6600U CPU @ 2.60GHz\n",
      "  WORD_SIZE: 64\n",
      "  BLAS: libopenblas (USE64BITINT DYNAMIC_ARCH NO_AFFINITY Haswell)\n",
      "  LAPACK: libopenblas64_\n",
      "  LIBM: libopenlibm\n",
      "  LLVM: libLLVM-3.7.1 (ORCJIT, broadwell)\n"
     ]
    }
   ],
   "source": [
    "versioninfo()\n",
    "# Comment"
   ]
  },
  {
   "cell_type": "code",
   "execution_count": 2,
   "metadata": {},
   "outputs": [
    {
     "name": "stdout",
     "output_type": "stream",
     "text": [
      "search: \u001b[1mc\u001b[22m\u001b[1mo\u001b[22m\u001b[1ms\u001b[22m \u001b[1mc\u001b[22m\u001b[1mo\u001b[22m\u001b[1ms\u001b[22mh \u001b[1mc\u001b[22m\u001b[1mo\u001b[22m\u001b[1ms\u001b[22md \u001b[1mc\u001b[22m\u001b[1mo\u001b[22m\u001b[1ms\u001b[22mc \u001b[1mc\u001b[22m\u001b[1mo\u001b[22m\u001b[1ms\u001b[22mpi a\u001b[1mc\u001b[22m\u001b[1mo\u001b[22m\u001b[1ms\u001b[22m a\u001b[1mc\u001b[22m\u001b[1mo\u001b[22m\u001b[1ms\u001b[22mh a\u001b[1mc\u001b[22m\u001b[1mo\u001b[22m\u001b[1ms\u001b[22md \u001b[1mc\u001b[22m\u001b[1mo\u001b[22mn\u001b[1ms\u001b[22mt \u001b[1mc\u001b[22m\u001b[1mo\u001b[22mn\u001b[1ms\u001b[22mume \u001b[1mc\u001b[22mr\u001b[1mo\u001b[22m\u001b[1ms\u001b[22ms \u001b[1mc\u001b[22ml\u001b[1mo\u001b[22m\u001b[1ms\u001b[22me\n",
      "\n"
     ]
    },
    {
     "data": {
      "text/markdown": [
       "```\n",
       "cos(x)\n",
       "```\n",
       "\n",
       "Compute cosine of `x`, where `x` is in radians.\n"
      ],
      "text/plain": [
       "```\n",
       "cos(x)\n",
       "```\n",
       "\n",
       "Compute cosine of `x`, where `x` is in radians.\n"
      ]
     },
     "execution_count": 2,
     "metadata": {},
     "output_type": "execute_result"
    }
   ],
   "source": [
    "?cos\n",
    "# Info on function cos"
   ]
  },
  {
   "cell_type": "code",
   "execution_count": 3,
   "metadata": {},
   "outputs": [
    {
     "data": {
      "text/markdown": [
       "```\n",
       "cos(x)\n",
       "```\n",
       "\n",
       "Compute cosine of `x`, where `x` is in radians.\n"
      ],
      "text/plain": [
       "```\n",
       "cos(x)\n",
       "```\n",
       "\n",
       "Compute cosine of `x`, where `x` is in radians.\n"
      ]
     },
     "execution_count": 3,
     "metadata": {},
     "output_type": "execute_result"
    }
   ],
   "source": [
    "ans\n",
    "# previous answer"
   ]
  },
  {
   "cell_type": "code",
   "execution_count": 4,
   "metadata": {},
   "outputs": [
    {
     "ename": "LoadError",
     "evalue": "ArgumentError: Module Gadfly not found in current path.\nRun `Pkg.add(\"Gadfly\")` to install the Gadfly package.",
     "output_type": "error",
     "traceback": [
      "ArgumentError: Module Gadfly not found in current path.\nRun `Pkg.add(\"Gadfly\")` to install the Gadfly package.",
      "",
      " in require(::Symbol) at .\\loading.jl:365",
      " in include_string(::String, ::String) at .\\loading.jl:441"
     ]
    }
   ],
   "source": [
    "using Gadfly\n"
   ]
  }
 ],
 "metadata": {
  "kernelspec": {
   "display_name": "Julia 0.5.2",
   "language": "julia",
   "name": "julia-0.5"
  },
  "language_info": {
   "file_extension": ".jl",
   "mimetype": "application/julia",
   "name": "julia",
   "version": "0.5.2"
  }
 },
 "nbformat": 4,
 "nbformat_minor": 2
}
