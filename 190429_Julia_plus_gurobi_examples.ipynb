{
 "cells": [
  {
   "cell_type": "markdown",
   "metadata": {},
   "source": [
    "### Example 1"
   ]
  },
  {
   "cell_type": "code",
   "execution_count": 1,
   "metadata": {},
   "outputs": [
    {
     "name": "stdout",
     "output_type": "stream",
     "text": [
      "Optimize a model with 2 rows, 2 columns and 4 nonzeros\n",
      "Coefficient statistics:\n",
      "  Matrix range     [2e+01, 5e+01]\n",
      "  Objective range  [1e+00, 1e+00]\n",
      "  Bounds range     [5e+00, 5e+01]\n",
      "  RHS range        [2e+03, 2e+03]\n",
      "Iteration    Objective       Primal Inf.    Dual Inf.      Time\n",
      "       0    5.0000000e+01   0.000000e+00   0.000000e+00      0s\n",
      "\n",
      "Solved in 0 iterations and 0.01 seconds\n",
      "Optimal objective  5.000000000e+01\n",
      "soln = [5.0,45.0]\n",
      "objv = 50.0\n"
     ]
    }
   ],
   "source": [
    "using Gurobi\n",
    "\n",
    "env = Gurobi.Env()\n",
    "\n",
    "# set presolve to 0\n",
    "setparam!(env, \"Presolve\", 0)\n",
    "\n",
    " # construct the model\n",
    "model = gurobi_model(env;\n",
    "    name = \"lp_01\",\n",
    "    f = ones(2),\n",
    "    A = [50. 24.; 30. 33.],\n",
    "    b = [2400., 2100.],\n",
    "    lb = [5., 45.])\n",
    "\n",
    " # run optimization\n",
    "optimize(model)\n",
    "\n",
    " # show results\n",
    "sol = get_solution(model)\n",
    "println(\"soln = $(sol)\")\n",
    "\n",
    "objv = get_objval(model)\n",
    "println(\"objv = $(objv)\")"
   ]
  },
  {
   "cell_type": "markdown",
   "metadata": {},
   "source": [
    "### Example 2"
   ]
  },
  {
   "cell_type": "code",
   "execution_count": 3,
   "metadata": {},
   "outputs": [
    {
     "name": "stdout",
     "output_type": "stream",
     "text": [
      "Gurobi Model: lp_01\n",
      "    type   : LP\n",
      "    sense  : maximize\n",
      "    number of variables             = 2\n",
      "    number of linear constraints    = 2\n",
      "    number of quadratic constraints = 0\n",
      "    number of sos constraints       = 0\n",
      "    number of non-zero coeffs       = 4\n",
      "    number of non-zero qp objective terms  = 0\n",
      "    number of non-zero qp constraint terms = 0\n",
      "\n",
      "Optimize a model with 2 rows, 2 columns and 4 nonzeros\n",
      "Coefficient statistics:\n",
      "  Matrix range     [2e+01, 5e+01]\n",
      "  Objective range  [1e+00, 1e+00]\n",
      "  Bounds range     [5e+00, 5e+01]\n",
      "  RHS range        [2e+03, 2e+03]\n",
      "Iteration    Objective       Primal Inf.    Dual Inf.      Time\n",
      "       0    2.0000000e+30   2.140625e+30   2.000000e+00      0s\n",
      "       1    5.1250000e+01   0.000000e+00   0.000000e+00      0s\n",
      "\n",
      "Solved in 1 iterations and 0.00 seconds\n",
      "Optimal objective  5.125000000e+01\n"
     ]
    }
   ],
   "source": [
    "using Gurobi\n",
    "\n",
    "env = Gurobi.Env()\n",
    "\n",
    "# set presolve to 0\n",
    "setparam!(env, \"Presolve\", 0)\n",
    "\n",
    " # creates an empty model (\"lp_01\" is the model name)\n",
    "model = Gurobi.Model(env, \"lp_01\", :maximize)\n",
    "\n",
    " # add variables\n",
    " # add_cvar!(model, obj_coef, lower_bound, upper_bound)\n",
    "add_cvar!(model, 1.0, 45., Inf)  # x: x >= 45\n",
    "add_cvar!(model, 1.0,  5., Inf)  # y: y >= 5\n",
    "\n",
    " # For Gurobi, you have to call update_model to have the\n",
    " # lastest changes take effect\n",
    "update_model!(model)\n",
    "\n",
    " # add constraints\n",
    " # add_constr!(model, coefs, sense, rhs)\n",
    "add_constr!(model, [50., 24.], '<', 2400.) # 50 x + 24 y <= 2400\n",
    "add_constr!(model, [30., 33.], '<', 2100.) # 30 x + 33 y <= 2100\n",
    "update_model!(model)\n",
    "\n",
    "println(model)\n",
    "\n",
    " # perform optimization\n",
    "optimize(model)"
   ]
  },
  {
   "cell_type": "markdown",
   "metadata": {},
   "source": [
    "### Example 3"
   ]
  },
  {
   "cell_type": "code",
   "execution_count": 5,
   "metadata": {},
   "outputs": [
    {
     "name": "stdout",
     "output_type": "stream",
     "text": [
      "Optimize a model with 2 rows, 2 columns and 4 nonzeros\n",
      "Coefficient statistics:\n",
      "  Matrix range     [2e+01, 5e+01]\n",
      "  Objective range  [1e+00, 1e+00]\n",
      "  Bounds range     [5e+00, 5e+01]\n",
      "  RHS range        [2e+03, 2e+03]\n",
      "Iteration    Objective       Primal Inf.    Dual Inf.      Time\n",
      "       0    5.0000000e+01   0.000000e+00   0.000000e+00      0s\n",
      "\n",
      "Solved in 0 iterations and 0.00 seconds\n",
      "Optimal objective  5.000000000e+01\n",
      "Optimal objective: 50.0. x = 5.0 y = 45.0\n"
     ]
    }
   ],
   "source": [
    "using JuMP, Gurobi\n",
    "\n",
    "# pass params as keyword arguments to GurobiSolver\n",
    "m = Model(solver=GurobiSolver(Presolve=0))\n",
    "\n",
    "@variable(m, x >= 5)\n",
    "@variable(m, y >= 45)\n",
    "\n",
    "@objective(m, Min, x + y)\n",
    "@constraint(m, 50x + 24y <= 2400)\n",
    "@constraint(m, 30x + 33y <= 2100)\n",
    "\n",
    "status = solve(m)\n",
    "println(\"Optimal objective: \",getobjectivevalue(m),\n",
    "\t\". x = \", getvalue(x), \" y = \", getvalue(y))"
   ]
  },
  {
   "cell_type": "markdown",
   "metadata": {},
   "source": [
    "### Example 4 - High level quadratic equation"
   ]
  },
  {
   "cell_type": "code",
   "execution_count": 8,
   "metadata": {},
   "outputs": [
    {
     "name": "stdout",
     "output_type": "stream",
     "text": [
      "Optimize a model with 2 rows, 3 columns and 5 nonzeros\n",
      "Model has 5 quadratic objective terms\n",
      "Coefficient statistics:\n",
      "  Matrix range     [1e+00, 3e+00]\n",
      "  Objective range  [0e+00, 0e+00]\n",
      "  QObjective range [2e+00, 2e+00]\n",
      "  Bounds range     [0e+00, 0e+00]\n",
      "  RHS range        [1e+00, 4e+00]\n",
      "Presolve time: 0.01s\n",
      "Presolved: 2 rows, 3 columns, 5 nonzeros\n",
      "Presolved model has 5 quadratic objective terms\n",
      "Ordering time: 0.00s\n",
      "\n",
      "Barrier statistics:\n",
      " Free vars  : 5\n",
      " AA' NZ     : 6.000e+00\n",
      " Factor NZ  : 1.000e+01\n",
      " Factor Ops : 3.000e+01 (less than 1 second per iteration)\n",
      " Threads    : 1\n",
      "\n",
      "                  Objective                Residual\n",
      "Iter       Primal          Dual         Primal    Dual     Compl     Time\n",
      "   0   4.75823538e-13 -4.75823538e-13  2.00e+00 4.21e-07  9.98e+05     0s\n",
      "   1   1.44987169e+05 -1.43989081e+05  8.42e-08 1.97e-04  1.44e+05     0s\n",
      "   2   2.13605434e+04 -2.09773620e+04  4.71e-08 1.21e-04  2.12e+04     0s\n",
      "   3   3.17522703e+03 -3.02742005e+03  3.62e-09 8.83e-06  3.10e+03     0s\n",
      "   4   4.83094875e+02 -4.25374712e+02  5.33e-15 1.50e-11  4.54e+02     0s\n",
      "   5   7.80423932e+01 -5.47770713e+01  8.88e-16 2.34e-12  6.64e+01     0s\n",
      "   6   1.46666489e+01 -4.51420405e+00  0.00e+00 8.77e-13  9.59e+00     0s\n",
      "   7   3.93851896e+00  1.38911900e+00  4.44e-16 3.20e-13  1.27e+00     0s\n",
      "   8   2.05386269e+00  1.84296662e+00  1.11e-16 1.20e-13  1.05e-01     0s\n",
      "   9   1.86240194e+00  1.85711688e+00  9.04e-14 5.39e-10  2.64e-03     0s\n",
      "  10   1.85714809e+00  1.85714285e+00  7.68e-13 4.30e-09  2.62e-06     0s\n",
      "  11   1.85714286e+00  1.85714286e+00  5.55e-16 4.31e-12  2.62e-09     0s\n",
      "\n",
      "Barrier solved model in 11 iterations and 0.01 seconds\n",
      "Optimal objective 1.85714286e+00\n",
      "\n"
     ]
    }
   ],
   "source": [
    "# The problem formulation is\n",
    "# minimize x^2 + xy + y^2 + yz + z^2\n",
    "# s.t.  x + 2 y + 3 z >= 4\n",
    "#       x +   y       >= 1\n",
    "\n",
    "# Example 2.1: High-level Quadratic Programming API\n",
    "#using the function gurobi_model:\n",
    "\n",
    "using Gurobi\n",
    "\n",
    "env = Gurobi.Env()\n",
    "\n",
    "model = gurobi_model(env;\n",
    "        name = \"qp_01\",\n",
    "        H = [2. 1. 0.; 1. 2. 1.; 0. 1. 2.],\n",
    "        f = [0., 0., 0.],\n",
    "        A = -[1. 2. 3.; 1. 1. 0.],\n",
    "        b = -[4., 1.])\n",
    "optimize(model)"
   ]
  },
  {
   "cell_type": "markdown",
   "metadata": {},
   "source": [
    "### Example 5 - Mixed Integer programming"
   ]
  },
  {
   "cell_type": "code",
   "execution_count": null,
   "metadata": {},
   "outputs": [],
   "source": [
    "# Problem formulation:\n",
    "\n",
    "# maximize x + 2 y + 5 z\n",
    "\n",
    "# s.t.  x + y + z <= 10\n",
    "#      x + 2 y + z <= 15\n",
    "#      x is continuous: 0 <= x <= 5\n",
    "#      y is integer: 0 <= y <= 10\n",
    "#      z is binary"
   ]
  },
  {
   "cell_type": "code",
   "execution_count": 2,
   "metadata": {},
   "outputs": [
    {
     "name": "stdout",
     "output_type": "stream",
     "text": [
      "Optimize a model with 2 rows, 3 columns and 6 nonzeros\n",
      "Variable types: 1 continuous, 2 integer (1 binary)\n",
      "Coefficient statistics:\n",
      "  Matrix range     [1e+00, 2e+00]\n",
      "  Objective range  [1e+00, 5e+00]\n",
      "  Bounds range     [1e+00, 1e+01]\n",
      "  RHS range        [1e+01, 2e+01]\n",
      "Found heuristic solution: objective 15\n",
      "Presolve removed 0 rows and 1 columns\n",
      "Presolve time: 0.01s\n",
      "Presolved: 2 rows, 2 columns, 4 nonzeros\n",
      "Variable types: 0 continuous, 2 integer (0 binary)\n",
      "\n",
      "Root relaxation: objective 1.900000e+01, 2 iterations, 0.00 seconds\n",
      "\n",
      "    Nodes    |    Current Node    |     Objective Bounds      |     Work\n",
      " Expl Unexpl |  Obj  Depth IntInf | Incumbent    BestBd   Gap | It/Node Time\n",
      "\n",
      "*    0     0               0      19.0000000   19.00000  0.00%     -    0s\n",
      "\n",
      "Explored 0 nodes (2 simplex iterations) in 0.03 seconds\n",
      "Thread count was 4 (of 4 available processors)\n",
      "\n",
      "Solution count 2: 19 15 \n",
      "Pool objective bound 19\n",
      "\n",
      "Optimal solution found (tolerance 1.00e-04)\n",
      "Best objective 1.900000000000e+01, best bound 1.900000000000e+01, gap 0.0000%\n"
     ]
    }
   ],
   "source": [
    "using Gurobi\n",
    "\n",
    "env = Gurobi.Env()\n",
    "\n",
    "model = Gurobi.Model(env, \"mip_01\", :maximize)\n",
    "\n",
    " # add continuous variable\n",
    "add_cvar!(model, 1., 0., 5.)  # x\n",
    "\n",
    " # add integer variable\n",
    "add_ivar!(model, 2., 0, 10)   # y\n",
    "\n",
    " # add binary variable\n",
    "add_bvar!(model, 5.)          # z\n",
    "\n",
    " # have the variables incorporated into the model\n",
    "update_model!(model)\n",
    "\n",
    "add_constr!(model, ones(3), '<', 10.)\n",
    "add_constr!(model, [1., 2., 1.], '<', 15.)\n",
    "\n",
    "optimize(model)"
   ]
  },
  {
   "cell_type": "markdown",
   "metadata": {},
   "source": [
    "### Same problem using JuMP"
   ]
  },
  {
   "cell_type": "code",
   "execution_count": 11,
   "metadata": {},
   "outputs": [
    {
     "data": {
      "text/plain": [
       ":Optimal"
      ]
     },
     "execution_count": 11,
     "metadata": {},
     "output_type": "execute_result"
    },
    {
     "name": "stdout",
     "output_type": "stream",
     "text": [
      "Optimize a model with 2 rows, 3 columns and 6 nonzeros\n",
      "Variable types: 1 continuous, 2 integer (1 binary)\n",
      "Coefficient statistics:\n",
      "  Matrix range     [1e+00, 2e+00]\n",
      "  Objective range  [1e+00, 5e+00]\n",
      "  Bounds range     [1e+00, 1e+01]\n",
      "  RHS range        [1e+01, 2e+01]\n",
      "Found heuristic solution: objective 15\n",
      "Presolve removed 0 rows and 1 columns\n",
      "Presolve time: 0.00s\n",
      "Presolved: 2 rows, 2 columns, 4 nonzeros\n",
      "Variable types: 0 continuous, 2 integer (0 binary)\n",
      "\n",
      "Root relaxation: objective 1.900000e+01, 2 iterations, 0.00 seconds\n",
      "\n",
      "    Nodes    |    Current Node    |     Objective Bounds      |     Work\n",
      " Expl Unexpl |  Obj  Depth IntInf | Incumbent    BestBd   Gap | It/Node Time\n",
      "\n",
      "*    0     0               0      19.0000000   19.00000  0.00%     -    0s\n",
      "\n",
      "Explored 0 nodes (2 simplex iterations) in 0.00 seconds\n",
      "Thread count was 4 (of 4 available processors)\n",
      "\n",
      "Solution count 2: 19 15 \n",
      "Pool objective bound 19\n",
      "\n",
      "Optimal solution found (tolerance 1.00e-04)\n",
      "Best objective 1.900000000000e+01, best bound 1.900000000000e+01, gap 0.0000%\n"
     ]
    }
   ],
   "source": [
    "using JuMP, Gurobi\n",
    "\n",
    "m = Model(solver=GurobiSolver())\n",
    "\n",
    "@variables(m,begin\n",
    "    0 <= x <= 5\n",
    "    0 <= y <= 10, Int\n",
    "    z, Bin\n",
    "end)\n",
    "\n",
    "@objective(m, Max, x + 2y + 5z)\n",
    "@constraint(m, x + y + z <= 10)\n",
    "@constraint(m, x + 2y + z <= 15)\n",
    "\n",
    "solve(m)"
   ]
  },
  {
   "cell_type": "code",
   "execution_count": null,
   "metadata": {},
   "outputs": [],
   "source": []
  }
 ],
 "metadata": {
  "kernelspec": {
   "display_name": "Julia 0.5.2",
   "language": "julia",
   "name": "julia-0.5"
  },
  "language_info": {
   "file_extension": ".jl",
   "mimetype": "application/julia",
   "name": "julia",
   "version": "0.5.2"
  }
 },
 "nbformat": 4,
 "nbformat_minor": 2
}
