{
 "cells": [
  {
   "cell_type": "code",
   "execution_count": 10,
   "metadata": {},
   "outputs": [],
   "source": [
    "using JuMP, Gurobi\n",
    "\n",
    "m = Model(solver=GurobiSolver())\n",
    "\n",
    "@variables(m,begin\n",
    "    x, Int\n",
    "    y, Int\n",
    "    z, Int\n",
    "    u, Int\n",
    "    w, Int\n",
    "end)\n",
    "\n"
   ]
  },
  {
   "cell_type": "code",
   "execution_count": 12,
   "metadata": {},
   "outputs": [
    {
     "name": "stdout",
     "output_type": "stream",
     "text": [
      "Optimize a model with 22 rows, 5 columns and 56 nonzeros\n",
      "Variable types: 0 continuous, 5 integer (0 binary)\n",
      "Coefficient statistics:\n",
      "  Matrix range     [1e+00, 1e+00]\n",
      "  Objective range  [2e+01, 6e+01]\n",
      "  Bounds range     [0e+00, 0e+00]\n",
      "  RHS range        [3e+00, 8e+00]\n",
      "Found heuristic solution: objective -1e+10\n",
      "Presolve removed 20 rows and 2 columns\n",
      "Presolve time: 0.00s\n",
      "\n",
      "Explored 0 nodes (0 simplex iterations) in 0.00 seconds\n",
      "Thread count was 1 (of 4 available processors)\n",
      "\n",
      "Solution count 1: -1e+10 \n",
      "Pool objective bound 0\n",
      "\n",
      "Model is unbounded\n",
      "Best objective -9.999999496000e+09, best bound -, gap -\n"
     ]
    },
    {
     "name": "stderr",
     "output_type": "stream",
     "text": [
      "\u001b[1m\u001b[31mWARNING: Not solved to optimality, status: Unbounded\u001b[0m\n",
      "\u001b[1m\u001b[31mWARNING: Unbounded ray not available\u001b[0m\n"
     ]
    },
    {
     "data": {
      "text/plain": [
       ":Unbounded"
      ]
     },
     "execution_count": 12,
     "metadata": {},
     "output_type": "execute_result"
    }
   ],
   "source": [
    "@objective(m, Min, 50x + 60y + 30z + 15w + 16u)\n",
    "\n",
    "@constraint(m, x + w  >= 3)\n",
    "@constraint(m, x + w  >= 4)\n",
    "@constraint(m, x + z + w  >= 6)\n",
    "@constraint(m, x + y + z  >= 4)\n",
    "@constraint(m, x + y + z  >= 7)\n",
    "@constraint(m, x + y + z  >= 8)\n",
    "@constraint(m, x + y + z  >= 7)\n",
    "@constraint(m, x + y + z  >= 6)\n",
    "@constraint(m, y + u  >= 4)\n",
    "@constraint(m, y + u  >= 7)\n",
    "@constraint(m, y + u  >= 8)\n",
    "solve(m)"
   ]
  },
  {
   "cell_type": "code",
   "execution_count": null,
   "metadata": {},
   "outputs": [],
   "source": []
  }
 ],
 "metadata": {
  "kernelspec": {
   "display_name": "Julia 0.5.2",
   "language": "julia",
   "name": "julia-0.5"
  },
  "language_info": {
   "file_extension": ".jl",
   "mimetype": "application/julia",
   "name": "julia",
   "version": "0.5.2"
  }
 },
 "nbformat": 4,
 "nbformat_minor": 2
}
