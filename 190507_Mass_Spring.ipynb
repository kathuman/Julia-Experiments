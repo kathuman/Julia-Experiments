{
 "cells": [
  {
   "cell_type": "code",
   "execution_count": 1,
   "metadata": {},
   "outputs": [
    {
     "ename": "LoadError",
     "evalue": "ArgumentError: Module DifferentialEquations not found in current path.\nRun `Pkg.add(\"DifferentialEquations\")` to install the DifferentialEquations package.",
     "output_type": "error",
     "traceback": [
      "ArgumentError: Module DifferentialEquations not found in current path.\nRun `Pkg.add(\"DifferentialEquations\")` to install the DifferentialEquations package.",
      "",
      " in require(::Symbol) at .\\loading.jl:365",
      " in include_string(::String, ::String) at .\\loading.jl:441"
     ]
    }
   ],
   "source": [
    "using DifferentialEquations, PyPlot, LinearAlgebra\n",
    "\n",
    "k, b, M = 1.2, 0.3, 2.0\n",
    "A = [0 1;\n",
    "-k/M -b/M]\n",
    "\n",
    "initX = [8.,0.0]\n",
    "tEnd = 50.0;\n",
    "tRange = 0:0.1:tEnd\n",
    "\n",
    "manualSol = [exp(A*t)*initX for t in tRange]\n",
    "\n",
    "linearRHS(x,Amat,t) = Amat*x\n",
    "prob = ODEProblem(linearRHS, initX, (0,tEnd), A)\n",
    "sol = solve(prob)\n",
    "\n",
    "figure(figsize=(10,5))\n",
    "subplot(121)\n",
    "xlim(-7,9);ylim(-9,7)\n",
    "plot(first.(manualSol),last.(manualSol),\"b\", label=\"Manual trajectory\")\n",
    "plot(first.(sol.u),last.(sol.u),\"r.\", label=\"DiffEq package\")\n",
    "plot(initX[1],initX[2],\"k.\",ms=\"15\",label=\"Initial state\")\n",
    "xlabel(\"Displacement\"); ylabel(\"Velocity\"); legend(loc=\"upper right\")\n",
    "\n",
    "subplot(122)\n",
    "plot(tRange,first.(manualSol),\"b\", label=\"Manual trajectory\")\n",
    "plot(sol.t,first.(sol.u),\"r.\", label=\"DiffEq package\")\n",
    "plot(0,initX[1],\"k.\",ms=\"15\",label=\"Initial state\");\n",
    "xlabel(\"Time\"); ylabel(\"Displacement\"); legend(loc=\"upper right\")"
   ]
  },
  {
   "cell_type": "code",
   "execution_count": null,
   "metadata": {},
   "outputs": [],
   "source": []
  }
 ],
 "metadata": {
  "kernelspec": {
   "display_name": "Julia 0.5.2",
   "language": "julia",
   "name": "julia-0.5"
  },
  "language_info": {
   "file_extension": ".jl",
   "mimetype": "application/julia",
   "name": "julia",
   "version": "0.5.2"
  }
 },
 "nbformat": 4,
 "nbformat_minor": 2
}
