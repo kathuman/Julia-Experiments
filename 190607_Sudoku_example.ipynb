{
 "cells": [
  {
   "cell_type": "markdown",
   "metadata": {},
   "source": [
    "This is a Sudoku solution example from http://www.juliaopt.org/notebooks/JuMP-Sudoku.html"
   ]
  },
  {
   "cell_type": "code",
   "execution_count": 2,
   "metadata": {},
   "outputs": [
    {
     "name": "stderr",
     "output_type": "stream",
     "text": [
      "\u001b[1m\u001b[34mINFO: Precompiling module JuMP.\n",
      "\u001b[0mWARNING: could not import DualNumbers.Dual4 into ReverseDiffSparse\n",
      "WARNING: could not import DualNumbers.epsilon1 into ReverseDiffSparse\n",
      "WARNING: could not import DualNumbers.epsilon2 into ReverseDiffSparse\n",
      "WARNING: could not import DualNumbers.epsilon3 into ReverseDiffSparse\n",
      "WARNING: could not import DualNumbers.epsilon4 into ReverseDiffSparse\n",
      "\u001b[1m\u001b[31mERROR: LoadError: LoadError: UndefVarError: Dual4 not defined\n",
      " in include_from_node1(::String) at .\\loading.jl:488 (repeats 2 times)\n",
      " in macro expansion; at .\\none:2 [inlined]\n",
      " in anonymous at .\\<missing>:?\n",
      " in eval(::Module, ::Any) at .\\boot.jl:234\n",
      " in process_options(::Base.JLOptions) at .\\client.jl:242\n",
      " in _start() at .\\client.jl:321\n",
      "while loading C:\\Users\\dasep\\.julia\\v0.5\\ReverseDiffSparse\\src\\exprlist.jl, in expression starting on line 10\n",
      "while loading C:\\Users\\dasep\\.julia\\v0.5\\ReverseDiffSparse\\src\\ReverseDiffSparse.jl, in expression starting on line 23\n",
      "\u001b[0m\u001b[1m\u001b[31mERROR: LoadError: Failed to precompile ReverseDiffSparse to C:\\Users\\dasep\\.julia\\lib\\v0.5\\ReverseDiffSparse.ji.\n",
      " in compilecache(::String) at .\\loading.jl:593\n",
      " in require(::Symbol) at .\\loading.jl:393\n",
      " in include_from_node1(::String) at .\\loading.jl:488\n",
      " in macro expansion; at .\\none:2 [inlined]\n",
      " in anonymous at .\\<missing>:?\n",
      " in eval(::Module, ::Any) at .\\boot.jl:234\n",
      " in process_options(::Base.JLOptions) at .\\client.jl:242\n",
      " in _start() at .\\client.jl:321\n",
      "while loading C:\\Users\\dasep\\.julia\\v0.5\\JuMP\\src\\JuMP.jl, in expression starting on line 19\n",
      "\u001b[0m"
     ]
    },
    {
     "ename": "LoadError",
     "evalue": "Failed to precompile JuMP to C:\\Users\\dasep\\.julia\\lib\\v0.5\\JuMP.ji.",
     "output_type": "error",
     "traceback": [
      "Failed to precompile JuMP to C:\\Users\\dasep\\.julia\\lib\\v0.5\\JuMP.ji.",
      "",
      " in compilecache(::String) at .\\loading.jl:593",
      " in require(::Symbol) at .\\loading.jl:422",
      " in include_string(::String, ::String) at .\\loading.jl:441"
     ]
    }
   ],
   "source": [
    "# Load JuMP\n",
    "using JuMP"
   ]
  },
  {
   "cell_type": "code",
   "execution_count": null,
   "metadata": {},
   "outputs": [],
   "source": []
  }
 ],
 "metadata": {
  "kernelspec": {
   "display_name": "Julia 0.5.2",
   "language": "julia",
   "name": "julia-0.5"
  },
  "language_info": {
   "file_extension": ".jl",
   "mimetype": "application/julia",
   "name": "julia",
   "version": "0.5.2"
  }
 },
 "nbformat": 4,
 "nbformat_minor": 2
}
