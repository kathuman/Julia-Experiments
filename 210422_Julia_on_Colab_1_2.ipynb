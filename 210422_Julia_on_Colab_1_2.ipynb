{
  "nbformat": 4,
  "nbformat_minor": 0,
  "metadata": {
    "colab": {
      "name": "Julia on Colab_1.2.ipynb",
      "provenance": [],
      "include_colab_link": true
    },
    "kernelspec": {
      "name": "julia-1.2",
      "display_name": "Julia 1.2"
    },
    "accelerator": "GPU"
  },
  "cells": [
    {
      "cell_type": "markdown",
      "metadata": {
        "id": "view-in-github",
        "colab_type": "text"
      },
      "source": [
        "<a href=\"https://colab.research.google.com/github/kathuman/Julia-Experiments/blob/main/210422_Julia_on_Colab_1_2.ipynb\" target=\"_parent\"><img src=\"https://colab.research.google.com/assets/colab-badge.svg\" alt=\"Open In Colab\"/></a>"
      ]
    },
    {
      "cell_type": "code",
      "metadata": {
        "id": "oMSuTc3pDlHv",
        "colab": {
          "base_uri": "https://localhost:8080/"
        },
        "outputId": "6c4647ba-a041-4b57-b4a2-c4f36aa8e7e4"
      },
      "source": [
        "!curl -sSL \"https://julialang-s3.julialang.org/bin/linux/x64/1.2/julia-1.2.0-linux-x86_64.tar.gz\" -o julia.tar.gz\n",
        "!tar -xzf julia.tar.gz -C /usr --strip-components 1\n",
        "!rm -rf julia.tar.gz*\n",
        "!julia -e 'using Pkg; pkg\"add IJulia; precompile\"'\n",
        "!echo \"DONE\""
      ],
      "execution_count": 3,
      "outputs": [
        {
          "output_type": "stream",
          "text": [
            "   Cloning default registries into `~/.julia`\n",
            "   Cloning registry from \"https://github.com/JuliaRegistries/General.git\"\n",
            "\u001b[2K\u001b[?25h     Added registry `General` to `~/.julia/registries/General`\n",
            " Resolving package versions...\n",
            " Installed VersionParsing ── v1.2.0\n",
            " Installed MbedTLS ───────── v0.7.0\n",
            " Installed Parsers ───────── v1.1.0\n",
            " Installed Conda ─────────── v1.5.2\n",
            " Installed BinaryProvider ── v0.5.10\n",
            " Installed ZMQ ───────────── v1.1.0\n",
            " Installed IJulia ────────── v1.23.2\n",
            " Installed JSON ──────────── v0.21.1\n",
            " Installed SoftGlobalScope ─ v1.1.0\n",
            "  Updating `~/.julia/environments/v1.2/Project.toml`\n",
            "  [7073ff75] + IJulia v1.23.2\n",
            "  Updating `~/.julia/environments/v1.2/Manifest.toml`\n",
            "  [b99e7846] + BinaryProvider v0.5.10\n",
            "  [8f4d0f93] + Conda v1.5.2\n",
            "  [7073ff75] + IJulia v1.23.2\n",
            "  [682c06a0] + JSON v0.21.1\n",
            "  [739be429] + MbedTLS v0.7.0\n",
            "  [69de0a69] + Parsers v1.1.0\n",
            "  [b85f4697] + SoftGlobalScope v1.1.0\n",
            "  [81def892] + VersionParsing v1.2.0\n",
            "  [c2297ded] + ZMQ v1.1.0\n",
            "  [2a0f44e3] + Base64 \n",
            "  [ade2ca70] + Dates \n",
            "  [8ba89e20] + Distributed \n",
            "  [7b1f6079] + FileWatching \n",
            "  [b77e0a4c] + InteractiveUtils \n",
            "  [76f85450] + LibGit2 \n",
            "  [8f399da3] + Libdl \n",
            "  [56ddb016] + Logging \n",
            "  [d6f4376e] + Markdown \n",
            "  [a63ad114] + Mmap \n",
            "  [44cfe95a] + Pkg \n",
            "  [de0858da] + Printf \n",
            "  [3fa0cd96] + REPL \n",
            "  [9a3f8284] + Random \n",
            "  [ea8e919c] + SHA \n",
            "  [9e88b42a] + Serialization \n",
            "  [6462fe0b] + Sockets \n",
            "  [8dfed614] + Test \n",
            "  [cf7118a7] + UUIDs \n",
            "  [4ec0a83e] + Unicode \n",
            "  Building Conda ──→ `~/.julia/packages/Conda/sNGum/deps/build.log`\n",
            "  Building ZMQ ────→ `~/.julia/packages/ZMQ/ItfqT/deps/build.log`\n",
            "  Building MbedTLS → `~/.julia/packages/MbedTLS/a1JFn/deps/build.log`\n",
            "  Building IJulia ─→ `~/.julia/packages/IJulia/e8kqU/deps/build.log`\n",
            "Precompiling project...\n",
            "Precompiling IJulia\n",
            "DONE\n"
          ],
          "name": "stdout"
        }
      ]
    },
    {
      "cell_type": "code",
      "metadata": {
        "colab": {
          "base_uri": "https://localhost:8080/"
        },
        "id": "2V6gBY70kT8n",
        "outputId": "75dd802f-a080-4cd7-c5b6-5c66cea3539b"
      },
      "source": [
        "function mandelbrot(a)\n",
        "    z = 0\n",
        "    for i=1:50\n",
        "        z = z^2 + a\n",
        "    end\n",
        "    return z\n",
        "end\n",
        "\n",
        "for y=1.0:-0.05:-1.0\n",
        "    for x=-2.0:0.0315:0.5\n",
        "        abs(mandelbrot(complex(x, y))) < 2 ? print(\"*\") : print(\" \")\n",
        "    end\n",
        "    println()\n",
        "end"
      ],
      "execution_count": 3,
      "outputs": [
        {
          "output_type": "stream",
          "text": [
            "                                                                                \n",
            "                                                                                \n",
            "                                                                                \n",
            "                                                           **                   \n",
            "                                                         ******                 \n",
            "                                                       ********                 \n",
            "                                                         ******                 \n",
            "                                                      ******** **   *           \n",
            "                                              ***   *****************           \n",
            "                                              ************************  ***     \n",
            "                                              ****************************      \n",
            "                                           ******************************       \n",
            "                                            ******************************      \n",
            "                                         ************************************   \n",
            "                                *         **********************************    \n",
            "                           ** ***** *     **********************************    \n",
            "                           ***********   ************************************   \n",
            "                         ************** ************************************    \n",
            "                         ***************************************************    \n",
            "                     *****************************************************      \n",
            " ***********************************************************************        \n",
            "                     *****************************************************      \n",
            "                         ***************************************************    \n",
            "                         ************** ************************************    \n",
            "                           ***********   ************************************   \n",
            "                           ** ***** *     **********************************    \n",
            "                                *         **********************************    \n",
            "                                         ************************************   \n",
            "                                            ******************************      \n",
            "                                           ******************************       \n",
            "                                              ****************************      \n",
            "                                              ************************  ***     \n",
            "                                              ***   *****************           \n",
            "                                                      ******** **   *           \n",
            "                                                         ******                 \n",
            "                                                       ********                 \n",
            "                                                         ******                 \n",
            "                                                           **                   \n",
            "                                                                                \n",
            "                                                                                \n",
            "                                                                                \n"
          ],
          "name": "stdout"
        }
      ]
    }
  ]
}