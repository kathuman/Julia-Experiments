{
 "cells": [
  {
   "cell_type": "code",
   "execution_count": 1,
   "metadata": {},
   "outputs": [
    {
     "data": {
      "text/plain": [
       "bubbleSort! (generic function with 1 method)"
      ]
     },
     "metadata": {},
     "output_type": "display_data"
    }
   ],
   "source": [
    "function bubbleSort!(a)\n",
    "    n = length(a)\n",
    "    for i in 1:n-1\n",
    "        for j in 1:n-i\n",
    "            if a[j] > a[j+1]\n",
    "                a[j], a[j+1] = a[j+1], a[j]\n",
    "            end\n",
    "        end\n",
    "    end\n",
    "    return a\n",
    "end"
   ]
  },
  {
   "cell_type": "code",
   "execution_count": 2,
   "metadata": {},
   "outputs": [
    {
     "data": {
      "text/plain": [
       "8-element Vector{Int64}:\n",
       "  1\n",
       " 12\n",
       " 23\n",
       " 32\n",
       " 51\n",
       " 65\n",
       " 68\n",
       " 84"
      ]
     },
     "metadata": {},
     "output_type": "display_data"
    }
   ],
   "source": [
    "data = [65,51,32,12,23,84,68,1]\n",
    "bubbleSort!(data)"
   ]
  },
  {
   "cell_type": "code",
   "execution_count": 3,
   "metadata": {},
   "outputs": [
    {
     "name": "stderr",
     "output_type": "stream",
     "text": [
      "\u001b[32m\u001b[1m    Updating\u001b[22m\u001b[39m registry at `C:\\Users\\kathu\\.julia\\registries\\General.toml`\n"
     ]
    },
    {
     "name": "stderr",
     "output_type": "stream",
     "text": [
      "\u001b[32m\u001b[1m   Resolving\u001b[22m\u001b[39m package versions...\n"
     ]
    },
    {
     "name": "stderr",
     "output_type": "stream",
     "text": [
      "\u001b[32m\u001b[1m    Updating\u001b[22m\u001b[39m `C:\\Users\\kathu\\.julia\\environments\\v1.7\\Project.toml`\n",
      " \u001b[90m [2913bbd2] \u001b[39m\u001b[92m+ StatsBase v0.33.20\u001b[39m\n",
      "\u001b[32m\u001b[1m  No Changes\u001b[22m\u001b[39m to `C:\\Users\\kathu\\.julia\\environments\\v1.7\\Manifest.toml`\n"
     ]
    }
   ],
   "source": [
    "using Pkg\n",
    "Pkg.add(\"StatsBase\")"
   ]
  },
  {
   "cell_type": "code",
   "execution_count": null,
   "metadata": {},
   "outputs": [
    {
     "ename": "",
     "evalue": "",
     "output_type": "error",
     "traceback": [
      "\u001b[1;31mFailed to start the Kernel. \n",
      "View Jupyter <a href='command:jupyter.viewOutput'>log</a> for further details."
     ]
    }
   ],
   "source": [
    "using LinearAlgebra, StatsBase\n",
    "\n",
    "# Transition probability matrix\n",
    "P = [0.5 0.4 0.1;\n",
    "    0.3 0.2 0.5;\n",
    "    0.5 0.3 0.2]\n",
    "\n",
    "# First way\n",
    "piProb1 = (P^100)[1,:]\n",
    "\n",
    "# Second way\n",
    "A = vcat((P' - Matrix{Float64}(I, 3, 3))[1:2,:],ones(3)')\n",
    "b = [0 0 1]'\n",
    "piProb2 = A\\b\n",
    "\n",
    "# Third way\n",
    "eigVecs = eigvecs(copy(P'))\n",
    "highestVec = eigVecs[:,findmax(abs.(eigvals(P)))[2]]\n",
    "piProb3 = Array{Float64}(highestVec)/norm(highestVec,1);\n",
    "\n",
    "# Fourth way\n",
    "numInState = zeros(3)\n",
    "state = 1\n",
    "N = 10^6\n",
    "for t in 1:N\n",
    "    numInState[state] += 1\n",
    "    global state = sample(1:3,weights(P[state,:]))\n",
    "end\n",
    "piProb4 = numInState/N\n",
    "\n",
    "[piProb1 piProb2 piProb3 piProb4]"
   ]
  },
  {
   "cell_type": "code",
   "execution_count": null,
   "metadata": {},
   "outputs": [
    {
     "ename": "",
     "evalue": "",
     "output_type": "error",
     "traceback": [
      "\u001b[1;31mFailed to start the Kernel. \n",
      "View Jupyter <a href='command:jupyter.viewOutput'>log</a> for further details."
     ]
    }
   ],
   "source": [
    "# https://docs.juliaplots.org/latest/tutorial/\n",
    "using Plots\n",
    "y = rand(10, 4)\n",
    "plot(x, y, layout = (4, 1))"
   ]
  },
  {
   "cell_type": "code",
   "execution_count": null,
   "metadata": {},
   "outputs": [
    {
     "ename": "",
     "evalue": "",
     "output_type": "error",
     "traceback": [
      "\u001b[1;31mFailed to start the Kernel. \n",
      "View Jupyter <a href='command:jupyter.viewOutput'>log</a> for further details."
     ]
    }
   ],
   "source": [
    "p1 = plot(x, y) # Make a line plot\n",
    "p2 = scatter(x, y) # Make a scatter plot\n",
    "p3 = plot(x, y, xlabel = \"This one is labelled\", lw = 3, title = \"Subtitle\")\n",
    "p4 = histogram(x, y) # Four histograms each with 10 points? Why not!\n",
    "plot(p1, p2, p3, p4, layout = (2, 2), legend = false)"
   ]
  },
  {
   "cell_type": "code",
   "execution_count": null,
   "metadata": {},
   "outputs": [
    {
     "ename": "",
     "evalue": "",
     "output_type": "error",
     "traceback": [
      "\u001b[1;31mFailed to start the Kernel. \n",
      "View Jupyter <a href='command:jupyter.viewOutput'>log</a> for further details."
     ]
    }
   ],
   "source": [
    "Pkg.add(\"StatsPlots\")\n",
    "using StatsPlots # Required for the DataFrame user recipe\n",
    "# Now let's create the DataFrame\n",
    "using DataFrames\n",
    "df = DataFrame(a = 1:10, b = 10 * rand(10), c = 10 * rand(10))\n",
    "# Plot the DataFrame by declaring the points by the column names\n",
    "@df df plot(:a, [:b :c]) # x = :a, y = [:b :c]. Notice this is two columns!"
   ]
  },
  {
   "cell_type": "code",
   "execution_count": null,
   "metadata": {},
   "outputs": [
    {
     "ename": "",
     "evalue": "",
     "output_type": "error",
     "traceback": [
      "\u001b[1;31mFailed to start the Kernel. \n",
      "View Jupyter <a href='command:jupyter.viewOutput'>log</a> for further details."
     ]
    }
   ],
   "source": [
    "Pkg.add(\"Distributions\")\n",
    "using Distributions\n",
    "plot(Normal(3, 5), lw = 3)"
   ]
  },
  {
   "cell_type": "code",
   "execution_count": null,
   "metadata": {},
   "outputs": [
    {
     "ename": "",
     "evalue": "",
     "output_type": "error",
     "traceback": [
      "\u001b[1;31mFailed to start the Kernel. \n",
      "View Jupyter <a href='command:jupyter.viewOutput'>log</a> for further details."
     ]
    }
   ],
   "source": [
    "Pkg.add(\"MarketData\")\n",
    "Pkg.add(\"TimeSeries\")\n",
    "using Plots, MarketData, TimeSeries\n",
    "gr()\n",
    "ta = yahoo(:GOOG, YahooOpt(period1 = now() - Month(1)))"
   ]
  },
  {
   "cell_type": "code",
   "execution_count": null,
   "metadata": {},
   "outputs": [
    {
     "ename": "",
     "evalue": "",
     "output_type": "error",
     "traceback": [
      "\u001b[1;31mFailed to start the Kernel. \n",
      "View Jupyter <a href='command:jupyter.viewOutput'>log</a> for further details."
     ]
    }
   ],
   "source": [
    "plot(ta[:Open, :High, :Low, :Close])"
   ]
  },
  {
   "cell_type": "code",
   "execution_count": null,
   "metadata": {},
   "outputs": [
    {
     "ename": "",
     "evalue": "",
     "output_type": "error",
     "traceback": [
      "\u001b[1;31mFailed to start the Kernel. \n",
      "View Jupyter <a href='command:jupyter.viewOutput'>log</a> for further details."
     ]
    }
   ],
   "source": [
    "plot(ta, seriestype = :candlestick)"
   ]
  },
  {
   "cell_type": "code",
   "execution_count": null,
   "metadata": {},
   "outputs": [
    {
     "ename": "",
     "evalue": "",
     "output_type": "error",
     "traceback": [
      "\u001b[1;31mFailed to start the Kernel. \n",
      "View Jupyter <a href='command:jupyter.viewOutput'>log</a> for further details."
     ]
    }
   ],
   "source": []
  }
 ],
 "metadata": {
  "kernelspec": {
   "display_name": "Julia 1.7.3",
   "language": "julia",
   "name": "julia-1.7"
  },
  "language_info": {
   "file_extension": ".jl",
   "mimetype": "application/julia",
   "name": "julia",
   "version": "1.7.3"
  }
 },
 "nbformat": 4,
 "nbformat_minor": 4
}
