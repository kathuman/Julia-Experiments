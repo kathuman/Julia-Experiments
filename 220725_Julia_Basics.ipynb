{
 "cells": [
  {
   "cell_type": "code",
   "execution_count": 1,
   "metadata": {},
   "outputs": [
    {
     "name": "stdout",
     "output_type": "stream",
     "text": [
      "Julia Version 1.6.2\n",
      "Commit 1b93d53fc4 (2021-07-14 15:36 UTC)\n",
      "Platform Info:\n",
      "  OS: Windows (x86_64-w64-mingw32)\n",
      "  CPU: Intel(R) Core(TM) i7-10750H CPU @ 2.60GHz\n",
      "  WORD_SIZE: 64\n",
      "  LIBM: libopenlibm\n",
      "  LLVM: libLLVM-11.0.1 (ORCJIT, skylake)\n"
     ]
    }
   ],
   "source": [
    "versioninfo()\n",
    "# Comment\n",
    "# https://jump.dev/JuMP.jl/stable/tutorials/linear/diet/"
   ]
  },
  {
   "cell_type": "code",
   "execution_count": 5,
   "metadata": {},
   "outputs": [],
   "source": [
    "using JuMP"
   ]
  },
  {
   "cell_type": "code",
   "execution_count": 6,
   "metadata": {},
   "outputs": [],
   "source": [
    "using Pkg"
   ]
  },
  {
   "cell_type": "code",
   "execution_count": 7,
   "metadata": {},
   "outputs": [
    {
     "name": "stderr",
     "output_type": "stream",
     "text": [
      "\u001b[32m\u001b[1m    Updating\u001b[22m\u001b[39m registry at `C:\\Users\\DSEP0001\\.julia\\registries\\General`\n",
      "\u001b[32m\u001b[1m    Updating\u001b[22m\u001b[39m git-repo `https://github.com/JuliaRegistries/General.git`\n",
      "\u001b[32m\u001b[1m   Resolving\u001b[22m\u001b[39m package versions...\n",
      "\u001b[32m\u001b[1m    Updating\u001b[22m\u001b[39m `C:\\Users\\DSEP0001\\.julia\\environments\\v1.6\\Project.toml`\n",
      " \u001b[90m [a93c6f00] \u001b[39m\u001b[92m+ DataFrames v1.3.4\u001b[39m\n",
      "\u001b[32m\u001b[1m  No Changes\u001b[22m\u001b[39m to `C:\\Users\\DSEP0001\\.julia\\environments\\v1.6\\Manifest.toml`\n",
      "\u001b[32m\u001b[1mPrecompiling\u001b[22m\u001b[39m project...\n",
      "\u001b[32m  ✓ \u001b[39m\u001b[90mLibmount_jll\u001b[39m\n",
      "\u001b[32m  ✓ \u001b[39m\u001b[90mXorg_libXdmcp_jll\u001b[39m\n",
      "\u001b[32m  ✓ \u001b[39m\u001b[90mXorg_libXau_jll\u001b[39m\n",
      "\u001b[32m  ✓ \u001b[39m\u001b[90mXorg_libpthread_stubs_jll\u001b[39m\n",
      "\u001b[32m  ✓ \u001b[39m\u001b[90mLibgpg_error_jll\u001b[39m\n",
      "\u001b[32m  ✓ \u001b[39m\u001b[90mJpegTurbo_jll\u001b[39m\n",
      "\u001b[32m  ✓ \u001b[39m\u001b[90mLERC_jll\u001b[39m\n",
      "\u001b[32m  ✓ \u001b[39m\u001b[90mWayland_protocols_jll\u001b[39m\n",
      "\u001b[32m  ✓ \u001b[39m\u001b[90mSCS_GPU_jll\u001b[39m\n",
      "\u001b[32m  ✓ \u001b[39m\u001b[90mXorg_xtrans_jll\u001b[39m\n",
      "\u001b[32m  ✓ \u001b[39m\u001b[90mWayland_jll\u001b[39m\n",
      "\u001b[32m  ✓ \u001b[39m\u001b[90mZstd_jll\u001b[39m\n",
      "\u001b[32m  ✓ \u001b[39m\u001b[90mLibgcrypt_jll\u001b[39m\n",
      "\u001b[32m  ✓ \u001b[39m\u001b[90mGlib_jll\u001b[39m\n",
      "\u001b[32m  ✓ \u001b[39m\u001b[90mXSLT_jll\u001b[39m\n",
      "\u001b[32m  ✓ \u001b[39m\u001b[90mLibtiff_jll\u001b[39m\n",
      "\u001b[32m  ✓ \u001b[39m\u001b[90mXorg_libxcb_jll\u001b[39m\n",
      "\u001b[32m  ✓ \u001b[39mSCS\n",
      "\u001b[32m  ✓ \u001b[39m\u001b[90mXorg_libX11_jll\u001b[39m\n",
      "\u001b[32m  ✓ \u001b[39m\u001b[90mXorg_xcb_util_jll\u001b[39m\n",
      "\u001b[32m  ✓ \u001b[39m\u001b[90mXorg_libXrender_jll\u001b[39m\n",
      "\u001b[32m  ✓ \u001b[39m\u001b[90mXorg_libXfixes_jll\u001b[39m\n",
      "\u001b[32m  ✓ \u001b[39m\u001b[90mXorg_libxkbfile_jll\u001b[39m\n",
      "\u001b[32m  ✓ \u001b[39m\u001b[90mXorg_libXext_jll\u001b[39m\n",
      "\u001b[32m  ✓ \u001b[39m\u001b[90mXorg_xcb_util_keysyms_jll\u001b[39m\n",
      "\u001b[32m  ✓ \u001b[39m\u001b[90mXorg_xcb_util_renderutil_jll\u001b[39m\n",
      "\u001b[32m  ✓ \u001b[39m\u001b[90mXorg_xcb_util_image_jll\u001b[39m\n",
      "\u001b[32m  ✓ \u001b[39m\u001b[90mXorg_libXcursor_jll\u001b[39m\n",
      "\u001b[32m  ✓ \u001b[39m\u001b[90mXorg_xcb_util_wm_jll\u001b[39m\n",
      "\u001b[32m  ✓ \u001b[39m\u001b[90mXorg_xkbcomp_jll\u001b[39m\n",
      "\u001b[32m  ✓ \u001b[39m\u001b[90mLibglvnd_jll\u001b[39m\n",
      "\u001b[32m  ✓ \u001b[39m\u001b[90mXorg_libXi_jll\u001b[39m\n",
      "\u001b[32m  ✓ \u001b[39m\u001b[90mXorg_libXrandr_jll\u001b[39m\n",
      "\u001b[32m  ✓ \u001b[39m\u001b[90mXorg_libXinerama_jll\u001b[39m\n",
      "\u001b[32m  ✓ \u001b[39m\u001b[90mXorg_xkeyboard_config_jll\u001b[39m\n",
      "\u001b[32m  ✓ \u001b[39m\u001b[90mGLFW_jll\u001b[39m\n",
      "\u001b[32m  ✓ \u001b[39m\u001b[90mCairo_jll\u001b[39m\n",
      "\u001b[32m  ✓ \u001b[39m\u001b[90mxkbcommon_jll\u001b[39m\n",
      "\u001b[32m  ✓ \u001b[39m\u001b[90mHarfBuzz_jll\u001b[39m\n",
      "\u001b[32m  ✓ \u001b[39m\u001b[90mQt5Base_jll\u001b[39m\n",
      "\u001b[32m  ✓ \u001b[39m\u001b[90mlibass_jll\u001b[39m\n",
      "\u001b[32m  ✓ \u001b[39m\u001b[90mFFMPEG_jll\u001b[39m\n",
      "\u001b[32m  ✓ \u001b[39m\u001b[90mFFMPEG\u001b[39m\n",
      "\u001b[32m  ✓ \u001b[39m\u001b[90mGR_jll\u001b[39m\n",
      "\u001b[32m  ✓ \u001b[39mGR\n",
      "\u001b[32m  ✓ \u001b[39mPlots\n",
      "  46 dependencies successfully precompiled in 81 seconds (309 already precompiled, 4 skipped during auto due to previous errors)\n"
     ]
    }
   ],
   "source": [
    "Pkg.add(\"DataFrames\")"
   ]
  },
  {
   "cell_type": "code",
   "execution_count": 8,
   "metadata": {},
   "outputs": [
    {
     "name": "stderr",
     "output_type": "stream",
     "text": [
      "\u001b[32m\u001b[1m   Resolving\u001b[22m\u001b[39m package versions...\n",
      "\u001b[32m\u001b[1m   Installed\u001b[22m\u001b[39m HiGHS_jll ─ v1.2.0+2\n",
      "\u001b[32m\u001b[1m   Installed\u001b[22m\u001b[39m HiGHS ───── v0.3.2\n",
      "\u001b[32m\u001b[1m    Updating\u001b[22m\u001b[39m `C:\\Users\\DSEP0001\\.julia\\environments\\v1.6\\Project.toml`\n",
      " \u001b[90m [87dc4568] \u001b[39m\u001b[92m+ HiGHS v0.3.2\u001b[39m\n",
      "\u001b[32m\u001b[1m    Updating\u001b[22m\u001b[39m `C:\\Users\\DSEP0001\\.julia\\environments\\v1.6\\Manifest.toml`\n",
      " \u001b[90m [87dc4568] \u001b[39m\u001b[92m+ HiGHS v0.3.2\u001b[39m\n",
      " \u001b[90m [8fd58aa0] \u001b[39m\u001b[92m+ HiGHS_jll v1.2.0+2\u001b[39m\n",
      "\u001b[32m\u001b[1mPrecompiling\u001b[22m\u001b[39m project...\n",
      "\u001b[32m  ✓ \u001b[39m\u001b[90mHiGHS_jll\u001b[39m\n",
      "\u001b[32m  ✓ \u001b[39mHiGHS\n",
      "  2 dependencies successfully precompiled in 15 seconds (355 already precompiled, 4 skipped during auto due to previous errors)\n"
     ]
    }
   ],
   "source": [
    "Pkg.add(\"HiGHS\")"
   ]
  },
  {
   "cell_type": "code",
   "execution_count": 9,
   "metadata": {},
   "outputs": [],
   "source": [
    "using DataFrames\n",
    "using HiGHS"
   ]
  },
  {
   "cell_type": "code",
   "execution_count": 10,
   "metadata": {},
   "outputs": [
    {
     "data": {
      "text/html": [
       "<div class=\"data-frame\"><p>9 rows × 6 columns</p><table class=\"data-frame\"><thead><tr><th></th><th>name</th><th>cost</th><th>calories</th><th>protein</th><th>fat</th><th>sodium</th></tr><tr><th></th><th title=\"Any\">Any</th><th title=\"Any\">Any</th><th title=\"Any\">Any</th><th title=\"Any\">Any</th><th title=\"Any\">Any</th><th title=\"Any\">Any</th></tr></thead><tbody><tr><th>1</th><td>hamburger</td><td>2.49</td><td>410</td><td>24</td><td>26</td><td>730</td></tr><tr><th>2</th><td>chicken</td><td>2.89</td><td>420</td><td>32</td><td>10</td><td>1190</td></tr><tr><th>3</th><td>hot dog</td><td>1.5</td><td>560</td><td>20</td><td>32</td><td>1800</td></tr><tr><th>4</th><td>fries</td><td>1.89</td><td>380</td><td>4</td><td>19</td><td>270</td></tr><tr><th>5</th><td>macaroni</td><td>2.09</td><td>320</td><td>12</td><td>10</td><td>930</td></tr><tr><th>6</th><td>pizza</td><td>1.99</td><td>320</td><td>15</td><td>12</td><td>820</td></tr><tr><th>7</th><td>salad</td><td>2.49</td><td>320</td><td>31</td><td>12</td><td>1230</td></tr><tr><th>8</th><td>milk</td><td>0.89</td><td>100</td><td>8</td><td>2.5</td><td>125</td></tr><tr><th>9</th><td>ice cream</td><td>1.59</td><td>330</td><td>8</td><td>10</td><td>180</td></tr></tbody></table></div>"
      ],
      "text/latex": [
       "\\begin{tabular}{r|cccccc}\n",
       "\t& name & cost & calories & protein & fat & sodium\\\\\n",
       "\t\\hline\n",
       "\t& Any & Any & Any & Any & Any & Any\\\\\n",
       "\t\\hline\n",
       "\t1 & hamburger & 2.49 & 410 & 24 & 26 & 730 \\\\\n",
       "\t2 & chicken & 2.89 & 420 & 32 & 10 & 1190 \\\\\n",
       "\t3 & hot dog & 1.5 & 560 & 20 & 32 & 1800 \\\\\n",
       "\t4 & fries & 1.89 & 380 & 4 & 19 & 270 \\\\\n",
       "\t5 & macaroni & 2.09 & 320 & 12 & 10 & 930 \\\\\n",
       "\t6 & pizza & 1.99 & 320 & 15 & 12 & 820 \\\\\n",
       "\t7 & salad & 2.49 & 320 & 31 & 12 & 1230 \\\\\n",
       "\t8 & milk & 0.89 & 100 & 8 & 2.5 & 125 \\\\\n",
       "\t9 & ice cream & 1.59 & 330 & 8 & 10 & 180 \\\\\n",
       "\\end{tabular}\n"
      ],
      "text/plain": [
       "\u001b[1m9×6 DataFrame\u001b[0m\n",
       "\u001b[1m Row \u001b[0m│\u001b[1m name      \u001b[0m\u001b[1m cost \u001b[0m\u001b[1m calories \u001b[0m\u001b[1m protein \u001b[0m\u001b[1m fat \u001b[0m\u001b[1m sodium \u001b[0m\n",
       "\u001b[1m     \u001b[0m│\u001b[90m Any       \u001b[0m\u001b[90m Any  \u001b[0m\u001b[90m Any      \u001b[0m\u001b[90m Any     \u001b[0m\u001b[90m Any \u001b[0m\u001b[90m Any    \u001b[0m\n",
       "─────┼─────────────────────────────────────────────────\n",
       "   1 │ hamburger  2.49  410       24       26   730\n",
       "   2 │ chicken    2.89  420       32       10   1190\n",
       "   3 │ hot dog    1.5   560       20       32   1800\n",
       "   4 │ fries      1.89  380       4        19   270\n",
       "   5 │ macaroni   2.09  320       12       10   930\n",
       "   6 │ pizza      1.99  320       15       12   820\n",
       "   7 │ salad      2.49  320       31       12   1230\n",
       "   8 │ milk       0.89  100       8        2.5  125\n",
       "   9 │ ice cream  1.59  330       8        10   180"
      ]
     },
     "execution_count": 10,
     "metadata": {},
     "output_type": "execute_result"
    }
   ],
   "source": [
    "foods = DataFrames.DataFrame(\n",
    "    [\n",
    "        \"hamburger\" 2.49 410 24 26 730\n",
    "        \"chicken\" 2.89 420 32 10 1190\n",
    "        \"hot dog\" 1.50 560 20 32 1800\n",
    "        \"fries\" 1.89 380 4 19 270\n",
    "        \"macaroni\" 2.09 320 12 10 930\n",
    "        \"pizza\" 1.99 320 15 12 820\n",
    "        \"salad\" 2.49 320 31 12 1230\n",
    "        \"milk\" 0.89 100 8 2.5 125\n",
    "        \"ice cream\" 1.59 330 8 10 180\n",
    "    ],\n",
    "    [\"name\", \"cost\", \"calories\", \"protein\", \"fat\", \"sodium\"],\n",
    ")"
   ]
  },
  {
   "cell_type": "code",
   "execution_count": 11,
   "metadata": {},
   "outputs": [
    {
     "data": {
      "text/html": [
       "<div class=\"data-frame\"><p>4 rows × 3 columns</p><table class=\"data-frame\"><thead><tr><th></th><th>name</th><th>min</th><th>max</th></tr><tr><th></th><th title=\"Any\">Any</th><th title=\"Any\">Any</th><th title=\"Any\">Any</th></tr></thead><tbody><tr><th>1</th><td>calories</td><td>1800</td><td>2200</td></tr><tr><th>2</th><td>protein</td><td>91</td><td>Inf</td></tr><tr><th>3</th><td>fat</td><td>0</td><td>65</td></tr><tr><th>4</th><td>sodium</td><td>0</td><td>1779</td></tr></tbody></table></div>"
      ],
      "text/latex": [
       "\\begin{tabular}{r|ccc}\n",
       "\t& name & min & max\\\\\n",
       "\t\\hline\n",
       "\t& Any & Any & Any\\\\\n",
       "\t\\hline\n",
       "\t1 & calories & 1800 & 2200 \\\\\n",
       "\t2 & protein & 91 & Inf \\\\\n",
       "\t3 & fat & 0 & 65 \\\\\n",
       "\t4 & sodium & 0 & 1779 \\\\\n",
       "\\end{tabular}\n"
      ],
      "text/plain": [
       "\u001b[1m4×3 DataFrame\u001b[0m\n",
       "\u001b[1m Row \u001b[0m│\u001b[1m name     \u001b[0m\u001b[1m min  \u001b[0m\u001b[1m max  \u001b[0m\n",
       "\u001b[1m     \u001b[0m│\u001b[90m Any      \u001b[0m\u001b[90m Any  \u001b[0m\u001b[90m Any  \u001b[0m\n",
       "─────┼──────────────────────\n",
       "   1 │ calories  1800  2200\n",
       "   2 │ protein   91    Inf\n",
       "   3 │ fat       0     65\n",
       "   4 │ sodium    0     1779"
      ]
     },
     "execution_count": 11,
     "metadata": {},
     "output_type": "execute_result"
    }
   ],
   "source": [
    "limits = DataFrames.DataFrame(\n",
    "    [\n",
    "        \"calories\" 1800 2200\n",
    "        \"protein\" 91 Inf\n",
    "        \"fat\" 0 65\n",
    "        \"sodium\" 0 1779\n",
    "    ],\n",
    "    [\"name\", \"min\", \"max\"],\n",
    ")"
   ]
  },
  {
   "cell_type": "code",
   "execution_count": 12,
   "metadata": {},
   "outputs": [
    {
     "data": {
      "text/plain": [
       "A JuMP Model\n",
       "Feasibility problem with:\n",
       "Variables: 0\n",
       "Model mode: AUTOMATIC\n",
       "CachingOptimizer state: EMPTY_OPTIMIZER\n",
       "Solver name: HiGHS"
      ]
     },
     "execution_count": 12,
     "metadata": {},
     "output_type": "execute_result"
    }
   ],
   "source": [
    "model = Model(HiGHS.Optimizer)"
   ]
  },
  {
   "cell_type": "code",
   "execution_count": 13,
   "metadata": {},
   "outputs": [
    {
     "data": {
      "text/plain": [
       "1-dimensional DenseAxisArray{VariableRef,1,...} with index sets:\n",
       "    Dimension 1, Any[\"hamburger\", \"chicken\", \"hot dog\", \"fries\", \"macaroni\", \"pizza\", \"salad\", \"milk\", \"ice cream\"]\n",
       "And data, a 9-element Vector{VariableRef}:\n",
       " x[hamburger]\n",
       " x[chicken]\n",
       " x[hot dog]\n",
       " x[fries]\n",
       " x[macaroni]\n",
       " x[pizza]\n",
       " x[salad]\n",
       " x[milk]\n",
       " x[ice cream]"
      ]
     },
     "execution_count": 13,
     "metadata": {},
     "output_type": "execute_result"
    }
   ],
   "source": [
    "@variable(model, x[foods.name] >= 0)"
   ]
  },
  {
   "cell_type": "code",
   "execution_count": 14,
   "metadata": {},
   "outputs": [
    {
     "data": {
      "text/latex": [
       "$$ 2.49 x_{hamburger} + 2.89 x_{chicken} + 1.5 x_{hot dog} + 1.89 x_{fries} + 2.09 x_{macaroni} + 1.99 x_{pizza} + 2.49 x_{salad} + 0.89 x_{milk} + 1.59 x_{ice cream} $$"
      ],
      "text/plain": [
       "2.49 x[hamburger] + 2.89 x[chicken] + 1.5 x[hot dog] + 1.89 x[fries] + 2.09 x[macaroni] + 1.99 x[pizza] + 2.49 x[salad] + 0.89 x[milk] + 1.59 x[ice cream]"
      ]
     },
     "execution_count": 14,
     "metadata": {},
     "output_type": "execute_result"
    }
   ],
   "source": [
    "@objective(\n",
    "    model,\n",
    "    Min,\n",
    "    sum(food[\"cost\"] * x[food[\"name\"]] for food in eachrow(foods)),\n",
    ")"
   ]
  },
  {
   "cell_type": "code",
   "execution_count": 15,
   "metadata": {},
   "outputs": [],
   "source": [
    "for limit in eachrow(limits)\n",
    "    intake = @expression(\n",
    "        model,\n",
    "        sum(food[limit[\"name\"]] * x[food[\"name\"]] for food in eachrow(foods)),\n",
    "    )\n",
    "    @constraint(model, limit.min <= intake <= limit.max)\n",
    "end"
   ]
  },
  {
   "cell_type": "code",
   "execution_count": 16,
   "metadata": {},
   "outputs": [
    {
     "data": {
      "text/latex": [
       "$$ \\begin{aligned}\n",
       "\\min\\quad & 2.49 x_{hamburger} + 2.89 x_{chicken} + 1.5 x_{hot dog} + 1.89 x_{fries} + 2.09 x_{macaroni} + 1.99 x_{pizza} + 2.49 x_{salad} + 0.89 x_{milk} + 1.59 x_{ice cream}\\\\\n",
       "\\text{Subject to} \\quad & 410 x_{hamburger} + 420 x_{chicken} + 560 x_{hot dog} + 380 x_{fries} + 320 x_{macaroni} + 320 x_{pizza} + 320 x_{salad} + 100 x_{milk} + 330 x_{ice cream} \\in \\[1800.0, 2200.0\\]\\\\\n",
       " & 24 x_{hamburger} + 32 x_{chicken} + 20 x_{hot dog} + 4 x_{fries} + 12 x_{macaroni} + 15 x_{pizza} + 31 x_{salad} + 8 x_{milk} + 8 x_{ice cream} \\in \\[91.0, Inf\\]\\\\\n",
       " & 26 x_{hamburger} + 10 x_{chicken} + 32 x_{hot dog} + 19 x_{fries} + 10 x_{macaroni} + 12 x_{pizza} + 12 x_{salad} + 2.5 x_{milk} + 10 x_{ice cream} \\in \\[0.0, 65.0\\]\\\\\n",
       " & 730 x_{hamburger} + 1190 x_{chicken} + 1800 x_{hot dog} + 270 x_{fries} + 930 x_{macaroni} + 820 x_{pizza} + 1230 x_{salad} + 125 x_{milk} + 180 x_{ice cream} \\in \\[0.0, 1779.0\\]\\\\\n",
       " & x_{hamburger} \\geq 0.0\\\\\n",
       " & x_{chicken} \\geq 0.0\\\\\n",
       " & x_{hot dog} \\geq 0.0\\\\\n",
       " & x_{fries} \\geq 0.0\\\\\n",
       " & x_{macaroni} \\geq 0.0\\\\\n",
       " & x_{pizza} \\geq 0.0\\\\\n",
       " & x_{salad} \\geq 0.0\\\\\n",
       " & x_{milk} \\geq 0.0\\\\\n",
       " & x_{ice cream} \\geq 0.0\\\\\n",
       "\\end{aligned} $$"
      ]
     },
     "metadata": {},
     "output_type": "display_data"
    }
   ],
   "source": [
    "print(model)"
   ]
  },
  {
   "cell_type": "code",
   "execution_count": 17,
   "metadata": {},
   "outputs": [
    {
     "name": "stdout",
     "output_type": "stream",
     "text": [
      "Presolving model\n",
      "4 rows, 9 cols, 36 nonzeros\n",
      "4 rows, 9 cols, 36 nonzeros\n",
      "Presolve : Reductions: rows 4(-0); columns 9(-0); elements 36(-0)\n",
      "Solving the presolved LP\n",
      "Using EKK dual simplex solver - serial\n",
      "  Iteration        Objective     Infeasibilities num(sum)\n",
      "          0     0.0000000000e+00 Pr: 2(814) 0s\n",
      "          6     1.1828861111e+01 Pr: 0(0) 0s\n",
      "Solving the original LP from the solution after postsolve\n",
      "Model   status      : Optimal\n",
      "Simplex   iterations: 6\n",
      "Objective value     :  1.1828861111e+01\n",
      "HiGHS run time      :          0.01\n",
      "WARNING: Method Highs_getSimplexIterationCount is deprecated: alternative method is Highs_getIntInfoValue\n"
     ]
    },
    {
     "data": {
      "text/plain": [
       "* Solver : HiGHS\n",
       "\n",
       "* Status\n",
       "  Termination status : OPTIMAL\n",
       "  Primal status      : FEASIBLE_POINT\n",
       "  Dual status        : FEASIBLE_POINT\n",
       "  Message from the solver:\n",
       "  \"kOptimal\"\n",
       "\n",
       "* Candidate solution\n",
       "  Objective value      : 11.828861111111111\n",
       "  Objective bound      : 0.0\n",
       "  Dual objective value : 11.828861111111113\n",
       "\n",
       "* Work counters\n",
       "  Solve time (sec)   : 0.01296\n"
      ]
     },
     "execution_count": 17,
     "metadata": {},
     "output_type": "execute_result"
    }
   ],
   "source": [
    "optimize!(model)\n",
    "\n",
    "\n",
    "solution_summary(model)"
   ]
  },
  {
   "cell_type": "code",
   "execution_count": 18,
   "metadata": {},
   "outputs": [
    {
     "name": "stdout",
     "output_type": "stream",
     "text": [
      "hamburger = 0.6045138888888888\n",
      "chicken = 0.0\n",
      "hot dog = 0.0\n",
      "fries = 0.0\n",
      "macaroni = 0.0\n",
      "pizza = 0.0\n",
      "salad = 0.0\n",
      "milk = 6.970138888888889\n",
      "ice cream = 2.5913194444444447\n"
     ]
    }
   ],
   "source": [
    "for food in foods.name\n",
    "    println(food, \" = \", value(x[food]))\n",
    "end"
   ]
  },
  {
   "cell_type": "code",
   "execution_count": 19,
   "metadata": {},
   "outputs": [
    {
     "data": {
      "text/latex": [
       "$$ x_{milk} + x_{ice cream} \\leq 6.0 $$"
      ],
      "text/plain": [
       "x[milk] + x[ice cream] <= 6.0"
      ]
     },
     "execution_count": 19,
     "metadata": {},
     "output_type": "execute_result"
    }
   ],
   "source": [
    "# additional constraint\n",
    "@constraint(model, x[\"milk\"] + x[\"ice cream\"] <= 6)"
   ]
  },
  {
   "cell_type": "code",
   "execution_count": 20,
   "metadata": {},
   "outputs": [
    {
     "name": "stdout",
     "output_type": "stream",
     "text": [
      "Solving LP without presolve or with basis\n",
      "Using EKK dual simplex solver - serial\n",
      "  Iteration        Objective     Infeasibilities num(sum)\n",
      "          0     1.1828875782e+01 Pr: 1(56.9833) 0s\n",
      "          0     1.1828875782e+01 0s\n",
      "Model   status      : Infeasible\n",
      "Objective value     :  1.1828861111e+01\n",
      "HiGHS run time      :          0.01\n",
      "WARNING: Method Highs_getSimplexIterationCount is deprecated: alternative method is Highs_getIntInfoValue\n"
     ]
    },
    {
     "ename": "LoadError",
     "evalue": "MethodError: \u001b[0mCannot `convert` an object of type \u001b[92mMissing\u001b[39m\u001b[0m to an object of type \u001b[91mFloat64\u001b[39m\n\u001b[0mClosest candidates are:\n\u001b[0m  convert(::Type{T}, \u001b[91m::Base.TwicePrecision\u001b[39m) where T<:Number at twiceprecision.jl:250\n\u001b[0m  convert(::Type{T}, \u001b[91m::AbstractChar\u001b[39m) where T<:Number at char.jl:180\n\u001b[0m  convert(::Type{T}, \u001b[91m::CartesianIndex{1}\u001b[39m) where T<:Number at multidimensional.jl:136\n\u001b[0m  ...",
     "output_type": "error",
     "traceback": [
      "MethodError: \u001b[0mCannot `convert` an object of type \u001b[92mMissing\u001b[39m\u001b[0m to an object of type \u001b[91mFloat64\u001b[39m\n\u001b[0mClosest candidates are:\n\u001b[0m  convert(::Type{T}, \u001b[91m::Base.TwicePrecision\u001b[39m) where T<:Number at twiceprecision.jl:250\n\u001b[0m  convert(::Type{T}, \u001b[91m::AbstractChar\u001b[39m) where T<:Number at char.jl:180\n\u001b[0m  convert(::Type{T}, \u001b[91m::CartesianIndex{1}\u001b[39m) where T<:Number at multidimensional.jl:136\n\u001b[0m  ...",
      "",
      "Stacktrace:",
      " [1] JuMP._SolutionSummary(verbose::Bool, solver::String, termination_status::MathOptInterface.TerminationStatusCode, primal_status::MathOptInterface.ResultStatusCode, dual_status::MathOptInterface.ResultStatusCode, raw_status::String, result_count::Int64, has_values::Bool, has_duals::Bool, objective_value::Missing, objective_bound::Float64, dual_objective_value::Missing, primal_solution::Missing, dual_solution::Missing, solve_time::Float64, barrier_iterations::Missing, simplex_iterations::Missing, node_count::Missing)",
      "   @ JuMP C:\\Users\\DSEP0001\\.julia\\packages\\JuMP\\2IF9U\\src\\print.jl:426",
      " [2] solution_summary(model::Model; verbose::Bool)",
      "   @ JuMP C:\\Users\\DSEP0001\\.julia\\packages\\JuMP\\2IF9U\\src\\print.jl:474",
      " [3] solution_summary(model::Model)",
      "   @ JuMP C:\\Users\\DSEP0001\\.julia\\packages\\JuMP\\2IF9U\\src\\print.jl:474",
      " [4] top-level scope",
      "   @ In[20]:4",
      " [5] eval",
      "   @ .\\boot.jl:360 [inlined]",
      " [6] include_string(mapexpr::typeof(REPL.softscope), mod::Module, code::String, filename::String)",
      "   @ Base .\\loading.jl:1116"
     ]
    }
   ],
   "source": [
    "optimize!(model)\n",
    "\n",
    "\n",
    "solution_summary(model)"
   ]
  },
  {
   "cell_type": "code",
   "execution_count": 22,
   "metadata": {},
   "outputs": [],
   "source": [
    "# Another example\n",
    "# https://jump.dev/JuMP.jl/stable/tutorials/linear/facility_location/"
   ]
  },
  {
   "cell_type": "code",
   "execution_count": 23,
   "metadata": {},
   "outputs": [
    {
     "name": "stderr",
     "output_type": "stream",
     "text": [
      "\u001b[32m\u001b[1m   Resolving\u001b[22m\u001b[39m package versions...\n",
      "\u001b[32m\u001b[1m  No Changes\u001b[22m\u001b[39m to `C:\\Users\\DSEP0001\\.julia\\environments\\v1.6\\Project.toml`\n",
      "\u001b[32m\u001b[1m  No Changes\u001b[22m\u001b[39m to `C:\\Users\\DSEP0001\\.julia\\environments\\v1.6\\Manifest.toml`\n",
      "\u001b[32m\u001b[1m   Resolving\u001b[22m\u001b[39m package versions...\n",
      "\u001b[32m\u001b[1m  No Changes\u001b[22m\u001b[39m to `C:\\Users\\DSEP0001\\.julia\\environments\\v1.6\\Project.toml`\n",
      "\u001b[32m\u001b[1m  No Changes\u001b[22m\u001b[39m to `C:\\Users\\DSEP0001\\.julia\\environments\\v1.6\\Manifest.toml`\n",
      "\u001b[32m\u001b[1m   Resolving\u001b[22m\u001b[39m package versions...\n",
      "\u001b[32m\u001b[1m    Updating\u001b[22m\u001b[39m `C:\\Users\\DSEP0001\\.julia\\environments\\v1.6\\Project.toml`\n",
      " \u001b[90m [9a3f8284] \u001b[39m\u001b[92m+ Random\u001b[39m\n",
      "\u001b[32m\u001b[1m  No Changes\u001b[22m\u001b[39m to `C:\\Users\\DSEP0001\\.julia\\environments\\v1.6\\Manifest.toml`\n"
     ]
    }
   ],
   "source": [
    "Pkg.add(\"LinearAlgebra\")\n",
    "Pkg.add(\"Plots\")\n",
    "Pkg.add(\"Random\")\n",
    "using LinearAlgebra\n",
    "using Plots\n",
    "using Random"
   ]
  },
  {
   "cell_type": "code",
   "execution_count": null,
   "metadata": {},
   "outputs": [],
   "source": []
  }
 ],
 "metadata": {
  "kernelspec": {
   "display_name": "Julia 1.6.2",
   "language": "julia",
   "name": "julia-1.6"
  },
  "language_info": {
   "file_extension": ".jl",
   "mimetype": "application/julia",
   "name": "julia",
   "version": "1.6.2"
  }
 },
 "nbformat": 4,
 "nbformat_minor": 2
}
