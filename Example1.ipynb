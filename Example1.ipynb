{
 "cells": [
  {
   "cell_type": "markdown",
   "metadata": {},
   "source": [
    "Simple Example\n",
    "http://www.juliaopt.org/JuMP.jl/v0.15/quickstart.html#simple-example"
   ]
  },
  {
   "cell_type": "code",
   "execution_count": 1,
   "metadata": {},
   "outputs": [
    {
     "ename": "LoadError",
     "evalue": "ArgumentError: Module Pkg not found in current path.\nRun `Pkg.add(\"Pkg\")` to install the Pkg package.",
     "output_type": "error",
     "traceback": [
      "ArgumentError: Module Pkg not found in current path.\nRun `Pkg.add(\"Pkg\")` to install the Pkg package.",
      "",
      " in require(::Symbol) at .\\loading.jl:365",
      " in include_string(::String, ::String) at .\\loading.jl:441"
     ]
    }
   ],
   "source": [
    "import Pkg; Pkg.add(\"SCS\")"
   ]
  },
  {
   "cell_type": "code",
   "execution_count": 2,
   "metadata": {},
   "outputs": [
    {
     "name": "stderr",
     "output_type": "stream",
     "text": [
      "\u001b[1m\u001b[34mINFO: Precompiling module SCS.\n",
      "\u001b[0m"
     ]
    },
    {
     "ename": "LoadError",
     "evalue": "ArgumentError: Module LinearAlgebra not found in current path.\nRun `Pkg.add(\"LinearAlgebra\")` to install the LinearAlgebra package.",
     "output_type": "error",
     "traceback": [
      "ArgumentError: Module LinearAlgebra not found in current path.\nRun `Pkg.add(\"LinearAlgebra\")` to install the LinearAlgebra package.",
      "",
      " in require(::Symbol) at .\\loading.jl:365",
      " in include_string(::String, ::String) at .\\loading.jl:441"
     ]
    }
   ],
   "source": [
    "#  Copyright 2017, Iain Dunning, Joey Huchette, Miles Lubin, and contributors\n",
    "#  This Source Code Form is subject to the terms of the Mozilla Public\n",
    "#  License, v. 2.0. If a copy of the MPL was not distributed with this\n",
    "#  file, You can obtain one at http://mozilla.org/MPL/2.0/.\n",
    "#############################################################################\n",
    "# JuMP\n",
    "# An algebraic modeling language for Julia\n",
    "# See http://github.com/JuliaOpt/JuMP.jl\n",
    "#############################################################################\n",
    "\n",
    "using JuMP, SCS, LinearAlgebra, Test\n",
    "\"\"\"\n",
    "    example_cluster()\n",
    "From \"Approximating K-means-type clustering via semidefinite programming\" By\n",
    "Jiming Peng and Yu Wei.\n",
    "Given a set of points a_1, ..., a_m  in R_n, allocate them to k clusters.\n",
    "\"\"\"\n",
    "function example_cluster(; verbose = true)\n",
    "    # Data points\n",
    "    n = 2\n",
    "    m = 6\n",
    "    a = Any[[2.0, 2.0], [2.5, 2.1], [7.0, 7.0],\n",
    "            [2.2, 2.3], [6.8, 7.0], [7.2, 7.5]]\n",
    "    k = 2\n",
    "\n",
    "    # Weight matrix\n",
    "    W = zeros(m, m)\n",
    "    for i in 1:m\n",
    "        for j in i + 1:m\n",
    "            W[i, j] = W[j, i] = exp(-norm(a[i] - a[j]) / 1.0)\n",
    "        end\n",
    "    end\n",
    "\n",
    "    model = Model(with_optimizer(SCS.Optimizer, verbose = 0))\n",
    "    # Z >= 0, PSD\n",
    "    @variable(model, Z[1:m, 1:m], PSD)\n",
    "    @constraint(model, Z .>= 0)\n",
    "    # min Tr(W(I-Z))\n",
    "    @objective(model, Min, tr(W * (Matrix(1.0I, m, m) - Z)))\n",
    "    # Z e = e\n",
    "    @constraint(model, Z * ones(m) .== ones(m))\n",
    "    # Tr(Z) = k\n",
    "    @constraint(model, tr(Z) == k)\n",
    "\n",
    "    JuMP.optimize!(model)\n",
    "\n",
    "    Z_val = JuMP.value.(Z)\n",
    "\n",
    "    # A simple rounding scheme\n",
    "    which_cluster = zeros(Int, m)\n",
    "    num_clusters = 0\n",
    "    for i in 1:m\n",
    "        Z_val[i, i] <= 1e-6 && continue\n",
    "        if which_cluster[i] == 0\n",
    "            num_clusters += 1\n",
    "            which_cluster[i] = num_clusters\n",
    "            for j in i + 1:m\n",
    "                if norm(Z_val[i, j] - Z_val[i, i]) <= 1e-6\n",
    "                    which_cluster[j] = num_clusters\n",
    "                end\n",
    "            end\n",
    "        end\n",
    "    end\n",
    "\n",
    "    @test which_cluster == [1, 1, 2, 1, 2, 2]\n",
    "\n",
    "    if verbose\n",
    "        # Print results\n",
    "        for cluster in 1:k\n",
    "            println(\"Cluster $cluster\")\n",
    "            for i in 1:m\n",
    "                if which_cluster[i] == cluster\n",
    "                    println(a[i])\n",
    "                end\n",
    "            end\n",
    "        end\n",
    "    end\n",
    "end\n",
    "\n",
    "example_cluster(verbose = false)"
   ]
  },
  {
   "cell_type": "code",
   "execution_count": null,
   "metadata": {
    "collapsed": true
   },
   "outputs": [],
   "source": []
  }
 ],
 "metadata": {
  "kernelspec": {
   "display_name": "Julia 0.5.2",
   "language": "julia",
   "name": "julia-0.5"
  },
  "language_info": {
   "file_extension": ".jl",
   "mimetype": "application/julia",
   "name": "julia",
   "version": "0.5.2"
  }
 },
 "nbformat": 4,
 "nbformat_minor": 2
}
