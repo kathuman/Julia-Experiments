{
 "cells": [
  {
   "cell_type": "markdown",
   "metadata": {},
   "source": [
    "Creating a Model"
   ]
  },
  {
   "cell_type": "code",
   "execution_count": 1,
   "metadata": {},
   "outputs": [],
   "source": [
    "#using Pkg\n",
    "#Pkg.add(\"JuMP\")\n",
    "using JuMP"
   ]
  },
  {
   "cell_type": "code",
   "execution_count": 2,
   "metadata": {},
   "outputs": [
    {
     "data": {
      "text/plain": "A JuMP Model\nFeasibility problem with:\nVariables: 0\nModel mode: AUTOMATIC\nCachingOptimizer state: NO_OPTIMIZER\nSolver name: No optimizer attached."
     },
     "execution_count": 2,
     "metadata": {},
     "output_type": "execute_result"
    }
   ],
   "source": [
    "m = Model()"
   ]
  },
  {
   "cell_type": "code",
   "execution_count": 4,
   "metadata": {},
   "outputs": [],
   "source": [
    "# @defVar(m, x )              # No bounds\n",
    "# @defVar(m, x >= lb )        # Lower bound only (note: 'lb <= x' is not valid)\n",
    "# @defVar(m, x <= ub )        # Upper bound only\n",
    "# @defVar(m, lb <= x <= ub )  # Lower and upper bounds\n",
    "\n",
    "# An example of a array of variables\n",
    "# @defVar(m, x[1:M,1:N] >= 0 )"
   ]
  },
  {
   "cell_type": "code",
   "execution_count": 3,
   "metadata": {
    "scrolled": true
   },
   "outputs": [
    {
     "ename": "LoadError",
     "evalue": "LoadError: UndefVarError: @setObjective not defined\nin expression starting at In[3]:7",
     "output_type": "error",
     "traceback": [
      "LoadError: UndefVarError: @setObjective not defined\nin expression starting at In[3]:7",
      "",
      "Stacktrace:",
      " [1] top-level scope",
      "   @ :0",
      " [2] eval",
      "   @ .\\boot.jl:360 [inlined]",
      " [3] include_string(mapexpr::typeof(REPL.softscope), mod::Module, code::String, filename::String)",
      "   @ Base .\\loading.jl:1116"
     ]
    }
   ],
   "source": [
    "using JuMP\n",
    "\n",
    "m = Model()\n",
    "@variable(m, 0 <= x <= 2 )\n",
    "@variable(m, 0 <= y <= 30 )\n",
    "\n",
    "@setObjective(m, Max, 5x + 3*y )\n",
    "@addConstraint(m, 1x + 5y <= 3.0 )\n",
    "\n",
    "print(m)\n",
    "\n",
    "status = solve(m)\n",
    "\n",
    "println(\"Objective value: \", getObjectiveValue(m))\n",
    "println(\"x = \", getValue(x))\n",
    "println(\"y = \", getValue(y))"
   ]
  },
  {
   "cell_type": "code",
   "execution_count": 7,
   "metadata": {},
   "outputs": [
    {
     "name": "stdout",
     "output_type": "stream",
     "text": [
      "  1.472001 seconds (4.50 M allocations: 260.055 MiB, 5.55% gc time, 99.98% compilation time)\n",
      "  0.000085 seconds (304 allocations: 17.594 KiB)\n"
     ]
    },
    {
     "data": {
      "text/plain": [
       "2-element Vector{Float64}:\n",
       " -1.0733250637041452\n",
       "  0.2537450497038758"
      ]
     },
     "execution_count": 7,
     "metadata": {},
     "output_type": "execute_result"
    }
   ],
   "source": [
    "using Distributions, Optim\n",
    "\n",
    "# hard-coded data\\observations\n",
    "odr=[0.10,0.20,0.15,0.22,0.15,0.10,0.08,0.09,0.12]\n",
    "Q_t = quantile.(Normal(0,1), odr)\n",
    "\n",
    "# return a function that accepts `[mu, sigma]` as parameter\n",
    "function neglik_tn(Q_t)\n",
    "    maxx = maximum(Q_t)\n",
    "    f(μσ) = -sum(logpdf.(Truncated(Normal(μσ[1],μσ[2]), -Inf, maxx), Q_t))\n",
    "    f\n",
    "end\n",
    "\n",
    "neglikfn = neglik_tn(Q_t)\n",
    "\n",
    "# optimize!\n",
    "# start searching \n",
    "@time res = optimize(neglikfn, [mean(Q_t), std(Q_t)]) # 0.8 seconds\n",
    "@time res = optimize(neglikfn, [mean(Q_t), std(Q_t)]) # 0.000137 seconds\n",
    "\n",
    "# the \\mu and \\sigma estimates\n",
    "Optim.minimizer(res) # [-1.0733250637041452,0.2537450497038758] # or\n",
    "\n",
    "# use `fieldnames(res)` to see the list of field names that can be referenced via . (dot)\n",
    "res.minimizer # [-1.0733250637041452,0.2537450497038758]"
   ]
  },
  {
   "cell_type": "code",
   "execution_count": null,
   "metadata": {
    "collapsed": true,
    "jupyter": {
     "outputs_hidden": true
    }
   },
   "outputs": [],
   "source": []
  }
 ],
 "metadata": {
  "kernelspec": {
   "display_name": "Julia 1.6.2",
   "language": "julia",
   "name": "julia-1.6"
  },
  "language_info": {
   "name": "julia",
   "version": ""
  }
 },
 "nbformat": 4,
 "nbformat_minor": 4
}