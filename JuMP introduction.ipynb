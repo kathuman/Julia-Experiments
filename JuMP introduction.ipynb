{
 "cells": [
  {
   "cell_type": "markdown",
   "metadata": {},
   "source": [
    "Creating a Model"
   ]
  },
  {
   "cell_type": "code",
   "execution_count": 2,
   "metadata": {},
   "outputs": [
    {
     "data": {
      "text/latex": [
       "$$ \\begin{alignat*}{1}\\min\\quad & 0\\\\\n",
       "\\text{Subject to} \\quad\\end{alignat*}\n",
       " $$"
      ],
      "text/plain": [
       "Feasibility problem with:\n",
       " * 0 linear constraints\n",
       " * 0 variables\n",
       "Solver is default solver"
      ]
     },
     "execution_count": 2,
     "metadata": {},
     "output_type": "execute_result"
    }
   ],
   "source": [
    "using JuMP\n",
    "m = Model()"
   ]
  },
  {
   "cell_type": "code",
   "execution_count": null,
   "metadata": {
    "collapsed": true
   },
   "outputs": [],
   "source": [
    "# @defVar(m, x )              # No bounds\n",
    "# @defVar(m, x >= lb )        # Lower bound only (note: 'lb <= x' is not valid)\n",
    "# @defVar(m, x <= ub )        # Upper bound only\n",
    "# @defVar(m, lb <= x <= ub )  # Lower and upper bounds\n",
    "\n",
    "# An example of a array of variables\n",
    "# @defVar(m, x[1:M,1:N] >= 0 )"
   ]
  },
  {
   "cell_type": "code",
   "execution_count": 4,
   "metadata": {},
   "outputs": [
    {
     "name": "stdout",
     "output_type": "stream",
     "text": [
      "Max 5 x + 3 y\n",
      "Subject to\n",
      " x + 5 y <= 3\n",
      " 0 <= x <= 2\n",
      " 0 <= y <= 30\n",
      "Optimize a model with 1 rows, 2 columns and 2 nonzeros\r\n",
      "Coefficient statistics:\r\n",
      "  Matrix range     [1e+00, 5e+00]\r\n",
      "  Objective range  [3e+00, 5e+00]\r\n",
      "  Bounds range     [2e+00, 3e+01]\r\n",
      "  RHS range        [3e+00, 3e+00]\r\n",
      "Presolve removed 1 rows and 2 columns\r\n",
      "Presolve time: 0.00s\r\n",
      "Presolve: All rows and columns removed\r\n",
      "Iteration    Objective       Primal Inf.    Dual Inf.      Time\r\n",
      "       0    1.0600000e+01   0.000000e+00   0.000000e+00      0s\r\n",
      "\r\n",
      "Solved in 0 iterations and 0.00 seconds\r\n",
      "Optimal objective  1.060000000e+01\r\n",
      "Objective value: 10.6\n",
      "x = 2.0\n",
      "y = 0.2\n"
     ]
    }
   ],
   "source": [
    "using JuMP\n",
    "\n",
    "m = Model()\n",
    "@variable(m, 0 <= x <= 2 )\n",
    "@variable(m, 0 <= y <= 30 )\n",
    "\n",
    "@setObjective(m, Max, 5x + 3*y )\n",
    "@addConstraint(m, 1x + 5y <= 3.0 )\n",
    "\n",
    "print(m)\n",
    "\n",
    "status = solve(m)\n",
    "\n",
    "println(\"Objective value: \", getObjectiveValue(m))\n",
    "println(\"x = \", getValue(x))\n",
    "println(\"y = \", getValue(y))"
   ]
  },
  {
   "cell_type": "code",
   "execution_count": 5,
   "metadata": {},
   "outputs": [
    {
     "name": "stderr",
     "output_type": "stream",
     "text": [
      "\u001b[1m\u001b[34mINFO: Precompiling module Distributions.\n",
      "\u001b[0m\u001b[1m\u001b[31mERROR: LoadError: Rmath not properly installed. Please run Pkg.build(\"Rmath\") and restart julia\n",
      " in error(::String) at .\\error.jl:21\n",
      " in include_from_node1(::String) at .\\loading.jl:488\n",
      " in macro expansion; at .\\none:2 [inlined]\n",
      " in anonymous at .\\<missing>:?\n",
      " in eval(::Module, ::Any) at .\\boot.jl:234\n",
      " in process_options(::Base.JLOptions) at .\\client.jl:242\n",
      " in _start() at .\\client.jl:321\n",
      "while loading C:\\Users\\dasep\\.julia\\v0.5\\Rmath\\src\\Rmath.jl, in expression starting on line 17\n",
      "\u001b[0m\u001b[1m\u001b[31mERROR: LoadError: LoadError: Failed to precompile Rmath to C:\\Users\\dasep\\.julia\\lib\\v0.5\\Rmath.ji.\n",
      " in compilecache(::String) at .\\loading.jl:593\n",
      " in require(::Symbol) at .\\loading.jl:393\n",
      " in include_from_node1(::String) at .\\loading.jl:488 (repeats 2 times)\n",
      " in macro expansion; at .\\none:2 [inlined]\n",
      " in anonymous at .\\<missing>:?\n",
      " in eval(::Module, ::Any) at .\\boot.jl:234\n",
      " in process_options(::Base.JLOptions) at .\\client.jl:242\n",
      " in _start() at .\\client.jl:321\n",
      "while loading C:\\Users\\dasep\\.julia\\v0.5\\StatsFuns\\src\\rmath.jl, in expression starting on line 6\n",
      "while loading C:\\Users\\dasep\\.julia\\v0.5\\StatsFuns\\src\\StatsFuns.jl, in expression starting on line 228\n",
      "\u001b[0m\u001b[1m\u001b[31mERROR: LoadError: Failed to precompile StatsFuns to C:\\Users\\dasep\\.julia\\lib\\v0.5\\StatsFuns.ji.\n",
      " in compilecache(::String) at .\\loading.jl:593\n",
      " in require(::Symbol) at .\\loading.jl:393\n",
      " in include_from_node1(::String) at .\\loading.jl:488\n",
      " in macro expansion; at .\\none:2 [inlined]\n",
      " in anonymous at .\\<missing>:?\n",
      " in eval(::Module, ::Any) at .\\boot.jl:234\n",
      " in process_options(::Base.JLOptions) at .\\client.jl:242\n",
      " in _start() at .\\client.jl:321\n",
      "while loading C:\\Users\\dasep\\.julia\\v0.5\\Distributions\\src\\Distributions.jl, in expression starting on line 6\n",
      "\u001b[0m"
     ]
    },
    {
     "ename": "LoadError",
     "evalue": "Failed to precompile Distributions to C:\\Users\\dasep\\.julia\\lib\\v0.5\\Distributions.ji.",
     "output_type": "error",
     "traceback": [
      "Failed to precompile Distributions to C:\\Users\\dasep\\.julia\\lib\\v0.5\\Distributions.ji.",
      "",
      " in compilecache(::String) at .\\loading.jl:593",
      " in require(::Symbol) at .\\loading.jl:422",
      " in include_string(::String, ::String) at .\\loading.jl:441"
     ]
    }
   ],
   "source": [
    "using Distributions, Optim\n",
    "\n",
    "# hard-coded data\\observations\n",
    "odr=[0.10,0.20,0.15,0.22,0.15,0.10,0.08,0.09,0.12]\n",
    "Q_t = quantile.(Normal(0,1), odr)\n",
    "\n",
    "# return a function that accepts `[mu, sigma]` as parameter\n",
    "function neglik_tn(Q_t)\n",
    "    maxx = maximum(Q_t)\n",
    "    f(μσ) = -sum(logpdf.(Truncated(Normal(μσ[1],μσ[2]), -Inf, maxx), Q_t))\n",
    "    f\n",
    "end\n",
    "\n",
    "neglikfn = neglik_tn(Q_t)\n",
    "\n",
    "# optimize!\n",
    "# start searching \n",
    "@time res = optimize(neglikfn, [mean(Q_t), std(Q_t)]) # 0.8 seconds\n",
    "@time res = optimize(neglikfn, [mean(Q_t), std(Q_t)]) # 0.000137 seconds\n",
    "\n",
    "# the \\mu and \\sigma estimates\n",
    "Optim.minimizer(res) # [-1.0733250637041452,0.2537450497038758] # or\n",
    "\n",
    "# use `fieldnames(res)` to see the list of field names that can be referenced via . (dot)\n",
    "res.minimizer # [-1.0733250637041452,0.2537450497038758]"
   ]
  },
  {
   "cell_type": "code",
   "execution_count": null,
   "metadata": {
    "collapsed": true
   },
   "outputs": [],
   "source": []
  }
 ],
 "metadata": {
  "kernelspec": {
   "display_name": "Julia 0.5.2",
   "language": "julia",
   "name": "julia-0.5"
  },
  "language_info": {
   "file_extension": ".jl",
   "mimetype": "application/julia",
   "name": "julia",
   "version": "0.5.2"
  }
 },
 "nbformat": 4,
 "nbformat_minor": 2
}
