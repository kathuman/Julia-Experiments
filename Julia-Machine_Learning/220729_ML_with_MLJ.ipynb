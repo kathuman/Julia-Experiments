{
 "cells": [
  {
   "cell_type": "markdown",
   "id": "b03c0786",
   "metadata": {},
   "source": [
    "https://alan-turing-institute.github.io/MLJ.jl/dev/getting_started/#Getting-Started"
   ]
  },
  {
   "cell_type": "markdown",
   "id": "2163414e",
   "metadata": {},
   "source": [
    "Required Packages <br>\n",
    "* DecisionTree <br>\n",
    "* MLJ <br>\n",
    "* MLJDecisionTreeInterface"
   ]
  },
  {
   "cell_type": "code",
   "execution_count": 1,
   "id": "fcf2ad51",
   "metadata": {},
   "outputs": [],
   "source": [
    "using MLJ\n",
    "iris = load_iris();"
   ]
  },
  {
   "cell_type": "code",
   "execution_count": 2,
   "id": "1f5baff3",
   "metadata": {},
   "outputs": [
    {
     "name": "stdout",
     "output_type": "stream",
     "text": [
      "┌──────────────┬─────────────┬──────────────┬─────────────┬──────────────────────────────────┐\n",
      "│\u001b[1m sepal_length \u001b[0m│\u001b[1m sepal_width \u001b[0m│\u001b[1m petal_length \u001b[0m│\u001b[1m petal_width \u001b[0m│\u001b[1m target                           \u001b[0m│\n",
      "│\u001b[90m Float64      \u001b[0m│\u001b[90m Float64     \u001b[0m│\u001b[90m Float64      \u001b[0m│\u001b[90m Float64     \u001b[0m│\u001b[90m CategoricalValue{String, UInt32} \u001b[0m│\n",
      "│\u001b[90m Continuous   \u001b[0m│\u001b[90m Continuous  \u001b[0m│\u001b[90m Continuous   \u001b[0m│\u001b[90m Continuous  \u001b[0m│\u001b[90m Multiclass{3}                    \u001b[0m│\n",
      "├──────────────┼─────────────┼──────────────┼─────────────┼──────────────────────────────────┤\n",
      "│ 5.1          │ 3.5         │ 1.4          │ 0.2         │ setosa                           │\n",
      "│ 4.9          │ 3.0         │ 1.4          │ 0.2         │ setosa                           │\n",
      "│ 4.7          │ 3.2         │ 1.3          │ 0.2         │ setosa                           │\n",
      "└──────────────┴─────────────┴──────────────┴─────────────┴──────────────────────────────────┘\n"
     ]
    }
   ],
   "source": [
    "selectrows(iris, 1:3)  |> pretty"
   ]
  },
  {
   "cell_type": "code",
   "execution_count": 3,
   "id": "52300e85",
   "metadata": {},
   "outputs": [
    {
     "data": {
      "text/plain": [
       "┌──────────────┬───────────────┬──────────────────────────────────┐\n",
       "│\u001b[22m names        \u001b[0m│\u001b[22m scitypes      \u001b[0m│\u001b[22m types                            \u001b[0m│\n",
       "├──────────────┼───────────────┼──────────────────────────────────┤\n",
       "│ sepal_length │ Continuous    │ Float64                          │\n",
       "│ sepal_width  │ Continuous    │ Float64                          │\n",
       "│ petal_length │ Continuous    │ Float64                          │\n",
       "│ petal_width  │ Continuous    │ Float64                          │\n",
       "│ target       │ Multiclass{3} │ CategoricalValue{String, UInt32} │\n",
       "└──────────────┴───────────────┴──────────────────────────────────┘\n"
      ]
     },
     "execution_count": 3,
     "metadata": {},
     "output_type": "execute_result"
    }
   ],
   "source": [
    "schema(iris)"
   ]
  },
  {
   "cell_type": "code",
   "execution_count": 4,
   "id": "d39e8638",
   "metadata": {},
   "outputs": [
    {
     "name": "stderr",
     "output_type": "stream",
     "text": [
      "┌ Info: Precompiling DataFrames [a93c6f00-e57d-5684-b7b6-d8193f3e46c0]\n",
      "└ @ Base loading.jl:1342\n"
     ]
    }
   ],
   "source": [
    "import DataFrames\n",
    "iris = DataFrames.DataFrame(iris);"
   ]
  },
  {
   "cell_type": "code",
   "execution_count": 5,
   "id": "a152d192",
   "metadata": {},
   "outputs": [
    {
     "name": "stdout",
     "output_type": "stream",
     "text": [
      "┌──────────────┬─────────────┬──────────────┬─────────────┐\n",
      "│\u001b[1m sepal_length \u001b[0m│\u001b[1m sepal_width \u001b[0m│\u001b[1m petal_length \u001b[0m│\u001b[1m petal_width \u001b[0m│\n",
      "│\u001b[90m Float64      \u001b[0m│\u001b[90m Float64     \u001b[0m│\u001b[90m Float64      \u001b[0m│\u001b[90m Float64     \u001b[0m│\n",
      "│\u001b[90m Continuous   \u001b[0m│\u001b[90m Continuous  \u001b[0m│\u001b[90m Continuous   \u001b[0m│\u001b[90m Continuous  \u001b[0m│\n",
      "├──────────────┼─────────────┼──────────────┼─────────────┤\n",
      "│ 6.7          │ 3.3         │ 5.7          │ 2.1         │\n",
      "│ 5.7          │ 2.8         │ 4.1          │ 1.3         │\n",
      "│ 7.2          │ 3.0         │ 5.8          │ 1.6         │\n",
      "└──────────────┴─────────────┴──────────────┴─────────────┘\n"
     ]
    }
   ],
   "source": [
    "y, X = unpack(iris, ==(:target); rng=123);\n",
    "first(X, 3) |> pretty"
   ]
  },
  {
   "cell_type": "code",
   "execution_count": 6,
   "id": "ecc31e5b",
   "metadata": {},
   "outputs": [
    {
     "data": {
      "text/plain": [
       "47-element Vector{NamedTuple{(:name, :package_name, :is_supervised, :abstract_type, :deep_properties, :docstring, :fit_data_scitype, :human_name, :hyperparameter_ranges, :hyperparameter_types, :hyperparameters, :implemented_methods, :inverse_transform_scitype, :is_pure_julia, :is_wrapper, :iteration_parameter, :load_path, :package_license, :package_url, :package_uuid, :predict_scitype, :prediction_type, :supports_class_weights, :supports_online, :supports_training_losses, :supports_weights, :transform_scitype, :input_scitype, :target_scitype, :output_scitype), T} where T<:Tuple}:\n",
       " (name = AdaBoostClassifier, package_name = ScikitLearn, ... )\n",
       " (name = AdaBoostStumpClassifier, package_name = DecisionTree, ... )\n",
       " (name = BaggingClassifier, package_name = ScikitLearn, ... )\n",
       " (name = BayesianLDA, package_name = MultivariateStats, ... )\n",
       " (name = BayesianLDA, package_name = ScikitLearn, ... )\n",
       " (name = BayesianQDA, package_name = ScikitLearn, ... )\n",
       " (name = BayesianSubspaceLDA, package_name = MultivariateStats, ... )\n",
       " (name = ConstantClassifier, package_name = MLJModels, ... )\n",
       " (name = DecisionTreeClassifier, package_name = BetaML, ... )\n",
       " (name = DecisionTreeClassifier, package_name = DecisionTree, ... )\n",
       " (name = DeterministicConstantClassifier, package_name = MLJModels, ... )\n",
       " (name = DummyClassifier, package_name = ScikitLearn, ... )\n",
       " (name = EvoTreeClassifier, package_name = EvoTrees, ... )\n",
       " ⋮\n",
       " (name = RandomForestClassifier, package_name = BetaML, ... )\n",
       " (name = RandomForestClassifier, package_name = DecisionTree, ... )\n",
       " (name = RandomForestClassifier, package_name = ScikitLearn, ... )\n",
       " (name = RidgeCVClassifier, package_name = ScikitLearn, ... )\n",
       " (name = RidgeClassifier, package_name = ScikitLearn, ... )\n",
       " (name = SGDClassifier, package_name = ScikitLearn, ... )\n",
       " (name = SVC, package_name = LIBSVM, ... )\n",
       " (name = SVMClassifier, package_name = ScikitLearn, ... )\n",
       " (name = SVMLinearClassifier, package_name = ScikitLearn, ... )\n",
       " (name = SVMNuClassifier, package_name = ScikitLearn, ... )\n",
       " (name = SubspaceLDA, package_name = MultivariateStats, ... )\n",
       " (name = XGBoostClassifier, package_name = XGBoost, ... )"
      ]
     },
     "execution_count": 6,
     "metadata": {},
     "output_type": "execute_result"
    }
   ],
   "source": [
    "models(matching(X,y))"
   ]
  },
  {
   "cell_type": "code",
   "execution_count": 8,
   "id": "71a5937f",
   "metadata": {},
   "outputs": [
    {
     "name": "stdout",
     "output_type": "stream",
     "text": [
      "import MLJDecisionTreeInterface ✔\n"
     ]
    },
    {
     "name": "stderr",
     "output_type": "stream",
     "text": [
      "┌ Info: For silent loading, specify `verbosity=0`. \n",
      "└ @ Main C:\\Users\\DSEP0001\\.julia\\packages\\MLJModels\\lDzCR\\src\\loading.jl:168\n"
     ]
    },
    {
     "data": {
      "text/plain": [
       "DecisionTreeClassifier"
      ]
     },
     "execution_count": 8,
     "metadata": {},
     "output_type": "execute_result"
    }
   ],
   "source": [
    "using MLJDecisionTreeInterface\n",
    "Tree = @load DecisionTreeClassifier pkg=DecisionTree"
   ]
  },
  {
   "cell_type": "code",
   "execution_count": 9,
   "id": "0c0bc514",
   "metadata": {},
   "outputs": [
    {
     "data": {
      "text/plain": [
       "DecisionTreeClassifier(\n",
       "  max_depth = -1, \n",
       "  min_samples_leaf = 1, \n",
       "  min_samples_split = 2, \n",
       "  min_purity_increase = 0.0, \n",
       "  n_subfeatures = 0, \n",
       "  post_prune = false, \n",
       "  merge_purity_threshold = 1.0, \n",
       "  display_depth = 5, \n",
       "  rng = Random._GLOBAL_RNG())"
      ]
     },
     "execution_count": 9,
     "metadata": {},
     "output_type": "execute_result"
    }
   ],
   "source": [
    "tree = Tree()"
   ]
  },
  {
   "cell_type": "code",
   "execution_count": 10,
   "id": "8b472cb4",
   "metadata": {},
   "outputs": [
    {
     "data": {
      "text/plain": [
       "PerformanceEvaluation object with these fields:\n",
       "  measure, operation, measurement, per_fold,\n",
       "  per_observation, fitted_params_per_fold,\n",
       "  report_per_fold, train_test_rows\n",
       "Extract:\n",
       "┌────────────────────────────────┬──────────────┬─────────────┬─────────┬───────\n",
       "│\u001b[22m measure                        \u001b[0m│\u001b[22m operation    \u001b[0m│\u001b[22m measurement \u001b[0m│\u001b[22m 1.96*SE \u001b[0m│\u001b[22m per_\u001b[0m ⋯\n",
       "├────────────────────────────────┼──────────────┼─────────────┼─────────┼───────\n",
       "│ LogLoss(                       │ predict      │ 1.68        │ 0.951   │ [1.4 ⋯\n",
       "│   tol = 2.220446049250313e-16) │              │             │         │      ⋯\n",
       "│ Accuracy()                     │ predict_mode │ 0.953       │ 0.0264  │ [0.9 ⋯\n",
       "└────────────────────────────────┴──────────────┴─────────────┴─────────┴───────\n",
       "\u001b[36m                                                                1 column omitted\u001b[0m\n"
      ]
     },
     "execution_count": 10,
     "metadata": {},
     "output_type": "execute_result"
    }
   ],
   "source": [
    "evaluate(tree, X, y,\n",
    "                resampling=CV(shuffle=true),\n",
    "                        measures=[log_loss, accuracy],\n",
    "                        verbosity=0)"
   ]
  },
  {
   "cell_type": "code",
   "execution_count": 11,
   "id": "1c6adf24",
   "metadata": {},
   "outputs": [
    {
     "data": {
      "text/plain": [
       "CategoricalArrays.CategoricalVector{String, UInt32, String, CategoricalArrays.CategoricalValue{String, UInt32}, Union{}} (alias for CategoricalArrays.CategoricalArray{String, 1, UInt32, String, CategoricalArrays.CategoricalValue{String, UInt32}, Union{}})"
      ]
     },
     "execution_count": 11,
     "metadata": {},
     "output_type": "execute_result"
    }
   ],
   "source": [
    "typeof(y)"
   ]
  },
  {
   "cell_type": "code",
   "execution_count": 12,
   "id": "3b6defd6",
   "metadata": {},
   "outputs": [
    {
     "data": {
      "text/plain": [
       "AbstractVector{var\"#s39\"} where var\"#s39\"<:Finite (alias for AbstractArray{var\"#s39\", 1} where var\"#s39\"<:Finite)"
      ]
     },
     "execution_count": 12,
     "metadata": {},
     "output_type": "execute_result"
    }
   ],
   "source": [
    "target_scitype(tree)"
   ]
  },
  {
   "cell_type": "code",
   "execution_count": 13,
   "id": "9cb0dfe0",
   "metadata": {},
   "outputs": [
    {
     "data": {
      "text/plain": [
       "2-element Vector{Any}:\n",
       " Multiclass\n",
       " OrderedFactor"
      ]
     },
     "execution_count": 13,
     "metadata": {},
     "output_type": "execute_result"
    }
   ],
   "source": [
    "subtypes(Finite)"
   ]
  },
  {
   "cell_type": "code",
   "execution_count": 14,
   "id": "d5f2a0e4",
   "metadata": {},
   "outputs": [
    {
     "data": {
      "text/plain": [
       "Machine trained 0 times; caches data\n",
       "  model: DecisionTreeClassifier(max_depth = -1, …)\n",
       "  args: \n",
       "    1:\tSource @768 ⏎ `Table{AbstractVector{Continuous}}`\n",
       "    2:\tSource @769 ⏎ `AbstractVector{Multiclass{3}}`\n"
      ]
     },
     "execution_count": 14,
     "metadata": {},
     "output_type": "execute_result"
    }
   ],
   "source": [
    "mach = machine(tree, X, y)"
   ]
  },
  {
   "cell_type": "code",
   "execution_count": 15,
   "id": "57c8a4c1",
   "metadata": {},
   "outputs": [],
   "source": [
    "train, test = partition(eachindex(y), 0.7); # 70:30 split"
   ]
  },
  {
   "cell_type": "code",
   "execution_count": 16,
   "id": "1b9eb2f4",
   "metadata": {},
   "outputs": [
    {
     "name": "stderr",
     "output_type": "stream",
     "text": [
      "┌ Info: Training machine(DecisionTreeClassifier(max_depth = -1, …), …).\n",
      "└ @ MLJBase C:\\Users\\DSEP0001\\.julia\\packages\\MLJBase\\b4UY0\\src\\machines.jl:490\n"
     ]
    }
   ],
   "source": [
    "fit!(mach, rows=train);"
   ]
  },
  {
   "cell_type": "code",
   "execution_count": 17,
   "id": "14e96d28",
   "metadata": {},
   "outputs": [
    {
     "data": {
      "text/plain": [
       "3-element CategoricalDistributions.UnivariateFiniteVector{Multiclass{3}, String, UInt32, Float64}:\n",
       " UnivariateFinite{Multiclass{3}}(setosa=>1.0, versicolor=>0.0, virginica=>0.0)\n",
       " UnivariateFinite{Multiclass{3}}(setosa=>0.0, versicolor=>0.0, virginica=>1.0)\n",
       " UnivariateFinite{Multiclass{3}}(setosa=>0.0, versicolor=>0.0, virginica=>1.0)"
      ]
     },
     "execution_count": 17,
     "metadata": {},
     "output_type": "execute_result"
    }
   ],
   "source": [
    "yhat = predict(mach, X[test,:]);\n",
    "yhat[3:5]"
   ]
  },
  {
   "cell_type": "code",
   "execution_count": 18,
   "id": "7aab979c",
   "metadata": {},
   "outputs": [
    {
     "data": {
      "text/plain": [
       "2.4029102259411435"
      ]
     },
     "execution_count": 18,
     "metadata": {},
     "output_type": "execute_result"
    }
   ],
   "source": [
    "log_loss(yhat, y[test]) |> mean"
   ]
  },
  {
   "cell_type": "markdown",
   "id": "cd799c56",
   "metadata": {},
   "source": [
    "# Another example"
   ]
  },
  {
   "cell_type": "code",
   "execution_count": 20,
   "id": "ab24f69c",
   "metadata": {},
   "outputs": [
    {
     "data": {
      "text/plain": [
       "┌────────────┬───────────────────────┬───────────────────────┐\n",
       "│\u001b[22m names      \u001b[0m│\u001b[22m scitypes              \u001b[0m│\u001b[22m types                 \u001b[0m│\n",
       "├────────────┼───────────────────────┼───────────────────────┤\n",
       "│ name       │ Textual               │ String                │\n",
       "│ gender     │ Textual               │ String                │\n",
       "│ likes_soup │ Count                 │ Bool                  │\n",
       "│ height     │ Union{Missing, Count} │ Union{Missing, Int64} │\n",
       "│ rating     │ Count                 │ Int64                 │\n",
       "│ outcome    │ Textual               │ String                │\n",
       "└────────────┴───────────────────────┴───────────────────────┘\n"
      ]
     },
     "execution_count": 20,
     "metadata": {},
     "output_type": "execute_result"
    }
   ],
   "source": [
    "import DataFrames.DataFrame\n",
    "X = DataFrame(\n",
    "                 name       = [\"Siri\", \"Robo\", \"Alexa\", \"Cortana\"],\n",
    "                 gender     = [\"male\", \"male\", \"Female\", \"female\"],\n",
    "                 likes_soup = [true, false, false, true],\n",
    "                 height     = [152, missing, 148, 163],\n",
    "                 rating     = [2, 5, 2, 1],\n",
    "                 outcome    = [\"rejected\", \"accepted\", \"accepted\", \"rejected\"])\n",
    "schema(X)"
   ]
  },
  {
   "cell_type": "code",
   "execution_count": 21,
   "id": "8c04688a",
   "metadata": {},
   "outputs": [
    {
     "data": {
      "text/plain": [
       "4-element CategoricalArrays.CategoricalArray{String,1,UInt32}:\n",
       " \"rejected\"\n",
       " \"accepted\"\n",
       " \"accepted\"\n",
       " \"rejected\""
      ]
     },
     "execution_count": 21,
     "metadata": {},
     "output_type": "execute_result"
    }
   ],
   "source": [
    "X.outcome = coerce(X.outcome, OrderedFactor)"
   ]
  },
  {
   "cell_type": "code",
   "execution_count": 22,
   "id": "ac4b00a2",
   "metadata": {},
   "outputs": [
    {
     "data": {
      "text/plain": [
       "2-element Vector{String}:\n",
       " \"accepted\"\n",
       " \"rejected\""
      ]
     },
     "execution_count": 22,
     "metadata": {},
     "output_type": "execute_result"
    }
   ],
   "source": [
    "levels(X.outcome)"
   ]
  },
  {
   "cell_type": "code",
   "execution_count": 23,
   "id": "3fc81ea5",
   "metadata": {},
   "outputs": [
    {
     "data": {
      "text/plain": [
       "2-element Vector{String}:\n",
       " \"rejected\"\n",
       " \"accepted\""
      ]
     },
     "execution_count": 23,
     "metadata": {},
     "output_type": "execute_result"
    }
   ],
   "source": [
    "# reorder the catergories\n",
    "levels!(X.outcome, [\"rejected\", \"accepted\"])\n",
    "levels(X.outcome)"
   ]
  },
  {
   "cell_type": "code",
   "execution_count": 24,
   "id": "98776409",
   "metadata": {},
   "outputs": [
    {
     "name": "stderr",
     "output_type": "stream",
     "text": [
      "┌ Info: Trying to coerce from `Union{Missing, Int64}` to `Continuous`.\n",
      "│ Coerced to `Union{Missing,Continuous}` instead.\n",
      "└ @ ScientificTypes C:\\Users\\DSEP0001\\.julia\\packages\\ScientificTypes\\3irls\\src\\convention\\coerce.jl:174\n"
     ]
    },
    {
     "data": {
      "text/plain": [
       "┌────────────┬────────────────────────────┬──────────────────────────────────┐\n",
       "│\u001b[22m names      \u001b[0m│\u001b[22m scitypes                   \u001b[0m│\u001b[22m types                            \u001b[0m│\n",
       "├────────────┼────────────────────────────┼──────────────────────────────────┤\n",
       "│ name       │ Textual                    │ String                           │\n",
       "│ gender     │ Multiclass{3}              │ CategoricalValue{String, UInt32} │\n",
       "│ likes_soup │ OrderedFactor{2}           │ CategoricalValue{Bool, UInt32}   │\n",
       "│ height     │ Union{Missing, Continuous} │ Union{Missing, Float64}          │\n",
       "│ rating     │ OrderedFactor{3}           │ CategoricalValue{Int64, UInt32}  │\n",
       "│ outcome    │ OrderedFactor{2}           │ CategoricalValue{String, UInt32} │\n",
       "└────────────┴────────────────────────────┴──────────────────────────────────┘\n"
      ]
     },
     "execution_count": 24,
     "metadata": {},
     "output_type": "execute_result"
    }
   ],
   "source": [
    "Xnew = coerce(X, :gender     => Multiclass,\n",
    "                 :likes_soup => OrderedFactor,\n",
    "                 :height     => Continuous,\n",
    "                 :rating     => OrderedFactor)\n",
    "schema(Xnew)"
   ]
  },
  {
   "cell_type": "code",
   "execution_count": 25,
   "id": "56d64e56",
   "metadata": {},
   "outputs": [
    {
     "data": {
      "text/plain": [
       "4-element CategoricalArrays.CategoricalArray{Int64,1,UInt32}:\n",
       " 2\n",
       " 5\n",
       " 2\n",
       " 1"
      ]
     },
     "execution_count": 25,
     "metadata": {},
     "output_type": "execute_result"
    }
   ],
   "source": [
    "v = Xnew.rating"
   ]
  },
  {
   "cell_type": "code",
   "execution_count": 26,
   "id": "acd58b49",
   "metadata": {},
   "outputs": [
    {
     "data": {
      "text/plain": [
       "3-element Vector{Int64}:\n",
       " 1\n",
       " 2\n",
       " 5"
      ]
     },
     "execution_count": 26,
     "metadata": {},
     "output_type": "execute_result"
    }
   ],
   "source": [
    "levels(v)"
   ]
  },
  {
   "cell_type": "code",
   "execution_count": 27,
   "id": "dd4ebb04",
   "metadata": {},
   "outputs": [
    {
     "data": {
      "text/plain": [
       "3-element Vector{Int64}:\n",
       " 1\n",
       " 2\n",
       " 5"
      ]
     },
     "execution_count": 27,
     "metadata": {},
     "output_type": "execute_result"
    }
   ],
   "source": [
    "levels(v[1:2])"
   ]
  },
  {
   "cell_type": "markdown",
   "id": "6001c3c1",
   "metadata": {},
   "source": [
    "# Generating Synthetic Data \n",
    "https://alan-turing-institute.github.io/MLJ.jl/dev/generating_synthetic_data/"
   ]
  },
  {
   "cell_type": "markdown",
   "id": "b748df2c",
   "metadata": {},
   "source": [
    "## Gaussian Blobs"
   ]
  },
  {
   "cell_type": "code",
   "execution_count": 28,
   "id": "704668ba",
   "metadata": {},
   "outputs": [
    {
     "data": {
      "text/html": [
       "<table class=\"data-frame\"><thead><tr><th></th><th>x1</th><th>x2</th><th>x3</th><th>y</th></tr><tr><th></th><th>Float64</th><th>Float64</th><th>Float64</th><th>Cat…</th></tr></thead><tbody><p>3 rows × 4 columns</p><tr><th>1</th><td>-9.21172</td><td>-1.52741</td><td>-2.51854</td><td>1</td></tr><tr><th>2</th><td>-1.63283</td><td>2.56189</td><td>8.38329</td><td>2</td></tr><tr><th>3</th><td>-10.1215</td><td>-0.892975</td><td>-5.51907</td><td>1</td></tr></tbody></table>"
      ],
      "text/latex": [
       "\\begin{tabular}{r|cccc}\n",
       "\t& x1 & x2 & x3 & y\\\\\n",
       "\t\\hline\n",
       "\t& Float64 & Float64 & Float64 & Cat…\\\\\n",
       "\t\\hline\n",
       "\t1 & -9.21172 & -1.52741 & -2.51854 & 1 \\\\\n",
       "\t2 & -1.63283 & 2.56189 & 8.38329 & 2 \\\\\n",
       "\t3 & -10.1215 & -0.892975 & -5.51907 & 1 \\\\\n",
       "\\end{tabular}\n"
      ],
      "text/plain": [
       "\u001b[1m3×4 DataFrame\u001b[0m\n",
       "\u001b[1m Row \u001b[0m│\u001b[1m x1        \u001b[0m\u001b[1m x2        \u001b[0m\u001b[1m x3       \u001b[0m\u001b[1m y    \u001b[0m\n",
       "\u001b[1m     \u001b[0m│\u001b[90m Float64   \u001b[0m\u001b[90m Float64   \u001b[0m\u001b[90m Float64  \u001b[0m\u001b[90m Cat… \u001b[0m\n",
       "─────┼──────────────────────────────────────\n",
       "   1 │  -9.21172  -1.52741   -2.51854  1\n",
       "   2 │  -1.63283   2.56189    8.38329  2\n",
       "   3 │ -10.1215   -0.892975  -5.51907  1"
      ]
     },
     "execution_count": 28,
     "metadata": {},
     "output_type": "execute_result"
    }
   ],
   "source": [
    "using MLJ, DataFrames\n",
    "X, y = make_blobs(100, 3; centers=2, cluster_std=[1.0, 3.0])\n",
    "dfBlobs = DataFrame(X)\n",
    "dfBlobs.y = y\n",
    "first(dfBlobs, 3)"
   ]
  },
  {
   "cell_type": "code",
   "execution_count": 30,
   "id": "0c4fb0ec",
   "metadata": {},
   "outputs": [
    {
     "name": "stderr",
     "output_type": "stream",
     "text": [
      "┌ Info: Precompiling VegaLite [112f6efa-9a02-5b7d-90c0-432ed331239a]\n",
      "└ @ Base loading.jl:1342\n"
     ]
    },
    {
     "data": {
      "application/vnd.vegalite.v4+json": {
       "data": {
        "values": [
         {
          "x1": -9.211720276680774,
          "x2": -1.5274146161775588,
          "x3": -2.5185433518488933,
          "y": 1
         },
         {
          "x1": -1.6328278753878003,
          "x2": 2.5618886549805246,
          "x3": 8.383288408526433,
          "y": 2
         },
         {
          "x1": -10.121528973709655,
          "x2": -0.8929750771915023,
          "x3": -5.519065351310481,
          "y": 1
         },
         {
          "x1": -10.573274873057192,
          "x2": 5.273372125750401,
          "x3": 9.290025024859304,
          "y": 2
         },
         {
          "x1": -6.580834206298604,
          "x2": 4.821620424264771,
          "x3": 12.03832613967633,
          "y": 2
         },
         {
          "x1": -5.206832086620659,
          "x2": 4.751218809846936,
          "x3": 10.61951861576998,
          "y": 2
         },
         {
          "x1": -10.011303048110042,
          "x2": -0.7146316377746873,
          "x3": -3.575839453933481,
          "y": 1
         },
         {
          "x1": -8.79063822411921,
          "x2": -0.0024324218391426067,
          "x3": -1.8483659485588901,
          "y": 1
         },
         {
          "x1": -11.204875927497264,
          "x2": 0.984455070154699,
          "x3": -3.507759457516764,
          "y": 1
         },
         {
          "x1": -2.6693843180544263,
          "x2": 10.301247677855045,
          "x3": 12.105053594276436,
          "y": 2
         },
         {
          "x1": -10.99687752493792,
          "x2": -0.5794727995177082,
          "x3": -3.953218614629372,
          "y": 1
         },
         {
          "x1": -8.706075221858637,
          "x2": -0.6585083883792666,
          "x3": -5.292603414887328,
          "y": 1
         },
         {
          "x1": -8.438389519201356,
          "x2": 6.865419569405503,
          "x3": 7.643275555905856,
          "y": 2
         },
         {
          "x1": -9.808442481401066,
          "x2": 2.441155731339775,
          "x3": -2.018946424399819,
          "y": 1
         },
         {
          "x1": -5.187537558031711,
          "x2": 5.446935827393004,
          "x3": 8.640034500919331,
          "y": 2
         },
         {
          "x1": -6.262327336505969,
          "x2": 8.183629510028476,
          "x3": 9.966123369683649,
          "y": 2
         },
         {
          "x1": -3.0142468467727603,
          "x2": -2.2435720596501323,
          "x3": 13.11764862762255,
          "y": 2
         },
         {
          "x1": -10.182475039540762,
          "x2": 0.11677058286970265,
          "x3": -4.173580299439318,
          "y": 1
         },
         {
          "x1": -2.485564592545241,
          "x2": 7.589011397264279,
          "x3": 8.313796112468685,
          "y": 2
         },
         {
          "x1": -0.803742323373104,
          "x2": 7.416444369469448,
          "x3": 7.904382846962015,
          "y": 2
         },
         {
          "x1": -9.4759624994928,
          "x2": -1.358462599093763,
          "x3": -2.366828328901479,
          "y": 1
         },
         {
          "x1": -3.2599910650310053,
          "x2": 5.041514626830414,
          "x3": 10.872955004612077,
          "y": 2
         },
         {
          "x1": -9.237277003326668,
          "x2": 0.14976060728693041,
          "x3": -3.840739035704852,
          "y": 1
         },
         {
          "x1": -5.034081544154526,
          "x2": 8.143244188936691,
          "x3": 8.904084390877745,
          "y": 2
         },
         {
          "x1": -9.974254831253745,
          "x2": -0.46060115248131844,
          "x3": -3.5397439940879574,
          "y": 1
         },
         {
          "x1": -5.945503886438537,
          "x2": 3.5865547724222298,
          "x3": 10.165815955320312,
          "y": 2
         },
         {
          "x1": 0.6948335501515537,
          "x2": 6.263893183814441,
          "x3": 10.335778388225474,
          "y": 2
         },
         {
          "x1": -10.562587917644239,
          "x2": 1.0105839633489075,
          "x3": -5.045118935717225,
          "y": 1
         },
         {
          "x1": -11.075831947953828,
          "x2": 0.6123497578405994,
          "x3": -4.353207134166227,
          "y": 1
         },
         {
          "x1": -8.607162800694654,
          "x2": -0.7760971555580145,
          "x3": -2.080982471563103,
          "y": 1
         },
         {
          "x1": -9.366133906459911,
          "x2": -1.3937221698891766,
          "x3": -3.7588241992576124,
          "y": 1
         },
         {
          "x1": -4.021157957501218,
          "x2": 7.1489847728039315,
          "x3": 11.570346376308834,
          "y": 2
         },
         {
          "x1": 1.0224961056403545,
          "x2": 4.899296091874012,
          "x3": 6.782480287377087,
          "y": 2
         },
         {
          "x1": -10.697863656857358,
          "x2": -0.8041117025938332,
          "x3": -4.433548142027535,
          "y": 1
         },
         {
          "x1": -8.860323467996723,
          "x2": -1.3003226190659238,
          "x3": -3.6382814113560435,
          "y": 1
         },
         {
          "x1": -11.613723725771795,
          "x2": -3.3712311746740964,
          "x3": -3.876567908575961,
          "y": 1
         },
         {
          "x1": -10.695663036440784,
          "x2": -0.48237327570039773,
          "x3": -3.209513651973168,
          "y": 1
         },
         {
          "x1": -9.37427204146277,
          "x2": 1.0835531931747617,
          "x3": -5.701425577841434,
          "y": 1
         },
         {
          "x1": -7.329580696340967,
          "x2": 10.000733084115021,
          "x3": 9.202964180223695,
          "y": 2
         },
         {
          "x1": -3.28582649460726,
          "x2": 11.678010698948937,
          "x3": 9.662634098542703,
          "y": 2
         },
         {
          "x1": -6.710334101250063,
          "x2": 6.920757116821608,
          "x3": 11.06155667645609,
          "y": 2
         },
         {
          "x1": -8.768828662494064,
          "x2": 0.8775344423476956,
          "x3": -4.264923998307034,
          "y": 1
         },
         {
          "x1": -9.64545377328586,
          "x2": -1.6983855444556404,
          "x3": -2.632770369234141,
          "y": 1
         },
         {
          "x1": -11.489464455438892,
          "x2": -1.7469417926447022,
          "x3": -2.1775338454942137,
          "y": 1
         },
         {
          "x1": -9.62485733577037,
          "x2": -0.7677602972259929,
          "x3": -3.7800681644044993,
          "y": 1
         },
         {
          "x1": -5.335604491656566,
          "x2": 5.807216621823822,
          "x3": 2.072395531452262,
          "y": 2
         },
         {
          "x1": -6.988758523513686,
          "x2": 0.6531939270078766,
          "x3": 13.131795980616328,
          "y": 2
         },
         {
          "x1": 0.3371769815128651,
          "x2": 4.706752231233638,
          "x3": 7.891226110796659,
          "y": 2
         },
         {
          "x1": -8.902325323014924,
          "x2": 0.2797481789933892,
          "x3": -4.43076032686013,
          "y": 1
         },
         {
          "x1": -3.7442530007495356,
          "x2": 10.799464025657382,
          "x3": 7.316504288764825,
          "y": 2
         },
         {
          "x1": -8.243552321237196,
          "x2": -0.31756937091464876,
          "x3": -3.704237512147535,
          "y": 1
         },
         {
          "x1": -10.745161835892095,
          "x2": 1.0733197641017735,
          "x3": -5.877593698210572,
          "y": 1
         },
         {
          "x1": -3.628765289002469,
          "x2": 4.109735441807542,
          "x3": 9.513702542205348,
          "y": 2
         },
         {
          "x1": -3.5366130153089728,
          "x2": 5.81249334671609,
          "x3": 11.384726535245813,
          "y": 2
         },
         {
          "x1": -9.972677095859634,
          "x2": 0.03947755772983183,
          "x3": -4.165777974998924,
          "y": 1
         },
         {
          "x1": -3.523905220969789,
          "x2": 1.8245413926511986,
          "x3": 8.44364465571643,
          "y": 2
         },
         {
          "x1": -7.392101369166207,
          "x2": 2.286831841197933,
          "x3": 6.653626718866634,
          "y": 2
         },
         {
          "x1": -9.233339325943623,
          "x2": -0.7444566202941508,
          "x3": -4.494922231969056,
          "y": 1
         },
         {
          "x1": -1.5586726334789978,
          "x2": 0.9853805332219299,
          "x3": 14.562908297231633,
          "y": 2
         },
         {
          "x1": -10.185063068009159,
          "x2": -0.6979994696041796,
          "x3": -4.400905535547939,
          "y": 1
         },
         {
          "x1": -10.652474538037024,
          "x2": 0.02605668648410306,
          "x3": -2.9411932050538456,
          "y": 1
         },
         {
          "x1": -2.777170829040492,
          "x2": 6.442922240062308,
          "x3": 10.951456742544645,
          "y": 2
         },
         {
          "x1": -6.699646602626476,
          "x2": 8.856514711661895,
          "x3": 7.577235843481173,
          "y": 2
         },
         {
          "x1": -8.504689469774878,
          "x2": 7.632042089191176,
          "x3": 7.40385315698688,
          "y": 2
         },
         {
          "x1": -10.257878819560531,
          "x2": -0.5541106636859771,
          "x3": -4.641618038710653,
          "y": 1
         },
         {
          "x1": -34.93427093247057,
          "x2": -1.3645100498426892,
          "x3": -8.735384130185999,
          "y": 1
         },
         {
          "x1": -0.9584341306835924,
          "x2": 5.493872250974742,
          "x3": 12.57890959417769,
          "y": 2
         },
         {
          "x1": -9.538610228597538,
          "x2": 4.699839481852084,
          "x3": 8.893206796654658,
          "y": 2
         },
         {
          "x1": -8.858458660763675,
          "x2": -0.15133797732557502,
          "x3": -4.510941945971533,
          "y": 1
         },
         {
          "x1": -6.16804594354643,
          "x2": 1.9958335017592677,
          "x3": 9.335125441621553,
          "y": 2
         },
         {
          "x1": -9.455444131104468,
          "x2": 0.5996847006194286,
          "x3": -3.9153752876591272,
          "y": 1
         },
         {
          "x1": -2.0127349271093298,
          "x2": 3.6127422464736423,
          "x3": 11.378125294024896,
          "y": 2
         },
         {
          "x1": -3.9472166233149317,
          "x2": 0.343737101016659,
          "x3": 7.3888260411685955,
          "y": 2
         },
         {
          "x1": -2.175332760692317,
          "x2": 0.6726347651015718,
          "x3": 8.546533768030239,
          "y": 2
         },
         {
          "x1": -9.480923050117637,
          "x2": -0.009228184329951983,
          "x3": -3.5289110887500597,
          "y": 1
         },
         {
          "x1": -10.223995460012189,
          "x2": -0.45418830069847627,
          "x3": -3.0790464025012834,
          "y": 1
         },
         {
          "x1": -9.800481337107762,
          "x2": 4.114787001168453,
          "x3": 4.525537986547376,
          "y": 2
         },
         {
          "x1": -5.310936044052521,
          "x2": 8.019299014587261,
          "x3": 12.134002061403343,
          "y": 2
         },
         {
          "x1": -9.824320395164206,
          "x2": 7.575256596285497,
          "x3": 18.264121434633427,
          "y": 2
         },
         {
          "x1": -11.620269295187555,
          "x2": -1.3041138564332646,
          "x3": -3.2793829339199188,
          "y": 1
         },
         {
          "x1": -9.773189996989114,
          "x2": 0.8643081904596059,
          "x3": -4.720278229801039,
          "y": 1
         },
         {
          "x1": -7.879832245988372,
          "x2": 5.474509529734333,
          "x3": 8.789836060028401,
          "y": 2
         },
         {
          "x1": -9.09821767782895,
          "x2": -0.5458679909518974,
          "x3": -3.241535556697647,
          "y": 1
         },
         {
          "x1": -7.151785287341292,
          "x2": 10.332856846865514,
          "x3": 4.499974533922886,
          "y": 2
         },
         {
          "x1": -4.397671357225994,
          "x2": 5.505688980923071,
          "x3": 6.98945770897453,
          "y": 2
         },
         {
          "x1": -9.849097113445996,
          "x2": -0.6261380477954699,
          "x3": -4.161492660918013,
          "y": 1
         },
         {
          "x1": -5.755261960189453,
          "x2": 8.93653376872063,
          "x3": 5.4197714439107765,
          "y": 2
         },
         {
          "x1": -7.591270629660748,
          "x2": -2.5112501478209386,
          "x3": -4.03483676944416,
          "y": 1
         },
         {
          "x1": -9.954072160157098,
          "x2": -0.8757137840369797,
          "x3": -4.756710235262591,
          "y": 1
         },
         {
          "x1": -8.090757444872523,
          "x2": 5.891107312474228,
          "x3": 10.744131890345978,
          "y": 2
         },
         {
          "x1": -9.017797158685392,
          "x2": 0.15534084090073452,
          "x3": -3.8171841068425953,
          "y": 1
         },
         {
          "x1": -11.549854763458278,
          "x2": -1.027655100465822,
          "x3": -4.713214179808388,
          "y": 1
         },
         {
          "x1": -9.180582850161091,
          "x2": -0.7165000996967773,
          "x3": -4.7517247285667095,
          "y": 1
         },
         {
          "x1": -8.99697213281832,
          "x2": 8.652669390887128,
          "x3": 8.661619159598029,
          "y": 2
         },
         {
          "x1": -9.234964989582107,
          "x2": 2.3757079235002228,
          "x3": -4.293567524332835,
          "y": 1
         },
         {
          "x1": -6.578641910616497,
          "x2": 5.371418425434233,
          "x3": 9.817690683175979,
          "y": 2
         },
         {
          "x1": -2.6981850255818727,
          "x2": 7.774744196814416,
          "x3": 11.18528854500637,
          "y": 2
         },
         {
          "x1": -11.381614038458622,
          "x2": 0.7927189073503246,
          "x3": -4.8385360867201435,
          "y": 1
         },
         {
          "x1": -2.4328463300522665,
          "x2": 2.0503809942785822,
          "x3": 12.80911535562566,
          "y": 2
         },
         {
          "x1": -9.262089881176003,
          "x2": -0.20726539227890742,
          "x3": -3.2481462442078843,
          "y": 1
         }
        ]
       },
       "encoding": {
        "color": {
         "field": "y",
         "type": "nominal"
        },
        "x": {
         "field": "x1",
         "type": "quantitative"
        },
        "y": {
         "field": "x2",
         "type": "quantitative"
        }
       },
       "mark": "point"
      },
      "image/png": "[encoded data removed]",
      "image/svg+xml": [
       "<?xml version=\"1.0\" encoding=\"utf-8\"?>\n",
       "<!DOCTYPE svg PUBLIC \"-//W3C//DTD SVG 1.1//EN\" \"http://www.w3.org/Graphics/SVG/1.1/DTD/svg11.dtd\">\n",
       "<svg xmlns=\"http://www.w3.org/2000/svg\" xmlns:xlink=\"http://www.w3.org/1999/xlink\" version=\"1.1\" class=\"marks\" width=\"281\" height=\"243\" viewBox=\"0 0 281 243\"><rect width=\"281\" height=\"243\" fill=\"white\"/><g fill=\"none\" stroke-miterlimit=\"10\" transform=\"translate(37,6)\"><g class=\"mark-group role-frame root\" role=\"graphics-object\" aria-roledescription=\"group mark container\"><g transform=\"translate(0,0)\"><path class=\"background\" aria-hidden=\"true\" d=\"M0.5,0.5h200v200h-200Z\" stroke=\"#ddd\"/><g><g class=\"mark-group role-axis\" aria-hidden=\"true\"><g transform=\"translate(0.5,200.5)\"><path class=\"background\" aria-hidden=\"true\" d=\"M0,0h0v0h0Z\" pointer-events=\"none\"/><g><g class=\"mark-rule role-axis-grid\" pointer-events=\"none\"><line transform=\"translate(25,-200)\" x2=\"0\" y2=\"200\" stroke=\"#ddd\" stroke-width=\"1\" opacity=\"1\"/><line transform=\"translate(75,-200)\" x2=\"0\" y2=\"200\" stroke=\"#ddd\" stroke-width=\"1\" opacity=\"1\"/><line transform=\"translate(125,-200)\" x2=\"0\" y2=\"200\" stroke=\"#ddd\" stroke-width=\"1\" opacity=\"1\"/><line transform=\"translate(175,-200)\" x2=\"0\" y2=\"200\" stroke=\"#ddd\" stroke-width=\"1\" opacity=\"1\"/></g></g><path class=\"foreground\" aria-hidden=\"true\" d=\"\" pointer-events=\"none\" display=\"none\"/></g></g><g class=\"mark-group role-axis\" aria-hidden=\"true\"><g transform=\"translate(0.5,0.5)\"><path class=\"background\" aria-hidden=\"true\" d=\"M0,0h0v0h0Z\" pointer-events=\"none\"/><g><g class=\"mark-rule role-axis-grid\" pointer-events=\"none\"><line transform=\"translate(0,150)\" x2=\"200\" y2=\"0\" stroke=\"#ddd\" stroke-width=\"1\" opacity=\"1\"/><line transform=\"translate(0,88)\" x2=\"200\" y2=\"0\" stroke=\"#ddd\" stroke-width=\"1\" opacity=\"1\"/><line transform=\"translate(0,25)\" x2=\"200\" y2=\"0\" stroke=\"#ddd\" stroke-width=\"1\" opacity=\"1\"/></g></g><path class=\"foreground\" aria-hidden=\"true\" d=\"\" pointer-events=\"none\" display=\"none\"/></g></g><g class=\"mark-group role-axis\" role=\"graphics-symbol\" aria-roledescription=\"axis\" aria-label=\"X-axis titled 'x1' for a linear scale with values from −35 to 5\"><g transform=\"translate(0.5,200.5)\"><path class=\"background\" aria-hidden=\"true\" d=\"M0,0h0v0h0Z\" pointer-events=\"none\"/><g><g class=\"mark-rule role-axis-tick\" pointer-events=\"none\"><line transform=\"translate(25,0)\" x2=\"0\" y2=\"5\" stroke=\"#888\" stroke-width=\"1\" opacity=\"1\"/><line transform=\"translate(75,0)\" x2=\"0\" y2=\"5\" stroke=\"#888\" stroke-width=\"1\" opacity=\"1\"/><line transform=\"translate(125,0)\" x2=\"0\" y2=\"5\" stroke=\"#888\" stroke-width=\"1\" opacity=\"1\"/><line transform=\"translate(175,0)\" x2=\"0\" y2=\"5\" stroke=\"#888\" stroke-width=\"1\" opacity=\"1\"/></g><g class=\"mark-text role-axis-label\" pointer-events=\"none\"><text text-anchor=\"middle\" transform=\"translate(25,15)\" font-family=\"sans-serif\" font-size=\"10px\" fill=\"#000\" opacity=\"1\">−30</text><text text-anchor=\"middle\" transform=\"translate(75,15)\" font-family=\"sans-serif\" font-size=\"10px\" fill=\"#000\" opacity=\"1\">−20</text><text text-anchor=\"middle\" transform=\"translate(125,15)\" font-family=\"sans-serif\" font-size=\"10px\" fill=\"#000\" opacity=\"1\">−10</text><text text-anchor=\"middle\" transform=\"translate(175,15)\" font-family=\"sans-serif\" font-size=\"10px\" fill=\"#000\" opacity=\"1\">0</text></g><g class=\"mark-rule role-axis-domain\" pointer-events=\"none\"><line transform=\"translate(0,0)\" x2=\"200\" y2=\"0\" stroke=\"#888\" stroke-width=\"1\" opacity=\"1\"/></g><g class=\"mark-text role-axis-title\" pointer-events=\"none\"><text text-anchor=\"middle\" transform=\"translate(100,30)\" font-family=\"sans-serif\" font-size=\"11px\" font-weight=\"bold\" fill=\"#000\" opacity=\"1\">x1</text></g></g><path class=\"foreground\" aria-hidden=\"true\" d=\"\" pointer-events=\"none\" display=\"none\"/></g></g><g class=\"mark-group role-axis\" role=\"graphics-symbol\" aria-roledescription=\"axis\" aria-label=\"Y-axis titled 'x2' for a linear scale with values from −4 to 12\"><g transform=\"translate(0.5,0.5)\"><path class=\"background\" aria-hidden=\"true\" d=\"M0,0h0v0h0Z\" pointer-events=\"none\"/><g><g class=\"mark-rule role-axis-tick\" pointer-events=\"none\"><line transform=\"translate(0,150)\" x2=\"-5\" y2=\"0\" stroke=\"#888\" stroke-width=\"1\" opacity=\"1\"/><line transform=\"translate(0,88)\" x2=\"-5\" y2=\"0\" stroke=\"#888\" stroke-width=\"1\" opacity=\"1\"/><line transform=\"translate(0,25)\" x2=\"-5\" y2=\"0\" stroke=\"#888\" stroke-width=\"1\" opacity=\"1\"/></g><g class=\"mark-text role-axis-label\" pointer-events=\"none\"><text text-anchor=\"end\" transform=\"translate(-7,153)\" font-family=\"sans-serif\" font-size=\"10px\" fill=\"#000\" opacity=\"1\">0</text><text text-anchor=\"end\" transform=\"translate(-7,90.5)\" font-family=\"sans-serif\" font-size=\"10px\" fill=\"#000\" opacity=\"1\">5</text><text text-anchor=\"end\" transform=\"translate(-7,28)\" font-family=\"sans-serif\" font-size=\"10px\" fill=\"#000\" opacity=\"1\">10</text></g><g class=\"mark-rule role-axis-domain\" pointer-events=\"none\"><line transform=\"translate(0,200)\" x2=\"0\" y2=\"-200\" stroke=\"#888\" stroke-width=\"1\" opacity=\"1\"/></g><g class=\"mark-text role-axis-title\" pointer-events=\"none\"><text text-anchor=\"middle\" transform=\"translate(-21,100) rotate(-90) translate(0,-2)\" font-family=\"sans-serif\" font-size=\"11px\" font-weight=\"bold\" fill=\"#000\" opacity=\"1\">x2</text></g></g><path class=\"foreground\" aria-hidden=\"true\" d=\"\" pointer-events=\"none\" display=\"none\"/></g></g><g class=\"mark-symbol role-mark marks\" role=\"graphics-object\" aria-roledescription=\"symbol mark container\"><path aria-label=\"x1: −9.21172027668; x2: −1.52741461618; y: 1\" role=\"graphics-symbol\" aria-roledescription=\"point\" transform=\"translate(128.94139861659616,169.0926827022195)\" d=\"M2.7386127875258306,0A2.7386127875258306,2.7386127875258306,0,1,1,-2.7386127875258306,0A2.7386127875258306,2.7386127875258306,0,1,1,2.7386127875258306,0\" stroke=\"#4c78a8\" stroke-width=\"2\" opacity=\"0.7\"/><path aria-label=\"x1: −1.63282787539; x2: 2.56188865498; y: 2\" role=\"graphics-symbol\" aria-roledescription=\"point\" transform=\"translate(166.83586062306097,117.97639181274344)\" d=\"M2.7386127875258306,0A2.7386127875258306,2.7386127875258306,0,1,1,-2.7386127875258306,0A2.7386127875258306,2.7386127875258306,0,1,1,2.7386127875258306,0\" stroke=\"#f58518\" stroke-width=\"2\" opacity=\"0.7\"/><path aria-label=\"x1: −10.1215289737; x2: −0.892975077192; y: 1\" role=\"graphics-symbol\" aria-roledescription=\"point\" transform=\"translate(124.39235513145172,161.16218846489377)\" d=\"M2.7386127875258306,0A2.7386127875258306,2.7386127875258306,0,1,1,-2.7386127875258306,0A2.7386127875258306,2.7386127875258306,0,1,1,2.7386127875258306,0\" stroke=\"#4c78a8\" stroke-width=\"2\" opacity=\"0.7\"/><path aria-label=\"x1: −10.5732748731; x2: 5.27337212575; y: 2\" role=\"graphics-symbol\" aria-roledescription=\"point\" transform=\"translate(122.13362563471404,84.08284842811997)\" d=\"M2.7386127875258306,0A2.7386127875258306,2.7386127875258306,0,1,1,-2.7386127875258306,0A2.7386127875258306,2.7386127875258306,0,1,1,2.7386127875258306,0\" stroke=\"#f58518\" stroke-width=\"2\" opacity=\"0.7\"/><path aria-label=\"x1: −6.5808342063; x2: 4.82162042426; y: 2\" role=\"graphics-symbol\" aria-roledescription=\"point\" transform=\"translate(142.095828968507,89.72974469669035)\" d=\"M2.7386127875258306,0A2.7386127875258306,2.7386127875258306,0,1,1,-2.7386127875258306,0A2.7386127875258306,2.7386127875258306,0,1,1,2.7386127875258306,0\" stroke=\"#f58518\" stroke-width=\"2\" opacity=\"0.7\"/><path aria-label=\"x1: −5.20683208662; x2: 4.75121880985; y: 2\" role=\"graphics-symbol\" aria-roledescription=\"point\" transform=\"translate(148.9658395668967,90.6097648769133)\" d=\"M2.7386127875258306,0A2.7386127875258306,2.7386127875258306,0,1,1,-2.7386127875258306,0A2.7386127875258306,2.7386127875258306,0,1,1,2.7386127875258306,0\" stroke=\"#f58518\" stroke-width=\"2\" opacity=\"0.7\"/><path aria-label=\"x1: −10.0113030481; x2: −0.714631637775; y: 1\" role=\"graphics-symbol\" aria-roledescription=\"point\" transform=\"translate(124.94348475944979,158.9328954721836)\" d=\"M2.7386127875258306,0A2.7386127875258306,2.7386127875258306,0,1,1,-2.7386127875258306,0A2.7386127875258306,2.7386127875258306,0,1,1,2.7386127875258306,0\" stroke=\"#4c78a8\" stroke-width=\"2\" opacity=\"0.7\"/><path aria-label=\"x1: −8.79063822412; x2: −0.00243242183914; y: 1\" role=\"graphics-symbol\" aria-roledescription=\"point\" transform=\"translate(131.04680887940395,150.03040527298927)\" d=\"M2.7386127875258306,0A2.7386127875258306,2.7386127875258306,0,1,1,-2.7386127875258306,0A2.7386127875258306,2.7386127875258306,0,1,1,2.7386127875258306,0\" stroke=\"#4c78a8\" stroke-width=\"2\" opacity=\"0.7\"/><path aria-label=\"x1: −11.2048759275; x2: 0.984455070155; y: 1\" role=\"graphics-symbol\" aria-roledescription=\"point\" transform=\"translate(118.97562036251368,137.69431162306626)\" d=\"M2.7386127875258306,0A2.7386127875258306,2.7386127875258306,0,1,1,-2.7386127875258306,0A2.7386127875258306,2.7386127875258306,0,1,1,2.7386127875258306,0\" stroke=\"#4c78a8\" stroke-width=\"2\" opacity=\"0.7\"/><path aria-label=\"x1: −2.66938431805; x2: 10.3012476779; y: 2\" role=\"graphics-symbol\" aria-roledescription=\"point\" transform=\"translate(161.65307840972787,21.234404026811937)\" d=\"M2.7386127875258306,0A2.7386127875258306,2.7386127875258306,0,1,1,-2.7386127875258306,0A2.7386127875258306,2.7386127875258306,0,1,1,2.7386127875258306,0\" stroke=\"#f58518\" stroke-width=\"2\" opacity=\"0.7\"/><path aria-label=\"x1: −10.9968775249; x2: −0.579472799518; y: 1\" role=\"graphics-symbol\" aria-roledescription=\"point\" transform=\"translate(120.0156123753104,157.24340999397134)\" d=\"M2.7386127875258306,0A2.7386127875258306,2.7386127875258306,0,1,1,-2.7386127875258306,0A2.7386127875258306,2.7386127875258306,0,1,1,2.7386127875258306,0\" stroke=\"#4c78a8\" stroke-width=\"2\" opacity=\"0.7\"/><path aria-label=\"x1: −8.70607522186; x2: −0.658508388379; y: 1\" role=\"graphics-symbol\" aria-roledescription=\"point\" transform=\"translate(131.46962389070683,158.23135485474086)\" d=\"M2.7386127875258306,0A2.7386127875258306,2.7386127875258306,0,1,1,-2.7386127875258306,0A2.7386127875258306,2.7386127875258306,0,1,1,2.7386127875258306,0\" stroke=\"#4c78a8\" stroke-width=\"2\" opacity=\"0.7\"/><path aria-label=\"x1: −8.4383895192; x2: 6.86541956941; y: 2\" role=\"graphics-symbol\" aria-roledescription=\"point\" transform=\"translate(132.8080524039932,64.18225538243121)\" d=\"M2.7386127875258306,0A2.7386127875258306,2.7386127875258306,0,1,1,-2.7386127875258306,0A2.7386127875258306,2.7386127875258306,0,1,1,2.7386127875258306,0\" stroke=\"#f58518\" stroke-width=\"2\" opacity=\"0.7\"/><path aria-label=\"x1: −9.8084424814; x2: 2.44115573134; y: 1\" role=\"graphics-symbol\" aria-roledescription=\"point\" transform=\"translate(125.95778759299468,119.48555335825282)\" d=\"M2.7386127875258306,0A2.7386127875258306,2.7386127875258306,0,1,1,-2.7386127875258306,0A2.7386127875258306,2.7386127875258306,0,1,1,2.7386127875258306,0\" stroke=\"#4c78a8\" stroke-width=\"2\" opacity=\"0.7\"/><path aria-label=\"x1: −5.18753755803; x2: 5.44693582739; y: 2\" role=\"graphics-symbol\" aria-roledescription=\"point\" transform=\"translate(149.06231220984145,81.91330215758745)\" d=\"M2.7386127875258306,0A2.7386127875258306,2.7386127875258306,0,1,1,-2.7386127875258306,0A2.7386127875258306,2.7386127875258306,0,1,1,2.7386127875258306,0\" stroke=\"#f58518\" stroke-width=\"2\" opacity=\"0.7\"/><path aria-label=\"x1: −6.26232733651; x2: 8.18362951003; y: 2\" role=\"graphics-symbol\" aria-roledescription=\"point\" transform=\"translate(143.68836331747013,47.704631124644045)\" d=\"M2.7386127875258306,0A2.7386127875258306,2.7386127875258306,0,1,1,-2.7386127875258306,0A2.7386127875258306,2.7386127875258306,0,1,1,2.7386127875258306,0\" stroke=\"#f58518\" stroke-width=\"2\" opacity=\"0.7\"/><path aria-label=\"x1: −3.01424684677; x2: −2.24357205965; y: 2\" role=\"graphics-symbol\" aria-roledescription=\"point\" transform=\"translate(159.9287657661362,178.04465074562665)\" d=\"M2.7386127875258306,0A2.7386127875258306,2.7386127875258306,0,1,1,-2.7386127875258306,0A2.7386127875258306,2.7386127875258306,0,1,1,2.7386127875258306,0\" stroke=\"#f58518\" stroke-width=\"2\" opacity=\"0.7\"/><path aria-label=\"x1: −10.1824750395; x2: 0.11677058287; y: 1\" role=\"graphics-symbol\" aria-roledescription=\"point\" transform=\"translate(124.08762480229618,148.54036771412873)\" d=\"M2.7386127875258306,0A2.7386127875258306,2.7386127875258306,0,1,1,-2.7386127875258306,0A2.7386127875258306,2.7386127875258306,0,1,1,2.7386127875258306,0\" stroke=\"#4c78a8\" stroke-width=\"2\" opacity=\"0.7\"/><path aria-label=\"x1: −2.48556459255; x2: 7.58901139726; y: 2\" role=\"graphics-symbol\" aria-roledescription=\"point\" transform=\"translate(162.5721770372738,55.13735753419651)\" d=\"M2.7386127875258306,0A2.7386127875258306,2.7386127875258306,0,1,1,-2.7386127875258306,0A2.7386127875258306,2.7386127875258306,0,1,1,2.7386127875258306,0\" stroke=\"#f58518\" stroke-width=\"2\" opacity=\"0.7\"/><path aria-label=\"x1: −0.803742323373; x2: 7.41644436947; y: 2\" role=\"graphics-symbol\" aria-roledescription=\"point\" transform=\"translate(170.98128838313448,57.29444538163189)\" d=\"M2.7386127875258306,0A2.7386127875258306,2.7386127875258306,0,1,1,-2.7386127875258306,0A2.7386127875258306,2.7386127875258306,0,1,1,2.7386127875258306,0\" stroke=\"#f58518\" stroke-width=\"2\" opacity=\"0.7\"/><path aria-label=\"x1: −9.47596249949; x2: −1.35846259909; y: 1\" role=\"graphics-symbol\" aria-roledescription=\"point\" transform=\"translate(127.62018750253598,166.98078248867202)\" d=\"M2.7386127875258306,0A2.7386127875258306,2.7386127875258306,0,1,1,-2.7386127875258306,0A2.7386127875258306,2.7386127875258306,0,1,1,2.7386127875258306,0\" stroke=\"#4c78a8\" stroke-width=\"2\" opacity=\"0.7\"/><path aria-label=\"x1: −3.25999106503; x2: 5.04151462683; y: 2\" role=\"graphics-symbol\" aria-roledescription=\"point\" transform=\"translate(158.70004467484497,86.98106716461984)\" d=\"M2.7386127875258306,0A2.7386127875258306,2.7386127875258306,0,1,1,-2.7386127875258306,0A2.7386127875258306,2.7386127875258306,0,1,1,2.7386127875258306,0\" stroke=\"#f58518\" stroke-width=\"2\" opacity=\"0.7\"/><path aria-label=\"x1: −9.23727700333; x2: 0.149760607287; y: 1\" role=\"graphics-symbol\" aria-roledescription=\"point\" transform=\"translate(128.81361498336665,148.12799240891337)\" d=\"M2.7386127875258306,0A2.7386127875258306,2.7386127875258306,0,1,1,-2.7386127875258306,0A2.7386127875258306,2.7386127875258306,0,1,1,2.7386127875258306,0\" stroke=\"#4c78a8\" stroke-width=\"2\" opacity=\"0.7\"/><path aria-label=\"x1: −5.03408154415; x2: 8.14324418894; y: 2\" role=\"graphics-symbol\" aria-roledescription=\"point\" transform=\"translate(149.8295922792274,48.20944763829136)\" d=\"M2.7386127875258306,0A2.7386127875258306,2.7386127875258306,0,1,1,-2.7386127875258306,0A2.7386127875258306,2.7386127875258306,0,1,1,2.7386127875258306,0\" stroke=\"#f58518\" stroke-width=\"2\" opacity=\"0.7\"/><path aria-label=\"x1: −9.97425483125; x2: −0.460601152481; y: 1\" role=\"graphics-symbol\" aria-roledescription=\"point\" transform=\"translate(125.12872584373127,155.7575144060165)\" d=\"M2.7386127875258306,0A2.7386127875258306,2.7386127875258306,0,1,1,-2.7386127875258306,0A2.7386127875258306,2.7386127875258306,0,1,1,2.7386127875258306,0\" stroke=\"#4c78a8\" stroke-width=\"2\" opacity=\"0.7\"/><path aria-label=\"x1: −5.94550388644; x2: 3.58655477242; y: 2\" role=\"graphics-symbol\" aria-roledescription=\"point\" transform=\"translate(145.2724805678073,105.16806534472214)\" d=\"M2.7386127875258306,0A2.7386127875258306,2.7386127875258306,0,1,1,-2.7386127875258306,0A2.7386127875258306,2.7386127875258306,0,1,1,2.7386127875258306,0\" stroke=\"#f58518\" stroke-width=\"2\" opacity=\"0.7\"/><path aria-label=\"x1: 0.694833550152; x2: 6.26389318381; y: 2\" role=\"graphics-symbol\" aria-roledescription=\"point\" transform=\"translate(178.4741677507578,71.70133520231947)\" d=\"M2.7386127875258306,0A2.7386127875258306,2.7386127875258306,0,1,1,-2.7386127875258306,0A2.7386127875258306,2.7386127875258306,0,1,1,2.7386127875258306,0\" stroke=\"#f58518\" stroke-width=\"2\" opacity=\"0.7\"/><path aria-label=\"x1: −10.5625879176; x2: 1.01058396335; y: 1\" role=\"graphics-symbol\" aria-roledescription=\"point\" transform=\"translate(122.18706041177883,137.36770045813867)\" d=\"M2.7386127875258306,0A2.7386127875258306,2.7386127875258306,0,1,1,-2.7386127875258306,0A2.7386127875258306,2.7386127875258306,0,1,1,2.7386127875258306,0\" stroke=\"#4c78a8\" stroke-width=\"2\" opacity=\"0.7\"/><path aria-label=\"x1: −11.075831948; x2: 0.612349757841; y: 1\" role=\"graphics-symbol\" aria-roledescription=\"point\" transform=\"translate(119.62084026023085,142.3456280269925)\" d=\"M2.7386127875258306,0A2.7386127875258306,2.7386127875258306,0,1,1,-2.7386127875258306,0A2.7386127875258306,2.7386127875258306,0,1,1,2.7386127875258306,0\" stroke=\"#4c78a8\" stroke-width=\"2\" opacity=\"0.7\"/><path aria-label=\"x1: −8.60716280069; x2: −0.776097155558; y: 1\" role=\"graphics-symbol\" aria-roledescription=\"point\" transform=\"translate(131.96418599652674,159.70121444447517)\" d=\"M2.7386127875258306,0A2.7386127875258306,2.7386127875258306,0,1,1,-2.7386127875258306,0A2.7386127875258306,2.7386127875258306,0,1,1,2.7386127875258306,0\" stroke=\"#4c78a8\" stroke-width=\"2\" opacity=\"0.7\"/><path aria-label=\"x1: −9.36613390646; x2: −1.39372216989; y: 1\" role=\"graphics-symbol\" aria-roledescription=\"point\" transform=\"translate(128.16933046770046,167.4215271236147)\" d=\"M2.7386127875258306,0A2.7386127875258306,2.7386127875258306,0,1,1,-2.7386127875258306,0A2.7386127875258306,2.7386127875258306,0,1,1,2.7386127875258306,0\" stroke=\"#4c78a8\" stroke-width=\"2\" opacity=\"0.7\"/><path aria-label=\"x1: −4.0211579575; x2: 7.1489847728; y: 2\" role=\"graphics-symbol\" aria-roledescription=\"point\" transform=\"translate(154.89421021249393,60.63769033995086)\" d=\"M2.7386127875258306,0A2.7386127875258306,2.7386127875258306,0,1,1,-2.7386127875258306,0A2.7386127875258306,2.7386127875258306,0,1,1,2.7386127875258306,0\" stroke=\"#f58518\" stroke-width=\"2\" opacity=\"0.7\"/><path aria-label=\"x1: 1.02249610564; x2: 4.89929609187; y: 2\" role=\"graphics-symbol\" aria-roledescription=\"point\" transform=\"translate(180.1124805282018,88.75879885157485)\" d=\"M2.7386127875258306,0A2.7386127875258306,2.7386127875258306,0,1,1,-2.7386127875258306,0A2.7386127875258306,2.7386127875258306,0,1,1,2.7386127875258306,0\" stroke=\"#f58518\" stroke-width=\"2\" opacity=\"0.7\"/><path aria-label=\"x1: −10.6978636569; x2: −0.804111702594; y: 1\" role=\"graphics-symbol\" aria-roledescription=\"point\" transform=\"translate(121.51068171571322,160.0513962824229)\" d=\"M2.7386127875258306,0A2.7386127875258306,2.7386127875258306,0,1,1,-2.7386127875258306,0A2.7386127875258306,2.7386127875258306,0,1,1,2.7386127875258306,0\" stroke=\"#4c78a8\" stroke-width=\"2\" opacity=\"0.7\"/><path aria-label=\"x1: −8.860323468; x2: −1.30032261907; y: 1\" role=\"graphics-symbol\" aria-roledescription=\"point\" transform=\"translate(130.6983826600164,166.25403273832404)\" d=\"M2.7386127875258306,0A2.7386127875258306,2.7386127875258306,0,1,1,-2.7386127875258306,0A2.7386127875258306,2.7386127875258306,0,1,1,2.7386127875258306,0\" stroke=\"#4c78a8\" stroke-width=\"2\" opacity=\"0.7\"/><path aria-label=\"x1: −11.6137237258; x2: −3.37123117467; y: 1\" role=\"graphics-symbol\" aria-roledescription=\"point\" transform=\"translate(116.93138137114103,192.1403896834262)\" d=\"M2.7386127875258306,0A2.7386127875258306,2.7386127875258306,0,1,1,-2.7386127875258306,0A2.7386127875258306,2.7386127875258306,0,1,1,2.7386127875258306,0\" stroke=\"#4c78a8\" stroke-width=\"2\" opacity=\"0.7\"/><path aria-label=\"x1: −10.6956630364; x2: −0.4823732757; y: 1\" role=\"graphics-symbol\" aria-roledescription=\"point\" transform=\"translate(121.52168481779609,156.02966594625497)\" d=\"M2.7386127875258306,0A2.7386127875258306,2.7386127875258306,0,1,1,-2.7386127875258306,0A2.7386127875258306,2.7386127875258306,0,1,1,2.7386127875258306,0\" stroke=\"#4c78a8\" stroke-width=\"2\" opacity=\"0.7\"/><path aria-label=\"x1: −9.37427204146; x2: 1.08355319317; y: 1\" role=\"graphics-symbol\" aria-roledescription=\"point\" transform=\"translate(128.12863979268613,136.45558508531548)\" d=\"M2.7386127875258306,0A2.7386127875258306,2.7386127875258306,0,1,1,-2.7386127875258306,0A2.7386127875258306,2.7386127875258306,0,1,1,2.7386127875258306,0\" stroke=\"#4c78a8\" stroke-width=\"2\" opacity=\"0.7\"/><path aria-label=\"x1: −7.32958069634; x2: 10.0007330841; y: 2\" role=\"graphics-symbol\" aria-roledescription=\"point\" transform=\"translate(138.35209651829516,24.990836448562238)\" d=\"M2.7386127875258306,0A2.7386127875258306,2.7386127875258306,0,1,1,-2.7386127875258306,0A2.7386127875258306,2.7386127875258306,0,1,1,2.7386127875258306,0\" stroke=\"#f58518\" stroke-width=\"2\" opacity=\"0.7\"/><path aria-label=\"x1: −3.28582649461; x2: 11.6780106989; y: 2\" role=\"graphics-symbol\" aria-roledescription=\"point\" transform=\"translate(158.5708675269637,4.024866263138294)\" d=\"M2.7386127875258306,0A2.7386127875258306,2.7386127875258306,0,1,1,-2.7386127875258306,0A2.7386127875258306,2.7386127875258306,0,1,1,2.7386127875258306,0\" stroke=\"#f58518\" stroke-width=\"2\" opacity=\"0.7\"/><path aria-label=\"x1: −6.71033410125; x2: 6.92075711682; y: 2\" role=\"graphics-symbol\" aria-roledescription=\"point\" transform=\"translate(141.44832949374967,63.490536039729896)\" d=\"M2.7386127875258306,0A2.7386127875258306,2.7386127875258306,0,1,1,-2.7386127875258306,0A2.7386127875258306,2.7386127875258306,0,1,1,2.7386127875258306,0\" stroke=\"#f58518\" stroke-width=\"2\" opacity=\"0.7\"/><path aria-label=\"x1: −8.76882866249; x2: 0.877534442348; y: 1\" role=\"graphics-symbol\" aria-roledescription=\"point\" transform=\"translate(131.15585668752968,139.0308194706538)\" d=\"M2.7386127875258306,0A2.7386127875258306,2.7386127875258306,0,1,1,-2.7386127875258306,0A2.7386127875258306,2.7386127875258306,0,1,1,2.7386127875258306,0\" stroke=\"#4c78a8\" stroke-width=\"2\" opacity=\"0.7\"/><path aria-label=\"x1: −9.64545377329; x2: −1.69838554446; y: 1\" role=\"graphics-symbol\" aria-roledescription=\"point\" transform=\"translate(126.7727311335707,171.2298193056955)\" d=\"M2.7386127875258306,0A2.7386127875258306,2.7386127875258306,0,1,1,-2.7386127875258306,0A2.7386127875258306,2.7386127875258306,0,1,1,2.7386127875258306,0\" stroke=\"#4c78a8\" stroke-width=\"2\" opacity=\"0.7\"/><path aria-label=\"x1: −11.4894644554; x2: −1.74694179264; y: 1\" role=\"graphics-symbol\" aria-roledescription=\"point\" transform=\"translate(117.55267772280553,171.83677240805878)\" d=\"M2.7386127875258306,0A2.7386127875258306,2.7386127875258306,0,1,1,-2.7386127875258306,0A2.7386127875258306,2.7386127875258306,0,1,1,2.7386127875258306,0\" stroke=\"#4c78a8\" stroke-width=\"2\" opacity=\"0.7\"/><path aria-label=\"x1: −9.62485733577; x2: −0.767760297226; y: 1\" role=\"graphics-symbol\" aria-roledescription=\"point\" transform=\"translate(126.87571332114813,159.59700371532492)\" d=\"M2.7386127875258306,0A2.7386127875258306,2.7386127875258306,0,1,1,-2.7386127875258306,0A2.7386127875258306,2.7386127875258306,0,1,1,2.7386127875258306,0\" stroke=\"#4c78a8\" stroke-width=\"2\" opacity=\"0.7\"/><path aria-label=\"x1: −5.33560449166; x2: 5.80721662182; y: 2\" role=\"graphics-symbol\" aria-roledescription=\"point\" transform=\"translate(148.32197754171716,77.40979222720222)\" d=\"M2.7386127875258306,0A2.7386127875258306,2.7386127875258306,0,1,1,-2.7386127875258306,0A2.7386127875258306,2.7386127875258306,0,1,1,2.7386127875258306,0\" stroke=\"#f58518\" stroke-width=\"2\" opacity=\"0.7\"/><path aria-label=\"x1: −6.98875852351; x2: 0.653193927008; y: 2\" role=\"graphics-symbol\" aria-roledescription=\"point\" transform=\"translate(140.05620738243155,141.83507591240155)\" d=\"M2.7386127875258306,0A2.7386127875258306,2.7386127875258306,0,1,1,-2.7386127875258306,0A2.7386127875258306,2.7386127875258306,0,1,1,2.7386127875258306,0\" stroke=\"#f58518\" stroke-width=\"2\" opacity=\"0.7\"/><path aria-label=\"x1: 0.337176981513; x2: 4.70675223123; y: 2\" role=\"graphics-symbol\" aria-roledescription=\"point\" transform=\"translate(176.68588490756434,91.16559710957952)\" d=\"M2.7386127875258306,0A2.7386127875258306,2.7386127875258306,0,1,1,-2.7386127875258306,0A2.7386127875258306,2.7386127875258306,0,1,1,2.7386127875258306,0\" stroke=\"#f58518\" stroke-width=\"2\" opacity=\"0.7\"/><path aria-label=\"x1: −8.90232532301; x2: 0.279748178993; y: 1\" role=\"graphics-symbol\" aria-roledescription=\"point\" transform=\"translate(130.48837338492538,146.5031477625826)\" d=\"M2.7386127875258306,0A2.7386127875258306,2.7386127875258306,0,1,1,-2.7386127875258306,0A2.7386127875258306,2.7386127875258306,0,1,1,2.7386127875258306,0\" stroke=\"#4c78a8\" stroke-width=\"2\" opacity=\"0.7\"/><path aria-label=\"x1: −3.74425300075; x2: 10.7994640257; y: 2\" role=\"graphics-symbol\" aria-roledescription=\"point\" transform=\"translate(156.27873499625233,15.00669967928272)\" d=\"M2.7386127875258306,0A2.7386127875258306,2.7386127875258306,0,1,1,-2.7386127875258306,0A2.7386127875258306,2.7386127875258306,0,1,1,2.7386127875258306,0\" stroke=\"#f58518\" stroke-width=\"2\" opacity=\"0.7\"/><path aria-label=\"x1: −8.24355232124; x2: −0.317569370915; y: 1\" role=\"graphics-symbol\" aria-roledescription=\"point\" transform=\"translate(133.78223839381403,153.9696171364331)\" d=\"M2.7386127875258306,0A2.7386127875258306,2.7386127875258306,0,1,1,-2.7386127875258306,0A2.7386127875258306,2.7386127875258306,0,1,1,2.7386127875258306,0\" stroke=\"#4c78a8\" stroke-width=\"2\" opacity=\"0.7\"/><path aria-label=\"x1: −10.7451618359; x2: 1.0733197641; y: 1\" role=\"graphics-symbol\" aria-roledescription=\"point\" transform=\"translate(121.27419082053952,136.58350294872784)\" d=\"M2.7386127875258306,0A2.7386127875258306,2.7386127875258306,0,1,1,-2.7386127875258306,0A2.7386127875258306,2.7386127875258306,0,1,1,2.7386127875258306,0\" stroke=\"#4c78a8\" stroke-width=\"2\" opacity=\"0.7\"/><path aria-label=\"x1: −3.628765289; x2: 4.10973544181; y: 2\" role=\"graphics-symbol\" aria-roledescription=\"point\" transform=\"translate(156.85617355498763,98.62830697740573)\" d=\"M2.7386127875258306,0A2.7386127875258306,2.7386127875258306,0,1,1,-2.7386127875258306,0A2.7386127875258306,2.7386127875258306,0,1,1,2.7386127875258306,0\" stroke=\"#f58518\" stroke-width=\"2\" opacity=\"0.7\"/><path aria-label=\"x1: −3.53661301531; x2: 5.81249334672; y: 2\" role=\"graphics-symbol\" aria-roledescription=\"point\" transform=\"translate(157.31693492345514,77.34383316604887)\" d=\"M2.7386127875258306,0A2.7386127875258306,2.7386127875258306,0,1,1,-2.7386127875258306,0A2.7386127875258306,2.7386127875258306,0,1,1,2.7386127875258306,0\" stroke=\"#f58518\" stroke-width=\"2\" opacity=\"0.7\"/><path aria-label=\"x1: −9.97267709586; x2: 0.0394775577298; y: 1\" role=\"graphics-symbol\" aria-roledescription=\"point\" transform=\"translate(125.13661452070184,149.5065305283771)\" d=\"M2.7386127875258306,0A2.7386127875258306,2.7386127875258306,0,1,1,-2.7386127875258306,0A2.7386127875258306,2.7386127875258306,0,1,1,2.7386127875258306,0\" stroke=\"#4c78a8\" stroke-width=\"2\" opacity=\"0.7\"/><path aria-label=\"x1: −3.52390522097; x2: 1.82454139265; y: 2\" role=\"graphics-symbol\" aria-roledescription=\"point\" transform=\"translate(157.38047389515106,127.19323259186001)\" d=\"M2.7386127875258306,0A2.7386127875258306,2.7386127875258306,0,1,1,-2.7386127875258306,0A2.7386127875258306,2.7386127875258306,0,1,1,2.7386127875258306,0\" stroke=\"#f58518\" stroke-width=\"2\" opacity=\"0.7\"/><path aria-label=\"x1: −7.39210136917; x2: 2.2868318412; y: 2\" role=\"graphics-symbol\" aria-roledescription=\"point\" transform=\"translate(138.03949315416898,121.41460198502583)\" d=\"M2.7386127875258306,0A2.7386127875258306,2.7386127875258306,0,1,1,-2.7386127875258306,0A2.7386127875258306,2.7386127875258306,0,1,1,2.7386127875258306,0\" stroke=\"#f58518\" stroke-width=\"2\" opacity=\"0.7\"/><path aria-label=\"x1: −9.23333932594; x2: −0.744456620294; y: 1\" role=\"graphics-symbol\" aria-roledescription=\"point\" transform=\"translate(128.83330337028187,159.3057077536769)\" d=\"M2.7386127875258306,0A2.7386127875258306,2.7386127875258306,0,1,1,-2.7386127875258306,0A2.7386127875258306,2.7386127875258306,0,1,1,2.7386127875258306,0\" stroke=\"#4c78a8\" stroke-width=\"2\" opacity=\"0.7\"/><path aria-label=\"x1: −1.55867263348; x2: 0.985380533222; y: 2\" role=\"graphics-symbol\" aria-roledescription=\"point\" transform=\"translate(167.20663683260503,137.68274333472587)\" d=\"M2.7386127875258306,0A2.7386127875258306,2.7386127875258306,0,1,1,-2.7386127875258306,0A2.7386127875258306,2.7386127875258306,0,1,1,2.7386127875258306,0\" stroke=\"#f58518\" stroke-width=\"2\" opacity=\"0.7\"/><path aria-label=\"x1: −10.185063068; x2: −0.697999469604; y: 1\" role=\"graphics-symbol\" aria-roledescription=\"point\" transform=\"translate(124.07468465995422,158.72499337005226)\" d=\"M2.7386127875258306,0A2.7386127875258306,2.7386127875258306,0,1,1,-2.7386127875258306,0A2.7386127875258306,2.7386127875258306,0,1,1,2.7386127875258306,0\" stroke=\"#4c78a8\" stroke-width=\"2\" opacity=\"0.7\"/><path aria-label=\"x1: −10.652474538; x2: 0.0260566864841; y: 1\" role=\"graphics-symbol\" aria-roledescription=\"point\" transform=\"translate(121.73762730981488,149.6742914189487)\" d=\"M2.7386127875258306,0A2.7386127875258306,2.7386127875258306,0,1,1,-2.7386127875258306,0A2.7386127875258306,2.7386127875258306,0,1,1,2.7386127875258306,0\" stroke=\"#4c78a8\" stroke-width=\"2\" opacity=\"0.7\"/><path aria-label=\"x1: −2.77717082904; x2: 6.44292224006; y: 2\" role=\"graphics-symbol\" aria-roledescription=\"point\" transform=\"translate(161.11414585479753,69.46347199922114)\" d=\"M2.7386127875258306,0A2.7386127875258306,2.7386127875258306,0,1,1,-2.7386127875258306,0A2.7386127875258306,2.7386127875258306,0,1,1,2.7386127875258306,0\" stroke=\"#f58518\" stroke-width=\"2\" opacity=\"0.7\"/><path aria-label=\"x1: −6.69964660263; x2: 8.85651471166; y: 2\" role=\"graphics-symbol\" aria-roledescription=\"point\" transform=\"translate(141.50176698686764,39.293566104226315)\" d=\"M2.7386127875258306,0A2.7386127875258306,2.7386127875258306,0,1,1,-2.7386127875258306,0A2.7386127875258306,2.7386127875258306,0,1,1,2.7386127875258306,0\" stroke=\"#f58518\" stroke-width=\"2\" opacity=\"0.7\"/><path aria-label=\"x1: −8.50468946977; x2: 7.63204208919; y: 2\" role=\"graphics-symbol\" aria-roledescription=\"point\" transform=\"translate(132.47655265112562,54.599473885110285)\" d=\"M2.7386127875258306,0A2.7386127875258306,2.7386127875258306,0,1,1,-2.7386127875258306,0A2.7386127875258306,2.7386127875258306,0,1,1,2.7386127875258306,0\" stroke=\"#f58518\" stroke-width=\"2\" opacity=\"0.7\"/><path aria-label=\"x1: −10.2578788196; x2: −0.554110663686; y: 1\" role=\"graphics-symbol\" aria-roledescription=\"point\" transform=\"translate(123.71060590219733,156.9263832960747)\" d=\"M2.7386127875258306,0A2.7386127875258306,2.7386127875258306,0,1,1,-2.7386127875258306,0A2.7386127875258306,2.7386127875258306,0,1,1,2.7386127875258306,0\" stroke=\"#4c78a8\" stroke-width=\"2\" opacity=\"0.7\"/><path aria-label=\"x1: −34.9342709325; x2: −1.36451004984; y: 1\" role=\"graphics-symbol\" aria-roledescription=\"point\" transform=\"translate(0.32864533764715986,167.0563756230336)\" d=\"M2.7386127875258306,0A2.7386127875258306,2.7386127875258306,0,1,1,-2.7386127875258306,0A2.7386127875258306,2.7386127875258306,0,1,1,2.7386127875258306,0\" stroke=\"#4c78a8\" stroke-width=\"2\" opacity=\"0.7\"/><path aria-label=\"x1: −0.958434130684; x2: 5.49387225097; y: 2\" role=\"graphics-symbol\" aria-roledescription=\"point\" transform=\"translate(170.20782934658203,81.32659686281572)\" d=\"M2.7386127875258306,0A2.7386127875258306,2.7386127875258306,0,1,1,-2.7386127875258306,0A2.7386127875258306,2.7386127875258306,0,1,1,2.7386127875258306,0\" stroke=\"#f58518\" stroke-width=\"2\" opacity=\"0.7\"/><path aria-label=\"x1: −9.5386102286; x2: 4.69983948185; y: 2\" role=\"graphics-symbol\" aria-roledescription=\"point\" transform=\"translate(127.3069488570123,91.25200647684895)\" d=\"M2.7386127875258306,0A2.7386127875258306,2.7386127875258306,0,1,1,-2.7386127875258306,0A2.7386127875258306,2.7386127875258306,0,1,1,2.7386127875258306,0\" stroke=\"#f58518\" stroke-width=\"2\" opacity=\"0.7\"/><path aria-label=\"x1: −8.85845866076; x2: −0.151337977326; y: 1\" role=\"graphics-symbol\" aria-roledescription=\"point\" transform=\"translate(130.70770669618165,151.89172471656968)\" d=\"M2.7386127875258306,0A2.7386127875258306,2.7386127875258306,0,1,1,-2.7386127875258306,0A2.7386127875258306,2.7386127875258306,0,1,1,2.7386127875258306,0\" stroke=\"#4c78a8\" stroke-width=\"2\" opacity=\"0.7\"/><path aria-label=\"x1: −6.16804594355; x2: 1.99583350176; y: 2\" role=\"graphics-symbol\" aria-roledescription=\"point\" transform=\"translate(144.15977028226786,125.05208122800914)\" d=\"M2.7386127875258306,0A2.7386127875258306,2.7386127875258306,0,1,1,-2.7386127875258306,0A2.7386127875258306,2.7386127875258306,0,1,1,2.7386127875258306,0\" stroke=\"#f58518\" stroke-width=\"2\" opacity=\"0.7\"/><path aria-label=\"x1: −9.4554441311; x2: 0.599684700619; y: 1\" role=\"graphics-symbol\" aria-roledescription=\"point\" transform=\"translate(127.72277934447767,142.50394124225713)\" d=\"M2.7386127875258306,0A2.7386127875258306,2.7386127875258306,0,1,1,-2.7386127875258306,0A2.7386127875258306,2.7386127875258306,0,1,1,2.7386127875258306,0\" stroke=\"#4c78a8\" stroke-width=\"2\" opacity=\"0.7\"/><path aria-label=\"x1: −2.01273492711; x2: 3.61274224647; y: 2\" role=\"graphics-symbol\" aria-roledescription=\"point\" transform=\"translate(164.93632536445335,104.84072191907947)\" d=\"M2.7386127875258306,0A2.7386127875258306,2.7386127875258306,0,1,1,-2.7386127875258306,0A2.7386127875258306,2.7386127875258306,0,1,1,2.7386127875258306,0\" stroke=\"#f58518\" stroke-width=\"2\" opacity=\"0.7\"/><path aria-label=\"x1: −3.94721662331; x2: 0.343737101017; y: 2\" role=\"graphics-symbol\" aria-roledescription=\"point\" transform=\"translate(155.26391688342534,145.70328623729176)\" d=\"M2.7386127875258306,0A2.7386127875258306,2.7386127875258306,0,1,1,-2.7386127875258306,0A2.7386127875258306,2.7386127875258306,0,1,1,2.7386127875258306,0\" stroke=\"#f58518\" stroke-width=\"2\" opacity=\"0.7\"/><path aria-label=\"x1: −2.17533276069; x2: 0.672634765102; y: 2\" role=\"graphics-symbol\" aria-roledescription=\"point\" transform=\"translate(164.12333619653842,141.59206543623034)\" d=\"M2.7386127875258306,0A2.7386127875258306,2.7386127875258306,0,1,1,-2.7386127875258306,0A2.7386127875258306,2.7386127875258306,0,1,1,2.7386127875258306,0\" stroke=\"#f58518\" stroke-width=\"2\" opacity=\"0.7\"/><path aria-label=\"x1: −9.48092305012; x2: −0.00922818432995; y: 1\" role=\"graphics-symbol\" aria-roledescription=\"point\" transform=\"translate(127.5953847494118,150.1153523041244)\" d=\"M2.7386127875258306,0A2.7386127875258306,2.7386127875258306,0,1,1,-2.7386127875258306,0A2.7386127875258306,2.7386127875258306,0,1,1,2.7386127875258306,0\" stroke=\"#4c78a8\" stroke-width=\"2\" opacity=\"0.7\"/><path aria-label=\"x1: −10.22399546; x2: −0.454188300698; y: 1\" role=\"graphics-symbol\" aria-roledescription=\"point\" transform=\"translate(123.88002269993905,155.67735375873096)\" d=\"M2.7386127875258306,0A2.7386127875258306,2.7386127875258306,0,1,1,-2.7386127875258306,0A2.7386127875258306,2.7386127875258306,0,1,1,2.7386127875258306,0\" stroke=\"#4c78a8\" stroke-width=\"2\" opacity=\"0.7\"/><path aria-label=\"x1: −9.80048133711; x2: 4.11478700117; y: 2\" role=\"graphics-symbol\" aria-roledescription=\"point\" transform=\"translate(125.99759331446118,98.56516248539435)\" d=\"M2.7386127875258306,0A2.7386127875258306,2.7386127875258306,0,1,1,-2.7386127875258306,0A2.7386127875258306,2.7386127875258306,0,1,1,2.7386127875258306,0\" stroke=\"#f58518\" stroke-width=\"2\" opacity=\"0.7\"/><path aria-label=\"x1: −5.31093604405; x2: 8.01929901459; y: 2\" role=\"graphics-symbol\" aria-roledescription=\"point\" transform=\"translate(148.4453197797374,49.75876231765923)\" d=\"M2.7386127875258306,0A2.7386127875258306,2.7386127875258306,0,1,1,-2.7386127875258306,0A2.7386127875258306,2.7386127875258306,0,1,1,2.7386127875258306,0\" stroke=\"#f58518\" stroke-width=\"2\" opacity=\"0.7\"/><path aria-label=\"x1: −9.82432039516; x2: 7.57525659629; y: 2\" role=\"graphics-symbol\" aria-roledescription=\"point\" transform=\"translate(125.87839802417898,55.30929254643129)\" d=\"M2.7386127875258306,0A2.7386127875258306,2.7386127875258306,0,1,1,-2.7386127875258306,0A2.7386127875258306,2.7386127875258306,0,1,1,2.7386127875258306,0\" stroke=\"#f58518\" stroke-width=\"2\" opacity=\"0.7\"/><path aria-label=\"x1: −11.6202692952; x2: −1.30411385643; y: 1\" role=\"graphics-symbol\" aria-roledescription=\"point\" transform=\"translate(116.89865352406224,166.3014232054158)\" d=\"M2.7386127875258306,0A2.7386127875258306,2.7386127875258306,0,1,1,-2.7386127875258306,0A2.7386127875258306,2.7386127875258306,0,1,1,2.7386127875258306,0\" stroke=\"#4c78a8\" stroke-width=\"2\" opacity=\"0.7\"/><path aria-label=\"x1: −9.77318999699; x2: 0.86430819046; y: 1\" role=\"graphics-symbol\" aria-roledescription=\"point\" transform=\"translate(126.13405001505443,139.19614761925493)\" d=\"M2.7386127875258306,0A2.7386127875258306,2.7386127875258306,0,1,1,-2.7386127875258306,0A2.7386127875258306,2.7386127875258306,0,1,1,2.7386127875258306,0\" stroke=\"#4c78a8\" stroke-width=\"2\" opacity=\"0.7\"/><path aria-label=\"x1: −7.87983224599; x2: 5.47450952973; y: 2\" role=\"graphics-symbol\" aria-roledescription=\"point\" transform=\"translate(135.60083877005815,81.56863087832082)\" d=\"M2.7386127875258306,0A2.7386127875258306,2.7386127875258306,0,1,1,-2.7386127875258306,0A2.7386127875258306,2.7386127875258306,0,1,1,2.7386127875258306,0\" stroke=\"#f58518\" stroke-width=\"2\" opacity=\"0.7\"/><path aria-label=\"x1: −9.09821767783; x2: −0.545867990952; y: 1\" role=\"graphics-symbol\" aria-roledescription=\"point\" transform=\"translate(129.50891161085525,156.8233498868987)\" d=\"M2.7386127875258306,0A2.7386127875258306,2.7386127875258306,0,1,1,-2.7386127875258306,0A2.7386127875258306,2.7386127875258306,0,1,1,2.7386127875258306,0\" stroke=\"#4c78a8\" stroke-width=\"2\" opacity=\"0.7\"/><path aria-label=\"x1: −7.15178528734; x2: 10.3328568469; y: 2\" role=\"graphics-symbol\" aria-roledescription=\"point\" transform=\"translate(139.24107356329353,20.839289414181074)\" d=\"M2.7386127875258306,0A2.7386127875258306,2.7386127875258306,0,1,1,-2.7386127875258306,0A2.7386127875258306,2.7386127875258306,0,1,1,2.7386127875258306,0\" stroke=\"#f58518\" stroke-width=\"2\" opacity=\"0.7\"/><path aria-label=\"x1: −4.39767135723; x2: 5.50568898092; y: 2\" role=\"graphics-symbol\" aria-roledescription=\"point\" transform=\"translate(153.01164321387003,81.1788877384616)\" d=\"M2.7386127875258306,0A2.7386127875258306,2.7386127875258306,0,1,1,-2.7386127875258306,0A2.7386127875258306,2.7386127875258306,0,1,1,2.7386127875258306,0\" stroke=\"#f58518\" stroke-width=\"2\" opacity=\"0.7\"/><path aria-label=\"x1: −9.84909711345; x2: −0.626138047795; y: 1\" role=\"graphics-symbol\" aria-roledescription=\"point\" transform=\"translate(125.75451443277001,157.82672559744339)\" d=\"M2.7386127875258306,0A2.7386127875258306,2.7386127875258306,0,1,1,-2.7386127875258306,0A2.7386127875258306,2.7386127875258306,0,1,1,2.7386127875258306,0\" stroke=\"#4c78a8\" stroke-width=\"2\" opacity=\"0.7\"/><path aria-label=\"x1: −5.75526196019; x2: 8.93653376872; y: 2\" role=\"graphics-symbol\" aria-roledescription=\"point\" transform=\"translate(146.22369019905273,38.29332789099213)\" d=\"M2.7386127875258306,0A2.7386127875258306,2.7386127875258306,0,1,1,-2.7386127875258306,0A2.7386127875258306,2.7386127875258306,0,1,1,2.7386127875258306,0\" stroke=\"#f58518\" stroke-width=\"2\" opacity=\"0.7\"/><path aria-label=\"x1: −7.59127062966; x2: −2.51125014782; y: 1\" role=\"graphics-symbol\" aria-roledescription=\"point\" transform=\"translate(137.04364685169625,181.39062684776172)\" d=\"M2.7386127875258306,0A2.7386127875258306,2.7386127875258306,0,1,1,-2.7386127875258306,0A2.7386127875258306,2.7386127875258306,0,1,1,2.7386127875258306,0\" stroke=\"#4c78a8\" stroke-width=\"2\" opacity=\"0.7\"/><path aria-label=\"x1: −9.95407216016; x2: −0.875713784037; y: 1\" role=\"graphics-symbol\" aria-roledescription=\"point\" transform=\"translate(125.22963919921453,160.94642230046225)\" d=\"M2.7386127875258306,0A2.7386127875258306,2.7386127875258306,0,1,1,-2.7386127875258306,0A2.7386127875258306,2.7386127875258306,0,1,1,2.7386127875258306,0\" stroke=\"#4c78a8\" stroke-width=\"2\" opacity=\"0.7\"/><path aria-label=\"x1: −8.09075744487; x2: 5.89110731247; y: 2\" role=\"graphics-symbol\" aria-roledescription=\"point\" transform=\"translate(134.5462127756374,76.36115859407215)\" d=\"M2.7386127875258306,0A2.7386127875258306,2.7386127875258306,0,1,1,-2.7386127875258306,0A2.7386127875258306,2.7386127875258306,0,1,1,2.7386127875258306,0\" stroke=\"#f58518\" stroke-width=\"2\" opacity=\"0.7\"/><path aria-label=\"x1: −9.01779715869; x2: 0.155340840901; y: 1\" role=\"graphics-symbol\" aria-roledescription=\"point\" transform=\"translate(129.91101420657304,148.0582394887408)\" d=\"M2.7386127875258306,0A2.7386127875258306,2.7386127875258306,0,1,1,-2.7386127875258306,0A2.7386127875258306,2.7386127875258306,0,1,1,2.7386127875258306,0\" stroke=\"#4c78a8\" stroke-width=\"2\" opacity=\"0.7\"/><path aria-label=\"x1: −11.5498547635; x2: −1.02765510047; y: 1\" role=\"graphics-symbol\" aria-roledescription=\"point\" transform=\"translate(117.25072618270862,162.84568875582278)\" d=\"M2.7386127875258306,0A2.7386127875258306,2.7386127875258306,0,1,1,-2.7386127875258306,0A2.7386127875258306,2.7386127875258306,0,1,1,2.7386127875258306,0\" stroke=\"#4c78a8\" stroke-width=\"2\" opacity=\"0.7\"/><path aria-label=\"x1: −9.18058285016; x2: −0.716500099697; y: 1\" role=\"graphics-symbol\" aria-roledescription=\"point\" transform=\"translate(129.09708574919455,158.95625124620972)\" d=\"M2.7386127875258306,0A2.7386127875258306,2.7386127875258306,0,1,1,-2.7386127875258306,0A2.7386127875258306,2.7386127875258306,0,1,1,2.7386127875258306,0\" stroke=\"#4c78a8\" stroke-width=\"2\" opacity=\"0.7\"/><path aria-label=\"x1: −8.99697213282; x2: 8.65266939089; y: 2\" role=\"graphics-symbol\" aria-roledescription=\"point\" transform=\"translate(130.0151393359084,41.841632613910896)\" d=\"M2.7386127875258306,0A2.7386127875258306,2.7386127875258306,0,1,1,-2.7386127875258306,0A2.7386127875258306,2.7386127875258306,0,1,1,2.7386127875258306,0\" stroke=\"#f58518\" stroke-width=\"2\" opacity=\"0.7\"/><path aria-label=\"x1: −9.23496498958; x2: 2.3757079235; y: 1\" role=\"graphics-symbol\" aria-roledescription=\"point\" transform=\"translate(128.82517505208946,120.30365095624722)\" d=\"M2.7386127875258306,0A2.7386127875258306,2.7386127875258306,0,1,1,-2.7386127875258306,0A2.7386127875258306,2.7386127875258306,0,1,1,2.7386127875258306,0\" stroke=\"#4c78a8\" stroke-width=\"2\" opacity=\"0.7\"/><path aria-label=\"x1: −6.57864191062; x2: 5.37141842543; y: 2\" role=\"graphics-symbol\" aria-roledescription=\"point\" transform=\"translate(142.10679044691753,82.8572696820721)\" d=\"M2.7386127875258306,0A2.7386127875258306,2.7386127875258306,0,1,1,-2.7386127875258306,0A2.7386127875258306,2.7386127875258306,0,1,1,2.7386127875258306,0\" stroke=\"#f58518\" stroke-width=\"2\" opacity=\"0.7\"/><path aria-label=\"x1: −2.69818502558; x2: 7.77474419681; y: 2\" role=\"graphics-symbol\" aria-roledescription=\"point\" transform=\"translate(161.50907487209065,52.81569753981978)\" d=\"M2.7386127875258306,0A2.7386127875258306,2.7386127875258306,0,1,1,-2.7386127875258306,0A2.7386127875258306,2.7386127875258306,0,1,1,2.7386127875258306,0\" stroke=\"#f58518\" stroke-width=\"2\" opacity=\"0.7\"/><path aria-label=\"x1: −11.3816140385; x2: 0.79271890735; y: 1\" role=\"graphics-symbol\" aria-roledescription=\"point\" transform=\"translate(118.09192980770689,140.09101365812094)\" d=\"M2.7386127875258306,0A2.7386127875258306,2.7386127875258306,0,1,1,-2.7386127875258306,0A2.7386127875258306,2.7386127875258306,0,1,1,2.7386127875258306,0\" stroke=\"#4c78a8\" stroke-width=\"2\" opacity=\"0.7\"/><path aria-label=\"x1: −2.43284633005; x2: 2.05038099428; y: 2\" role=\"graphics-symbol\" aria-roledescription=\"point\" transform=\"translate(162.8357683497387,124.37023757151773)\" d=\"M2.7386127875258306,0A2.7386127875258306,2.7386127875258306,0,1,1,-2.7386127875258306,0A2.7386127875258306,2.7386127875258306,0,1,1,2.7386127875258306,0\" stroke=\"#f58518\" stroke-width=\"2\" opacity=\"0.7\"/><path aria-label=\"x1: −9.26208988118; x2: −0.207265392279; y: 1\" role=\"graphics-symbol\" aria-roledescription=\"point\" transform=\"translate(128.68955059412,152.59081740348634)\" d=\"M2.7386127875258306,0A2.7386127875258306,2.7386127875258306,0,1,1,-2.7386127875258306,0A2.7386127875258306,2.7386127875258306,0,1,1,2.7386127875258306,0\" stroke=\"#4c78a8\" stroke-width=\"2\" opacity=\"0.7\"/></g><g class=\"mark-group role-legend\" role=\"graphics-symbol\" aria-roledescription=\"legend\" aria-label=\"Symbol legend titled 'y' for stroke color with 2 values: 1, 2\"><g transform=\"translate(218,0)\"><path class=\"background\" aria-hidden=\"true\" d=\"M0,0h21v45h-21Z\" pointer-events=\"none\"/><g><g class=\"mark-group role-legend-entry\"><g transform=\"translate(0,16)\"><path class=\"background\" aria-hidden=\"true\" d=\"M0,0h0v0h0Z\" pointer-events=\"none\"/><g><g class=\"mark-group role-scope\" role=\"graphics-object\" aria-roledescription=\"group mark container\"><g transform=\"translate(0,0)\"><path class=\"background\" aria-hidden=\"true\" d=\"M0,0h21v12.5h-21Z\" pointer-events=\"none\" opacity=\"1\"/><g><g class=\"mark-symbol role-legend-symbol\" pointer-events=\"none\"><path transform=\"translate(6,6)\" d=\"M5,0A5,5,0,1,1,-5,0A5,5,0,1,1,5,0\" stroke=\"#4c78a8\" stroke-width=\"1.5\" opacity=\"0.7\"/></g><g class=\"mark-text role-legend-label\" pointer-events=\"none\"><text text-anchor=\"start\" transform=\"translate(16,9)\" font-family=\"sans-serif\" font-size=\"10px\" fill=\"#000\" opacity=\"1\">1</text></g></g><path class=\"foreground\" aria-hidden=\"true\" d=\"\" pointer-events=\"none\" display=\"none\"/></g><g transform=\"translate(0,16)\"><path class=\"background\" aria-hidden=\"true\" d=\"M0,0h21v12.5h-21Z\" pointer-events=\"none\" opacity=\"1\"/><g><g class=\"mark-symbol role-legend-symbol\" pointer-events=\"none\"><path transform=\"translate(6,6)\" d=\"M5,0A5,5,0,1,1,-5,0A5,5,0,1,1,5,0\" stroke=\"#f58518\" stroke-width=\"1.5\" opacity=\"0.7\"/></g><g class=\"mark-text role-legend-label\" pointer-events=\"none\"><text text-anchor=\"start\" transform=\"translate(16,9)\" font-family=\"sans-serif\" font-size=\"10px\" fill=\"#000\" opacity=\"1\">2</text></g></g><path class=\"foreground\" aria-hidden=\"true\" d=\"\" pointer-events=\"none\" display=\"none\"/></g></g></g><path class=\"foreground\" aria-hidden=\"true\" d=\"\" pointer-events=\"none\" display=\"none\"/></g></g><g class=\"mark-text role-legend-title\" pointer-events=\"none\"><text text-anchor=\"start\" transform=\"translate(0,9)\" font-family=\"sans-serif\" font-size=\"11px\" font-weight=\"bold\" fill=\"#000\" opacity=\"1\">y</text></g></g><path class=\"foreground\" aria-hidden=\"true\" d=\"\" pointer-events=\"none\" display=\"none\"/></g></g></g><path class=\"foreground\" aria-hidden=\"true\" d=\"\" display=\"none\"/></g></g></g></svg>\n"
      ],
      "text/plain": [
       "@vlplot(\n",
       "    mark=\"point\",\n",
       "    encoding={\n",
       "        x={\n",
       "            field=\"x1\"\n",
       "        },\n",
       "        y={\n",
       "            field=\"x2\"\n",
       "        },\n",
       "        color={\n",
       "            field=\"y\",\n",
       "            type=\"nominal\"\n",
       "        }\n",
       "    },\n",
       "    data={\n",
       "        values=...\n",
       "    }\n",
       ")"
      ]
     },
     "execution_count": 30,
     "metadata": {},
     "output_type": "execute_result"
    }
   ],
   "source": [
    "using VegaLite\n",
    "dfBlobs |> @vlplot(:point, x=:x1, y=:x2, color = :\"y:n\")"
   ]
  },
  {
   "cell_type": "code",
   "execution_count": 31,
   "id": "0b641532",
   "metadata": {},
   "outputs": [
    {
     "data": {
      "application/vnd.vegalite.v4+json": {
       "data": {
        "values": [
         {
          "x1": -9.211720276680774,
          "x2": -1.5274146161775588,
          "x3": -2.5185433518488933,
          "y": 1
         },
         {
          "x1": -1.6328278753878003,
          "x2": 2.5618886549805246,
          "x3": 8.383288408526433,
          "y": 2
         },
         {
          "x1": -10.121528973709655,
          "x2": -0.8929750771915023,
          "x3": -5.519065351310481,
          "y": 1
         },
         {
          "x1": -10.573274873057192,
          "x2": 5.273372125750401,
          "x3": 9.290025024859304,
          "y": 2
         },
         {
          "x1": -6.580834206298604,
          "x2": 4.821620424264771,
          "x3": 12.03832613967633,
          "y": 2
         },
         {
          "x1": -5.206832086620659,
          "x2": 4.751218809846936,
          "x3": 10.61951861576998,
          "y": 2
         },
         {
          "x1": -10.011303048110042,
          "x2": -0.7146316377746873,
          "x3": -3.575839453933481,
          "y": 1
         },
         {
          "x1": -8.79063822411921,
          "x2": -0.0024324218391426067,
          "x3": -1.8483659485588901,
          "y": 1
         },
         {
          "x1": -11.204875927497264,
          "x2": 0.984455070154699,
          "x3": -3.507759457516764,
          "y": 1
         },
         {
          "x1": -2.6693843180544263,
          "x2": 10.301247677855045,
          "x3": 12.105053594276436,
          "y": 2
         },
         {
          "x1": -10.99687752493792,
          "x2": -0.5794727995177082,
          "x3": -3.953218614629372,
          "y": 1
         },
         {
          "x1": -8.706075221858637,
          "x2": -0.6585083883792666,
          "x3": -5.292603414887328,
          "y": 1
         },
         {
          "x1": -8.438389519201356,
          "x2": 6.865419569405503,
          "x3": 7.643275555905856,
          "y": 2
         },
         {
          "x1": -9.808442481401066,
          "x2": 2.441155731339775,
          "x3": -2.018946424399819,
          "y": 1
         },
         {
          "x1": -5.187537558031711,
          "x2": 5.446935827393004,
          "x3": 8.640034500919331,
          "y": 2
         },
         {
          "x1": -6.262327336505969,
          "x2": 8.183629510028476,
          "x3": 9.966123369683649,
          "y": 2
         },
         {
          "x1": -3.0142468467727603,
          "x2": -2.2435720596501323,
          "x3": 13.11764862762255,
          "y": 2
         },
         {
          "x1": -10.182475039540762,
          "x2": 0.11677058286970265,
          "x3": -4.173580299439318,
          "y": 1
         },
         {
          "x1": -2.485564592545241,
          "x2": 7.589011397264279,
          "x3": 8.313796112468685,
          "y": 2
         },
         {
          "x1": -0.803742323373104,
          "x2": 7.416444369469448,
          "x3": 7.904382846962015,
          "y": 2
         },
         {
          "x1": -9.4759624994928,
          "x2": -1.358462599093763,
          "x3": -2.366828328901479,
          "y": 1
         },
         {
          "x1": -3.2599910650310053,
          "x2": 5.041514626830414,
          "x3": 10.872955004612077,
          "y": 2
         },
         {
          "x1": -9.237277003326668,
          "x2": 0.14976060728693041,
          "x3": -3.840739035704852,
          "y": 1
         },
         {
          "x1": -5.034081544154526,
          "x2": 8.143244188936691,
          "x3": 8.904084390877745,
          "y": 2
         },
         {
          "x1": -9.974254831253745,
          "x2": -0.46060115248131844,
          "x3": -3.5397439940879574,
          "y": 1
         },
         {
          "x1": -5.945503886438537,
          "x2": 3.5865547724222298,
          "x3": 10.165815955320312,
          "y": 2
         },
         {
          "x1": 0.6948335501515537,
          "x2": 6.263893183814441,
          "x3": 10.335778388225474,
          "y": 2
         },
         {
          "x1": -10.562587917644239,
          "x2": 1.0105839633489075,
          "x3": -5.045118935717225,
          "y": 1
         },
         {
          "x1": -11.075831947953828,
          "x2": 0.6123497578405994,
          "x3": -4.353207134166227,
          "y": 1
         },
         {
          "x1": -8.607162800694654,
          "x2": -0.7760971555580145,
          "x3": -2.080982471563103,
          "y": 1
         },
         {
          "x1": -9.366133906459911,
          "x2": -1.3937221698891766,
          "x3": -3.7588241992576124,
          "y": 1
         },
         {
          "x1": -4.021157957501218,
          "x2": 7.1489847728039315,
          "x3": 11.570346376308834,
          "y": 2
         },
         {
          "x1": 1.0224961056403545,
          "x2": 4.899296091874012,
          "x3": 6.782480287377087,
          "y": 2
         },
         {
          "x1": -10.697863656857358,
          "x2": -0.8041117025938332,
          "x3": -4.433548142027535,
          "y": 1
         },
         {
          "x1": -8.860323467996723,
          "x2": -1.3003226190659238,
          "x3": -3.6382814113560435,
          "y": 1
         },
         {
          "x1": -11.613723725771795,
          "x2": -3.3712311746740964,
          "x3": -3.876567908575961,
          "y": 1
         },
         {
          "x1": -10.695663036440784,
          "x2": -0.48237327570039773,
          "x3": -3.209513651973168,
          "y": 1
         },
         {
          "x1": -9.37427204146277,
          "x2": 1.0835531931747617,
          "x3": -5.701425577841434,
          "y": 1
         },
         {
          "x1": -7.329580696340967,
          "x2": 10.000733084115021,
          "x3": 9.202964180223695,
          "y": 2
         },
         {
          "x1": -3.28582649460726,
          "x2": 11.678010698948937,
          "x3": 9.662634098542703,
          "y": 2
         },
         {
          "x1": -6.710334101250063,
          "x2": 6.920757116821608,
          "x3": 11.06155667645609,
          "y": 2
         },
         {
          "x1": -8.768828662494064,
          "x2": 0.8775344423476956,
          "x3": -4.264923998307034,
          "y": 1
         },
         {
          "x1": -9.64545377328586,
          "x2": -1.6983855444556404,
          "x3": -2.632770369234141,
          "y": 1
         },
         {
          "x1": -11.489464455438892,
          "x2": -1.7469417926447022,
          "x3": -2.1775338454942137,
          "y": 1
         },
         {
          "x1": -9.62485733577037,
          "x2": -0.7677602972259929,
          "x3": -3.7800681644044993,
          "y": 1
         },
         {
          "x1": -5.335604491656566,
          "x2": 5.807216621823822,
          "x3": 2.072395531452262,
          "y": 2
         },
         {
          "x1": -6.988758523513686,
          "x2": 0.6531939270078766,
          "x3": 13.131795980616328,
          "y": 2
         },
         {
          "x1": 0.3371769815128651,
          "x2": 4.706752231233638,
          "x3": 7.891226110796659,
          "y": 2
         },
         {
          "x1": -8.902325323014924,
          "x2": 0.2797481789933892,
          "x3": -4.43076032686013,
          "y": 1
         },
         {
          "x1": -3.7442530007495356,
          "x2": 10.799464025657382,
          "x3": 7.316504288764825,
          "y": 2
         },
         {
          "x1": -8.243552321237196,
          "x2": -0.31756937091464876,
          "x3": -3.704237512147535,
          "y": 1
         },
         {
          "x1": -10.745161835892095,
          "x2": 1.0733197641017735,
          "x3": -5.877593698210572,
          "y": 1
         },
         {
          "x1": -3.628765289002469,
          "x2": 4.109735441807542,
          "x3": 9.513702542205348,
          "y": 2
         },
         {
          "x1": -3.5366130153089728,
          "x2": 5.81249334671609,
          "x3": 11.384726535245813,
          "y": 2
         },
         {
          "x1": -9.972677095859634,
          "x2": 0.03947755772983183,
          "x3": -4.165777974998924,
          "y": 1
         },
         {
          "x1": -3.523905220969789,
          "x2": 1.8245413926511986,
          "x3": 8.44364465571643,
          "y": 2
         },
         {
          "x1": -7.392101369166207,
          "x2": 2.286831841197933,
          "x3": 6.653626718866634,
          "y": 2
         },
         {
          "x1": -9.233339325943623,
          "x2": -0.7444566202941508,
          "x3": -4.494922231969056,
          "y": 1
         },
         {
          "x1": -1.5586726334789978,
          "x2": 0.9853805332219299,
          "x3": 14.562908297231633,
          "y": 2
         },
         {
          "x1": -10.185063068009159,
          "x2": -0.6979994696041796,
          "x3": -4.400905535547939,
          "y": 1
         },
         {
          "x1": -10.652474538037024,
          "x2": 0.02605668648410306,
          "x3": -2.9411932050538456,
          "y": 1
         },
         {
          "x1": -2.777170829040492,
          "x2": 6.442922240062308,
          "x3": 10.951456742544645,
          "y": 2
         },
         {
          "x1": -6.699646602626476,
          "x2": 8.856514711661895,
          "x3": 7.577235843481173,
          "y": 2
         },
         {
          "x1": -8.504689469774878,
          "x2": 7.632042089191176,
          "x3": 7.40385315698688,
          "y": 2
         },
         {
          "x1": -10.257878819560531,
          "x2": -0.5541106636859771,
          "x3": -4.641618038710653,
          "y": 1
         },
         {
          "x1": -34.93427093247057,
          "x2": -1.3645100498426892,
          "x3": -8.735384130185999,
          "y": 1
         },
         {
          "x1": -0.9584341306835924,
          "x2": 5.493872250974742,
          "x3": 12.57890959417769,
          "y": 2
         },
         {
          "x1": -9.538610228597538,
          "x2": 4.699839481852084,
          "x3": 8.893206796654658,
          "y": 2
         },
         {
          "x1": -8.858458660763675,
          "x2": -0.15133797732557502,
          "x3": -4.510941945971533,
          "y": 1
         },
         {
          "x1": -6.16804594354643,
          "x2": 1.9958335017592677,
          "x3": 9.335125441621553,
          "y": 2
         },
         {
          "x1": -9.455444131104468,
          "x2": 0.5996847006194286,
          "x3": -3.9153752876591272,
          "y": 1
         },
         {
          "x1": -2.0127349271093298,
          "x2": 3.6127422464736423,
          "x3": 11.378125294024896,
          "y": 2
         },
         {
          "x1": -3.9472166233149317,
          "x2": 0.343737101016659,
          "x3": 7.3888260411685955,
          "y": 2
         },
         {
          "x1": -2.175332760692317,
          "x2": 0.6726347651015718,
          "x3": 8.546533768030239,
          "y": 2
         },
         {
          "x1": -9.480923050117637,
          "x2": -0.009228184329951983,
          "x3": -3.5289110887500597,
          "y": 1
         },
         {
          "x1": -10.223995460012189,
          "x2": -0.45418830069847627,
          "x3": -3.0790464025012834,
          "y": 1
         },
         {
          "x1": -9.800481337107762,
          "x2": 4.114787001168453,
          "x3": 4.525537986547376,
          "y": 2
         },
         {
          "x1": -5.310936044052521,
          "x2": 8.019299014587261,
          "x3": 12.134002061403343,
          "y": 2
         },
         {
          "x1": -9.824320395164206,
          "x2": 7.575256596285497,
          "x3": 18.264121434633427,
          "y": 2
         },
         {
          "x1": -11.620269295187555,
          "x2": -1.3041138564332646,
          "x3": -3.2793829339199188,
          "y": 1
         },
         {
          "x1": -9.773189996989114,
          "x2": 0.8643081904596059,
          "x3": -4.720278229801039,
          "y": 1
         },
         {
          "x1": -7.879832245988372,
          "x2": 5.474509529734333,
          "x3": 8.789836060028401,
          "y": 2
         },
         {
          "x1": -9.09821767782895,
          "x2": -0.5458679909518974,
          "x3": -3.241535556697647,
          "y": 1
         },
         {
          "x1": -7.151785287341292,
          "x2": 10.332856846865514,
          "x3": 4.499974533922886,
          "y": 2
         },
         {
          "x1": -4.397671357225994,
          "x2": 5.505688980923071,
          "x3": 6.98945770897453,
          "y": 2
         },
         {
          "x1": -9.849097113445996,
          "x2": -0.6261380477954699,
          "x3": -4.161492660918013,
          "y": 1
         },
         {
          "x1": -5.755261960189453,
          "x2": 8.93653376872063,
          "x3": 5.4197714439107765,
          "y": 2
         },
         {
          "x1": -7.591270629660748,
          "x2": -2.5112501478209386,
          "x3": -4.03483676944416,
          "y": 1
         },
         {
          "x1": -9.954072160157098,
          "x2": -0.8757137840369797,
          "x3": -4.756710235262591,
          "y": 1
         },
         {
          "x1": -8.090757444872523,
          "x2": 5.891107312474228,
          "x3": 10.744131890345978,
          "y": 2
         },
         {
          "x1": -9.017797158685392,
          "x2": 0.15534084090073452,
          "x3": -3.8171841068425953,
          "y": 1
         },
         {
          "x1": -11.549854763458278,
          "x2": -1.027655100465822,
          "x3": -4.713214179808388,
          "y": 1
         },
         {
          "x1": -9.180582850161091,
          "x2": -0.7165000996967773,
          "x3": -4.7517247285667095,
          "y": 1
         },
         {
          "x1": -8.99697213281832,
          "x2": 8.652669390887128,
          "x3": 8.661619159598029,
          "y": 2
         },
         {
          "x1": -9.234964989582107,
          "x2": 2.3757079235002228,
          "x3": -4.293567524332835,
          "y": 1
         },
         {
          "x1": -6.578641910616497,
          "x2": 5.371418425434233,
          "x3": 9.817690683175979,
          "y": 2
         },
         {
          "x1": -2.6981850255818727,
          "x2": 7.774744196814416,
          "x3": 11.18528854500637,
          "y": 2
         },
         {
          "x1": -11.381614038458622,
          "x2": 0.7927189073503246,
          "x3": -4.8385360867201435,
          "y": 1
         },
         {
          "x1": -2.4328463300522665,
          "x2": 2.0503809942785822,
          "x3": 12.80911535562566,
          "y": 2
         },
         {
          "x1": -9.262089881176003,
          "x2": -0.20726539227890742,
          "x3": -3.2481462442078843,
          "y": 1
         }
        ]
       },
       "encoding": {
        "color": {
         "field": "y",
         "type": "nominal"
        },
        "x": {
         "field": "x1",
         "type": "quantitative"
        },
        "y": {
         "field": "x3",
         "type": "quantitative"
        }
       },
       "mark": "point"
      },
      "image/png": "[encoded data removed]",
      "image/svg+xml": [
       "<?xml version=\"1.0\" encoding=\"utf-8\"?>\n",
       "<!DOCTYPE svg PUBLIC \"-//W3C//DTD SVG 1.1//EN\" \"http://www.w3.org/Graphics/SVG/1.1/DTD/svg11.dtd\">\n",
       "<svg xmlns=\"http://www.w3.org/2000/svg\" xmlns:xlink=\"http://www.w3.org/1999/xlink\" version=\"1.1\" class=\"marks\" width=\"288\" height=\"247\" viewBox=\"0 0 288 247\"><rect width=\"288\" height=\"247\" fill=\"white\"/><g fill=\"none\" stroke-miterlimit=\"10\" transform=\"translate(44,10)\"><g class=\"mark-group role-frame root\" role=\"graphics-object\" aria-roledescription=\"group mark container\"><g transform=\"translate(0,0)\"><path class=\"background\" aria-hidden=\"true\" d=\"M0.5,0.5h200v200h-200Z\" stroke=\"#ddd\"/><g><g class=\"mark-group role-axis\" aria-hidden=\"true\"><g transform=\"translate(0.5,200.5)\"><path class=\"background\" aria-hidden=\"true\" d=\"M0,0h0v0h0Z\" pointer-events=\"none\"/><g><g class=\"mark-rule role-axis-grid\" pointer-events=\"none\"><line transform=\"translate(25,-200)\" x2=\"0\" y2=\"200\" stroke=\"#ddd\" stroke-width=\"1\" opacity=\"1\"/><line transform=\"translate(75,-200)\" x2=\"0\" y2=\"200\" stroke=\"#ddd\" stroke-width=\"1\" opacity=\"1\"/><line transform=\"translate(125,-200)\" x2=\"0\" y2=\"200\" stroke=\"#ddd\" stroke-width=\"1\" opacity=\"1\"/><line transform=\"translate(175,-200)\" x2=\"0\" y2=\"200\" stroke=\"#ddd\" stroke-width=\"1\" opacity=\"1\"/></g></g><path class=\"foreground\" aria-hidden=\"true\" d=\"\" pointer-events=\"none\" display=\"none\"/></g></g><g class=\"mark-group role-axis\" aria-hidden=\"true\"><g transform=\"translate(0.5,0.5)\"><path class=\"background\" aria-hidden=\"true\" d=\"M0,0h0v0h0Z\" pointer-events=\"none\"/><g><g class=\"mark-rule role-axis-grid\" pointer-events=\"none\"><line transform=\"translate(0,200)\" x2=\"200\" y2=\"0\" stroke=\"#ddd\" stroke-width=\"1\" opacity=\"1\"/><line transform=\"translate(0,167)\" x2=\"200\" y2=\"0\" stroke=\"#ddd\" stroke-width=\"1\" opacity=\"1\"/><line transform=\"translate(0,133)\" x2=\"200\" y2=\"0\" stroke=\"#ddd\" stroke-width=\"1\" opacity=\"1\"/><line transform=\"translate(0,100)\" x2=\"200\" y2=\"0\" stroke=\"#ddd\" stroke-width=\"1\" opacity=\"1\"/><line transform=\"translate(0,67)\" x2=\"200\" y2=\"0\" stroke=\"#ddd\" stroke-width=\"1\" opacity=\"1\"/><line transform=\"translate(0,33)\" x2=\"200\" y2=\"0\" stroke=\"#ddd\" stroke-width=\"1\" opacity=\"1\"/><line transform=\"translate(0,0)\" x2=\"200\" y2=\"0\" stroke=\"#ddd\" stroke-width=\"1\" opacity=\"1\"/></g></g><path class=\"foreground\" aria-hidden=\"true\" d=\"\" pointer-events=\"none\" display=\"none\"/></g></g><g class=\"mark-group role-axis\" role=\"graphics-symbol\" aria-roledescription=\"axis\" aria-label=\"X-axis titled 'x1' for a linear scale with values from −35 to 5\"><g transform=\"translate(0.5,200.5)\"><path class=\"background\" aria-hidden=\"true\" d=\"M0,0h0v0h0Z\" pointer-events=\"none\"/><g><g class=\"mark-rule role-axis-tick\" pointer-events=\"none\"><line transform=\"translate(25,0)\" x2=\"0\" y2=\"5\" stroke=\"#888\" stroke-width=\"1\" opacity=\"1\"/><line transform=\"translate(75,0)\" x2=\"0\" y2=\"5\" stroke=\"#888\" stroke-width=\"1\" opacity=\"1\"/><line transform=\"translate(125,0)\" x2=\"0\" y2=\"5\" stroke=\"#888\" stroke-width=\"1\" opacity=\"1\"/><line transform=\"translate(175,0)\" x2=\"0\" y2=\"5\" stroke=\"#888\" stroke-width=\"1\" opacity=\"1\"/></g><g class=\"mark-text role-axis-label\" pointer-events=\"none\"><text text-anchor=\"middle\" transform=\"translate(25,15)\" font-family=\"sans-serif\" font-size=\"10px\" fill=\"#000\" opacity=\"1\">−30</text><text text-anchor=\"middle\" transform=\"translate(75,15)\" font-family=\"sans-serif\" font-size=\"10px\" fill=\"#000\" opacity=\"1\">−20</text><text text-anchor=\"middle\" transform=\"translate(125,15)\" font-family=\"sans-serif\" font-size=\"10px\" fill=\"#000\" opacity=\"1\">−10</text><text text-anchor=\"middle\" transform=\"translate(175,15)\" font-family=\"sans-serif\" font-size=\"10px\" fill=\"#000\" opacity=\"1\">0</text></g><g class=\"mark-rule role-axis-domain\" pointer-events=\"none\"><line transform=\"translate(0,0)\" x2=\"200\" y2=\"0\" stroke=\"#888\" stroke-width=\"1\" opacity=\"1\"/></g><g class=\"mark-text role-axis-title\" pointer-events=\"none\"><text text-anchor=\"middle\" transform=\"translate(100,30)\" font-family=\"sans-serif\" font-size=\"11px\" font-weight=\"bold\" fill=\"#000\" opacity=\"1\">x1</text></g></g><path class=\"foreground\" aria-hidden=\"true\" d=\"\" pointer-events=\"none\" display=\"none\"/></g></g><g class=\"mark-group role-axis\" role=\"graphics-symbol\" aria-roledescription=\"axis\" aria-label=\"Y-axis titled 'x3' for a linear scale with values from −10 to 20\"><g transform=\"translate(0.5,0.5)\"><path class=\"background\" aria-hidden=\"true\" d=\"M0,0h0v0h0Z\" pointer-events=\"none\"/><g><g class=\"mark-rule role-axis-tick\" pointer-events=\"none\"><line transform=\"translate(0,200)\" x2=\"-5\" y2=\"0\" stroke=\"#888\" stroke-width=\"1\" opacity=\"1\"/><line transform=\"translate(0,167)\" x2=\"-5\" y2=\"0\" stroke=\"#888\" stroke-width=\"1\" opacity=\"1\"/><line transform=\"translate(0,133)\" x2=\"-5\" y2=\"0\" stroke=\"#888\" stroke-width=\"1\" opacity=\"1\"/><line transform=\"translate(0,100)\" x2=\"-5\" y2=\"0\" stroke=\"#888\" stroke-width=\"1\" opacity=\"1\"/><line transform=\"translate(0,67)\" x2=\"-5\" y2=\"0\" stroke=\"#888\" stroke-width=\"1\" opacity=\"1\"/><line transform=\"translate(0,33)\" x2=\"-5\" y2=\"0\" stroke=\"#888\" stroke-width=\"1\" opacity=\"1\"/><line transform=\"translate(0,0)\" x2=\"-5\" y2=\"0\" stroke=\"#888\" stroke-width=\"1\" opacity=\"1\"/></g><g class=\"mark-text role-axis-label\" pointer-events=\"none\"><text text-anchor=\"end\" transform=\"translate(-7,203)\" font-family=\"sans-serif\" font-size=\"10px\" fill=\"#000\" opacity=\"1\">−10</text><text text-anchor=\"end\" transform=\"translate(-7,169.66666666666669)\" font-family=\"sans-serif\" font-size=\"10px\" fill=\"#000\" opacity=\"1\">−5</text><text text-anchor=\"end\" transform=\"translate(-7,136.33333333333334)\" font-family=\"sans-serif\" font-size=\"10px\" fill=\"#000\" opacity=\"1\">0</text><text text-anchor=\"end\" transform=\"translate(-7,103)\" font-family=\"sans-serif\" font-size=\"10px\" fill=\"#000\" opacity=\"1\">5</text><text text-anchor=\"end\" transform=\"translate(-7,69.66666666666667)\" font-family=\"sans-serif\" font-size=\"10px\" fill=\"#000\" opacity=\"1\">10</text><text text-anchor=\"end\" transform=\"translate(-7,36.33333333333333)\" font-family=\"sans-serif\" font-size=\"10px\" fill=\"#000\" opacity=\"1\">15</text><text text-anchor=\"end\" transform=\"translate(-7,3)\" font-family=\"sans-serif\" font-size=\"10px\" fill=\"#000\" opacity=\"1\">20</text></g><g class=\"mark-rule role-axis-domain\" pointer-events=\"none\"><line transform=\"translate(0,200)\" x2=\"0\" y2=\"-200\" stroke=\"#888\" stroke-width=\"1\" opacity=\"1\"/></g><g class=\"mark-text role-axis-title\" pointer-events=\"none\"><text text-anchor=\"middle\" transform=\"translate(-28,100) rotate(-90) translate(0,-2)\" font-family=\"sans-serif\" font-size=\"11px\" font-weight=\"bold\" fill=\"#000\" opacity=\"1\">x3</text></g></g><path class=\"foreground\" aria-hidden=\"true\" d=\"\" pointer-events=\"none\" display=\"none\"/></g></g><g class=\"mark-symbol role-mark marks\" role=\"graphics-object\" aria-roledescription=\"symbol mark container\"><path aria-label=\"x1: −9.21172027668; x3: −2.51854335185; y: 1\" role=\"graphics-symbol\" aria-roledescription=\"point\" transform=\"translate(128.94139861659616,150.12362234565927)\" d=\"M2.7386127875258306,0A2.7386127875258306,2.7386127875258306,0,1,1,-2.7386127875258306,0A2.7386127875258306,2.7386127875258306,0,1,1,2.7386127875258306,0\" stroke=\"#4c78a8\" stroke-width=\"2\" opacity=\"0.7\"/><path aria-label=\"x1: −1.63282787539; x3: 8.38328840853; y: 2\" role=\"graphics-symbol\" aria-roledescription=\"point\" transform=\"translate(166.83586062306097,77.44474394315712)\" d=\"M2.7386127875258306,0A2.7386127875258306,2.7386127875258306,0,1,1,-2.7386127875258306,0A2.7386127875258306,2.7386127875258306,0,1,1,2.7386127875258306,0\" stroke=\"#f58518\" stroke-width=\"2\" opacity=\"0.7\"/><path aria-label=\"x1: −10.1215289737; x3: −5.51906535131; y: 1\" role=\"graphics-symbol\" aria-roledescription=\"point\" transform=\"translate(124.39235513145172,170.12710234206986)\" d=\"M2.7386127875258306,0A2.7386127875258306,2.7386127875258306,0,1,1,-2.7386127875258306,0A2.7386127875258306,2.7386127875258306,0,1,1,2.7386127875258306,0\" stroke=\"#4c78a8\" stroke-width=\"2\" opacity=\"0.7\"/><path aria-label=\"x1: −10.5732748731; x3: 9.29002502486; y: 2\" role=\"graphics-symbol\" aria-roledescription=\"point\" transform=\"translate(122.13362563471404,71.39983316760463)\" d=\"M2.7386127875258306,0A2.7386127875258306,2.7386127875258306,0,1,1,-2.7386127875258306,0A2.7386127875258306,2.7386127875258306,0,1,1,2.7386127875258306,0\" stroke=\"#f58518\" stroke-width=\"2\" opacity=\"0.7\"/><path aria-label=\"x1: −6.5808342063; x3: 12.0383261397; y: 2\" role=\"graphics-symbol\" aria-roledescription=\"point\" transform=\"translate(142.095828968507,53.07782573549113)\" d=\"M2.7386127875258306,0A2.7386127875258306,2.7386127875258306,0,1,1,-2.7386127875258306,0A2.7386127875258306,2.7386127875258306,0,1,1,2.7386127875258306,0\" stroke=\"#f58518\" stroke-width=\"2\" opacity=\"0.7\"/><path aria-label=\"x1: −5.20683208662; x3: 10.6195186158; y: 2\" role=\"graphics-symbol\" aria-roledescription=\"point\" transform=\"translate(148.9658395668967,62.53654256153347)\" d=\"M2.7386127875258306,0A2.7386127875258306,2.7386127875258306,0,1,1,-2.7386127875258306,0A2.7386127875258306,2.7386127875258306,0,1,1,2.7386127875258306,0\" stroke=\"#f58518\" stroke-width=\"2\" opacity=\"0.7\"/><path aria-label=\"x1: −10.0113030481; x3: −3.57583945393; y: 1\" role=\"graphics-symbol\" aria-roledescription=\"point\" transform=\"translate(124.94348475944979,157.1722630262232)\" d=\"M2.7386127875258306,0A2.7386127875258306,2.7386127875258306,0,1,1,-2.7386127875258306,0A2.7386127875258306,2.7386127875258306,0,1,1,2.7386127875258306,0\" stroke=\"#4c78a8\" stroke-width=\"2\" opacity=\"0.7\"/><path aria-label=\"x1: −8.79063822412; x3: −1.84836594856; y: 1\" role=\"graphics-symbol\" aria-roledescription=\"point\" transform=\"translate(131.04680887940395,145.6557729903926)\" d=\"M2.7386127875258306,0A2.7386127875258306,2.7386127875258306,0,1,1,-2.7386127875258306,0A2.7386127875258306,2.7386127875258306,0,1,1,2.7386127875258306,0\" stroke=\"#4c78a8\" stroke-width=\"2\" opacity=\"0.7\"/><path aria-label=\"x1: −11.2048759275; x3: −3.50775945752; y: 1\" role=\"graphics-symbol\" aria-roledescription=\"point\" transform=\"translate(118.97562036251368,156.71839638344508)\" d=\"M2.7386127875258306,0A2.7386127875258306,2.7386127875258306,0,1,1,-2.7386127875258306,0A2.7386127875258306,2.7386127875258306,0,1,1,2.7386127875258306,0\" stroke=\"#4c78a8\" stroke-width=\"2\" opacity=\"0.7\"/><path aria-label=\"x1: −2.66938431805; x3: 12.1050535943; y: 2\" role=\"graphics-symbol\" aria-roledescription=\"point\" transform=\"translate(161.65307840972787,52.63297603815711)\" d=\"M2.7386127875258306,0A2.7386127875258306,2.7386127875258306,0,1,1,-2.7386127875258306,0A2.7386127875258306,2.7386127875258306,0,1,1,2.7386127875258306,0\" stroke=\"#f58518\" stroke-width=\"2\" opacity=\"0.7\"/><path aria-label=\"x1: −10.9968775249; x3: −3.95321861463; y: 1\" role=\"graphics-symbol\" aria-roledescription=\"point\" transform=\"translate(120.0156123753104,159.68812409752914)\" d=\"M2.7386127875258306,0A2.7386127875258306,2.7386127875258306,0,1,1,-2.7386127875258306,0A2.7386127875258306,2.7386127875258306,0,1,1,2.7386127875258306,0\" stroke=\"#4c78a8\" stroke-width=\"2\" opacity=\"0.7\"/><path aria-label=\"x1: −8.70607522186; x3: −5.29260341489; y: 1\" role=\"graphics-symbol\" aria-roledescription=\"point\" transform=\"translate(131.46962389070683,168.61735609924887)\" d=\"M2.7386127875258306,0A2.7386127875258306,2.7386127875258306,0,1,1,-2.7386127875258306,0A2.7386127875258306,2.7386127875258306,0,1,1,2.7386127875258306,0\" stroke=\"#4c78a8\" stroke-width=\"2\" opacity=\"0.7\"/><path aria-label=\"x1: −8.4383895192; x3: 7.64327555591; y: 2\" role=\"graphics-symbol\" aria-roledescription=\"point\" transform=\"translate(132.8080524039932,82.37816296062763)\" d=\"M2.7386127875258306,0A2.7386127875258306,2.7386127875258306,0,1,1,-2.7386127875258306,0A2.7386127875258306,2.7386127875258306,0,1,1,2.7386127875258306,0\" stroke=\"#f58518\" stroke-width=\"2\" opacity=\"0.7\"/><path aria-label=\"x1: −9.8084424814; x3: −2.0189464244; y: 1\" role=\"graphics-symbol\" aria-roledescription=\"point\" transform=\"translate(125.95778759299468,146.79297616266544)\" d=\"M2.7386127875258306,0A2.7386127875258306,2.7386127875258306,0,1,1,-2.7386127875258306,0A2.7386127875258306,2.7386127875258306,0,1,1,2.7386127875258306,0\" stroke=\"#4c78a8\" stroke-width=\"2\" opacity=\"0.7\"/><path aria-label=\"x1: −5.18753755803; x3: 8.64003450092; y: 2\" role=\"graphics-symbol\" aria-roledescription=\"point\" transform=\"translate(149.06231220984145,75.73310332720446)\" d=\"M2.7386127875258306,0A2.7386127875258306,2.7386127875258306,0,1,1,-2.7386127875258306,0A2.7386127875258306,2.7386127875258306,0,1,1,2.7386127875258306,0\" stroke=\"#f58518\" stroke-width=\"2\" opacity=\"0.7\"/><path aria-label=\"x1: −6.26232733651; x3: 9.96612336968; y: 2\" role=\"graphics-symbol\" aria-roledescription=\"point\" transform=\"translate(143.68836331747013,66.89251086877566)\" d=\"M2.7386127875258306,0A2.7386127875258306,2.7386127875258306,0,1,1,-2.7386127875258306,0A2.7386127875258306,2.7386127875258306,0,1,1,2.7386127875258306,0\" stroke=\"#f58518\" stroke-width=\"2\" opacity=\"0.7\"/><path aria-label=\"x1: −3.01424684677; x3: 13.1176486276; y: 2\" role=\"graphics-symbol\" aria-roledescription=\"point\" transform=\"translate(159.9287657661362,45.88234248251632)\" d=\"M2.7386127875258306,0A2.7386127875258306,2.7386127875258306,0,1,1,-2.7386127875258306,0A2.7386127875258306,2.7386127875258306,0,1,1,2.7386127875258306,0\" stroke=\"#f58518\" stroke-width=\"2\" opacity=\"0.7\"/><path aria-label=\"x1: −10.1824750395; x3: −4.17358029944; y: 1\" role=\"graphics-symbol\" aria-roledescription=\"point\" transform=\"translate(124.08762480229618,161.1572019962621)\" d=\"M2.7386127875258306,0A2.7386127875258306,2.7386127875258306,0,1,1,-2.7386127875258306,0A2.7386127875258306,2.7386127875258306,0,1,1,2.7386127875258306,0\" stroke=\"#4c78a8\" stroke-width=\"2\" opacity=\"0.7\"/><path aria-label=\"x1: −2.48556459255; x3: 8.31379611247; y: 2\" role=\"graphics-symbol\" aria-roledescription=\"point\" transform=\"translate(162.5721770372738,77.90802591687542)\" d=\"M2.7386127875258306,0A2.7386127875258306,2.7386127875258306,0,1,1,-2.7386127875258306,0A2.7386127875258306,2.7386127875258306,0,1,1,2.7386127875258306,0\" stroke=\"#f58518\" stroke-width=\"2\" opacity=\"0.7\"/><path aria-label=\"x1: −0.803742323373; x3: 7.90438284696; y: 2\" role=\"graphics-symbol\" aria-roledescription=\"point\" transform=\"translate(170.98128838313448,80.6374476869199)\" d=\"M2.7386127875258306,0A2.7386127875258306,2.7386127875258306,0,1,1,-2.7386127875258306,0A2.7386127875258306,2.7386127875258306,0,1,1,2.7386127875258306,0\" stroke=\"#f58518\" stroke-width=\"2\" opacity=\"0.7\"/><path aria-label=\"x1: −9.47596249949; x3: −2.3668283289; y: 1\" role=\"graphics-symbol\" aria-roledescription=\"point\" transform=\"translate(127.62018750253598,149.11218885934318)\" d=\"M2.7386127875258306,0A2.7386127875258306,2.7386127875258306,0,1,1,-2.7386127875258306,0A2.7386127875258306,2.7386127875258306,0,1,1,2.7386127875258306,0\" stroke=\"#4c78a8\" stroke-width=\"2\" opacity=\"0.7\"/><path aria-label=\"x1: −3.25999106503; x3: 10.8729550046; y: 2\" role=\"graphics-symbol\" aria-roledescription=\"point\" transform=\"translate(158.70004467484497,60.846966635919486)\" d=\"M2.7386127875258306,0A2.7386127875258306,2.7386127875258306,0,1,1,-2.7386127875258306,0A2.7386127875258306,2.7386127875258306,0,1,1,2.7386127875258306,0\" stroke=\"#f58518\" stroke-width=\"2\" opacity=\"0.7\"/><path aria-label=\"x1: −9.23727700333; x3: −3.8407390357; y: 1\" role=\"graphics-symbol\" aria-roledescription=\"point\" transform=\"translate(128.81361498336665,158.93826023803234)\" d=\"M2.7386127875258306,0A2.7386127875258306,2.7386127875258306,0,1,1,-2.7386127875258306,0A2.7386127875258306,2.7386127875258306,0,1,1,2.7386127875258306,0\" stroke=\"#4c78a8\" stroke-width=\"2\" opacity=\"0.7\"/><path aria-label=\"x1: −5.03408154415; x3: 8.90408439088; y: 2\" role=\"graphics-symbol\" aria-roledescription=\"point\" transform=\"translate(149.8295922792274,73.9727707274817)\" d=\"M2.7386127875258306,0A2.7386127875258306,2.7386127875258306,0,1,1,-2.7386127875258306,0A2.7386127875258306,2.7386127875258306,0,1,1,2.7386127875258306,0\" stroke=\"#f58518\" stroke-width=\"2\" opacity=\"0.7\"/><path aria-label=\"x1: −9.97425483125; x3: −3.53974399409; y: 1\" role=\"graphics-symbol\" aria-roledescription=\"point\" transform=\"translate(125.12872584373127,156.93162662725305)\" d=\"M2.7386127875258306,0A2.7386127875258306,2.7386127875258306,0,1,1,-2.7386127875258306,0A2.7386127875258306,2.7386127875258306,0,1,1,2.7386127875258306,0\" stroke=\"#4c78a8\" stroke-width=\"2\" opacity=\"0.7\"/><path aria-label=\"x1: −5.94550388644; x3: 10.1658159553; y: 2\" role=\"graphics-symbol\" aria-roledescription=\"point\" transform=\"translate(145.2724805678073,65.56122696453126)\" d=\"M2.7386127875258306,0A2.7386127875258306,2.7386127875258306,0,1,1,-2.7386127875258306,0A2.7386127875258306,2.7386127875258306,0,1,1,2.7386127875258306,0\" stroke=\"#f58518\" stroke-width=\"2\" opacity=\"0.7\"/><path aria-label=\"x1: 0.694833550152; x3: 10.3357783882; y: 2\" role=\"graphics-symbol\" aria-roledescription=\"point\" transform=\"translate(178.4741677507578,64.42814407849684)\" d=\"M2.7386127875258306,0A2.7386127875258306,2.7386127875258306,0,1,1,-2.7386127875258306,0A2.7386127875258306,2.7386127875258306,0,1,1,2.7386127875258306,0\" stroke=\"#f58518\" stroke-width=\"2\" opacity=\"0.7\"/><path aria-label=\"x1: −10.5625879176; x3: −5.04511893572; y: 1\" role=\"graphics-symbol\" aria-roledescription=\"point\" transform=\"translate(122.18706041177883,166.96745957144816)\" d=\"M2.7386127875258306,0A2.7386127875258306,2.7386127875258306,0,1,1,-2.7386127875258306,0A2.7386127875258306,2.7386127875258306,0,1,1,2.7386127875258306,0\" stroke=\"#4c78a8\" stroke-width=\"2\" opacity=\"0.7\"/><path aria-label=\"x1: −11.075831948; x3: −4.35320713417; y: 1\" role=\"graphics-symbol\" aria-roledescription=\"point\" transform=\"translate(119.62084026023085,162.35471422777485)\" d=\"M2.7386127875258306,0A2.7386127875258306,2.7386127875258306,0,1,1,-2.7386127875258306,0A2.7386127875258306,2.7386127875258306,0,1,1,2.7386127875258306,0\" stroke=\"#4c78a8\" stroke-width=\"2\" opacity=\"0.7\"/><path aria-label=\"x1: −8.60716280069; x3: −2.08098247156; y: 1\" role=\"graphics-symbol\" aria-roledescription=\"point\" transform=\"translate(131.96418599652674,147.20654981042068)\" d=\"M2.7386127875258306,0A2.7386127875258306,2.7386127875258306,0,1,1,-2.7386127875258306,0A2.7386127875258306,2.7386127875258306,0,1,1,2.7386127875258306,0\" stroke=\"#4c78a8\" stroke-width=\"2\" opacity=\"0.7\"/><path aria-label=\"x1: −9.36613390646; x3: −3.75882419926; y: 1\" role=\"graphics-symbol\" aria-roledescription=\"point\" transform=\"translate(128.16933046770046,158.39216132838408)\" d=\"M2.7386127875258306,0A2.7386127875258306,2.7386127875258306,0,1,1,-2.7386127875258306,0A2.7386127875258306,2.7386127875258306,0,1,1,2.7386127875258306,0\" stroke=\"#4c78a8\" stroke-width=\"2\" opacity=\"0.7\"/><path aria-label=\"x1: −4.0211579575; x3: 11.5703463763; y: 2\" role=\"graphics-symbol\" aria-roledescription=\"point\" transform=\"translate(154.89421021249393,56.19769082460777)\" d=\"M2.7386127875258306,0A2.7386127875258306,2.7386127875258306,0,1,1,-2.7386127875258306,0A2.7386127875258306,2.7386127875258306,0,1,1,2.7386127875258306,0\" stroke=\"#f58518\" stroke-width=\"2\" opacity=\"0.7\"/><path aria-label=\"x1: 1.02249610564; x3: 6.78248028738; y: 2\" role=\"graphics-symbol\" aria-roledescription=\"point\" transform=\"translate(180.1124805282018,88.11679808415276)\" d=\"M2.7386127875258306,0A2.7386127875258306,2.7386127875258306,0,1,1,-2.7386127875258306,0A2.7386127875258306,2.7386127875258306,0,1,1,2.7386127875258306,0\" stroke=\"#f58518\" stroke-width=\"2\" opacity=\"0.7\"/><path aria-label=\"x1: −10.6978636569; x3: −4.43354814203; y: 1\" role=\"graphics-symbol\" aria-roledescription=\"point\" transform=\"translate(121.51068171571322,162.89032094685024)\" d=\"M2.7386127875258306,0A2.7386127875258306,2.7386127875258306,0,1,1,-2.7386127875258306,0A2.7386127875258306,2.7386127875258306,0,1,1,2.7386127875258306,0\" stroke=\"#4c78a8\" stroke-width=\"2\" opacity=\"0.7\"/><path aria-label=\"x1: −8.860323468; x3: −3.63828141136; y: 1\" role=\"graphics-symbol\" aria-roledescription=\"point\" transform=\"translate(130.6983826600164,157.58854274237362)\" d=\"M2.7386127875258306,0A2.7386127875258306,2.7386127875258306,0,1,1,-2.7386127875258306,0A2.7386127875258306,2.7386127875258306,0,1,1,2.7386127875258306,0\" stroke=\"#4c78a8\" stroke-width=\"2\" opacity=\"0.7\"/><path aria-label=\"x1: −11.6137237258; x3: −3.87656790858; y: 1\" role=\"graphics-symbol\" aria-roledescription=\"point\" transform=\"translate(116.93138137114103,159.1771193905064)\" d=\"M2.7386127875258306,0A2.7386127875258306,2.7386127875258306,0,1,1,-2.7386127875258306,0A2.7386127875258306,2.7386127875258306,0,1,1,2.7386127875258306,0\" stroke=\"#4c78a8\" stroke-width=\"2\" opacity=\"0.7\"/><path aria-label=\"x1: −10.6956630364; x3: −3.20951365197; y: 1\" role=\"graphics-symbol\" aria-roledescription=\"point\" transform=\"translate(121.52168481779609,154.73009101315444)\" d=\"M2.7386127875258306,0A2.7386127875258306,2.7386127875258306,0,1,1,-2.7386127875258306,0A2.7386127875258306,2.7386127875258306,0,1,1,2.7386127875258306,0\" stroke=\"#4c78a8\" stroke-width=\"2\" opacity=\"0.7\"/><path aria-label=\"x1: −9.37427204146; x3: −5.70142557784; y: 1\" role=\"graphics-symbol\" aria-roledescription=\"point\" transform=\"translate(128.12863979268613,171.34283718560957)\" d=\"M2.7386127875258306,0A2.7386127875258306,2.7386127875258306,0,1,1,-2.7386127875258306,0A2.7386127875258306,2.7386127875258306,0,1,1,2.7386127875258306,0\" stroke=\"#4c78a8\" stroke-width=\"2\" opacity=\"0.7\"/><path aria-label=\"x1: −7.32958069634; x3: 9.20296418022; y: 2\" role=\"graphics-symbol\" aria-roledescription=\"point\" transform=\"translate(138.35209651829516,71.9802387985087)\" d=\"M2.7386127875258306,0A2.7386127875258306,2.7386127875258306,0,1,1,-2.7386127875258306,0A2.7386127875258306,2.7386127875258306,0,1,1,2.7386127875258306,0\" stroke=\"#f58518\" stroke-width=\"2\" opacity=\"0.7\"/><path aria-label=\"x1: −3.28582649461; x3: 9.66263409854; y: 2\" role=\"graphics-symbol\" aria-roledescription=\"point\" transform=\"translate(158.5708675269637,68.91577267638198)\" d=\"M2.7386127875258306,0A2.7386127875258306,2.7386127875258306,0,1,1,-2.7386127875258306,0A2.7386127875258306,2.7386127875258306,0,1,1,2.7386127875258306,0\" stroke=\"#f58518\" stroke-width=\"2\" opacity=\"0.7\"/><path aria-label=\"x1: −6.71033410125; x3: 11.0615566765; y: 2\" role=\"graphics-symbol\" aria-roledescription=\"point\" transform=\"translate(141.44832949374967,59.58962215695938)\" d=\"M2.7386127875258306,0A2.7386127875258306,2.7386127875258306,0,1,1,-2.7386127875258306,0A2.7386127875258306,2.7386127875258306,0,1,1,2.7386127875258306,0\" stroke=\"#f58518\" stroke-width=\"2\" opacity=\"0.7\"/><path aria-label=\"x1: −8.76882866249; x3: −4.26492399831; y: 1\" role=\"graphics-symbol\" aria-roledescription=\"point\" transform=\"translate(131.15585668752968,161.76615998871355)\" d=\"M2.7386127875258306,0A2.7386127875258306,2.7386127875258306,0,1,1,-2.7386127875258306,0A2.7386127875258306,2.7386127875258306,0,1,1,2.7386127875258306,0\" stroke=\"#4c78a8\" stroke-width=\"2\" opacity=\"0.7\"/><path aria-label=\"x1: −9.64545377329; x3: −2.63277036923; y: 1\" role=\"graphics-symbol\" aria-roledescription=\"point\" transform=\"translate(126.7727311335707,150.88513579489427)\" d=\"M2.7386127875258306,0A2.7386127875258306,2.7386127875258306,0,1,1,-2.7386127875258306,0A2.7386127875258306,2.7386127875258306,0,1,1,2.7386127875258306,0\" stroke=\"#4c78a8\" stroke-width=\"2\" opacity=\"0.7\"/><path aria-label=\"x1: −11.4894644554; x3: −2.17753384549; y: 1\" role=\"graphics-symbol\" aria-roledescription=\"point\" transform=\"translate(117.55267772280553,147.8502256366281)\" d=\"M2.7386127875258306,0A2.7386127875258306,2.7386127875258306,0,1,1,-2.7386127875258306,0A2.7386127875258306,2.7386127875258306,0,1,1,2.7386127875258306,0\" stroke=\"#4c78a8\" stroke-width=\"2\" opacity=\"0.7\"/><path aria-label=\"x1: −9.62485733577; x3: −3.7800681644; y: 1\" role=\"graphics-symbol\" aria-roledescription=\"point\" transform=\"translate(126.87571332114813,158.53378776269668)\" d=\"M2.7386127875258306,0A2.7386127875258306,2.7386127875258306,0,1,1,-2.7386127875258306,0A2.7386127875258306,2.7386127875258306,0,1,1,2.7386127875258306,0\" stroke=\"#4c78a8\" stroke-width=\"2\" opacity=\"0.7\"/><path aria-label=\"x1: −5.33560449166; x3: 2.07239553145; y: 2\" role=\"graphics-symbol\" aria-roledescription=\"point\" transform=\"translate(148.32197754171716,119.51736312365159)\" d=\"M2.7386127875258306,0A2.7386127875258306,2.7386127875258306,0,1,1,-2.7386127875258306,0A2.7386127875258306,2.7386127875258306,0,1,1,2.7386127875258306,0\" stroke=\"#f58518\" stroke-width=\"2\" opacity=\"0.7\"/><path aria-label=\"x1: −6.98875852351; x3: 13.1317959806; y: 2\" role=\"graphics-symbol\" aria-roledescription=\"point\" transform=\"translate(140.05620738243155,45.788026795891156)\" d=\"M2.7386127875258306,0A2.7386127875258306,2.7386127875258306,0,1,1,-2.7386127875258306,0A2.7386127875258306,2.7386127875258306,0,1,1,2.7386127875258306,0\" stroke=\"#f58518\" stroke-width=\"2\" opacity=\"0.7\"/><path aria-label=\"x1: 0.337176981513; x3: 7.8912261108; y: 2\" role=\"graphics-symbol\" aria-roledescription=\"point\" transform=\"translate(176.68588490756434,80.72515926135561)\" d=\"M2.7386127875258306,0A2.7386127875258306,2.7386127875258306,0,1,1,-2.7386127875258306,0A2.7386127875258306,2.7386127875258306,0,1,1,2.7386127875258306,0\" stroke=\"#f58518\" stroke-width=\"2\" opacity=\"0.7\"/><path aria-label=\"x1: −8.90232532301; x3: −4.43076032686; y: 1\" role=\"graphics-symbol\" aria-roledescription=\"point\" transform=\"translate(130.48837338492538,162.87173551240087)\" d=\"M2.7386127875258306,0A2.7386127875258306,2.7386127875258306,0,1,1,-2.7386127875258306,0A2.7386127875258306,2.7386127875258306,0,1,1,2.7386127875258306,0\" stroke=\"#4c78a8\" stroke-width=\"2\" opacity=\"0.7\"/><path aria-label=\"x1: −3.74425300075; x3: 7.31650428876; y: 2\" role=\"graphics-symbol\" aria-roledescription=\"point\" transform=\"translate(156.27873499625233,84.55663807490117)\" d=\"M2.7386127875258306,0A2.7386127875258306,2.7386127875258306,0,1,1,-2.7386127875258306,0A2.7386127875258306,2.7386127875258306,0,1,1,2.7386127875258306,0\" stroke=\"#f58518\" stroke-width=\"2\" opacity=\"0.7\"/><path aria-label=\"x1: −8.24355232124; x3: −3.70423751215; y: 1\" role=\"graphics-symbol\" aria-roledescription=\"point\" transform=\"translate(133.78223839381403,158.02825008098358)\" d=\"M2.7386127875258306,0A2.7386127875258306,2.7386127875258306,0,1,1,-2.7386127875258306,0A2.7386127875258306,2.7386127875258306,0,1,1,2.7386127875258306,0\" stroke=\"#4c78a8\" stroke-width=\"2\" opacity=\"0.7\"/><path aria-label=\"x1: −10.7451618359; x3: −5.87759369821; y: 1\" role=\"graphics-symbol\" aria-roledescription=\"point\" transform=\"translate(121.27419082053952,172.5172913214038)\" d=\"M2.7386127875258306,0A2.7386127875258306,2.7386127875258306,0,1,1,-2.7386127875258306,0A2.7386127875258306,2.7386127875258306,0,1,1,2.7386127875258306,0\" stroke=\"#4c78a8\" stroke-width=\"2\" opacity=\"0.7\"/><path aria-label=\"x1: −3.628765289; x3: 9.51370254221; y: 2\" role=\"graphics-symbol\" aria-roledescription=\"point\" transform=\"translate(156.85617355498763,69.90864971863103)\" d=\"M2.7386127875258306,0A2.7386127875258306,2.7386127875258306,0,1,1,-2.7386127875258306,0A2.7386127875258306,2.7386127875258306,0,1,1,2.7386127875258306,0\" stroke=\"#f58518\" stroke-width=\"2\" opacity=\"0.7\"/><path aria-label=\"x1: −3.53661301531; x3: 11.3847265352; y: 2\" role=\"graphics-symbol\" aria-roledescription=\"point\" transform=\"translate(157.31693492345514,57.43515643169459)\" d=\"M2.7386127875258306,0A2.7386127875258306,2.7386127875258306,0,1,1,-2.7386127875258306,0A2.7386127875258306,2.7386127875258306,0,1,1,2.7386127875258306,0\" stroke=\"#f58518\" stroke-width=\"2\" opacity=\"0.7\"/><path aria-label=\"x1: −9.97267709586; x3: −4.165777975; y: 1\" role=\"graphics-symbol\" aria-roledescription=\"point\" transform=\"translate(125.13661452070184,161.10518649999284)\" d=\"M2.7386127875258306,0A2.7386127875258306,2.7386127875258306,0,1,1,-2.7386127875258306,0A2.7386127875258306,2.7386127875258306,0,1,1,2.7386127875258306,0\" stroke=\"#4c78a8\" stroke-width=\"2\" opacity=\"0.7\"/><path aria-label=\"x1: −3.52390522097; x3: 8.44364465572; y: 2\" role=\"graphics-symbol\" aria-roledescription=\"point\" transform=\"translate(157.38047389515106,77.04236896189047)\" d=\"M2.7386127875258306,0A2.7386127875258306,2.7386127875258306,0,1,1,-2.7386127875258306,0A2.7386127875258306,2.7386127875258306,0,1,1,2.7386127875258306,0\" stroke=\"#f58518\" stroke-width=\"2\" opacity=\"0.7\"/><path aria-label=\"x1: −7.39210136917; x3: 6.65362671887; y: 2\" role=\"graphics-symbol\" aria-roledescription=\"point\" transform=\"translate(138.03949315416898,88.97582187422243)\" d=\"M2.7386127875258306,0A2.7386127875258306,2.7386127875258306,0,1,1,-2.7386127875258306,0A2.7386127875258306,2.7386127875258306,0,1,1,2.7386127875258306,0\" stroke=\"#f58518\" stroke-width=\"2\" opacity=\"0.7\"/><path aria-label=\"x1: −9.23333932594; x3: −4.49492223197; y: 1\" role=\"graphics-symbol\" aria-roledescription=\"point\" transform=\"translate(128.83330337028187,163.29948154646036)\" d=\"M2.7386127875258306,0A2.7386127875258306,2.7386127875258306,0,1,1,-2.7386127875258306,0A2.7386127875258306,2.7386127875258306,0,1,1,2.7386127875258306,0\" stroke=\"#4c78a8\" stroke-width=\"2\" opacity=\"0.7\"/><path aria-label=\"x1: −1.55867263348; x3: 14.5629082972; y: 2\" role=\"graphics-symbol\" aria-roledescription=\"point\" transform=\"translate(167.20663683260503,36.24727801845577)\" d=\"M2.7386127875258306,0A2.7386127875258306,2.7386127875258306,0,1,1,-2.7386127875258306,0A2.7386127875258306,2.7386127875258306,0,1,1,2.7386127875258306,0\" stroke=\"#f58518\" stroke-width=\"2\" opacity=\"0.7\"/><path aria-label=\"x1: −10.185063068; x3: −4.40090553555; y: 1\" role=\"graphics-symbol\" aria-roledescription=\"point\" transform=\"translate(124.07468465995422,162.6727035703196)\" d=\"M2.7386127875258306,0A2.7386127875258306,2.7386127875258306,0,1,1,-2.7386127875258306,0A2.7386127875258306,2.7386127875258306,0,1,1,2.7386127875258306,0\" stroke=\"#4c78a8\" stroke-width=\"2\" opacity=\"0.7\"/><path aria-label=\"x1: −10.652474538; x3: −2.94119320505; y: 1\" role=\"graphics-symbol\" aria-roledescription=\"point\" transform=\"translate(121.73762730981488,152.9412880336923)\" d=\"M2.7386127875258306,0A2.7386127875258306,2.7386127875258306,0,1,1,-2.7386127875258306,0A2.7386127875258306,2.7386127875258306,0,1,1,2.7386127875258306,0\" stroke=\"#4c78a8\" stroke-width=\"2\" opacity=\"0.7\"/><path aria-label=\"x1: −2.77717082904; x3: 10.9514567425; y: 2\" role=\"graphics-symbol\" aria-roledescription=\"point\" transform=\"translate(161.11414585479753,60.32362171636905)\" d=\"M2.7386127875258306,0A2.7386127875258306,2.7386127875258306,0,1,1,-2.7386127875258306,0A2.7386127875258306,2.7386127875258306,0,1,1,2.7386127875258306,0\" stroke=\"#f58518\" stroke-width=\"2\" opacity=\"0.7\"/><path aria-label=\"x1: −6.69964660263; x3: 7.57723584348; y: 2\" role=\"graphics-symbol\" aria-roledescription=\"point\" transform=\"translate(141.50176698686764,82.8184277101255)\" d=\"M2.7386127875258306,0A2.7386127875258306,2.7386127875258306,0,1,1,-2.7386127875258306,0A2.7386127875258306,2.7386127875258306,0,1,1,2.7386127875258306,0\" stroke=\"#f58518\" stroke-width=\"2\" opacity=\"0.7\"/><path aria-label=\"x1: −8.50468946977; x3: 7.40385315699; y: 2\" role=\"graphics-symbol\" aria-roledescription=\"point\" transform=\"translate(132.47655265112562,83.97431228675414)\" d=\"M2.7386127875258306,0A2.7386127875258306,2.7386127875258306,0,1,1,-2.7386127875258306,0A2.7386127875258306,2.7386127875258306,0,1,1,2.7386127875258306,0\" stroke=\"#f58518\" stroke-width=\"2\" opacity=\"0.7\"/><path aria-label=\"x1: −10.2578788196; x3: −4.64161803871; y: 1\" role=\"graphics-symbol\" aria-roledescription=\"point\" transform=\"translate(123.71060590219733,164.27745359140437)\" d=\"M2.7386127875258306,0A2.7386127875258306,2.7386127875258306,0,1,1,-2.7386127875258306,0A2.7386127875258306,2.7386127875258306,0,1,1,2.7386127875258306,0\" stroke=\"#4c78a8\" stroke-width=\"2\" opacity=\"0.7\"/><path aria-label=\"x1: −34.9342709325; x3: −8.73538413019; y: 1\" role=\"graphics-symbol\" aria-roledescription=\"point\" transform=\"translate(0.32864533764715986,191.56922753457332)\" d=\"M2.7386127875258306,0A2.7386127875258306,2.7386127875258306,0,1,1,-2.7386127875258306,0A2.7386127875258306,2.7386127875258306,0,1,1,2.7386127875258306,0\" stroke=\"#4c78a8\" stroke-width=\"2\" opacity=\"0.7\"/><path aria-label=\"x1: −0.958434130684; x3: 12.5789095942; y: 2\" role=\"graphics-symbol\" aria-roledescription=\"point\" transform=\"translate(170.20782934658203,49.473936038815424)\" d=\"M2.7386127875258306,0A2.7386127875258306,2.7386127875258306,0,1,1,-2.7386127875258306,0A2.7386127875258306,2.7386127875258306,0,1,1,2.7386127875258306,0\" stroke=\"#f58518\" stroke-width=\"2\" opacity=\"0.7\"/><path aria-label=\"x1: −9.5386102286; x3: 8.89320679665; y: 2\" role=\"graphics-symbol\" aria-roledescription=\"point\" transform=\"translate(127.3069488570123,74.04528802230226)\" d=\"M2.7386127875258306,0A2.7386127875258306,2.7386127875258306,0,1,1,-2.7386127875258306,0A2.7386127875258306,2.7386127875258306,0,1,1,2.7386127875258306,0\" stroke=\"#f58518\" stroke-width=\"2\" opacity=\"0.7\"/><path aria-label=\"x1: −8.85845866076; x3: −4.51094194597; y: 1\" role=\"graphics-symbol\" aria-roledescription=\"point\" transform=\"translate(130.70770669618165,163.40627963981024)\" d=\"M2.7386127875258306,0A2.7386127875258306,2.7386127875258306,0,1,1,-2.7386127875258306,0A2.7386127875258306,2.7386127875258306,0,1,1,2.7386127875258306,0\" stroke=\"#4c78a8\" stroke-width=\"2\" opacity=\"0.7\"/><path aria-label=\"x1: −6.16804594355; x3: 9.33512544162; y: 2\" role=\"graphics-symbol\" aria-roledescription=\"point\" transform=\"translate(144.15977028226786,71.09916372252299)\" d=\"M2.7386127875258306,0A2.7386127875258306,2.7386127875258306,0,1,1,-2.7386127875258306,0A2.7386127875258306,2.7386127875258306,0,1,1,2.7386127875258306,0\" stroke=\"#f58518\" stroke-width=\"2\" opacity=\"0.7\"/><path aria-label=\"x1: −9.4554441311; x3: −3.91537528766; y: 1\" role=\"graphics-symbol\" aria-roledescription=\"point\" transform=\"translate(127.72277934447767,159.43583525106084)\" d=\"M2.7386127875258306,0A2.7386127875258306,2.7386127875258306,0,1,1,-2.7386127875258306,0A2.7386127875258306,2.7386127875258306,0,1,1,2.7386127875258306,0\" stroke=\"#4c78a8\" stroke-width=\"2\" opacity=\"0.7\"/><path aria-label=\"x1: −2.01273492711; x3: 11.378125294; y: 2\" role=\"graphics-symbol\" aria-roledescription=\"point\" transform=\"translate(164.93632536445335,57.479164706500676)\" d=\"M2.7386127875258306,0A2.7386127875258306,2.7386127875258306,0,1,1,-2.7386127875258306,0A2.7386127875258306,2.7386127875258306,0,1,1,2.7386127875258306,0\" stroke=\"#f58518\" stroke-width=\"2\" opacity=\"0.7\"/><path aria-label=\"x1: −3.94721662331; x3: 7.38882604117; y: 2\" role=\"graphics-symbol\" aria-roledescription=\"point\" transform=\"translate(155.26391688342534,84.07449305887602)\" d=\"M2.7386127875258306,0A2.7386127875258306,2.7386127875258306,0,1,1,-2.7386127875258306,0A2.7386127875258306,2.7386127875258306,0,1,1,2.7386127875258306,0\" stroke=\"#f58518\" stroke-width=\"2\" opacity=\"0.7\"/><path aria-label=\"x1: −2.17533276069; x3: 8.54653376803; y: 2\" role=\"graphics-symbol\" aria-roledescription=\"point\" transform=\"translate(164.12333619653842,76.35644154646508)\" d=\"M2.7386127875258306,0A2.7386127875258306,2.7386127875258306,0,1,1,-2.7386127875258306,0A2.7386127875258306,2.7386127875258306,0,1,1,2.7386127875258306,0\" stroke=\"#f58518\" stroke-width=\"2\" opacity=\"0.7\"/><path aria-label=\"x1: −9.48092305012; x3: −3.52891108875; y: 1\" role=\"graphics-symbol\" aria-roledescription=\"point\" transform=\"translate(127.5953847494118,156.85940725833373)\" d=\"M2.7386127875258306,0A2.7386127875258306,2.7386127875258306,0,1,1,-2.7386127875258306,0A2.7386127875258306,2.7386127875258306,0,1,1,2.7386127875258306,0\" stroke=\"#4c78a8\" stroke-width=\"2\" opacity=\"0.7\"/><path aria-label=\"x1: −10.22399546; x3: −3.0790464025; y: 1\" role=\"graphics-symbol\" aria-roledescription=\"point\" transform=\"translate(123.88002269993905,153.86030935000855)\" d=\"M2.7386127875258306,0A2.7386127875258306,2.7386127875258306,0,1,1,-2.7386127875258306,0A2.7386127875258306,2.7386127875258306,0,1,1,2.7386127875258306,0\" stroke=\"#4c78a8\" stroke-width=\"2\" opacity=\"0.7\"/><path aria-label=\"x1: −9.80048133711; x3: 4.52553798655; y: 2\" role=\"graphics-symbol\" aria-roledescription=\"point\" transform=\"translate(125.99759331446118,103.16308008968416)\" d=\"M2.7386127875258306,0A2.7386127875258306,2.7386127875258306,0,1,1,-2.7386127875258306,0A2.7386127875258306,2.7386127875258306,0,1,1,2.7386127875258306,0\" stroke=\"#f58518\" stroke-width=\"2\" opacity=\"0.7\"/><path aria-label=\"x1: −5.31093604405; x3: 12.1340020614; y: 2\" role=\"graphics-symbol\" aria-roledescription=\"point\" transform=\"translate(148.4453197797374,52.439986257311034)\" d=\"M2.7386127875258306,0A2.7386127875258306,2.7386127875258306,0,1,1,-2.7386127875258306,0A2.7386127875258306,2.7386127875258306,0,1,1,2.7386127875258306,0\" stroke=\"#f58518\" stroke-width=\"2\" opacity=\"0.7\"/><path aria-label=\"x1: −9.82432039516; x3: 18.2641214346; y: 2\" role=\"graphics-symbol\" aria-roledescription=\"point\" transform=\"translate(125.87839802417898,11.572523769110488)\" d=\"M2.7386127875258306,0A2.7386127875258306,2.7386127875258306,0,1,1,-2.7386127875258306,0A2.7386127875258306,2.7386127875258306,0,1,1,2.7386127875258306,0\" stroke=\"#f58518\" stroke-width=\"2\" opacity=\"0.7\"/><path aria-label=\"x1: −11.6202692952; x3: −3.27938293392; y: 1\" role=\"graphics-symbol\" aria-roledescription=\"point\" transform=\"translate(116.89865352406224,155.1958862261328)\" d=\"M2.7386127875258306,0A2.7386127875258306,2.7386127875258306,0,1,1,-2.7386127875258306,0A2.7386127875258306,2.7386127875258306,0,1,1,2.7386127875258306,0\" stroke=\"#4c78a8\" stroke-width=\"2\" opacity=\"0.7\"/><path aria-label=\"x1: −9.77318999699; x3: −4.7202782298; y: 1\" role=\"graphics-symbol\" aria-roledescription=\"point\" transform=\"translate(126.13405001505443,164.80185486534026)\" d=\"M2.7386127875258306,0A2.7386127875258306,2.7386127875258306,0,1,1,-2.7386127875258306,0A2.7386127875258306,2.7386127875258306,0,1,1,2.7386127875258306,0\" stroke=\"#4c78a8\" stroke-width=\"2\" opacity=\"0.7\"/><path aria-label=\"x1: −7.87983224599; x3: 8.78983606003; y: 2\" role=\"graphics-symbol\" aria-roledescription=\"point\" transform=\"translate(135.60083877005815,74.73442626647733)\" d=\"M2.7386127875258306,0A2.7386127875258306,2.7386127875258306,0,1,1,-2.7386127875258306,0A2.7386127875258306,2.7386127875258306,0,1,1,2.7386127875258306,0\" stroke=\"#f58518\" stroke-width=\"2\" opacity=\"0.7\"/><path aria-label=\"x1: −9.09821767783; x3: −3.2415355567; y: 1\" role=\"graphics-symbol\" aria-roledescription=\"point\" transform=\"translate(129.50891161085525,154.94357037798432)\" d=\"M2.7386127875258306,0A2.7386127875258306,2.7386127875258306,0,1,1,-2.7386127875258306,0A2.7386127875258306,2.7386127875258306,0,1,1,2.7386127875258306,0\" stroke=\"#4c78a8\" stroke-width=\"2\" opacity=\"0.7\"/><path aria-label=\"x1: −7.15178528734; x3: 4.49997453392; y: 2\" role=\"graphics-symbol\" aria-roledescription=\"point\" transform=\"translate(139.24107356329353,103.33350310718075)\" d=\"M2.7386127875258306,0A2.7386127875258306,2.7386127875258306,0,1,1,-2.7386127875258306,0A2.7386127875258306,2.7386127875258306,0,1,1,2.7386127875258306,0\" stroke=\"#f58518\" stroke-width=\"2\" opacity=\"0.7\"/><path aria-label=\"x1: −4.39767135723; x3: 6.98945770897; y: 2\" role=\"graphics-symbol\" aria-roledescription=\"point\" transform=\"translate(153.01164321387003,86.73694860683648)\" d=\"M2.7386127875258306,0A2.7386127875258306,2.7386127875258306,0,1,1,-2.7386127875258306,0A2.7386127875258306,2.7386127875258306,0,1,1,2.7386127875258306,0\" stroke=\"#f58518\" stroke-width=\"2\" opacity=\"0.7\"/><path aria-label=\"x1: −9.84909711345; x3: −4.16149266092; y: 1\" role=\"graphics-symbol\" aria-roledescription=\"point\" transform=\"translate(125.75451443277001,161.0766177394534)\" d=\"M2.7386127875258306,0A2.7386127875258306,2.7386127875258306,0,1,1,-2.7386127875258306,0A2.7386127875258306,2.7386127875258306,0,1,1,2.7386127875258306,0\" stroke=\"#4c78a8\" stroke-width=\"2\" opacity=\"0.7\"/><path aria-label=\"x1: −5.75526196019; x3: 5.41977144391; y: 2\" role=\"graphics-symbol\" aria-roledescription=\"point\" transform=\"translate(146.22369019905273,97.2015237072615)\" d=\"M2.7386127875258306,0A2.7386127875258306,2.7386127875258306,0,1,1,-2.7386127875258306,0A2.7386127875258306,2.7386127875258306,0,1,1,2.7386127875258306,0\" stroke=\"#f58518\" stroke-width=\"2\" opacity=\"0.7\"/><path aria-label=\"x1: −7.59127062966; x3: −4.03483676944; y: 1\" role=\"graphics-symbol\" aria-roledescription=\"point\" transform=\"translate(137.04364685169625,160.23224512962773)\" d=\"M2.7386127875258306,0A2.7386127875258306,2.7386127875258306,0,1,1,-2.7386127875258306,0A2.7386127875258306,2.7386127875258306,0,1,1,2.7386127875258306,0\" stroke=\"#4c78a8\" stroke-width=\"2\" opacity=\"0.7\"/><path aria-label=\"x1: −9.95407216016; x3: −4.75671023526; y: 1\" role=\"graphics-symbol\" aria-roledescription=\"point\" transform=\"translate(125.22963919921453,165.0447349017506)\" d=\"M2.7386127875258306,0A2.7386127875258306,2.7386127875258306,0,1,1,-2.7386127875258306,0A2.7386127875258306,2.7386127875258306,0,1,1,2.7386127875258306,0\" stroke=\"#4c78a8\" stroke-width=\"2\" opacity=\"0.7\"/><path aria-label=\"x1: −8.09075744487; x3: 10.7441318903; y: 2\" role=\"graphics-symbol\" aria-roledescription=\"point\" transform=\"translate(134.5462127756374,61.7057873976935)\" d=\"M2.7386127875258306,0A2.7386127875258306,2.7386127875258306,0,1,1,-2.7386127875258306,0A2.7386127875258306,2.7386127875258306,0,1,1,2.7386127875258306,0\" stroke=\"#f58518\" stroke-width=\"2\" opacity=\"0.7\"/><path aria-label=\"x1: −9.01779715869; x3: −3.81718410684; y: 1\" role=\"graphics-symbol\" aria-roledescription=\"point\" transform=\"translate(129.91101420657304,158.78122737895063)\" d=\"M2.7386127875258306,0A2.7386127875258306,2.7386127875258306,0,1,1,-2.7386127875258306,0A2.7386127875258306,2.7386127875258306,0,1,1,2.7386127875258306,0\" stroke=\"#4c78a8\" stroke-width=\"2\" opacity=\"0.7\"/><path aria-label=\"x1: −11.5498547635; x3: −4.71321417981; y: 1\" role=\"graphics-symbol\" aria-roledescription=\"point\" transform=\"translate(117.25072618270862,164.75476119872258)\" d=\"M2.7386127875258306,0A2.7386127875258306,2.7386127875258306,0,1,1,-2.7386127875258306,0A2.7386127875258306,2.7386127875258306,0,1,1,2.7386127875258306,0\" stroke=\"#4c78a8\" stroke-width=\"2\" opacity=\"0.7\"/><path aria-label=\"x1: −9.18058285016; x3: −4.75172472857; y: 1\" role=\"graphics-symbol\" aria-roledescription=\"point\" transform=\"translate(129.09708574919455,165.01149819044474)\" d=\"M2.7386127875258306,0A2.7386127875258306,2.7386127875258306,0,1,1,-2.7386127875258306,0A2.7386127875258306,2.7386127875258306,0,1,1,2.7386127875258306,0\" stroke=\"#4c78a8\" stroke-width=\"2\" opacity=\"0.7\"/><path aria-label=\"x1: −8.99697213282; x3: 8.6616191596; y: 2\" role=\"graphics-symbol\" aria-roledescription=\"point\" transform=\"translate(130.0151393359084,75.58920560267981)\" d=\"M2.7386127875258306,0A2.7386127875258306,2.7386127875258306,0,1,1,-2.7386127875258306,0A2.7386127875258306,2.7386127875258306,0,1,1,2.7386127875258306,0\" stroke=\"#f58518\" stroke-width=\"2\" opacity=\"0.7\"/><path aria-label=\"x1: −9.23496498958; x3: −4.29356752433; y: 1\" role=\"graphics-symbol\" aria-roledescription=\"point\" transform=\"translate(128.82517505208946,161.95711682888557)\" d=\"M2.7386127875258306,0A2.7386127875258306,2.7386127875258306,0,1,1,-2.7386127875258306,0A2.7386127875258306,2.7386127875258306,0,1,1,2.7386127875258306,0\" stroke=\"#4c78a8\" stroke-width=\"2\" opacity=\"0.7\"/><path aria-label=\"x1: −6.57864191062; x3: 9.81769068318; y: 2\" role=\"graphics-symbol\" aria-roledescription=\"point\" transform=\"translate(142.10679044691753,67.88206211216014)\" d=\"M2.7386127875258306,0A2.7386127875258306,2.7386127875258306,0,1,1,-2.7386127875258306,0A2.7386127875258306,2.7386127875258306,0,1,1,2.7386127875258306,0\" stroke=\"#f58518\" stroke-width=\"2\" opacity=\"0.7\"/><path aria-label=\"x1: −2.69818502558; x3: 11.185288545; y: 2\" role=\"graphics-symbol\" aria-roledescription=\"point\" transform=\"translate(161.50907487209065,58.76474303329084)\" d=\"M2.7386127875258306,0A2.7386127875258306,2.7386127875258306,0,1,1,-2.7386127875258306,0A2.7386127875258306,2.7386127875258306,0,1,1,2.7386127875258306,0\" stroke=\"#f58518\" stroke-width=\"2\" opacity=\"0.7\"/><path aria-label=\"x1: −11.3816140385; x3: −4.83853608672; y: 1\" role=\"graphics-symbol\" aria-roledescription=\"point\" transform=\"translate(118.09192980770689,165.59024057813428)\" d=\"M2.7386127875258306,0A2.7386127875258306,2.7386127875258306,0,1,1,-2.7386127875258306,0A2.7386127875258306,2.7386127875258306,0,1,1,2.7386127875258306,0\" stroke=\"#4c78a8\" stroke-width=\"2\" opacity=\"0.7\"/><path aria-label=\"x1: −2.43284633005; x3: 12.8091153556; y: 2\" role=\"graphics-symbol\" aria-roledescription=\"point\" transform=\"translate(162.8357683497387,47.93923096249559)\" d=\"M2.7386127875258306,0A2.7386127875258306,2.7386127875258306,0,1,1,-2.7386127875258306,0A2.7386127875258306,2.7386127875258306,0,1,1,2.7386127875258306,0\" stroke=\"#f58518\" stroke-width=\"2\" opacity=\"0.7\"/><path aria-label=\"x1: −9.26208988118; x3: −3.24814624421; y: 1\" role=\"graphics-symbol\" aria-roledescription=\"point\" transform=\"translate(128.68955059412,154.98764162805256)\" d=\"M2.7386127875258306,0A2.7386127875258306,2.7386127875258306,0,1,1,-2.7386127875258306,0A2.7386127875258306,2.7386127875258306,0,1,1,2.7386127875258306,0\" stroke=\"#4c78a8\" stroke-width=\"2\" opacity=\"0.7\"/></g><g class=\"mark-group role-legend\" role=\"graphics-symbol\" aria-roledescription=\"legend\" aria-label=\"Symbol legend titled 'y' for stroke color with 2 values: 1, 2\"><g transform=\"translate(218,0)\"><path class=\"background\" aria-hidden=\"true\" d=\"M0,0h21v45h-21Z\" pointer-events=\"none\"/><g><g class=\"mark-group role-legend-entry\"><g transform=\"translate(0,16)\"><path class=\"background\" aria-hidden=\"true\" d=\"M0,0h0v0h0Z\" pointer-events=\"none\"/><g><g class=\"mark-group role-scope\" role=\"graphics-object\" aria-roledescription=\"group mark container\"><g transform=\"translate(0,0)\"><path class=\"background\" aria-hidden=\"true\" d=\"M0,0h21v12.5h-21Z\" pointer-events=\"none\" opacity=\"1\"/><g><g class=\"mark-symbol role-legend-symbol\" pointer-events=\"none\"><path transform=\"translate(6,6)\" d=\"M5,0A5,5,0,1,1,-5,0A5,5,0,1,1,5,0\" stroke=\"#4c78a8\" stroke-width=\"1.5\" opacity=\"0.7\"/></g><g class=\"mark-text role-legend-label\" pointer-events=\"none\"><text text-anchor=\"start\" transform=\"translate(16,9)\" font-family=\"sans-serif\" font-size=\"10px\" fill=\"#000\" opacity=\"1\">1</text></g></g><path class=\"foreground\" aria-hidden=\"true\" d=\"\" pointer-events=\"none\" display=\"none\"/></g><g transform=\"translate(0,16)\"><path class=\"background\" aria-hidden=\"true\" d=\"M0,0h21v12.5h-21Z\" pointer-events=\"none\" opacity=\"1\"/><g><g class=\"mark-symbol role-legend-symbol\" pointer-events=\"none\"><path transform=\"translate(6,6)\" d=\"M5,0A5,5,0,1,1,-5,0A5,5,0,1,1,5,0\" stroke=\"#f58518\" stroke-width=\"1.5\" opacity=\"0.7\"/></g><g class=\"mark-text role-legend-label\" pointer-events=\"none\"><text text-anchor=\"start\" transform=\"translate(16,9)\" font-family=\"sans-serif\" font-size=\"10px\" fill=\"#000\" opacity=\"1\">2</text></g></g><path class=\"foreground\" aria-hidden=\"true\" d=\"\" pointer-events=\"none\" display=\"none\"/></g></g></g><path class=\"foreground\" aria-hidden=\"true\" d=\"\" pointer-events=\"none\" display=\"none\"/></g></g><g class=\"mark-text role-legend-title\" pointer-events=\"none\"><text text-anchor=\"start\" transform=\"translate(0,9)\" font-family=\"sans-serif\" font-size=\"11px\" font-weight=\"bold\" fill=\"#000\" opacity=\"1\">y</text></g></g><path class=\"foreground\" aria-hidden=\"true\" d=\"\" pointer-events=\"none\" display=\"none\"/></g></g></g><path class=\"foreground\" aria-hidden=\"true\" d=\"\" display=\"none\"/></g></g></g></svg>\n"
      ],
      "text/plain": [
       "@vlplot(\n",
       "    mark=\"point\",\n",
       "    encoding={\n",
       "        x={\n",
       "            field=\"x1\"\n",
       "        },\n",
       "        y={\n",
       "            field=\"x3\"\n",
       "        },\n",
       "        color={\n",
       "            field=\"y\",\n",
       "            type=\"nominal\"\n",
       "        }\n",
       "    },\n",
       "    data={\n",
       "        values=...\n",
       "    }\n",
       ")"
      ]
     },
     "execution_count": 31,
     "metadata": {},
     "output_type": "execute_result"
    }
   ],
   "source": [
    "dfBlobs |> @vlplot(:point, x=:x1, y=:x3, color = :\"y:n\") "
   ]
  },
  {
   "cell_type": "markdown",
   "id": "59d2f55d",
   "metadata": {},
   "source": [
    "## Concentric circles"
   ]
  },
  {
   "cell_type": "code",
   "execution_count": 32,
   "id": "a3ac4c25",
   "metadata": {},
   "outputs": [
    {
     "data": {
      "text/html": [
       "<table class=\"data-frame\"><thead><tr><th></th><th>x1</th><th>x2</th><th>y</th></tr><tr><th></th><th>Float64</th><th>Float64</th><th>Cat…</th></tr></thead><tbody><p>3 rows × 3 columns</p><tr><th>1</th><td>0.102655</td><td>1.03491</td><td>1</td></tr><tr><th>2</th><td>0.0913161</td><td>-0.213939</td><td>0</td></tr><tr><th>3</th><td>0.248588</td><td>-0.238034</td><td>0</td></tr></tbody></table>"
      ],
      "text/latex": [
       "\\begin{tabular}{r|ccc}\n",
       "\t& x1 & x2 & y\\\\\n",
       "\t\\hline\n",
       "\t& Float64 & Float64 & Cat…\\\\\n",
       "\t\\hline\n",
       "\t1 & 0.102655 & 1.03491 & 1 \\\\\n",
       "\t2 & 0.0913161 & -0.213939 & 0 \\\\\n",
       "\t3 & 0.248588 & -0.238034 & 0 \\\\\n",
       "\\end{tabular}\n"
      ],
      "text/plain": [
       "\u001b[1m3×3 DataFrame\u001b[0m\n",
       "\u001b[1m Row \u001b[0m│\u001b[1m x1        \u001b[0m\u001b[1m x2        \u001b[0m\u001b[1m y    \u001b[0m\n",
       "\u001b[1m     \u001b[0m│\u001b[90m Float64   \u001b[0m\u001b[90m Float64   \u001b[0m\u001b[90m Cat… \u001b[0m\n",
       "─────┼────────────────────────────\n",
       "   1 │ 0.102655    1.03491   1\n",
       "   2 │ 0.0913161  -0.213939  0\n",
       "   3 │ 0.248588   -0.238034  0"
      ]
     },
     "execution_count": 32,
     "metadata": {},
     "output_type": "execute_result"
    }
   ],
   "source": [
    "using MLJ, DataFrames\n",
    "X, y = make_circles(100; noise=0.05, factor=0.3)\n",
    "dfCircles = DataFrame(X)\n",
    "dfCircles.y = y\n",
    "first(dfCircles, 3)"
   ]
  },
  {
   "cell_type": "code",
   "execution_count": 33,
   "id": "5324d19b",
   "metadata": {},
   "outputs": [
    {
     "data": {
      "application/vnd.vegalite.v4+json": {
       "data": {
        "values": [
         {
          "x1": 0.10265523781658936,
          "x2": 1.0349093659204334,
          "y": 1
         },
         {
          "x1": 0.09131614983435955,
          "x2": -0.2139390622828015,
          "y": 0
         },
         {
          "x1": 0.24858813515538677,
          "x2": -0.2380342894981345,
          "y": 0
         },
         {
          "x1": -0.01402771791526028,
          "x2": -0.3394941562442612,
          "y": 0
         },
         {
          "x1": 0.491733355796694,
          "x2": -0.9661947632470819,
          "y": 1
         },
         {
          "x1": 0.3555124313663648,
          "x2": 0.9741126083501706,
          "y": 1
         },
         {
          "x1": 0.9244627125601399,
          "x2": 0.3888926543744894,
          "y": 1
         },
         {
          "x1": 0.9834291715920573,
          "x2": 0.33224791718729396,
          "y": 1
         },
         {
          "x1": -1.0475931970755012,
          "x2": 0.06130723112575841,
          "y": 1
         },
         {
          "x1": -0.28700291802750993,
          "x2": -0.03328645659027338,
          "y": 0
         },
         {
          "x1": -0.015891826388564526,
          "x2": -0.29798808178646374,
          "y": 0
         },
         {
          "x1": -0.4526663230745679,
          "x2": 0.9686220022904228,
          "y": 1
         },
         {
          "x1": -0.5858086012488283,
          "x2": -0.9609841128987888,
          "y": 1
         },
         {
          "x1": -0.9905790501625519,
          "x2": -0.03797209030860324,
          "y": 1
         },
         {
          "x1": -0.46226609239913574,
          "x2": 0.8345495540785046,
          "y": 1
         },
         {
          "x1": -0.8224608500561126,
          "x2": -0.6229500451774365,
          "y": 1
         },
         {
          "x1": 0.41350582674365227,
          "x2": 0.8355825474119979,
          "y": 1
         },
         {
          "x1": -0.9849910401868225,
          "x2": 0.27917164056359484,
          "y": 1
         },
         {
          "x1": 0.12972838972806588,
          "x2": 0.9872138243430661,
          "y": 1
         },
         {
          "x1": -0.22500913780810486,
          "x2": -0.09625487412092235,
          "y": 0
         },
         {
          "x1": -0.17780636740387284,
          "x2": -0.9951174487761445,
          "y": 1
         },
         {
          "x1": -0.11626626425566726,
          "x2": -0.2764296972525838,
          "y": 0
         },
         {
          "x1": 0.8488007758941463,
          "x2": 0.6273937867578471,
          "y": 1
         },
         {
          "x1": 0.30188687600524095,
          "x2": -0.1098097284844529,
          "y": 0
         },
         {
          "x1": -0.17467663514541218,
          "x2": 1.066988721578051,
          "y": 1
         },
         {
          "x1": 0.019210070596592077,
          "x2": 0.9279938314603657,
          "y": 1
         },
         {
          "x1": -0.6275145951823019,
          "x2": 0.7605176763297855,
          "y": 1
         },
         {
          "x1": -0.37045718547229994,
          "x2": 0.9586435741933316,
          "y": 1
         },
         {
          "x1": -0.2636129600290487,
          "x2": 0.011717580319689412,
          "y": 0
         },
         {
          "x1": 0.9948114767616529,
          "x2": 0.039747848780662016,
          "y": 1
         },
         {
          "x1": 0.31512440721393853,
          "x2": 0.14561449960604428,
          "y": 0
         },
         {
          "x1": -0.06653013045167241,
          "x2": -0.33185291629896096,
          "y": 0
         },
         {
          "x1": -0.1561236173560682,
          "x2": -0.21145013731452922,
          "y": 0
         },
         {
          "x1": 0.0036571106708268714,
          "x2": 0.2926983571584111,
          "y": 0
         },
         {
          "x1": 0.3377616739167848,
          "x2": -0.06440765128667879,
          "y": 0
         },
         {
          "x1": 0.1499133519506214,
          "x2": 0.21278278142796642,
          "y": 0
         },
         {
          "x1": -0.3816834122462023,
          "x2": 0.09572069108249914,
          "y": 0
         },
         {
          "x1": -0.04602744132552313,
          "x2": 0.9807628599946626,
          "y": 1
         },
         {
          "x1": 0.028861841903341623,
          "x2": -0.29844837639610655,
          "y": 0
         },
         {
          "x1": -0.9216677455265034,
          "x2": -0.41339860335438433,
          "y": 1
         },
         {
          "x1": -0.32033859214328997,
          "x2": 0.08622618746161563,
          "y": 0
         },
         {
          "x1": -1.0447589985553762,
          "x2": -0.06134102144169931,
          "y": 1
         },
         {
          "x1": -0.04688486615383622,
          "x2": -1.0722188841926388,
          "y": 1
         },
         {
          "x1": 0.12338350048498063,
          "x2": 0.20412696013773826,
          "y": 0
         },
         {
          "x1": -0.9058336630991484,
          "x2": -0.05369040722134919,
          "y": 1
         },
         {
          "x1": 0.32214957976503256,
          "x2": 0.12268529444088755,
          "y": 0
         },
         {
          "x1": -0.07855366990278093,
          "x2": 0.3047862288296214,
          "y": 0
         },
         {
          "x1": -0.14854160568816155,
          "x2": -0.32131374883332403,
          "y": 0
         },
         {
          "x1": -0.981217267897961,
          "x2": -0.2946008048904106,
          "y": 1
         },
         {
          "x1": -0.23200648746846572,
          "x2": -0.1460853693548742,
          "y": 0
         },
         {
          "x1": 0.7575193465469233,
          "x2": 0.7095589349342969,
          "y": 1
         },
         {
          "x1": -0.1577090788591831,
          "x2": -0.22702675813962142,
          "y": 0
         },
         {
          "x1": -0.31842529078645704,
          "x2": -0.06908375748651358,
          "y": 0
         },
         {
          "x1": -0.16619238341067627,
          "x2": -0.3424645755967609,
          "y": 0
         },
         {
          "x1": -0.2273903991662389,
          "x2": -0.9633919049140831,
          "y": 1
         },
         {
          "x1": 0.21578340367514154,
          "x2": -0.1956599033676738,
          "y": 0
         },
         {
          "x1": -0.3660500308135533,
          "x2": -0.9638931147376726,
          "y": 1
         },
         {
          "x1": 0.3376747047644183,
          "x2": 0.07476925486734183,
          "y": 0
         },
         {
          "x1": 0.5333812806310796,
          "x2": 0.8250870022406287,
          "y": 1
         },
         {
          "x1": 0.7707695388535508,
          "x2": -0.6871968767838941,
          "y": 1
         },
         {
          "x1": -0.06771405622449618,
          "x2": 0.2712538571820966,
          "y": 0
         },
         {
          "x1": -1.016788690651504,
          "x2": -0.289191964101146,
          "y": 1
         },
         {
          "x1": -0.18121629038755982,
          "x2": -0.31176959234361495,
          "y": 0
         },
         {
          "x1": 1.003341950231808,
          "x2": -0.01426485756880713,
          "y": 1
         },
         {
          "x1": -0.12943773410268108,
          "x2": 0.16864732676901897,
          "y": 0
         },
         {
          "x1": 0.15271193214842535,
          "x2": 0.17554484824402977,
          "y": 0
         },
         {
          "x1": 0.9966366966570622,
          "x2": 0.06259324610171277,
          "y": 1
         },
         {
          "x1": -0.18002360276709944,
          "x2": -0.07178073326641737,
          "y": 0
         },
         {
          "x1": 0.4180743519650686,
          "x2": -0.8616615506429876,
          "y": 1
         },
         {
          "x1": -0.24964465596816135,
          "x2": -0.19849830680500977,
          "y": 0
         },
         {
          "x1": 0.2117937132616936,
          "x2": -0.1295365560655911,
          "y": 0
         },
         {
          "x1": 0.05423454978577611,
          "x2": 0.3486742595981106,
          "y": 0
         },
         {
          "x1": -0.12636841142850655,
          "x2": -0.34324427296360105,
          "y": 0
         },
         {
          "x1": -0.9720053776408414,
          "x2": 0.26350595235360386,
          "y": 1
         },
         {
          "x1": 0.16424287512049768,
          "x2": 0.22810376674290084,
          "y": 0
         },
         {
          "x1": -0.24593586191190625,
          "x2": -1.0899440220276913,
          "y": 1
         },
         {
          "x1": -0.14372258947238606,
          "x2": 0.2925352038582362,
          "y": 0
         },
         {
          "x1": 0.8202768453892224,
          "x2": 0.5319490135432154,
          "y": 1
         },
         {
          "x1": 0.11122246649661077,
          "x2": 0.22096048271339763,
          "y": 0
         },
         {
          "x1": -0.9793114709551906,
          "x2": -0.14634185907174607,
          "y": 1
         },
         {
          "x1": -0.5673434538385896,
          "x2": 0.7660223022651704,
          "y": 1
         },
         {
          "x1": -0.1436320326643143,
          "x2": 0.9214673135521431,
          "y": 1
         },
         {
          "x1": -0.05779570193089424,
          "x2": -0.9590129330518387,
          "y": 1
         },
         {
          "x1": 0.16087110041290362,
          "x2": -0.938394576941638,
          "y": 1
         },
         {
          "x1": 1.0128479786756597,
          "x2": 0.1536619917414825,
          "y": 1
         },
         {
          "x1": 0.46477517315476913,
          "x2": 0.8667199448106248,
          "y": 1
         },
         {
          "x1": 0.9145831047809686,
          "x2": 0.30274889557425766,
          "y": 1
         },
         {
          "x1": -0.22106689325937953,
          "x2": -0.19930540439532188,
          "y": 0
         },
         {
          "x1": -0.1541194621223882,
          "x2": -0.14921110005891744,
          "y": 0
         },
         {
          "x1": 0.2150582771560402,
          "x2": -0.2832950199933321,
          "y": 0
         },
         {
          "x1": -0.29115348439252003,
          "x2": 0.16074502000297128,
          "y": 0
         },
         {
          "x1": -0.21889594380195565,
          "x2": -0.09626908029705422,
          "y": 0
         },
         {
          "x1": 0.06087269336964778,
          "x2": 1.0026928186677082,
          "y": 1
         },
         {
          "x1": -0.050067096106652,
          "x2": -0.3363133760755239,
          "y": 0
         },
         {
          "x1": 1.0060236608678876,
          "x2": -0.25176978094500907,
          "y": 1
         },
         {
          "x1": 0.2575305969817844,
          "x2": -0.21068244770885314,
          "y": 0
         },
         {
          "x1": 0.6806384322257468,
          "x2": -0.8716235993847867,
          "y": 1
         },
         {
          "x1": 0.2798271738521957,
          "x2": -0.17260558632321216,
          "y": 0
         },
         {
          "x1": 0.2410021482181029,
          "x2": 0.2382439902238752,
          "y": 0
         },
         {
          "x1": 0.1361466950607848,
          "x2": 0.3630694294654666,
          "y": 0
         }
        ]
       },
       "encoding": {
        "color": {
         "field": "y",
         "type": "nominal"
        },
        "x": {
         "field": "x1",
         "type": "quantitative"
        },
        "y": {
         "field": "x2",
         "type": "quantitative"
        }
       },
       "mark": "circle"
      },
      "image/png": "[encoded data removed]",
      "image/svg+xml": [
       "<?xml version=\"1.0\" encoding=\"utf-8\"?>\n",
       "<!DOCTYPE svg PUBLIC \"-//W3C//DTD SVG 1.1//EN\" \"http://www.w3.org/Graphics/SVG/1.1/DTD/svg11.dtd\">\n",
       "<svg xmlns=\"http://www.w3.org/2000/svg\" xmlns:xlink=\"http://www.w3.org/1999/xlink\" version=\"1.1\" class=\"marks\" width=\"291\" height=\"242\" viewBox=\"0 0 291 242\"><rect width=\"291\" height=\"242\" fill=\"white\"/><g fill=\"none\" stroke-miterlimit=\"10\" transform=\"translate(47,5)\"><g class=\"mark-group role-frame root\" role=\"graphics-object\" aria-roledescription=\"group mark container\"><g transform=\"translate(0,0)\"><path class=\"background\" aria-hidden=\"true\" d=\"M0.5,0.5h200v200h-200Z\" stroke=\"#ddd\"/><g><g class=\"mark-group role-axis\" aria-hidden=\"true\"><g transform=\"translate(0.5,200.5)\"><path class=\"background\" aria-hidden=\"true\" d=\"M0,0h0v0h0Z\" pointer-events=\"none\"/><g><g class=\"mark-rule role-axis-grid\" pointer-events=\"none\"><line transform=\"translate(17,-200)\" x2=\"0\" y2=\"200\" stroke=\"#ddd\" stroke-width=\"1\" opacity=\"1\"/><line transform=\"translate(58,-200)\" x2=\"0\" y2=\"200\" stroke=\"#ddd\" stroke-width=\"1\" opacity=\"1\"/><line transform=\"translate(100,-200)\" x2=\"0\" y2=\"200\" stroke=\"#ddd\" stroke-width=\"1\" opacity=\"1\"/><line transform=\"translate(142,-200)\" x2=\"0\" y2=\"200\" stroke=\"#ddd\" stroke-width=\"1\" opacity=\"1\"/><line transform=\"translate(183,-200)\" x2=\"0\" y2=\"200\" stroke=\"#ddd\" stroke-width=\"1\" opacity=\"1\"/></g></g><path class=\"foreground\" aria-hidden=\"true\" d=\"\" pointer-events=\"none\" display=\"none\"/></g></g><g class=\"mark-group role-axis\" aria-hidden=\"true\"><g transform=\"translate(0.5,0.5)\"><path class=\"background\" aria-hidden=\"true\" d=\"M0,0h0v0h0Z\" pointer-events=\"none\"/><g><g class=\"mark-rule role-axis-grid\" pointer-events=\"none\"><line transform=\"translate(0,183)\" x2=\"200\" y2=\"0\" stroke=\"#ddd\" stroke-width=\"1\" opacity=\"1\"/><line transform=\"translate(0,142)\" x2=\"200\" y2=\"0\" stroke=\"#ddd\" stroke-width=\"1\" opacity=\"1\"/><line transform=\"translate(0,100)\" x2=\"200\" y2=\"0\" stroke=\"#ddd\" stroke-width=\"1\" opacity=\"1\"/><line transform=\"translate(0,58)\" x2=\"200\" y2=\"0\" stroke=\"#ddd\" stroke-width=\"1\" opacity=\"1\"/><line transform=\"translate(0,17)\" x2=\"200\" y2=\"0\" stroke=\"#ddd\" stroke-width=\"1\" opacity=\"1\"/></g></g><path class=\"foreground\" aria-hidden=\"true\" d=\"\" pointer-events=\"none\" display=\"none\"/></g></g><g class=\"mark-group role-axis\" role=\"graphics-symbol\" aria-roledescription=\"axis\" aria-label=\"X-axis titled 'x1' for a linear scale with values from −1.2 to 1.2\"><g transform=\"translate(0.5,200.5)\"><path class=\"background\" aria-hidden=\"true\" d=\"M0,0h0v0h0Z\" pointer-events=\"none\"/><g><g class=\"mark-rule role-axis-tick\" pointer-events=\"none\"><line transform=\"translate(17,0)\" x2=\"0\" y2=\"5\" stroke=\"#888\" stroke-width=\"1\" opacity=\"1\"/><line transform=\"translate(58,0)\" x2=\"0\" y2=\"5\" stroke=\"#888\" stroke-width=\"1\" opacity=\"1\"/><line transform=\"translate(100,0)\" x2=\"0\" y2=\"5\" stroke=\"#888\" stroke-width=\"1\" opacity=\"1\"/><line transform=\"translate(142,0)\" x2=\"0\" y2=\"5\" stroke=\"#888\" stroke-width=\"1\" opacity=\"1\"/><line transform=\"translate(183,0)\" x2=\"0\" y2=\"5\" stroke=\"#888\" stroke-width=\"1\" opacity=\"1\"/></g><g class=\"mark-text role-axis-label\" pointer-events=\"none\"><text text-anchor=\"middle\" transform=\"translate(16.666666666666664,15)\" font-family=\"sans-serif\" font-size=\"10px\" fill=\"#000\" opacity=\"1\">−1.0</text><text text-anchor=\"middle\" transform=\"translate(58.333333333333336,15)\" font-family=\"sans-serif\" font-size=\"10px\" fill=\"#000\" opacity=\"1\">−0.5</text><text text-anchor=\"middle\" transform=\"translate(100,15)\" font-family=\"sans-serif\" font-size=\"10px\" fill=\"#000\" opacity=\"1\">0.0</text><text text-anchor=\"middle\" transform=\"translate(141.66666666666669,15)\" font-family=\"sans-serif\" font-size=\"10px\" fill=\"#000\" opacity=\"1\">0.5</text><text text-anchor=\"middle\" transform=\"translate(183.33333333333334,15)\" font-family=\"sans-serif\" font-size=\"10px\" fill=\"#000\" opacity=\"1\">1.0</text></g><g class=\"mark-rule role-axis-domain\" pointer-events=\"none\"><line transform=\"translate(0,0)\" x2=\"200\" y2=\"0\" stroke=\"#888\" stroke-width=\"1\" opacity=\"1\"/></g><g class=\"mark-text role-axis-title\" pointer-events=\"none\"><text text-anchor=\"middle\" transform=\"translate(100,30)\" font-family=\"sans-serif\" font-size=\"11px\" font-weight=\"bold\" fill=\"#000\" opacity=\"1\">x1</text></g></g><path class=\"foreground\" aria-hidden=\"true\" d=\"\" pointer-events=\"none\" display=\"none\"/></g></g><g class=\"mark-group role-axis\" role=\"graphics-symbol\" aria-roledescription=\"axis\" aria-label=\"Y-axis titled 'x2' for a linear scale with values from −1.2 to 1.2\"><g transform=\"translate(0.5,0.5)\"><path class=\"background\" aria-hidden=\"true\" d=\"M0,0h0v0h0Z\" pointer-events=\"none\"/><g><g class=\"mark-rule role-axis-tick\" pointer-events=\"none\"><line transform=\"translate(0,183)\" x2=\"-5\" y2=\"0\" stroke=\"#888\" stroke-width=\"1\" opacity=\"1\"/><line transform=\"translate(0,142)\" x2=\"-5\" y2=\"0\" stroke=\"#888\" stroke-width=\"1\" opacity=\"1\"/><line transform=\"translate(0,100)\" x2=\"-5\" y2=\"0\" stroke=\"#888\" stroke-width=\"1\" opacity=\"1\"/><line transform=\"translate(0,58)\" x2=\"-5\" y2=\"0\" stroke=\"#888\" stroke-width=\"1\" opacity=\"1\"/><line transform=\"translate(0,17)\" x2=\"-5\" y2=\"0\" stroke=\"#888\" stroke-width=\"1\" opacity=\"1\"/></g><g class=\"mark-text role-axis-label\" pointer-events=\"none\"><text text-anchor=\"end\" transform=\"translate(-7,186.33333333333334)\" font-family=\"sans-serif\" font-size=\"10px\" fill=\"#000\" opacity=\"1\">−1.0</text><text text-anchor=\"end\" transform=\"translate(-7,144.66666666666666)\" font-family=\"sans-serif\" font-size=\"10px\" fill=\"#000\" opacity=\"1\">−0.5</text><text text-anchor=\"end\" transform=\"translate(-7,103)\" font-family=\"sans-serif\" font-size=\"10px\" fill=\"#000\" opacity=\"1\">0.0</text><text text-anchor=\"end\" transform=\"translate(-7,61.33333333333333)\" font-family=\"sans-serif\" font-size=\"10px\" fill=\"#000\" opacity=\"1\">0.5</text><text text-anchor=\"end\" transform=\"translate(-7,19.66666666666665)\" font-family=\"sans-serif\" font-size=\"10px\" fill=\"#000\" opacity=\"1\">1.0</text></g><g class=\"mark-rule role-axis-domain\" pointer-events=\"none\"><line transform=\"translate(0,200)\" x2=\"0\" y2=\"-200\" stroke=\"#888\" stroke-width=\"1\" opacity=\"1\"/></g><g class=\"mark-text role-axis-title\" pointer-events=\"none\"><text text-anchor=\"middle\" transform=\"translate(-31,100) rotate(-90) translate(0,-2)\" font-family=\"sans-serif\" font-size=\"11px\" font-weight=\"bold\" fill=\"#000\" opacity=\"1\">x2</text></g></g><path class=\"foreground\" aria-hidden=\"true\" d=\"\" pointer-events=\"none\" display=\"none\"/></g></g><g class=\"mark-symbol role-mark marks\" role=\"graphics-object\" aria-roledescription=\"symbol mark container\"><path aria-label=\"x1: 0.102655237817; x2: 1.03490936592; y: 1\" role=\"graphics-symbol\" aria-roledescription=\"circle\" transform=\"translate(108.55460315138244,13.757552839963871)\" d=\"M2.7386127875258306,0A2.7386127875258306,2.7386127875258306,0,1,1,-2.7386127875258306,0A2.7386127875258306,2.7386127875258306,0,1,1,2.7386127875258306,0\" fill=\"#f58518\" stroke-width=\"2\" opacity=\"0.7\"/><path aria-label=\"x1: 0.0913161498344; x2: −0.213939062283; y: 0\" role=\"graphics-symbol\" aria-roledescription=\"circle\" transform=\"translate(107.60967915286331,117.82825519023345)\" d=\"M2.7386127875258306,0A2.7386127875258306,2.7386127875258306,0,1,1,-2.7386127875258306,0A2.7386127875258306,2.7386127875258306,0,1,1,2.7386127875258306,0\" fill=\"#4c78a8\" stroke-width=\"2\" opacity=\"0.7\"/><path aria-label=\"x1: 0.248588135155; x2: −0.238034289498; y: 0\" role=\"graphics-symbol\" aria-roledescription=\"circle\" transform=\"translate(120.71567792961555,119.8361907915112)\" d=\"M2.7386127875258306,0A2.7386127875258306,2.7386127875258306,0,1,1,-2.7386127875258306,0A2.7386127875258306,2.7386127875258306,0,1,1,2.7386127875258306,0\" fill=\"#4c78a8\" stroke-width=\"2\" opacity=\"0.7\"/><path aria-label=\"x1: −0.0140277179153; x2: −0.339494156244; y: 0\" role=\"graphics-symbol\" aria-roledescription=\"circle\" transform=\"translate(98.83102350706163,128.29117968702178)\" d=\"M2.7386127875258306,0A2.7386127875258306,2.7386127875258306,0,1,1,-2.7386127875258306,0A2.7386127875258306,2.7386127875258306,0,1,1,2.7386127875258306,0\" fill=\"#4c78a8\" stroke-width=\"2\" opacity=\"0.7\"/><path aria-label=\"x1: 0.491733355797; x2: −0.966194763247; y: 1\" role=\"graphics-symbol\" aria-roledescription=\"circle\" transform=\"translate(140.9777796497245,180.51623027059017)\" d=\"M2.7386127875258306,0A2.7386127875258306,2.7386127875258306,0,1,1,-2.7386127875258306,0A2.7386127875258306,2.7386127875258306,0,1,1,2.7386127875258306,0\" fill=\"#f58518\" stroke-width=\"2\" opacity=\"0.7\"/><path aria-label=\"x1: 0.355512431366; x2: 0.97411260835; y: 1\" role=\"graphics-symbol\" aria-roledescription=\"circle\" transform=\"translate(129.62603594719707,18.823949304152478)\" d=\"M2.7386127875258306,0A2.7386127875258306,2.7386127875258306,0,1,1,-2.7386127875258306,0A2.7386127875258306,2.7386127875258306,0,1,1,2.7386127875258306,0\" fill=\"#f58518\" stroke-width=\"2\" opacity=\"0.7\"/><path aria-label=\"x1: 0.92446271256; x2: 0.388892654374; y: 1\" role=\"graphics-symbol\" aria-roledescription=\"circle\" transform=\"translate(177.03855938001166,67.59227880212589)\" d=\"M2.7386127875258306,0A2.7386127875258306,2.7386127875258306,0,1,1,-2.7386127875258306,0A2.7386127875258306,2.7386127875258306,0,1,1,2.7386127875258306,0\" fill=\"#f58518\" stroke-width=\"2\" opacity=\"0.7\"/><path aria-label=\"x1: 0.983429171592; x2: 0.332247917187; y: 1\" role=\"graphics-symbol\" aria-roledescription=\"circle\" transform=\"translate(181.95243096600478,72.31267356772548)\" d=\"M2.7386127875258306,0A2.7386127875258306,2.7386127875258306,0,1,1,-2.7386127875258306,0A2.7386127875258306,2.7386127875258306,0,1,1,2.7386127875258306,0\" fill=\"#f58518\" stroke-width=\"2\" opacity=\"0.7\"/><path aria-label=\"x1: −1.04759319708; x2: 0.0613072311258; y: 1\" role=\"graphics-symbol\" aria-roledescription=\"circle\" transform=\"translate(12.700566910374894,94.89106407285348)\" d=\"M2.7386127875258306,0A2.7386127875258306,2.7386127875258306,0,1,1,-2.7386127875258306,0A2.7386127875258306,2.7386127875258306,0,1,1,2.7386127875258306,0\" fill=\"#f58518\" stroke-width=\"2\" opacity=\"0.7\"/><path aria-label=\"x1: −0.287002918028; x2: −0.0332864565903; y: 0\" role=\"graphics-symbol\" aria-roledescription=\"circle\" transform=\"translate(76.08309016437417,102.77387138252277)\" d=\"M2.7386127875258306,0A2.7386127875258306,2.7386127875258306,0,1,1,-2.7386127875258306,0A2.7386127875258306,2.7386127875258306,0,1,1,2.7386127875258306,0\" fill=\"#4c78a8\" stroke-width=\"2\" opacity=\"0.7\"/><path aria-label=\"x1: −0.0158918263886; x2: −0.297988081786; y: 0\" role=\"graphics-symbol\" aria-roledescription=\"circle\" transform=\"translate(98.6756811342863,124.83234014887196)\" d=\"M2.7386127875258306,0A2.7386127875258306,2.7386127875258306,0,1,1,-2.7386127875258306,0A2.7386127875258306,2.7386127875258306,0,1,1,2.7386127875258306,0\" fill=\"#4c78a8\" stroke-width=\"2\" opacity=\"0.7\"/><path aria-label=\"x1: −0.452666323075; x2: 0.96862200229; y: 1\" role=\"graphics-symbol\" aria-roledescription=\"circle\" transform=\"translate(62.277806410452676,19.281499809131407)\" d=\"M2.7386127875258306,0A2.7386127875258306,2.7386127875258306,0,1,1,-2.7386127875258306,0A2.7386127875258306,2.7386127875258306,0,1,1,2.7386127875258306,0\" fill=\"#f58518\" stroke-width=\"2\" opacity=\"0.7\"/><path aria-label=\"x1: −0.585808601249; x2: −0.960984112899; y: 1\" role=\"graphics-symbol\" aria-roledescription=\"circle\" transform=\"translate(51.18261656259764,180.0820094082324)\" d=\"M2.7386127875258306,0A2.7386127875258306,2.7386127875258306,0,1,1,-2.7386127875258306,0A2.7386127875258306,2.7386127875258306,0,1,1,2.7386127875258306,0\" fill=\"#f58518\" stroke-width=\"2\" opacity=\"0.7\"/><path aria-label=\"x1: −0.990579050163; x2: −0.0379720903086; y: 1\" role=\"graphics-symbol\" aria-roledescription=\"circle\" transform=\"translate(17.45174581978734,103.16434085905027)\" d=\"M2.7386127875258306,0A2.7386127875258306,2.7386127875258306,0,1,1,-2.7386127875258306,0A2.7386127875258306,2.7386127875258306,0,1,1,2.7386127875258306,0\" fill=\"#f58518\" stroke-width=\"2\" opacity=\"0.7\"/><path aria-label=\"x1: −0.462266092399; x2: 0.834549554079; y: 1\" role=\"graphics-symbol\" aria-roledescription=\"circle\" transform=\"translate(61.47782563340536,30.45420382679127)\" d=\"M2.7386127875258306,0A2.7386127875258306,2.7386127875258306,0,1,1,-2.7386127875258306,0A2.7386127875258306,2.7386127875258306,0,1,1,2.7386127875258306,0\" fill=\"#f58518\" stroke-width=\"2\" opacity=\"0.7\"/><path aria-label=\"x1: −0.822460850056; x2: −0.622950045177; y: 1\" role=\"graphics-symbol\" aria-roledescription=\"circle\" transform=\"translate(31.461595828657284,151.91250376478638)\" d=\"M2.7386127875258306,0A2.7386127875258306,2.7386127875258306,0,1,1,-2.7386127875258306,0A2.7386127875258306,2.7386127875258306,0,1,1,2.7386127875258306,0\" fill=\"#f58518\" stroke-width=\"2\" opacity=\"0.7\"/><path aria-label=\"x1: 0.413505826744; x2: 0.835582547412; y: 1\" role=\"graphics-symbol\" aria-roledescription=\"circle\" transform=\"translate(134.45881889530435,30.368121049000173)\" d=\"M2.7386127875258306,0A2.7386127875258306,2.7386127875258306,0,1,1,-2.7386127875258306,0A2.7386127875258306,2.7386127875258306,0,1,1,2.7386127875258306,0\" fill=\"#f58518\" stroke-width=\"2\" opacity=\"0.7\"/><path aria-label=\"x1: −0.984991040187; x2: 0.279171640564; y: 1\" role=\"graphics-symbol\" aria-roledescription=\"circle\" transform=\"translate(17.91741331776479,76.73569661970043)\" d=\"M2.7386127875258306,0A2.7386127875258306,2.7386127875258306,0,1,1,-2.7386127875258306,0A2.7386127875258306,2.7386127875258306,0,1,1,2.7386127875258306,0\" fill=\"#f58518\" stroke-width=\"2\" opacity=\"0.7\"/><path aria-label=\"x1: 0.129728389728; x2: 0.987213824343; y: 1\" role=\"graphics-symbol\" aria-roledescription=\"circle\" transform=\"translate(110.8106991440055,17.732181304744476)\" d=\"M2.7386127875258306,0A2.7386127875258306,2.7386127875258306,0,1,1,-2.7386127875258306,0A2.7386127875258306,2.7386127875258306,0,1,1,2.7386127875258306,0\" fill=\"#f58518\" stroke-width=\"2\" opacity=\"0.7\"/><path aria-label=\"x1: −0.225009137808; x2: −0.0962548741209; y: 0\" role=\"graphics-symbol\" aria-roledescription=\"circle\" transform=\"translate(81.24923851599127,108.02123951007685)\" d=\"M2.7386127875258306,0A2.7386127875258306,2.7386127875258306,0,1,1,-2.7386127875258306,0A2.7386127875258306,2.7386127875258306,0,1,1,2.7386127875258306,0\" fill=\"#4c78a8\" stroke-width=\"2\" opacity=\"0.7\"/><path aria-label=\"x1: −0.177806367404; x2: −0.995117448776; y: 1\" role=\"graphics-symbol\" aria-roledescription=\"circle\" transform=\"translate(85.18280271634393,182.92645406467872)\" d=\"M2.7386127875258306,0A2.7386127875258306,2.7386127875258306,0,1,1,-2.7386127875258306,0A2.7386127875258306,2.7386127875258306,0,1,1,2.7386127875258306,0\" fill=\"#f58518\" stroke-width=\"2\" opacity=\"0.7\"/><path aria-label=\"x1: −0.116266264256; x2: −0.276429697253; y: 0\" role=\"graphics-symbol\" aria-roledescription=\"circle\" transform=\"translate(90.31114464536105,123.035808104382)\" d=\"M2.7386127875258306,0A2.7386127875258306,2.7386127875258306,0,1,1,-2.7386127875258306,0A2.7386127875258306,2.7386127875258306,0,1,1,2.7386127875258306,0\" fill=\"#4c78a8\" stroke-width=\"2\" opacity=\"0.7\"/><path aria-label=\"x1: 0.848800775894; x2: 0.627393786758; y: 1\" role=\"graphics-symbol\" aria-roledescription=\"circle\" transform=\"translate(170.73339799117886,47.71718443684607)\" d=\"M2.7386127875258306,0A2.7386127875258306,2.7386127875258306,0,1,1,-2.7386127875258306,0A2.7386127875258306,2.7386127875258306,0,1,1,2.7386127875258306,0\" fill=\"#f58518\" stroke-width=\"2\" opacity=\"0.7\"/><path aria-label=\"x1: 0.301886876005; x2: −0.109809728484; y: 0\" role=\"graphics-symbol\" aria-roledescription=\"circle\" transform=\"translate(125.15723966710341,109.15081070703773)\" d=\"M2.7386127875258306,0A2.7386127875258306,2.7386127875258306,0,1,1,-2.7386127875258306,0A2.7386127875258306,2.7386127875258306,0,1,1,2.7386127875258306,0\" fill=\"#4c78a8\" stroke-width=\"2\" opacity=\"0.7\"/><path aria-label=\"x1: −0.174676635145; x2: 1.06698872158; y: 1\" role=\"graphics-symbol\" aria-roledescription=\"circle\" transform=\"translate(85.44361373788233,11.084273201829076)\" d=\"M2.7386127875258306,0A2.7386127875258306,2.7386127875258306,0,1,1,-2.7386127875258306,0A2.7386127875258306,2.7386127875258306,0,1,1,2.7386127875258306,0\" fill=\"#f58518\" stroke-width=\"2\" opacity=\"0.7\"/><path aria-label=\"x1: 0.0192100705966; x2: 0.92799383146; y: 1\" role=\"graphics-symbol\" aria-roledescription=\"circle\" transform=\"translate(101.60083921638268,22.667180711636203)\" d=\"M2.7386127875258306,0A2.7386127875258306,2.7386127875258306,0,1,1,-2.7386127875258306,0A2.7386127875258306,2.7386127875258306,0,1,1,2.7386127875258306,0\" fill=\"#f58518\" stroke-width=\"2\" opacity=\"0.7\"/><path aria-label=\"x1: −0.627514595182; x2: 0.76051767633; y: 1\" role=\"graphics-symbol\" aria-roledescription=\"circle\" transform=\"translate(47.70711706814151,36.62352697251787)\" d=\"M2.7386127875258306,0A2.7386127875258306,2.7386127875258306,0,1,1,-2.7386127875258306,0A2.7386127875258306,2.7386127875258306,0,1,1,2.7386127875258306,0\" fill=\"#f58518\" stroke-width=\"2\" opacity=\"0.7\"/><path aria-label=\"x1: −0.370457185472; x2: 0.958643574193; y: 1\" role=\"graphics-symbol\" aria-roledescription=\"circle\" transform=\"translate(69.12856787730833,20.11303548388903)\" d=\"M2.7386127875258306,0A2.7386127875258306,2.7386127875258306,0,1,1,-2.7386127875258306,0A2.7386127875258306,2.7386127875258306,0,1,1,2.7386127875258306,0\" fill=\"#f58518\" stroke-width=\"2\" opacity=\"0.7\"/><path aria-label=\"x1: −0.263612960029; x2: 0.0117175803197; y: 0\" role=\"graphics-symbol\" aria-roledescription=\"circle\" transform=\"translate(78.03225333091261,99.0235349733592)\" d=\"M2.7386127875258306,0A2.7386127875258306,2.7386127875258306,0,1,1,-2.7386127875258306,0A2.7386127875258306,2.7386127875258306,0,1,1,2.7386127875258306,0\" fill=\"#4c78a8\" stroke-width=\"2\" opacity=\"0.7\"/><path aria-label=\"x1: 0.994811476762; x2: 0.0397478487807; y: 1\" role=\"graphics-symbol\" aria-roledescription=\"circle\" transform=\"translate(182.90095639680442,96.68767926827817)\" d=\"M2.7386127875258306,0A2.7386127875258306,2.7386127875258306,0,1,1,-2.7386127875258306,0A2.7386127875258306,2.7386127875258306,0,1,1,2.7386127875258306,0\" fill=\"#f58518\" stroke-width=\"2\" opacity=\"0.7\"/><path aria-label=\"x1: 0.315124407214; x2: 0.145614499606; y: 0\" role=\"graphics-symbol\" aria-roledescription=\"circle\" transform=\"translate(126.26036726782822,87.86545836616297)\" d=\"M2.7386127875258306,0A2.7386127875258306,2.7386127875258306,0,1,1,-2.7386127875258306,0A2.7386127875258306,2.7386127875258306,0,1,1,2.7386127875258306,0\" fill=\"#4c78a8\" stroke-width=\"2\" opacity=\"0.7\"/><path aria-label=\"x1: −0.0665301304517; x2: −0.331852916299; y: 0\" role=\"graphics-symbol\" aria-roledescription=\"circle\" transform=\"translate(94.45582246236064,127.65440969158008)\" d=\"M2.7386127875258306,0A2.7386127875258306,2.7386127875258306,0,1,1,-2.7386127875258306,0A2.7386127875258306,2.7386127875258306,0,1,1,2.7386127875258306,0\" fill=\"#4c78a8\" stroke-width=\"2\" opacity=\"0.7\"/><path aria-label=\"x1: −0.156123617356; x2: −0.211450137315; y: 0\" role=\"graphics-symbol\" aria-roledescription=\"circle\" transform=\"translate(86.98969855366097,117.62084477621077)\" d=\"M2.7386127875258306,0A2.7386127875258306,2.7386127875258306,0,1,1,-2.7386127875258306,0A2.7386127875258306,2.7386127875258306,0,1,1,2.7386127875258306,0\" fill=\"#4c78a8\" stroke-width=\"2\" opacity=\"0.7\"/><path aria-label=\"x1: 0.00365711067083; x2: 0.292698357158; y: 0\" role=\"graphics-symbol\" aria-roledescription=\"circle\" transform=\"translate(100.30475922256892,75.60847023679906)\" d=\"M2.7386127875258306,0A2.7386127875258306,2.7386127875258306,0,1,1,-2.7386127875258306,0A2.7386127875258306,2.7386127875258306,0,1,1,2.7386127875258306,0\" fill=\"#4c78a8\" stroke-width=\"2\" opacity=\"0.7\"/><path aria-label=\"x1: 0.337761673917; x2: −0.0644076512867; y: 0\" role=\"graphics-symbol\" aria-roledescription=\"circle\" transform=\"translate(128.14680615973205,105.3673042738899)\" d=\"M2.7386127875258306,0A2.7386127875258306,2.7386127875258306,0,1,1,-2.7386127875258306,0A2.7386127875258306,2.7386127875258306,0,1,1,2.7386127875258306,0\" fill=\"#4c78a8\" stroke-width=\"2\" opacity=\"0.7\"/><path aria-label=\"x1: 0.149913351951; x2: 0.212782781428; y: 0\" role=\"graphics-symbol\" aria-roledescription=\"circle\" transform=\"translate(112.49277932921846,82.26810154766946)\" d=\"M2.7386127875258306,0A2.7386127875258306,2.7386127875258306,0,1,1,-2.7386127875258306,0A2.7386127875258306,2.7386127875258306,0,1,1,2.7386127875258306,0\" fill=\"#4c78a8\" stroke-width=\"2\" opacity=\"0.7\"/><path aria-label=\"x1: −0.381683412246; x2: 0.0957206910825; y: 0\" role=\"graphics-symbol\" aria-roledescription=\"circle\" transform=\"translate(68.19304897948314,92.02327574312508)\" d=\"M2.7386127875258306,0A2.7386127875258306,2.7386127875258306,0,1,1,-2.7386127875258306,0A2.7386127875258306,2.7386127875258306,0,1,1,2.7386127875258306,0\" fill=\"#4c78a8\" stroke-width=\"2\" opacity=\"0.7\"/><path aria-label=\"x1: −0.0460274413255; x2: 0.980762859995; y: 1\" role=\"graphics-symbol\" aria-roledescription=\"circle\" transform=\"translate(96.16437988953975,18.26976166711143)\" d=\"M2.7386127875258306,0A2.7386127875258306,2.7386127875258306,0,1,1,-2.7386127875258306,0A2.7386127875258306,2.7386127875258306,0,1,1,2.7386127875258306,0\" fill=\"#f58518\" stroke-width=\"2\" opacity=\"0.7\"/><path aria-label=\"x1: 0.0288618419033; x2: −0.298448376396; y: 0\" role=\"graphics-symbol\" aria-roledescription=\"circle\" transform=\"translate(102.40515349194513,124.87069803300888)\" d=\"M2.7386127875258306,0A2.7386127875258306,2.7386127875258306,0,1,1,-2.7386127875258306,0A2.7386127875258306,2.7386127875258306,0,1,1,2.7386127875258306,0\" fill=\"#4c78a8\" stroke-width=\"2\" opacity=\"0.7\"/><path aria-label=\"x1: −0.921667745527; x2: −0.413398603354; y: 1\" role=\"graphics-symbol\" aria-roledescription=\"circle\" transform=\"translate(23.194354539458047,134.44988361286536)\" d=\"M2.7386127875258306,0A2.7386127875258306,2.7386127875258306,0,1,1,-2.7386127875258306,0A2.7386127875258306,2.7386127875258306,0,1,1,2.7386127875258306,0\" fill=\"#f58518\" stroke-width=\"2\" opacity=\"0.7\"/><path aria-label=\"x1: −0.320338592143; x2: 0.0862261874616; y: 0\" role=\"graphics-symbol\" aria-roledescription=\"circle\" transform=\"translate(73.3051173213925,92.81448437819869)\" d=\"M2.7386127875258306,0A2.7386127875258306,2.7386127875258306,0,1,1,-2.7386127875258306,0A2.7386127875258306,2.7386127875258306,0,1,1,2.7386127875258306,0\" fill=\"#4c78a8\" stroke-width=\"2\" opacity=\"0.7\"/><path aria-label=\"x1: −1.04475899856; x2: −0.0613410214417; y: 1\" role=\"graphics-symbol\" aria-roledescription=\"circle\" transform=\"translate(12.936750120385309,105.11175178680827)\" d=\"M2.7386127875258306,0A2.7386127875258306,2.7386127875258306,0,1,1,-2.7386127875258306,0A2.7386127875258306,2.7386127875258306,0,1,1,2.7386127875258306,0\" fill=\"#f58518\" stroke-width=\"2\" opacity=\"0.7\"/><path aria-label=\"x1: −0.0468848661538; x2: −1.07221888419; y: 1\" role=\"graphics-symbol\" aria-roledescription=\"circle\" transform=\"translate(96.09292782051365,189.3515736827199)\" d=\"M2.7386127875258306,0A2.7386127875258306,2.7386127875258306,0,1,1,-2.7386127875258306,0A2.7386127875258306,2.7386127875258306,0,1,1,2.7386127875258306,0\" fill=\"#f58518\" stroke-width=\"2\" opacity=\"0.7\"/><path aria-label=\"x1: 0.123383500485; x2: 0.204126960138; y: 0\" role=\"graphics-symbol\" aria-roledescription=\"circle\" transform=\"translate(110.2819583737484,82.9894199885218)\" d=\"M2.7386127875258306,0A2.7386127875258306,2.7386127875258306,0,1,1,-2.7386127875258306,0A2.7386127875258306,2.7386127875258306,0,1,1,2.7386127875258306,0\" fill=\"#4c78a8\" stroke-width=\"2\" opacity=\"0.7\"/><path aria-label=\"x1: −0.905833663099; x2: −0.0536904072213; y: 1\" role=\"graphics-symbol\" aria-roledescription=\"circle\" transform=\"translate(24.5138614084043,104.4742006017791)\" d=\"M2.7386127875258306,0A2.7386127875258306,2.7386127875258306,0,1,1,-2.7386127875258306,0A2.7386127875258306,2.7386127875258306,0,1,1,2.7386127875258306,0\" fill=\"#f58518\" stroke-width=\"2\" opacity=\"0.7\"/><path aria-label=\"x1: 0.322149579765; x2: 0.122685294441; y: 0\" role=\"graphics-symbol\" aria-roledescription=\"circle\" transform=\"translate(126.84579831375274,89.77622546325937)\" d=\"M2.7386127875258306,0A2.7386127875258306,2.7386127875258306,0,1,1,-2.7386127875258306,0A2.7386127875258306,2.7386127875258306,0,1,1,2.7386127875258306,0\" fill=\"#4c78a8\" stroke-width=\"2\" opacity=\"0.7\"/><path aria-label=\"x1: −0.0785536699028; x2: 0.30478622883; y: 0\" role=\"graphics-symbol\" aria-roledescription=\"circle\" transform=\"translate(93.45386084143492,74.60114759753154)\" d=\"M2.7386127875258306,0A2.7386127875258306,2.7386127875258306,0,1,1,-2.7386127875258306,0A2.7386127875258306,2.7386127875258306,0,1,1,2.7386127875258306,0\" fill=\"#4c78a8\" stroke-width=\"2\" opacity=\"0.7\"/><path aria-label=\"x1: −0.148541605688; x2: −0.321313748833; y: 0\" role=\"graphics-symbol\" aria-roledescription=\"circle\" transform=\"translate(87.62153285931988,126.77614573611034)\" d=\"M2.7386127875258306,0A2.7386127875258306,2.7386127875258306,0,1,1,-2.7386127875258306,0A2.7386127875258306,2.7386127875258306,0,1,1,2.7386127875258306,0\" fill=\"#4c78a8\" stroke-width=\"2\" opacity=\"0.7\"/><path aria-label=\"x1: −0.981217267898; x2: −0.29460080489; y: 1\" role=\"graphics-symbol\" aria-roledescription=\"circle\" transform=\"translate(18.231894341836576,124.55006707420088)\" d=\"M2.7386127875258306,0A2.7386127875258306,2.7386127875258306,0,1,1,-2.7386127875258306,0A2.7386127875258306,2.7386127875258306,0,1,1,2.7386127875258306,0\" fill=\"#f58518\" stroke-width=\"2\" opacity=\"0.7\"/><path aria-label=\"x1: −0.232006487468; x2: −0.146085369355; y: 0\" role=\"graphics-symbol\" aria-roledescription=\"circle\" transform=\"translate(80.66612604429451,112.17378077957285)\" d=\"M2.7386127875258306,0A2.7386127875258306,2.7386127875258306,0,1,1,-2.7386127875258306,0A2.7386127875258306,2.7386127875258306,0,1,1,2.7386127875258306,0\" fill=\"#4c78a8\" stroke-width=\"2\" opacity=\"0.7\"/><path aria-label=\"x1: 0.757519346547; x2: 0.709558934934; y: 1\" role=\"graphics-symbol\" aria-roledescription=\"circle\" transform=\"translate(163.1266122122436,40.870088755475265)\" d=\"M2.7386127875258306,0A2.7386127875258306,2.7386127875258306,0,1,1,-2.7386127875258306,0A2.7386127875258306,2.7386127875258306,0,1,1,2.7386127875258306,0\" fill=\"#f58518\" stroke-width=\"2\" opacity=\"0.7\"/><path aria-label=\"x1: −0.157709078859; x2: −0.22702675814; y: 0\" role=\"graphics-symbol\" aria-roledescription=\"circle\" transform=\"translate(86.85757676173475,118.91889651163513)\" d=\"M2.7386127875258306,0A2.7386127875258306,2.7386127875258306,0,1,1,-2.7386127875258306,0A2.7386127875258306,2.7386127875258306,0,1,1,2.7386127875258306,0\" fill=\"#4c78a8\" stroke-width=\"2\" opacity=\"0.7\"/><path aria-label=\"x1: −0.318425290786; x2: −0.0690837574865; y: 0\" role=\"graphics-symbol\" aria-roledescription=\"circle\" transform=\"translate(73.46455910112859,105.7569797905428)\" d=\"M2.7386127875258306,0A2.7386127875258306,2.7386127875258306,0,1,1,-2.7386127875258306,0A2.7386127875258306,2.7386127875258306,0,1,1,2.7386127875258306,0\" fill=\"#4c78a8\" stroke-width=\"2\" opacity=\"0.7\"/><path aria-label=\"x1: −0.166192383411; x2: −0.342464575597; y: 0\" role=\"graphics-symbol\" aria-roledescription=\"circle\" transform=\"translate(86.15063471577699,128.53871463306342)\" d=\"M2.7386127875258306,0A2.7386127875258306,2.7386127875258306,0,1,1,-2.7386127875258306,0A2.7386127875258306,2.7386127875258306,0,1,1,2.7386127875258306,0\" fill=\"#4c78a8\" stroke-width=\"2\" opacity=\"0.7\"/><path aria-label=\"x1: −0.227390399166; x2: −0.963391904914; y: 1\" role=\"graphics-symbol\" aria-roledescription=\"circle\" transform=\"translate(81.05080006948009,180.28265874284025)\" d=\"M2.7386127875258306,0A2.7386127875258306,2.7386127875258306,0,1,1,-2.7386127875258306,0A2.7386127875258306,2.7386127875258306,0,1,1,2.7386127875258306,0\" fill=\"#f58518\" stroke-width=\"2\" opacity=\"0.7\"/><path aria-label=\"x1: 0.215783403675; x2: −0.195659903368; y: 0\" role=\"graphics-symbol\" aria-roledescription=\"circle\" transform=\"translate(117.9819503062618,116.30499194730615)\" d=\"M2.7386127875258306,0A2.7386127875258306,2.7386127875258306,0,1,1,-2.7386127875258306,0A2.7386127875258306,2.7386127875258306,0,1,1,2.7386127875258306,0\" fill=\"#4c78a8\" stroke-width=\"2\" opacity=\"0.7\"/><path aria-label=\"x1: −0.366050030814; x2: −0.963893114738; y: 1\" role=\"graphics-symbol\" aria-roledescription=\"circle\" transform=\"translate(69.49583076553722,180.32442622813937)\" d=\"M2.7386127875258306,0A2.7386127875258306,2.7386127875258306,0,1,1,-2.7386127875258306,0A2.7386127875258306,2.7386127875258306,0,1,1,2.7386127875258306,0\" fill=\"#f58518\" stroke-width=\"2\" opacity=\"0.7\"/><path aria-label=\"x1: 0.337674704764; x2: 0.0747692548673; y: 0\" role=\"graphics-symbol\" aria-roledescription=\"circle\" transform=\"translate(128.1395587303682,93.76922876105485)\" d=\"M2.7386127875258306,0A2.7386127875258306,2.7386127875258306,0,1,1,-2.7386127875258306,0A2.7386127875258306,2.7386127875258306,0,1,1,2.7386127875258306,0\" fill=\"#4c78a8\" stroke-width=\"2\" opacity=\"0.7\"/><path aria-label=\"x1: 0.533381280631; x2: 0.825087002241; y: 1\" role=\"graphics-symbol\" aria-roledescription=\"circle\" transform=\"translate(144.44844005258997,31.242749813280945)\" d=\"M2.7386127875258306,0A2.7386127875258306,2.7386127875258306,0,1,1,-2.7386127875258306,0A2.7386127875258306,2.7386127875258306,0,1,1,2.7386127875258306,0\" fill=\"#f58518\" stroke-width=\"2\" opacity=\"0.7\"/><path aria-label=\"x1: 0.770769538854; x2: −0.687196876784; y: 1\" role=\"graphics-symbol\" aria-roledescription=\"circle\" transform=\"translate(164.23079490446258,157.26640639865784)\" d=\"M2.7386127875258306,0A2.7386127875258306,2.7386127875258306,0,1,1,-2.7386127875258306,0A2.7386127875258306,2.7386127875258306,0,1,1,2.7386127875258306,0\" fill=\"#f58518\" stroke-width=\"2\" opacity=\"0.7\"/><path aria-label=\"x1: −0.0677140562245; x2: 0.271253857182; y: 0\" role=\"graphics-symbol\" aria-roledescription=\"circle\" transform=\"translate(94.35716198129198,77.39551190149194)\" d=\"M2.7386127875258306,0A2.7386127875258306,2.7386127875258306,0,1,1,-2.7386127875258306,0A2.7386127875258306,2.7386127875258306,0,1,1,2.7386127875258306,0\" fill=\"#4c78a8\" stroke-width=\"2\" opacity=\"0.7\"/><path aria-label=\"x1: −1.01678869065; x2: −0.289191964101; y: 1\" role=\"graphics-symbol\" aria-roledescription=\"circle\" transform=\"translate(15.267609112374664,124.09933034176217)\" d=\"M2.7386127875258306,0A2.7386127875258306,2.7386127875258306,0,1,1,-2.7386127875258306,0A2.7386127875258306,2.7386127875258306,0,1,1,2.7386127875258306,0\" fill=\"#f58518\" stroke-width=\"2\" opacity=\"0.7\"/><path aria-label=\"x1: −0.181216290388; x2: −0.311769592344; y: 0\" role=\"graphics-symbol\" aria-roledescription=\"circle\" transform=\"translate(84.89864246770334,125.98079936196794)\" d=\"M2.7386127875258306,0A2.7386127875258306,2.7386127875258306,0,1,1,-2.7386127875258306,0A2.7386127875258306,2.7386127875258306,0,1,1,2.7386127875258306,0\" fill=\"#4c78a8\" stroke-width=\"2\" opacity=\"0.7\"/><path aria-label=\"x1: 1.00334195023; x2: −0.0142648575688; y: 1\" role=\"graphics-symbol\" aria-roledescription=\"circle\" transform=\"translate(183.611829185984,101.18873813073392)\" d=\"M2.7386127875258306,0A2.7386127875258306,2.7386127875258306,0,1,1,-2.7386127875258306,0A2.7386127875258306,2.7386127875258306,0,1,1,2.7386127875258306,0\" fill=\"#f58518\" stroke-width=\"2\" opacity=\"0.7\"/><path aria-label=\"x1: −0.129437734103; x2: 0.168647326769; y: 0\" role=\"graphics-symbol\" aria-roledescription=\"circle\" transform=\"translate(89.21352215810991,85.94605610258175)\" d=\"M2.7386127875258306,0A2.7386127875258306,2.7386127875258306,0,1,1,-2.7386127875258306,0A2.7386127875258306,2.7386127875258306,0,1,1,2.7386127875258306,0\" fill=\"#4c78a8\" stroke-width=\"2\" opacity=\"0.7\"/><path aria-label=\"x1: 0.152711932148; x2: 0.175544848244; y: 0\" role=\"graphics-symbol\" aria-roledescription=\"circle\" transform=\"translate(112.72599434570212,85.37126264633083)\" d=\"M2.7386127875258306,0A2.7386127875258306,2.7386127875258306,0,1,1,-2.7386127875258306,0A2.7386127875258306,2.7386127875258306,0,1,1,2.7386127875258306,0\" fill=\"#4c78a8\" stroke-width=\"2\" opacity=\"0.7\"/><path aria-label=\"x1: 0.996636696657; x2: 0.0625932461017; y: 1\" role=\"graphics-symbol\" aria-roledescription=\"circle\" transform=\"translate(183.05305805475518,94.7838961581906)\" d=\"M2.7386127875258306,0A2.7386127875258306,2.7386127875258306,0,1,1,-2.7386127875258306,0A2.7386127875258306,2.7386127875258306,0,1,1,2.7386127875258306,0\" fill=\"#f58518\" stroke-width=\"2\" opacity=\"0.7\"/><path aria-label=\"x1: −0.180023602767; x2: −0.0717807332664; y: 0\" role=\"graphics-symbol\" aria-roledescription=\"circle\" transform=\"translate(84.99803310274172,105.98172777220145)\" d=\"M2.7386127875258306,0A2.7386127875258306,2.7386127875258306,0,1,1,-2.7386127875258306,0A2.7386127875258306,2.7386127875258306,0,1,1,2.7386127875258306,0\" fill=\"#4c78a8\" stroke-width=\"2\" opacity=\"0.7\"/><path aria-label=\"x1: 0.418074351965; x2: −0.861661550643; y: 1\" role=\"graphics-symbol\" aria-roledescription=\"circle\" transform=\"translate(134.8395293304224,171.80512922024897)\" d=\"M2.7386127875258306,0A2.7386127875258306,2.7386127875258306,0,1,1,-2.7386127875258306,0A2.7386127875258306,2.7386127875258306,0,1,1,2.7386127875258306,0\" fill=\"#f58518\" stroke-width=\"2\" opacity=\"0.7\"/><path aria-label=\"x1: −0.249644655968; x2: −0.198498306805; y: 0\" role=\"graphics-symbol\" aria-roledescription=\"circle\" transform=\"translate(79.19627866931988,116.54152556708412)\" d=\"M2.7386127875258306,0A2.7386127875258306,2.7386127875258306,0,1,1,-2.7386127875258306,0A2.7386127875258306,2.7386127875258306,0,1,1,2.7386127875258306,0\" fill=\"#4c78a8\" stroke-width=\"2\" opacity=\"0.7\"/><path aria-label=\"x1: 0.211793713262; x2: −0.129536556066; y: 0\" role=\"graphics-symbol\" aria-roledescription=\"circle\" transform=\"translate(117.64947610514113,110.79471300546592)\" d=\"M2.7386127875258306,0A2.7386127875258306,2.7386127875258306,0,1,1,-2.7386127875258306,0A2.7386127875258306,2.7386127875258306,0,1,1,2.7386127875258306,0\" fill=\"#4c78a8\" stroke-width=\"2\" opacity=\"0.7\"/><path aria-label=\"x1: 0.0542345497858; x2: 0.348674259598; y: 0\" role=\"graphics-symbol\" aria-roledescription=\"circle\" transform=\"translate(104.51954581548135,70.94381170015744)\" d=\"M2.7386127875258306,0A2.7386127875258306,2.7386127875258306,0,1,1,-2.7386127875258306,0A2.7386127875258306,2.7386127875258306,0,1,1,2.7386127875258306,0\" fill=\"#4c78a8\" stroke-width=\"2\" opacity=\"0.7\"/><path aria-label=\"x1: −0.126368411429; x2: −0.343244272964; y: 0\" role=\"graphics-symbol\" aria-roledescription=\"circle\" transform=\"translate(89.46929904762445,128.60368941363342)\" d=\"M2.7386127875258306,0A2.7386127875258306,2.7386127875258306,0,1,1,-2.7386127875258306,0A2.7386127875258306,2.7386127875258306,0,1,1,2.7386127875258306,0\" fill=\"#4c78a8\" stroke-width=\"2\" opacity=\"0.7\"/><path aria-label=\"x1: −0.972005377641; x2: 0.263505952354; y: 1\" role=\"graphics-symbol\" aria-roledescription=\"circle\" transform=\"translate(18.999551863263214,78.04117063719968)\" d=\"M2.7386127875258306,0A2.7386127875258306,2.7386127875258306,0,1,1,-2.7386127875258306,0A2.7386127875258306,2.7386127875258306,0,1,1,2.7386127875258306,0\" fill=\"#f58518\" stroke-width=\"2\" opacity=\"0.7\"/><path aria-label=\"x1: 0.16424287512; x2: 0.228103766743; y: 0\" role=\"graphics-symbol\" aria-roledescription=\"circle\" transform=\"translate(113.68690626004148,80.99135277142493)\" d=\"M2.7386127875258306,0A2.7386127875258306,2.7386127875258306,0,1,1,-2.7386127875258306,0A2.7386127875258306,2.7386127875258306,0,1,1,2.7386127875258306,0\" fill=\"#4c78a8\" stroke-width=\"2\" opacity=\"0.7\"/><path aria-label=\"x1: −0.245935861912; x2: −1.08994402203; y: 1\" role=\"graphics-symbol\" aria-roledescription=\"circle\" transform=\"translate(79.50534484067447,190.8286685023076)\" d=\"M2.7386127875258306,0A2.7386127875258306,2.7386127875258306,0,1,1,-2.7386127875258306,0A2.7386127875258306,2.7386127875258306,0,1,1,2.7386127875258306,0\" fill=\"#f58518\" stroke-width=\"2\" opacity=\"0.7\"/><path aria-label=\"x1: −0.143722589472; x2: 0.292535203858; y: 0\" role=\"graphics-symbol\" aria-roledescription=\"circle\" transform=\"translate(88.02311754396783,75.62206634514696)\" d=\"M2.7386127875258306,0A2.7386127875258306,2.7386127875258306,0,1,1,-2.7386127875258306,0A2.7386127875258306,2.7386127875258306,0,1,1,2.7386127875258306,0\" fill=\"#4c78a8\" stroke-width=\"2\" opacity=\"0.7\"/><path aria-label=\"x1: 0.820276845389; x2: 0.531949013543; y: 1\" role=\"graphics-symbol\" aria-roledescription=\"circle\" transform=\"translate(168.35640378243522,55.67091553806538)\" d=\"M2.7386127875258306,0A2.7386127875258306,2.7386127875258306,0,1,1,-2.7386127875258306,0A2.7386127875258306,2.7386127875258306,0,1,1,2.7386127875258306,0\" fill=\"#f58518\" stroke-width=\"2\" opacity=\"0.7\"/><path aria-label=\"x1: 0.111222466497; x2: 0.220960482713; y: 0\" role=\"graphics-symbol\" aria-roledescription=\"circle\" transform=\"translate(109.26853887471756,81.58662644055019)\" d=\"M2.7386127875258306,0A2.7386127875258306,2.7386127875258306,0,1,1,-2.7386127875258306,0A2.7386127875258306,2.7386127875258306,0,1,1,2.7386127875258306,0\" fill=\"#4c78a8\" stroke-width=\"2\" opacity=\"0.7\"/><path aria-label=\"x1: −0.979311470955; x2: −0.146341859072; y: 1\" role=\"graphics-symbol\" aria-roledescription=\"circle\" transform=\"translate(18.39071075373412,112.19515492264551)\" d=\"M2.7386127875258306,0A2.7386127875258306,2.7386127875258306,0,1,1,-2.7386127875258306,0A2.7386127875258306,2.7386127875258306,0,1,1,2.7386127875258306,0\" fill=\"#f58518\" stroke-width=\"2\" opacity=\"0.7\"/><path aria-label=\"x1: −0.567343453839; x2: 0.766022302265; y: 1\" role=\"graphics-symbol\" aria-roledescription=\"circle\" transform=\"translate(52.7213788467842,36.16480814456913)\" d=\"M2.7386127875258306,0A2.7386127875258306,2.7386127875258306,0,1,1,-2.7386127875258306,0A2.7386127875258306,2.7386127875258306,0,1,1,2.7386127875258306,0\" fill=\"#f58518\" stroke-width=\"2\" opacity=\"0.7\"/><path aria-label=\"x1: −0.143632032664; x2: 0.921467313552; y: 1\" role=\"graphics-symbol\" aria-roledescription=\"circle\" transform=\"translate(88.03066394464048,23.211057203988084)\" d=\"M2.7386127875258306,0A2.7386127875258306,2.7386127875258306,0,1,1,-2.7386127875258306,0A2.7386127875258306,2.7386127875258306,0,1,1,2.7386127875258306,0\" fill=\"#f58518\" stroke-width=\"2\" opacity=\"0.7\"/><path aria-label=\"x1: −0.0577957019309; x2: −0.959012933052; y: 1\" role=\"graphics-symbol\" aria-roledescription=\"circle\" transform=\"translate(95.1836915057588,179.91774442098657)\" d=\"M2.7386127875258306,0A2.7386127875258306,2.7386127875258306,0,1,1,-2.7386127875258306,0A2.7386127875258306,2.7386127875258306,0,1,1,2.7386127875258306,0\" fill=\"#f58518\" stroke-width=\"2\" opacity=\"0.7\"/><path aria-label=\"x1: 0.160871100413; x2: −0.938394576942; y: 1\" role=\"graphics-symbol\" aria-roledescription=\"circle\" transform=\"translate(113.40592503440863,178.19954807846983)\" d=\"M2.7386127875258306,0A2.7386127875258306,2.7386127875258306,0,1,1,-2.7386127875258306,0A2.7386127875258306,2.7386127875258306,0,1,1,2.7386127875258306,0\" fill=\"#f58518\" stroke-width=\"2\" opacity=\"0.7\"/><path aria-label=\"x1: 1.01284797868; x2: 0.153661991741; y: 1\" role=\"graphics-symbol\" aria-roledescription=\"circle\" transform=\"translate(184.40399822297164,87.19483402154312)\" d=\"M2.7386127875258306,0A2.7386127875258306,2.7386127875258306,0,1,1,-2.7386127875258306,0A2.7386127875258306,2.7386127875258306,0,1,1,2.7386127875258306,0\" fill=\"#f58518\" stroke-width=\"2\" opacity=\"0.7\"/><path aria-label=\"x1: 0.464775173155; x2: 0.866719944811; y: 1\" role=\"graphics-symbol\" aria-roledescription=\"circle\" transform=\"translate(138.7312644295641,27.773337932447916)\" d=\"M2.7386127875258306,0A2.7386127875258306,2.7386127875258306,0,1,1,-2.7386127875258306,0A2.7386127875258306,2.7386127875258306,0,1,1,2.7386127875258306,0\" fill=\"#f58518\" stroke-width=\"2\" opacity=\"0.7\"/><path aria-label=\"x1: 0.914583104781; x2: 0.302748895574; y: 1\" role=\"graphics-symbol\" aria-roledescription=\"circle\" transform=\"translate(176.21525873174738,74.77092536881187)\" d=\"M2.7386127875258306,0A2.7386127875258306,2.7386127875258306,0,1,1,-2.7386127875258306,0A2.7386127875258306,2.7386127875258306,0,1,1,2.7386127875258306,0\" fill=\"#f58518\" stroke-width=\"2\" opacity=\"0.7\"/><path aria-label=\"x1: −0.221066893259; x2: −0.199305404395; y: 0\" role=\"graphics-symbol\" aria-roledescription=\"circle\" transform=\"translate(81.5777588950517,116.60878369961016)\" d=\"M2.7386127875258306,0A2.7386127875258306,2.7386127875258306,0,1,1,-2.7386127875258306,0A2.7386127875258306,2.7386127875258306,0,1,1,2.7386127875258306,0\" fill=\"#4c78a8\" stroke-width=\"2\" opacity=\"0.7\"/><path aria-label=\"x1: −0.154119462122; x2: −0.149211100059; y: 0\" role=\"graphics-symbol\" aria-roledescription=\"circle\" transform=\"translate(87.15671148980097,112.43425833824313)\" d=\"M2.7386127875258306,0A2.7386127875258306,2.7386127875258306,0,1,1,-2.7386127875258306,0A2.7386127875258306,2.7386127875258306,0,1,1,2.7386127875258306,0\" fill=\"#4c78a8\" stroke-width=\"2\" opacity=\"0.7\"/><path aria-label=\"x1: 0.215058277156; x2: −0.283295019993; y: 0\" role=\"graphics-symbol\" aria-roledescription=\"circle\" transform=\"translate(117.92152309633667,123.60791833277767)\" d=\"M2.7386127875258306,0A2.7386127875258306,2.7386127875258306,0,1,1,-2.7386127875258306,0A2.7386127875258306,2.7386127875258306,0,1,1,2.7386127875258306,0\" fill=\"#4c78a8\" stroke-width=\"2\" opacity=\"0.7\"/><path aria-label=\"x1: −0.291153484393; x2: 0.160745020003; y: 0\" role=\"graphics-symbol\" aria-roledescription=\"circle\" transform=\"translate(75.73720963395665,86.60458166641907)\" d=\"M2.7386127875258306,0A2.7386127875258306,2.7386127875258306,0,1,1,-2.7386127875258306,0A2.7386127875258306,2.7386127875258306,0,1,1,2.7386127875258306,0\" fill=\"#4c78a8\" stroke-width=\"2\" opacity=\"0.7\"/><path aria-label=\"x1: −0.218895943802; x2: −0.0962690802971; y: 0\" role=\"graphics-symbol\" aria-roledescription=\"circle\" transform=\"translate(81.75867134983703,108.02242335808785)\" d=\"M2.7386127875258306,0A2.7386127875258306,2.7386127875258306,0,1,1,-2.7386127875258306,0A2.7386127875258306,2.7386127875258306,0,1,1,2.7386127875258306,0\" fill=\"#4c78a8\" stroke-width=\"2\" opacity=\"0.7\"/><path aria-label=\"x1: 0.0608726933696; x2: 1.00269281867; y: 1\" role=\"graphics-symbol\" aria-roledescription=\"circle\" transform=\"translate(105.07272444747065,16.442265111024312)\" d=\"M2.7386127875258306,0A2.7386127875258306,2.7386127875258306,0,1,1,-2.7386127875258306,0A2.7386127875258306,2.7386127875258306,0,1,1,2.7386127875258306,0\" fill=\"#f58518\" stroke-width=\"2\" opacity=\"0.7\"/><path aria-label=\"x1: −0.0500670961067; x2: −0.336313376076; y: 0\" role=\"graphics-symbol\" aria-roledescription=\"circle\" transform=\"translate(95.82774199111232,128.02611467296032)\" d=\"M2.7386127875258306,0A2.7386127875258306,2.7386127875258306,0,1,1,-2.7386127875258306,0A2.7386127875258306,2.7386127875258306,0,1,1,2.7386127875258306,0\" fill=\"#4c78a8\" stroke-width=\"2\" opacity=\"0.7\"/><path aria-label=\"x1: 1.00602366087; x2: −0.251769780945; y: 1\" role=\"graphics-symbol\" aria-roledescription=\"circle\" transform=\"translate(183.83530507232396,120.98081507875077)\" d=\"M2.7386127875258306,0A2.7386127875258306,2.7386127875258306,0,1,1,-2.7386127875258306,0A2.7386127875258306,2.7386127875258306,0,1,1,2.7386127875258306,0\" fill=\"#f58518\" stroke-width=\"2\" opacity=\"0.7\"/><path aria-label=\"x1: 0.257530596982; x2: −0.210682447709; y: 0\" role=\"graphics-symbol\" aria-roledescription=\"circle\" transform=\"translate(121.46088308181535,117.55687064240443)\" d=\"M2.7386127875258306,0A2.7386127875258306,2.7386127875258306,0,1,1,-2.7386127875258306,0A2.7386127875258306,2.7386127875258306,0,1,1,2.7386127875258306,0\" fill=\"#4c78a8\" stroke-width=\"2\" opacity=\"0.7\"/><path aria-label=\"x1: 0.680638432226; x2: −0.871623599385; y: 1\" role=\"graphics-symbol\" aria-roledescription=\"circle\" transform=\"translate(156.71986935214557,172.63529994873224)\" d=\"M2.7386127875258306,0A2.7386127875258306,2.7386127875258306,0,1,1,-2.7386127875258306,0A2.7386127875258306,2.7386127875258306,0,1,1,2.7386127875258306,0\" fill=\"#f58518\" stroke-width=\"2\" opacity=\"0.7\"/><path aria-label=\"x1: 0.279827173852; x2: −0.172605586323; y: 0\" role=\"graphics-symbol\" aria-roledescription=\"circle\" transform=\"translate(123.31893115434964,114.38379886026766)\" d=\"M2.7386127875258306,0A2.7386127875258306,2.7386127875258306,0,1,1,-2.7386127875258306,0A2.7386127875258306,2.7386127875258306,0,1,1,2.7386127875258306,0\" fill=\"#4c78a8\" stroke-width=\"2\" opacity=\"0.7\"/><path aria-label=\"x1: 0.241002148218; x2: 0.238243990224; y: 0\" role=\"graphics-symbol\" aria-roledescription=\"circle\" transform=\"translate(120.08351235150857,80.14633414801038)\" d=\"M2.7386127875258306,0A2.7386127875258306,2.7386127875258306,0,1,1,-2.7386127875258306,0A2.7386127875258306,2.7386127875258306,0,1,1,2.7386127875258306,0\" fill=\"#4c78a8\" stroke-width=\"2\" opacity=\"0.7\"/><path aria-label=\"x1: 0.136146695061; x2: 0.363069429465; y: 0\" role=\"graphics-symbol\" aria-roledescription=\"circle\" transform=\"translate(111.34555792173207,69.7442142112111)\" d=\"M2.7386127875258306,0A2.7386127875258306,2.7386127875258306,0,1,1,-2.7386127875258306,0A2.7386127875258306,2.7386127875258306,0,1,1,2.7386127875258306,0\" fill=\"#4c78a8\" stroke-width=\"2\" opacity=\"0.7\"/></g><g class=\"mark-group role-legend\" role=\"graphics-symbol\" aria-roledescription=\"legend\" aria-label=\"Symbol legend titled 'y' for fill color with 2 values: 0, 1\"><g transform=\"translate(218,0)\"><path class=\"background\" aria-hidden=\"true\" d=\"M0,0h21v40h-21Z\" pointer-events=\"none\"/><g><g class=\"mark-group role-legend-entry\"><g transform=\"translate(0,16)\"><path class=\"background\" aria-hidden=\"true\" d=\"M0,0h0v0h0Z\" pointer-events=\"none\"/><g><g class=\"mark-group role-scope\" role=\"graphics-object\" aria-roledescription=\"group mark container\"><g transform=\"translate(0,0)\"><path class=\"background\" aria-hidden=\"true\" d=\"M0,0h21v11h-21Z\" pointer-events=\"none\" opacity=\"1\"/><g><g class=\"mark-symbol role-legend-symbol\" pointer-events=\"none\"><path transform=\"translate(6,6)\" d=\"M5,0A5,5,0,1,1,-5,0A5,5,0,1,1,5,0\" fill=\"#4c78a8\" stroke-width=\"1.5\" opacity=\"0.7\"/></g><g class=\"mark-text role-legend-label\" pointer-events=\"none\"><text text-anchor=\"start\" transform=\"translate(16,9)\" font-family=\"sans-serif\" font-size=\"10px\" fill=\"#000\" opacity=\"1\">0</text></g></g><path class=\"foreground\" aria-hidden=\"true\" d=\"\" pointer-events=\"none\" display=\"none\"/></g><g transform=\"translate(0,13)\"><path class=\"background\" aria-hidden=\"true\" d=\"M0,0h21v11h-21Z\" pointer-events=\"none\" opacity=\"1\"/><g><g class=\"mark-symbol role-legend-symbol\" pointer-events=\"none\"><path transform=\"translate(6,6)\" d=\"M5,0A5,5,0,1,1,-5,0A5,5,0,1,1,5,0\" fill=\"#f58518\" stroke-width=\"1.5\" opacity=\"0.7\"/></g><g class=\"mark-text role-legend-label\" pointer-events=\"none\"><text text-anchor=\"start\" transform=\"translate(16,9)\" font-family=\"sans-serif\" font-size=\"10px\" fill=\"#000\" opacity=\"1\">1</text></g></g><path class=\"foreground\" aria-hidden=\"true\" d=\"\" pointer-events=\"none\" display=\"none\"/></g></g></g><path class=\"foreground\" aria-hidden=\"true\" d=\"\" pointer-events=\"none\" display=\"none\"/></g></g><g class=\"mark-text role-legend-title\" pointer-events=\"none\"><text text-anchor=\"start\" transform=\"translate(0,9)\" font-family=\"sans-serif\" font-size=\"11px\" font-weight=\"bold\" fill=\"#000\" opacity=\"1\">y</text></g></g><path class=\"foreground\" aria-hidden=\"true\" d=\"\" pointer-events=\"none\" display=\"none\"/></g></g></g><path class=\"foreground\" aria-hidden=\"true\" d=\"\" display=\"none\"/></g></g></g></svg>\n"
      ],
      "text/plain": [
       "@vlplot(\n",
       "    mark=\"circle\",\n",
       "    encoding={\n",
       "        x={\n",
       "            field=\"x1\"\n",
       "        },\n",
       "        y={\n",
       "            field=\"x2\"\n",
       "        },\n",
       "        color={\n",
       "            field=\"y\",\n",
       "            type=\"nominal\"\n",
       "        }\n",
       "    },\n",
       "    data={\n",
       "        values=...\n",
       "    }\n",
       ")"
      ]
     },
     "execution_count": 33,
     "metadata": {},
     "output_type": "execute_result"
    }
   ],
   "source": [
    "using VegaLite\n",
    "dfCircles |> @vlplot(:circle, x=:x1, y=:x2, color = :\"y:n\") "
   ]
  },
  {
   "cell_type": "markdown",
   "id": "ddbce695",
   "metadata": {},
   "source": [
    "## Interleaved half circles"
   ]
  },
  {
   "cell_type": "code",
   "execution_count": 34,
   "id": "8d892f10",
   "metadata": {},
   "outputs": [
    {
     "data": {
      "text/html": [
       "<table class=\"data-frame\"><thead><tr><th></th><th>x1</th><th>x2</th><th>y</th></tr><tr><th></th><th>Float64</th><th>Float64</th><th>Cat…</th></tr></thead><tbody><p>3 rows × 3 columns</p><tr><th>1</th><td>1.51043</td><td>-0.593545</td><td>1</td></tr><tr><th>2</th><td>1.0766</td><td>0.287344</td><td>0</td></tr><tr><th>3</th><td>-0.670029</td><td>0.684497</td><td>0</td></tr></tbody></table>"
      ],
      "text/latex": [
       "\\begin{tabular}{r|ccc}\n",
       "\t& x1 & x2 & y\\\\\n",
       "\t\\hline\n",
       "\t& Float64 & Float64 & Cat…\\\\\n",
       "\t\\hline\n",
       "\t1 & 1.51043 & -0.593545 & 1 \\\\\n",
       "\t2 & 1.0766 & 0.287344 & 0 \\\\\n",
       "\t3 & -0.670029 & 0.684497 & 0 \\\\\n",
       "\\end{tabular}\n"
      ],
      "text/plain": [
       "\u001b[1m3×3 DataFrame\u001b[0m\n",
       "\u001b[1m Row \u001b[0m│\u001b[1m x1        \u001b[0m\u001b[1m x2        \u001b[0m\u001b[1m y    \u001b[0m\n",
       "\u001b[1m     \u001b[0m│\u001b[90m Float64   \u001b[0m\u001b[90m Float64   \u001b[0m\u001b[90m Cat… \u001b[0m\n",
       "─────┼────────────────────────────\n",
       "   1 │  1.51043   -0.593545  1\n",
       "   2 │  1.0766     0.287344  0\n",
       "   3 │ -0.670029   0.684497  0"
      ]
     },
     "execution_count": 34,
     "metadata": {},
     "output_type": "execute_result"
    }
   ],
   "source": [
    "using MLJ, DataFrames\n",
    "X, y = make_moons(100; noise=0.05)\n",
    "dfHalfCircles = DataFrame(X)\n",
    "dfHalfCircles.y = y\n",
    "first(dfHalfCircles, 3)"
   ]
  },
  {
   "cell_type": "code",
   "execution_count": 35,
   "id": "f2bbedcc",
   "metadata": {},
   "outputs": [
    {
     "data": {
      "application/vnd.vegalite.v4+json": {
       "data": {
        "values": [
         {
          "x1": 1.510428233346555,
          "x2": -0.593544983858969,
          "y": 1
         },
         {
          "x1": 1.0766049526693433,
          "x2": 0.28734372995317176,
          "y": 0
         },
         {
          "x1": -0.6700294271623525,
          "x2": 0.6844966788755655,
          "y": 0
         },
         {
          "x1": 1.491918934469668,
          "x2": -0.514438784665821,
          "y": 1
         },
         {
          "x1": 0.2194750675428384,
          "x2": -0.3449324369405078,
          "y": 1
         },
         {
          "x1": -0.968742388843242,
          "x2": 0.13214381203907158,
          "y": 0
         },
         {
          "x1": 1.5864538918436124,
          "x2": -0.4537646323921127,
          "y": 1
         },
         {
          "x1": 1.7204192347506289,
          "x2": -0.41759348457054196,
          "y": 1
         },
         {
          "x1": 1.4829545198262495,
          "x2": -0.5296428297615945,
          "y": 1
         },
         {
          "x1": 0.48631231913215045,
          "x2": 0.9029865511858481,
          "y": 0
         },
         {
          "x1": 1.3914224654023515,
          "x2": -0.7103131976163422,
          "y": 1
         },
         {
          "x1": 0.7398727277003834,
          "x2": 0.6862633416473308,
          "y": 0
         },
         {
          "x1": 0.9280723038181655,
          "x2": 0.10231050654721949,
          "y": 0
         },
         {
          "x1": 0.017489190714015085,
          "x2": 0.973709978623003,
          "y": 0
         },
         {
          "x1": 1.8565742193559254,
          "x2": -0.31028086665022175,
          "y": 1
         },
         {
          "x1": 0.812200329838248,
          "x2": 0.6022080650940037,
          "y": 0
         },
         {
          "x1": 0.11657703544255235,
          "x2": 0.9189641261097745,
          "y": 0
         },
         {
          "x1": 0.3972156764678047,
          "x2": -0.5917407020647854,
          "y": 1
         },
         {
          "x1": 0.5567716733587857,
          "x2": -0.5527838390194538,
          "y": 1
         },
         {
          "x1": -0.6807857249502098,
          "x2": 0.7325069200174301,
          "y": 0
         },
         {
          "x1": 0.714057763855871,
          "x2": -0.6933878852735575,
          "y": 1
         },
         {
          "x1": 0.8052108497934898,
          "x2": -0.7663318220452681,
          "y": 1
         },
         {
          "x1": 0.7002867888337526,
          "x2": 0.6951408257090581,
          "y": 0
         },
         {
          "x1": -0.03838458546687322,
          "x2": 0.9551377159672246,
          "y": 0
         },
         {
          "x1": 0.4323226515834456,
          "x2": 0.9089703183635125,
          "y": 0
         },
         {
          "x1": 2.09397188267325,
          "x2": 0.11945795389654058,
          "y": 1
         },
         {
          "x1": 0.18426474525013195,
          "x2": 0.9428888906643228,
          "y": 0
         },
         {
          "x1": 0.8197445207997363,
          "x2": 0.4902452389651317,
          "y": 0
         },
         {
          "x1": -0.7876428516274634,
          "x2": 0.7371176073744107,
          "y": 0
         },
         {
          "x1": 0.45655292776126516,
          "x2": 0.8867668863237494,
          "y": 0
         },
         {
          "x1": 0.12272964774628083,
          "x2": -0.21536623040068564,
          "y": 1
         },
         {
          "x1": 0.6151676015232966,
          "x2": -0.5710380435191522,
          "y": 1
         },
         {
          "x1": 1.3682942013154202,
          "x2": -0.49278359985774955,
          "y": 1
         },
         {
          "x1": -0.5350048640161045,
          "x2": 0.8818293758239442,
          "y": 0
         },
         {
          "x1": 0.9657589500043378,
          "x2": 0.2366976228113605,
          "y": 0
         },
         {
          "x1": 1.8795897033624136,
          "x2": -0.16513742852082033,
          "y": 1
         },
         {
          "x1": 1.004450237732333,
          "x2": -0.6522308183396124,
          "y": 1
         },
         {
          "x1": 0.71026490336041,
          "x2": -0.7694937688791289,
          "y": 1
         },
         {
          "x1": 1.0416475938932086,
          "x2": 0.03758997145342621,
          "y": 0
         },
         {
          "x1": 1.5666577713216323,
          "x2": -0.5163838406297007,
          "y": 1
         },
         {
          "x1": 0.09593724314017145,
          "x2": -0.2117448267958056,
          "y": 1
         },
         {
          "x1": -0.5559973669040169,
          "x2": 0.7594807449995064,
          "y": 0
         },
         {
          "x1": -0.7862341093186331,
          "x2": 0.6526571098752973,
          "y": 0
         },
         {
          "x1": 0.5502558379166724,
          "x2": 0.8708468735671558,
          "y": 0
         },
         {
          "x1": 1.226996830299098,
          "x2": -0.7135691603003318,
          "y": 1
         },
         {
          "x1": 0.0611818819014712,
          "x2": 0.99502417247868,
          "y": 0
         },
         {
          "x1": 0.03154089621973246,
          "x2": 0.0007772519583724852,
          "y": 1
         },
         {
          "x1": 0.1421563703112859,
          "x2": 0.8852657738379694,
          "y": 0
         },
         {
          "x1": -0.5966012835884854,
          "x2": 0.6858932198856433,
          "y": 0
         },
         {
          "x1": 0.8564994683143587,
          "x2": -0.6831970500804575,
          "y": 1
         },
         {
          "x1": 1.7320756115687341,
          "x2": -0.31637105844822455,
          "y": 1
         },
         {
          "x1": -0.7072226640660259,
          "x2": 0.6314962775850694,
          "y": 0
         },
         {
          "x1": -1.0381466701903586,
          "x2": 0.045134556913971585,
          "y": 0
         },
         {
          "x1": 1.0161104485260561,
          "x2": -0.0074057602977531094,
          "y": 0
         },
         {
          "x1": 1.2594571275780746,
          "x2": -0.6830187093001374,
          "y": 1
         },
         {
          "x1": 0.20524290654422037,
          "x2": -0.2351837738272684,
          "y": 1
         },
         {
          "x1": 0.16721849345506018,
          "x2": -0.39726196640775585,
          "y": 1
         },
         {
          "x1": -0.7603875301295654,
          "x2": 0.653547593182972,
          "y": 0
         },
         {
          "x1": 0.334583401839193,
          "x2": -0.4349228744126756,
          "y": 1
         },
         {
          "x1": -1.0093593933776301,
          "x2": 0.22282354296375734,
          "y": 0
         },
         {
          "x1": 0.06495530214034231,
          "x2": 0.2620517511270624,
          "y": 1
         },
         {
          "x1": 0.1590534693699958,
          "x2": -0.14744244699318332,
          "y": 1
         },
         {
          "x1": -0.032729884876842884,
          "x2": 0.25551236428065754,
          "y": 1
         },
         {
          "x1": 0.6334167233326542,
          "x2": -0.5376786272578465,
          "y": 1
         },
         {
          "x1": -0.5551554898092046,
          "x2": 0.7769129111604688,
          "y": 0
         },
         {
          "x1": 0.4251388117804702,
          "x2": 0.842619666100134,
          "y": 0
         },
         {
          "x1": 0.2961854506671264,
          "x2": -0.5217734858554455,
          "y": 1
         },
         {
          "x1": -0.8080632367623442,
          "x2": 0.6363254748595879,
          "y": 0
         },
         {
          "x1": -0.016001963980325634,
          "x2": -0.15926269332903886,
          "y": 1
         },
         {
          "x1": 1.8415790404623034,
          "x2": -0.2175886231575324,
          "y": 1
         },
         {
          "x1": 0.0006731087906463179,
          "x2": 0.9409770197578414,
          "y": 0
         },
         {
          "x1": 0.11840055984088309,
          "x2": -0.048434326436356874,
          "y": 1
         },
         {
          "x1": 2.01964822945124,
          "x2": 0.11124532765119062,
          "y": 1
         },
         {
          "x1": 0.43264836691367947,
          "x2": -0.5738462076623513,
          "y": 1
         },
         {
          "x1": 0.7678444426277812,
          "x2": -0.5960458042009301,
          "y": 1
         },
         {
          "x1": 1.0268502332915503,
          "x2": 0.033866528750531796,
          "y": 0
         },
         {
          "x1": 0.030293019734338164,
          "x2": 0.06472056004365906,
          "y": 1
         },
         {
          "x1": -0.5045068600166756,
          "x2": 0.8394012342201114,
          "y": 0
         },
         {
          "x1": 0.12285262542677196,
          "x2": 1.0607958747384905,
          "y": 0
         },
         {
          "x1": 1.9539374994206562,
          "x2": 0.20645274505162695,
          "y": 1
         },
         {
          "x1": 1.939066854561251,
          "x2": -0.07308462161624796,
          "y": 1
         },
         {
          "x1": 1.0020724377095838,
          "x2": 0.20326774963950972,
          "y": 0
         },
         {
          "x1": -0.004554750927746876,
          "x2": 0.16489507299841075,
          "y": 1
         },
         {
          "x1": -0.35619193715885955,
          "x2": 0.9143215909888808,
          "y": 0
         },
         {
          "x1": -0.8615637154123704,
          "x2": 0.5448811183556543,
          "y": 0
         },
         {
          "x1": 0.6670814134624392,
          "x2": 0.6995445171171256,
          "y": 0
         },
         {
          "x1": -0.8986988031544149,
          "x2": 0.5496090648589314,
          "y": 0
         },
         {
          "x1": -0.988410309474843,
          "x2": 0.06941811361377462,
          "y": 0
         },
         {
          "x1": 0.4670579303377478,
          "x2": 0.8831683596889488,
          "y": 0
         },
         {
          "x1": 0.11818200886453276,
          "x2": -0.14234791518510712,
          "y": 1
         },
         {
          "x1": 0.8386120316421911,
          "x2": 0.5617326602056457,
          "y": 0
         },
         {
          "x1": 0.040642266480131535,
          "x2": 0.9955742361417887,
          "y": 0
         },
         {
          "x1": -0.7578946617511461,
          "x2": 0.6392226742412092,
          "y": 0
         },
         {
          "x1": 0.11945594678957051,
          "x2": -0.12816671694587808,
          "y": 1
         },
         {
          "x1": 0.07934363354448407,
          "x2": -0.21384152060614964,
          "y": 1
         },
         {
          "x1": 0.6841221700068649,
          "x2": 0.861189550185666,
          "y": 0
         },
         {
          "x1": 1.8584098461430327,
          "x2": 0.303975964211057,
          "y": 1
         },
         {
          "x1": 2.0131809411485975,
          "x2": 0.16308345165934193,
          "y": 1
         },
         {
          "x1": 1.9894529181000757,
          "x2": 0.07897289171063222,
          "y": 1
         },
         {
          "x1": -0.9891334996805462,
          "x2": 0.09672904131271622,
          "y": 0
         }
        ]
       },
       "encoding": {
        "color": {
         "field": "y",
         "type": "nominal"
        },
        "x": {
         "field": "x1",
         "type": "quantitative"
        },
        "y": {
         "field": "x2",
         "type": "quantitative"
        }
       },
       "mark": "circle"
      },
      "image/png": "[encoded data removed]",
      "image/svg+xml": [
       "<?xml version=\"1.0\" encoding=\"utf-8\"?>\n",
       "<!DOCTYPE svg PUBLIC \"-//W3C//DTD SVG 1.1//EN\" \"http://www.w3.org/Graphics/SVG/1.1/DTD/svg11.dtd\">\n",
       "<svg xmlns=\"http://www.w3.org/2000/svg\" xmlns:xlink=\"http://www.w3.org/1999/xlink\" version=\"1.1\" class=\"marks\" width=\"291\" height=\"242\" viewBox=\"0 0 291 242\"><rect width=\"291\" height=\"242\" fill=\"white\"/><g fill=\"none\" stroke-miterlimit=\"10\" transform=\"translate(47,5)\"><g class=\"mark-group role-frame root\" role=\"graphics-object\" aria-roledescription=\"group mark container\"><g transform=\"translate(0,0)\"><path class=\"background\" aria-hidden=\"true\" d=\"M0.5,0.5h200v200h-200Z\" stroke=\"#ddd\"/><g><g class=\"mark-group role-axis\" aria-hidden=\"true\"><g transform=\"translate(0.5,200.5)\"><path class=\"background\" aria-hidden=\"true\" d=\"M0,0h0v0h0Z\" pointer-events=\"none\"/><g><g class=\"mark-rule role-axis-grid\" pointer-events=\"none\"><line transform=\"translate(25,-200)\" x2=\"0\" y2=\"200\" stroke=\"#ddd\" stroke-width=\"1\" opacity=\"1\"/><line transform=\"translate(75,-200)\" x2=\"0\" y2=\"200\" stroke=\"#ddd\" stroke-width=\"1\" opacity=\"1\"/><line transform=\"translate(125,-200)\" x2=\"0\" y2=\"200\" stroke=\"#ddd\" stroke-width=\"1\" opacity=\"1\"/><line transform=\"translate(175,-200)\" x2=\"0\" y2=\"200\" stroke=\"#ddd\" stroke-width=\"1\" opacity=\"1\"/></g></g><path class=\"foreground\" aria-hidden=\"true\" d=\"\" pointer-events=\"none\" display=\"none\"/></g></g><g class=\"mark-group role-axis\" aria-hidden=\"true\"><g transform=\"translate(0.5,0.5)\"><path class=\"background\" aria-hidden=\"true\" d=\"M0,0h0v0h0Z\" pointer-events=\"none\"/><g><g class=\"mark-rule role-axis-grid\" pointer-events=\"none\"><line transform=\"translate(0,170)\" x2=\"200\" y2=\"0\" stroke=\"#ddd\" stroke-width=\"1\" opacity=\"1\"/><line transform=\"translate(0,120)\" x2=\"200\" y2=\"0\" stroke=\"#ddd\" stroke-width=\"1\" opacity=\"1\"/><line transform=\"translate(0,70)\" x2=\"200\" y2=\"0\" stroke=\"#ddd\" stroke-width=\"1\" opacity=\"1\"/><line transform=\"translate(0,20)\" x2=\"200\" y2=\"0\" stroke=\"#ddd\" stroke-width=\"1\" opacity=\"1\"/></g></g><path class=\"foreground\" aria-hidden=\"true\" d=\"\" pointer-events=\"none\" display=\"none\"/></g></g><g class=\"mark-group role-axis\" role=\"graphics-symbol\" aria-roledescription=\"axis\" aria-label=\"X-axis titled 'x1' for a linear scale with values from −2 to 3\"><g transform=\"translate(0.5,200.5)\"><path class=\"background\" aria-hidden=\"true\" d=\"M0,0h0v0h0Z\" pointer-events=\"none\"/><g><g class=\"mark-rule role-axis-tick\" pointer-events=\"none\"><line transform=\"translate(25,0)\" x2=\"0\" y2=\"5\" stroke=\"#888\" stroke-width=\"1\" opacity=\"1\"/><line transform=\"translate(75,0)\" x2=\"0\" y2=\"5\" stroke=\"#888\" stroke-width=\"1\" opacity=\"1\"/><line transform=\"translate(125,0)\" x2=\"0\" y2=\"5\" stroke=\"#888\" stroke-width=\"1\" opacity=\"1\"/><line transform=\"translate(175,0)\" x2=\"0\" y2=\"5\" stroke=\"#888\" stroke-width=\"1\" opacity=\"1\"/></g><g class=\"mark-text role-axis-label\" pointer-events=\"none\"><text text-anchor=\"middle\" transform=\"translate(25,15)\" font-family=\"sans-serif\" font-size=\"10px\" fill=\"#000\" opacity=\"1\">−1</text><text text-anchor=\"middle\" transform=\"translate(75,15)\" font-family=\"sans-serif\" font-size=\"10px\" fill=\"#000\" opacity=\"1\">0</text><text text-anchor=\"middle\" transform=\"translate(125,15)\" font-family=\"sans-serif\" font-size=\"10px\" fill=\"#000\" opacity=\"1\">1</text><text text-anchor=\"middle\" transform=\"translate(175,15)\" font-family=\"sans-serif\" font-size=\"10px\" fill=\"#000\" opacity=\"1\">2</text></g><g class=\"mark-rule role-axis-domain\" pointer-events=\"none\"><line transform=\"translate(0,0)\" x2=\"200\" y2=\"0\" stroke=\"#888\" stroke-width=\"1\" opacity=\"1\"/></g><g class=\"mark-text role-axis-title\" pointer-events=\"none\"><text text-anchor=\"middle\" transform=\"translate(100,30)\" font-family=\"sans-serif\" font-size=\"11px\" font-weight=\"bold\" fill=\"#000\" opacity=\"1\">x1</text></g></g><path class=\"foreground\" aria-hidden=\"true\" d=\"\" pointer-events=\"none\" display=\"none\"/></g></g><g class=\"mark-group role-axis\" role=\"graphics-symbol\" aria-roledescription=\"axis\" aria-label=\"Y-axis titled 'x2' for a linear scale with values from −0.8 to 1.2\"><g transform=\"translate(0.5,0.5)\"><path class=\"background\" aria-hidden=\"true\" d=\"M0,0h0v0h0Z\" pointer-events=\"none\"/><g><g class=\"mark-rule role-axis-tick\" pointer-events=\"none\"><line transform=\"translate(0,170)\" x2=\"-5\" y2=\"0\" stroke=\"#888\" stroke-width=\"1\" opacity=\"1\"/><line transform=\"translate(0,120)\" x2=\"-5\" y2=\"0\" stroke=\"#888\" stroke-width=\"1\" opacity=\"1\"/><line transform=\"translate(0,70)\" x2=\"-5\" y2=\"0\" stroke=\"#888\" stroke-width=\"1\" opacity=\"1\"/><line transform=\"translate(0,20)\" x2=\"-5\" y2=\"0\" stroke=\"#888\" stroke-width=\"1\" opacity=\"1\"/></g><g class=\"mark-text role-axis-label\" pointer-events=\"none\"><text text-anchor=\"end\" transform=\"translate(-7,173)\" font-family=\"sans-serif\" font-size=\"10px\" fill=\"#000\" opacity=\"1\">−0.5</text><text text-anchor=\"end\" transform=\"translate(-7,123)\" font-family=\"sans-serif\" font-size=\"10px\" fill=\"#000\" opacity=\"1\">0.0</text><text text-anchor=\"end\" transform=\"translate(-7,73)\" font-family=\"sans-serif\" font-size=\"10px\" fill=\"#000\" opacity=\"1\">0.5</text><text text-anchor=\"end\" transform=\"translate(-7,22.999999999999996)\" font-family=\"sans-serif\" font-size=\"10px\" fill=\"#000\" opacity=\"1\">1.0</text></g><g class=\"mark-rule role-axis-domain\" pointer-events=\"none\"><line transform=\"translate(0,200)\" x2=\"0\" y2=\"-200\" stroke=\"#888\" stroke-width=\"1\" opacity=\"1\"/></g><g class=\"mark-text role-axis-title\" pointer-events=\"none\"><text text-anchor=\"middle\" transform=\"translate(-31,100) rotate(-90) translate(0,-2)\" font-family=\"sans-serif\" font-size=\"11px\" font-weight=\"bold\" fill=\"#000\" opacity=\"1\">x2</text></g></g><path class=\"foreground\" aria-hidden=\"true\" d=\"\" pointer-events=\"none\" display=\"none\"/></g></g><g class=\"mark-symbol role-mark marks\" role=\"graphics-object\" aria-roledescription=\"symbol mark container\"><path aria-label=\"x1: 1.51042823335; x2: −0.593544983859; y: 1\" role=\"graphics-symbol\" aria-roledescription=\"circle\" transform=\"translate(150.52141166732775,179.3544983858969)\" d=\"M2.7386127875258306,0A2.7386127875258306,2.7386127875258306,0,1,1,-2.7386127875258306,0A2.7386127875258306,2.7386127875258306,0,1,1,2.7386127875258306,0\" fill=\"#f58518\" stroke-width=\"2\" opacity=\"0.7\"/><path aria-label=\"x1: 1.07660495267; x2: 0.287343729953; y: 0\" role=\"graphics-symbol\" aria-roledescription=\"circle\" transform=\"translate(128.83024763346717,91.26562700468281)\" d=\"M2.7386127875258306,0A2.7386127875258306,2.7386127875258306,0,1,1,-2.7386127875258306,0A2.7386127875258306,2.7386127875258306,0,1,1,2.7386127875258306,0\" fill=\"#4c78a8\" stroke-width=\"2\" opacity=\"0.7\"/><path aria-label=\"x1: −0.670029427162; x2: 0.684496678876; y: 0\" role=\"graphics-symbol\" aria-roledescription=\"circle\" transform=\"translate(41.49852864188237,51.55033211244344)\" d=\"M2.7386127875258306,0A2.7386127875258306,2.7386127875258306,0,1,1,-2.7386127875258306,0A2.7386127875258306,2.7386127875258306,0,1,1,2.7386127875258306,0\" fill=\"#4c78a8\" stroke-width=\"2\" opacity=\"0.7\"/><path aria-label=\"x1: 1.49191893447; x2: −0.514438784666; y: 1\" role=\"graphics-symbol\" aria-roledescription=\"circle\" transform=\"translate(149.5959467234834,171.4438784665821)\" d=\"M2.7386127875258306,0A2.7386127875258306,2.7386127875258306,0,1,1,-2.7386127875258306,0A2.7386127875258306,2.7386127875258306,0,1,1,2.7386127875258306,0\" fill=\"#f58518\" stroke-width=\"2\" opacity=\"0.7\"/><path aria-label=\"x1: 0.219475067543; x2: −0.344932436941; y: 1\" role=\"graphics-symbol\" aria-roledescription=\"circle\" transform=\"translate(85.97375337714193,154.49324369405076)\" d=\"M2.7386127875258306,0A2.7386127875258306,2.7386127875258306,0,1,1,-2.7386127875258306,0A2.7386127875258306,2.7386127875258306,0,1,1,2.7386127875258306,0\" fill=\"#f58518\" stroke-width=\"2\" opacity=\"0.7\"/><path aria-label=\"x1: −0.968742388843; x2: 0.132143812039; y: 0\" role=\"graphics-symbol\" aria-roledescription=\"circle\" transform=\"translate(26.562880557837897,106.78561879609285)\" d=\"M2.7386127875258306,0A2.7386127875258306,2.7386127875258306,0,1,1,-2.7386127875258306,0A2.7386127875258306,2.7386127875258306,0,1,1,2.7386127875258306,0\" fill=\"#4c78a8\" stroke-width=\"2\" opacity=\"0.7\"/><path aria-label=\"x1: 1.58645389184; x2: −0.453764632392; y: 1\" role=\"graphics-symbol\" aria-roledescription=\"circle\" transform=\"translate(154.32269459218062,165.37646323921126)\" d=\"M2.7386127875258306,0A2.7386127875258306,2.7386127875258306,0,1,1,-2.7386127875258306,0A2.7386127875258306,2.7386127875258306,0,1,1,2.7386127875258306,0\" fill=\"#f58518\" stroke-width=\"2\" opacity=\"0.7\"/><path aria-label=\"x1: 1.72041923475; x2: −0.417593484571; y: 1\" role=\"graphics-symbol\" aria-roledescription=\"circle\" transform=\"translate(161.02096173753145,161.7593484570542)\" d=\"M2.7386127875258306,0A2.7386127875258306,2.7386127875258306,0,1,1,-2.7386127875258306,0A2.7386127875258306,2.7386127875258306,0,1,1,2.7386127875258306,0\" fill=\"#f58518\" stroke-width=\"2\" opacity=\"0.7\"/><path aria-label=\"x1: 1.48295451983; x2: −0.529642829762; y: 1\" role=\"graphics-symbol\" aria-roledescription=\"circle\" transform=\"translate(149.14772599131248,172.96428297615944)\" d=\"M2.7386127875258306,0A2.7386127875258306,2.7386127875258306,0,1,1,-2.7386127875258306,0A2.7386127875258306,2.7386127875258306,0,1,1,2.7386127875258306,0\" fill=\"#f58518\" stroke-width=\"2\" opacity=\"0.7\"/><path aria-label=\"x1: 0.486312319132; x2: 0.902986551186; y: 0\" role=\"graphics-symbol\" aria-roledescription=\"circle\" transform=\"translate(99.31561595660752,29.70134488141518)\" d=\"M2.7386127875258306,0A2.7386127875258306,2.7386127875258306,0,1,1,-2.7386127875258306,0A2.7386127875258306,2.7386127875258306,0,1,1,2.7386127875258306,0\" fill=\"#4c78a8\" stroke-width=\"2\" opacity=\"0.7\"/><path aria-label=\"x1: 1.3914224654; x2: −0.710313197616; y: 1\" role=\"graphics-symbol\" aria-roledescription=\"circle\" transform=\"translate(144.5711232701176,191.03131976163422)\" d=\"M2.7386127875258306,0A2.7386127875258306,2.7386127875258306,0,1,1,-2.7386127875258306,0A2.7386127875258306,2.7386127875258306,0,1,1,2.7386127875258306,0\" fill=\"#f58518\" stroke-width=\"2\" opacity=\"0.7\"/><path aria-label=\"x1: 0.7398727277; x2: 0.686263341647; y: 0\" role=\"graphics-symbol\" aria-roledescription=\"circle\" transform=\"translate(111.99363638501919,51.373665835266905)\" d=\"M2.7386127875258306,0A2.7386127875258306,2.7386127875258306,0,1,1,-2.7386127875258306,0A2.7386127875258306,2.7386127875258306,0,1,1,2.7386127875258306,0\" fill=\"#4c78a8\" stroke-width=\"2\" opacity=\"0.7\"/><path aria-label=\"x1: 0.928072303818; x2: 0.102310506547; y: 0\" role=\"graphics-symbol\" aria-roledescription=\"circle\" transform=\"translate(121.40361519090828,109.76894934527803)\" d=\"M2.7386127875258306,0A2.7386127875258306,2.7386127875258306,0,1,1,-2.7386127875258306,0A2.7386127875258306,2.7386127875258306,0,1,1,2.7386127875258306,0\" fill=\"#4c78a8\" stroke-width=\"2\" opacity=\"0.7\"/><path aria-label=\"x1: 0.017489190714; x2: 0.973709978623; y: 0\" role=\"graphics-symbol\" aria-roledescription=\"circle\" transform=\"translate(75.87445953570075,22.629002137699693)\" d=\"M2.7386127875258306,0A2.7386127875258306,2.7386127875258306,0,1,1,-2.7386127875258306,0A2.7386127875258306,2.7386127875258306,0,1,1,2.7386127875258306,0\" fill=\"#4c78a8\" stroke-width=\"2\" opacity=\"0.7\"/><path aria-label=\"x1: 1.85657421936; x2: −0.31028086665; y: 1\" role=\"graphics-symbol\" aria-roledescription=\"circle\" transform=\"translate(167.82871096779627,151.02808666502216)\" d=\"M2.7386127875258306,0A2.7386127875258306,2.7386127875258306,0,1,1,-2.7386127875258306,0A2.7386127875258306,2.7386127875258306,0,1,1,2.7386127875258306,0\" fill=\"#f58518\" stroke-width=\"2\" opacity=\"0.7\"/><path aria-label=\"x1: 0.812200329838; x2: 0.602208065094; y: 0\" role=\"graphics-symbol\" aria-roledescription=\"circle\" transform=\"translate(115.6100164919124,59.77919349059961)\" d=\"M2.7386127875258306,0A2.7386127875258306,2.7386127875258306,0,1,1,-2.7386127875258306,0A2.7386127875258306,2.7386127875258306,0,1,1,2.7386127875258306,0\" fill=\"#4c78a8\" stroke-width=\"2\" opacity=\"0.7\"/><path aria-label=\"x1: 0.116577035443; x2: 0.91896412611; y: 0\" role=\"graphics-symbol\" aria-roledescription=\"circle\" transform=\"translate(80.82885177212762,28.103587389022543)\" d=\"M2.7386127875258306,0A2.7386127875258306,2.7386127875258306,0,1,1,-2.7386127875258306,0A2.7386127875258306,2.7386127875258306,0,1,1,2.7386127875258306,0\" fill=\"#4c78a8\" stroke-width=\"2\" opacity=\"0.7\"/><path aria-label=\"x1: 0.397215676468; x2: −0.591740702065; y: 1\" role=\"graphics-symbol\" aria-roledescription=\"circle\" transform=\"translate(94.86078382339024,179.17407020647852)\" d=\"M2.7386127875258306,0A2.7386127875258306,2.7386127875258306,0,1,1,-2.7386127875258306,0A2.7386127875258306,2.7386127875258306,0,1,1,2.7386127875258306,0\" fill=\"#f58518\" stroke-width=\"2\" opacity=\"0.7\"/><path aria-label=\"x1: 0.556771673359; x2: −0.552783839019; y: 1\" role=\"graphics-symbol\" aria-roledescription=\"circle\" transform=\"translate(102.8385836679393,175.2783839019454)\" d=\"M2.7386127875258306,0A2.7386127875258306,2.7386127875258306,0,1,1,-2.7386127875258306,0A2.7386127875258306,2.7386127875258306,0,1,1,2.7386127875258306,0\" fill=\"#f58518\" stroke-width=\"2\" opacity=\"0.7\"/><path aria-label=\"x1: −0.68078572495; x2: 0.732506920017; y: 0\" role=\"graphics-symbol\" aria-roledescription=\"circle\" transform=\"translate(40.96071375248951,46.74930799825698)\" d=\"M2.7386127875258306,0A2.7386127875258306,2.7386127875258306,0,1,1,-2.7386127875258306,0A2.7386127875258306,2.7386127875258306,0,1,1,2.7386127875258306,0\" fill=\"#4c78a8\" stroke-width=\"2\" opacity=\"0.7\"/><path aria-label=\"x1: 0.714057763856; x2: −0.693387885274; y: 1\" role=\"graphics-symbol\" aria-roledescription=\"circle\" transform=\"translate(110.70288819279355,189.33878852735575)\" d=\"M2.7386127875258306,0A2.7386127875258306,2.7386127875258306,0,1,1,-2.7386127875258306,0A2.7386127875258306,2.7386127875258306,0,1,1,2.7386127875258306,0\" fill=\"#f58518\" stroke-width=\"2\" opacity=\"0.7\"/><path aria-label=\"x1: 0.805210849793; x2: −0.766331822045; y: 1\" role=\"graphics-symbol\" aria-roledescription=\"circle\" transform=\"translate(115.26054248967448,196.6331822045268)\" d=\"M2.7386127875258306,0A2.7386127875258306,2.7386127875258306,0,1,1,-2.7386127875258306,0A2.7386127875258306,2.7386127875258306,0,1,1,2.7386127875258306,0\" fill=\"#f58518\" stroke-width=\"2\" opacity=\"0.7\"/><path aria-label=\"x1: 0.700286788834; x2: 0.695140825709; y: 0\" role=\"graphics-symbol\" aria-roledescription=\"circle\" transform=\"translate(110.01433944168764,50.48591742909419)\" d=\"M2.7386127875258306,0A2.7386127875258306,2.7386127875258306,0,1,1,-2.7386127875258306,0A2.7386127875258306,2.7386127875258306,0,1,1,2.7386127875258306,0\" fill=\"#4c78a8\" stroke-width=\"2\" opacity=\"0.7\"/><path aria-label=\"x1: −0.0383845854669; x2: 0.955137715967; y: 0\" role=\"graphics-symbol\" aria-roledescription=\"circle\" transform=\"translate(73.08077072665634,24.486228403277543)\" d=\"M2.7386127875258306,0A2.7386127875258306,2.7386127875258306,0,1,1,-2.7386127875258306,0A2.7386127875258306,2.7386127875258306,0,1,1,2.7386127875258306,0\" fill=\"#4c78a8\" stroke-width=\"2\" opacity=\"0.7\"/><path aria-label=\"x1: 0.432322651583; x2: 0.908970318364; y: 0\" role=\"graphics-symbol\" aria-roledescription=\"circle\" transform=\"translate(96.61613257917227,29.102968163648747)\" d=\"M2.7386127875258306,0A2.7386127875258306,2.7386127875258306,0,1,1,-2.7386127875258306,0A2.7386127875258306,2.7386127875258306,0,1,1,2.7386127875258306,0\" fill=\"#4c78a8\" stroke-width=\"2\" opacity=\"0.7\"/><path aria-label=\"x1: 2.09397188267; x2: 0.119457953897; y: 1\" role=\"graphics-symbol\" aria-roledescription=\"circle\" transform=\"translate(179.69859413366248,108.05420461034593)\" d=\"M2.7386127875258306,0A2.7386127875258306,2.7386127875258306,0,1,1,-2.7386127875258306,0A2.7386127875258306,2.7386127875258306,0,1,1,2.7386127875258306,0\" fill=\"#f58518\" stroke-width=\"2\" opacity=\"0.7\"/><path aria-label=\"x1: 0.18426474525; x2: 0.942888890664; y: 0\" role=\"graphics-symbol\" aria-roledescription=\"circle\" transform=\"translate(84.2132372625066,25.711110933567703)\" d=\"M2.7386127875258306,0A2.7386127875258306,2.7386127875258306,0,1,1,-2.7386127875258306,0A2.7386127875258306,2.7386127875258306,0,1,1,2.7386127875258306,0\" fill=\"#4c78a8\" stroke-width=\"2\" opacity=\"0.7\"/><path aria-label=\"x1: 0.8197445208; x2: 0.490245238965; y: 0\" role=\"graphics-symbol\" aria-roledescription=\"circle\" transform=\"translate(115.98722603998681,70.97547610348683)\" d=\"M2.7386127875258306,0A2.7386127875258306,2.7386127875258306,0,1,1,-2.7386127875258306,0A2.7386127875258306,2.7386127875258306,0,1,1,2.7386127875258306,0\" fill=\"#4c78a8\" stroke-width=\"2\" opacity=\"0.7\"/><path aria-label=\"x1: −0.787642851627; x2: 0.737117607374; y: 0\" role=\"graphics-symbol\" aria-roledescription=\"circle\" transform=\"translate(35.61785741862683,46.28823926255894)\" d=\"M2.7386127875258306,0A2.7386127875258306,2.7386127875258306,0,1,1,-2.7386127875258306,0A2.7386127875258306,2.7386127875258306,0,1,1,2.7386127875258306,0\" fill=\"#4c78a8\" stroke-width=\"2\" opacity=\"0.7\"/><path aria-label=\"x1: 0.456552927761; x2: 0.886766886324; y: 0\" role=\"graphics-symbol\" aria-roledescription=\"circle\" transform=\"translate(97.82764638806326,31.323311367625053)\" d=\"M2.7386127875258306,0A2.7386127875258306,2.7386127875258306,0,1,1,-2.7386127875258306,0A2.7386127875258306,2.7386127875258306,0,1,1,2.7386127875258306,0\" fill=\"#4c78a8\" stroke-width=\"2\" opacity=\"0.7\"/><path aria-label=\"x1: 0.122729647746; x2: −0.215366230401; y: 1\" role=\"graphics-symbol\" aria-roledescription=\"circle\" transform=\"translate(81.13648238731405,141.53662304006855)\" d=\"M2.7386127875258306,0A2.7386127875258306,2.7386127875258306,0,1,1,-2.7386127875258306,0A2.7386127875258306,2.7386127875258306,0,1,1,2.7386127875258306,0\" fill=\"#f58518\" stroke-width=\"2\" opacity=\"0.7\"/><path aria-label=\"x1: 0.615167601523; x2: −0.571038043519; y: 1\" role=\"graphics-symbol\" aria-roledescription=\"circle\" transform=\"translate(105.75838007616483,177.10380435191522)\" d=\"M2.7386127875258306,0A2.7386127875258306,2.7386127875258306,0,1,1,-2.7386127875258306,0A2.7386127875258306,2.7386127875258306,0,1,1,2.7386127875258306,0\" fill=\"#f58518\" stroke-width=\"2\" opacity=\"0.7\"/><path aria-label=\"x1: 1.36829420132; x2: −0.492783599858; y: 1\" role=\"graphics-symbol\" aria-roledescription=\"circle\" transform=\"translate(143.414710065771,169.27835998577496)\" d=\"M2.7386127875258306,0A2.7386127875258306,2.7386127875258306,0,1,1,-2.7386127875258306,0A2.7386127875258306,2.7386127875258306,0,1,1,2.7386127875258306,0\" fill=\"#f58518\" stroke-width=\"2\" opacity=\"0.7\"/><path aria-label=\"x1: −0.535004864016; x2: 0.881829375824; y: 0\" role=\"graphics-symbol\" aria-roledescription=\"circle\" transform=\"translate(48.24975679919478,31.81706241760558)\" d=\"M2.7386127875258306,0A2.7386127875258306,2.7386127875258306,0,1,1,-2.7386127875258306,0A2.7386127875258306,2.7386127875258306,0,1,1,2.7386127875258306,0\" fill=\"#4c78a8\" stroke-width=\"2\" opacity=\"0.7\"/><path aria-label=\"x1: 0.965758950004; x2: 0.236697622811; y: 0\" role=\"graphics-symbol\" aria-roledescription=\"circle\" transform=\"translate(123.28794750021687,96.33023771886396)\" d=\"M2.7386127875258306,0A2.7386127875258306,2.7386127875258306,0,1,1,-2.7386127875258306,0A2.7386127875258306,2.7386127875258306,0,1,1,2.7386127875258306,0\" fill=\"#4c78a8\" stroke-width=\"2\" opacity=\"0.7\"/><path aria-label=\"x1: 1.87958970336; x2: −0.165137428521; y: 1\" role=\"graphics-symbol\" aria-roledescription=\"circle\" transform=\"translate(168.9794851681207,136.51374285208203)\" d=\"M2.7386127875258306,0A2.7386127875258306,2.7386127875258306,0,1,1,-2.7386127875258306,0A2.7386127875258306,2.7386127875258306,0,1,1,2.7386127875258306,0\" fill=\"#f58518\" stroke-width=\"2\" opacity=\"0.7\"/><path aria-label=\"x1: 1.00445023773; x2: −0.65223081834; y: 1\" role=\"graphics-symbol\" aria-roledescription=\"circle\" transform=\"translate(125.22251188661664,185.22308183396123)\" d=\"M2.7386127875258306,0A2.7386127875258306,2.7386127875258306,0,1,1,-2.7386127875258306,0A2.7386127875258306,2.7386127875258306,0,1,1,2.7386127875258306,0\" fill=\"#f58518\" stroke-width=\"2\" opacity=\"0.7\"/><path aria-label=\"x1: 0.71026490336; x2: −0.769493768879; y: 1\" role=\"graphics-symbol\" aria-roledescription=\"circle\" transform=\"translate(110.5132451680205,196.94937688791288)\" d=\"M2.7386127875258306,0A2.7386127875258306,2.7386127875258306,0,1,1,-2.7386127875258306,0A2.7386127875258306,2.7386127875258306,0,1,1,2.7386127875258306,0\" fill=\"#f58518\" stroke-width=\"2\" opacity=\"0.7\"/><path aria-label=\"x1: 1.04164759389; x2: 0.0375899714534; y: 0\" role=\"graphics-symbol\" aria-roledescription=\"circle\" transform=\"translate(127.08237969466043,116.24100285465737)\" d=\"M2.7386127875258306,0A2.7386127875258306,2.7386127875258306,0,1,1,-2.7386127875258306,0A2.7386127875258306,2.7386127875258306,0,1,1,2.7386127875258306,0\" fill=\"#4c78a8\" stroke-width=\"2\" opacity=\"0.7\"/><path aria-label=\"x1: 1.56665777132; x2: −0.51638384063; y: 1\" role=\"graphics-symbol\" aria-roledescription=\"circle\" transform=\"translate(153.33288856608164,171.63838406297006)\" d=\"M2.7386127875258306,0A2.7386127875258306,2.7386127875258306,0,1,1,-2.7386127875258306,0A2.7386127875258306,2.7386127875258306,0,1,1,2.7386127875258306,0\" fill=\"#f58518\" stroke-width=\"2\" opacity=\"0.7\"/><path aria-label=\"x1: 0.0959372431402; x2: −0.211744826796; y: 1\" role=\"graphics-symbol\" aria-roledescription=\"circle\" transform=\"translate(79.79686215700858,141.17448267958056)\" d=\"M2.7386127875258306,0A2.7386127875258306,2.7386127875258306,0,1,1,-2.7386127875258306,0A2.7386127875258306,2.7386127875258306,0,1,1,2.7386127875258306,0\" fill=\"#f58518\" stroke-width=\"2\" opacity=\"0.7\"/><path aria-label=\"x1: −0.555997366904; x2: 0.759480745; y: 0\" role=\"graphics-symbol\" aria-roledescription=\"circle\" transform=\"translate(47.20013165479916,44.05192550004937)\" d=\"M2.7386127875258306,0A2.7386127875258306,2.7386127875258306,0,1,1,-2.7386127875258306,0A2.7386127875258306,2.7386127875258306,0,1,1,2.7386127875258306,0\" fill=\"#4c78a8\" stroke-width=\"2\" opacity=\"0.7\"/><path aria-label=\"x1: −0.786234109319; x2: 0.652657109875; y: 0\" role=\"graphics-symbol\" aria-roledescription=\"circle\" transform=\"translate(35.68829453406834,54.73428901247026)\" d=\"M2.7386127875258306,0A2.7386127875258306,2.7386127875258306,0,1,1,-2.7386127875258306,0A2.7386127875258306,2.7386127875258306,0,1,1,2.7386127875258306,0\" fill=\"#4c78a8\" stroke-width=\"2\" opacity=\"0.7\"/><path aria-label=\"x1: 0.550255837917; x2: 0.870846873567; y: 0\" role=\"graphics-symbol\" aria-roledescription=\"circle\" transform=\"translate(102.51279189583362,32.9153126432844)\" d=\"M2.7386127875258306,0A2.7386127875258306,2.7386127875258306,0,1,1,-2.7386127875258306,0A2.7386127875258306,2.7386127875258306,0,1,1,2.7386127875258306,0\" fill=\"#4c78a8\" stroke-width=\"2\" opacity=\"0.7\"/><path aria-label=\"x1: 1.2269968303; x2: −0.7135691603; y: 1\" role=\"graphics-symbol\" aria-roledescription=\"circle\" transform=\"translate(136.34984151495487,191.35691603003318)\" d=\"M2.7386127875258306,0A2.7386127875258306,2.7386127875258306,0,1,1,-2.7386127875258306,0A2.7386127875258306,2.7386127875258306,0,1,1,2.7386127875258306,0\" fill=\"#f58518\" stroke-width=\"2\" opacity=\"0.7\"/><path aria-label=\"x1: 0.0611818819015; x2: 0.995024172479; y: 0\" role=\"graphics-symbol\" aria-roledescription=\"circle\" transform=\"translate(78.05909409507356,20.497582752132004)\" d=\"M2.7386127875258306,0A2.7386127875258306,2.7386127875258306,0,1,1,-2.7386127875258306,0A2.7386127875258306,2.7386127875258306,0,1,1,2.7386127875258306,0\" fill=\"#4c78a8\" stroke-width=\"2\" opacity=\"0.7\"/><path aria-label=\"x1: 0.0315408962197; x2: 0.000777251958372; y: 1\" role=\"graphics-symbol\" aria-roledescription=\"circle\" transform=\"translate(76.57704481098662,119.92227480416275)\" d=\"M2.7386127875258306,0A2.7386127875258306,2.7386127875258306,0,1,1,-2.7386127875258306,0A2.7386127875258306,2.7386127875258306,0,1,1,2.7386127875258306,0\" fill=\"#f58518\" stroke-width=\"2\" opacity=\"0.7\"/><path aria-label=\"x1: 0.142156370311; x2: 0.885265773838; y: 0\" role=\"graphics-symbol\" aria-roledescription=\"circle\" transform=\"translate(82.10781851556429,31.473422616203052)\" d=\"M2.7386127875258306,0A2.7386127875258306,2.7386127875258306,0,1,1,-2.7386127875258306,0A2.7386127875258306,2.7386127875258306,0,1,1,2.7386127875258306,0\" fill=\"#4c78a8\" stroke-width=\"2\" opacity=\"0.7\"/><path aria-label=\"x1: −0.596601283588; x2: 0.685893219886; y: 0\" role=\"graphics-symbol\" aria-roledescription=\"circle\" transform=\"translate(45.16993582057573,51.410678011435664)\" d=\"M2.7386127875258306,0A2.7386127875258306,2.7386127875258306,0,1,1,-2.7386127875258306,0A2.7386127875258306,2.7386127875258306,0,1,1,2.7386127875258306,0\" fill=\"#4c78a8\" stroke-width=\"2\" opacity=\"0.7\"/><path aria-label=\"x1: 0.856499468314; x2: −0.68319705008; y: 1\" role=\"graphics-symbol\" aria-roledescription=\"circle\" transform=\"translate(117.82497341571793,188.31970500804576)\" d=\"M2.7386127875258306,0A2.7386127875258306,2.7386127875258306,0,1,1,-2.7386127875258306,0A2.7386127875258306,2.7386127875258306,0,1,1,2.7386127875258306,0\" fill=\"#f58518\" stroke-width=\"2\" opacity=\"0.7\"/><path aria-label=\"x1: 1.73207561157; x2: −0.316371058448; y: 1\" role=\"graphics-symbol\" aria-roledescription=\"circle\" transform=\"translate(161.60378057843673,151.63710584482243)\" d=\"M2.7386127875258306,0A2.7386127875258306,2.7386127875258306,0,1,1,-2.7386127875258306,0A2.7386127875258306,2.7386127875258306,0,1,1,2.7386127875258306,0\" fill=\"#f58518\" stroke-width=\"2\" opacity=\"0.7\"/><path aria-label=\"x1: −0.707222664066; x2: 0.631496277585; y: 0\" role=\"graphics-symbol\" aria-roledescription=\"circle\" transform=\"translate(39.63886679669871,56.850372241493055)\" d=\"M2.7386127875258306,0A2.7386127875258306,2.7386127875258306,0,1,1,-2.7386127875258306,0A2.7386127875258306,2.7386127875258306,0,1,1,2.7386127875258306,0\" fill=\"#4c78a8\" stroke-width=\"2\" opacity=\"0.7\"/><path aria-label=\"x1: −1.03814667019; x2: 0.045134556914; y: 0\" role=\"graphics-symbol\" aria-roledescription=\"circle\" transform=\"translate(23.092666490482074,115.48654430860283)\" d=\"M2.7386127875258306,0A2.7386127875258306,2.7386127875258306,0,1,1,-2.7386127875258306,0A2.7386127875258306,2.7386127875258306,0,1,1,2.7386127875258306,0\" fill=\"#4c78a8\" stroke-width=\"2\" opacity=\"0.7\"/><path aria-label=\"x1: 1.01611044853; x2: −0.00740576029775; y: 0\" role=\"graphics-symbol\" aria-roledescription=\"circle\" transform=\"translate(125.8055224263028,120.7405760297753)\" d=\"M2.7386127875258306,0A2.7386127875258306,2.7386127875258306,0,1,1,-2.7386127875258306,0A2.7386127875258306,2.7386127875258306,0,1,1,2.7386127875258306,0\" fill=\"#4c78a8\" stroke-width=\"2\" opacity=\"0.7\"/><path aria-label=\"x1: 1.25945712758; x2: −0.6830187093; y: 1\" role=\"graphics-symbol\" aria-roledescription=\"circle\" transform=\"translate(137.97285637890374,188.30187093001373)\" d=\"M2.7386127875258306,0A2.7386127875258306,2.7386127875258306,0,1,1,-2.7386127875258306,0A2.7386127875258306,2.7386127875258306,0,1,1,2.7386127875258306,0\" fill=\"#f58518\" stroke-width=\"2\" opacity=\"0.7\"/><path aria-label=\"x1: 0.205242906544; x2: −0.235183773827; y: 1\" role=\"graphics-symbol\" aria-roledescription=\"circle\" transform=\"translate(85.26214532721102,143.51837738272684)\" d=\"M2.7386127875258306,0A2.7386127875258306,2.7386127875258306,0,1,1,-2.7386127875258306,0A2.7386127875258306,2.7386127875258306,0,1,1,2.7386127875258306,0\" fill=\"#f58518\" stroke-width=\"2\" opacity=\"0.7\"/><path aria-label=\"x1: 0.167218493455; x2: −0.397261966408; y: 1\" role=\"graphics-symbol\" aria-roledescription=\"circle\" transform=\"translate(83.36092467275301,159.72619664077558)\" d=\"M2.7386127875258306,0A2.7386127875258306,2.7386127875258306,0,1,1,-2.7386127875258306,0A2.7386127875258306,2.7386127875258306,0,1,1,2.7386127875258306,0\" fill=\"#f58518\" stroke-width=\"2\" opacity=\"0.7\"/><path aria-label=\"x1: −0.76038753013; x2: 0.653547593183; y: 0\" role=\"graphics-symbol\" aria-roledescription=\"circle\" transform=\"translate(36.98062349352173,54.6452406817028)\" d=\"M2.7386127875258306,0A2.7386127875258306,2.7386127875258306,0,1,1,-2.7386127875258306,0A2.7386127875258306,2.7386127875258306,0,1,1,2.7386127875258306,0\" fill=\"#4c78a8\" stroke-width=\"2\" opacity=\"0.7\"/><path aria-label=\"x1: 0.334583401839; x2: −0.434922874413; y: 1\" role=\"graphics-symbol\" aria-roledescription=\"circle\" transform=\"translate(91.72917009195965,163.49228744126756)\" d=\"M2.7386127875258306,0A2.7386127875258306,2.7386127875258306,0,1,1,-2.7386127875258306,0A2.7386127875258306,2.7386127875258306,0,1,1,2.7386127875258306,0\" fill=\"#f58518\" stroke-width=\"2\" opacity=\"0.7\"/><path aria-label=\"x1: −1.00935939338; x2: 0.222823542964; y: 0\" role=\"graphics-symbol\" aria-roledescription=\"circle\" transform=\"translate(24.53203033111849,97.71764570362427)\" d=\"M2.7386127875258306,0A2.7386127875258306,2.7386127875258306,0,1,1,-2.7386127875258306,0A2.7386127875258306,2.7386127875258306,0,1,1,2.7386127875258306,0\" fill=\"#4c78a8\" stroke-width=\"2\" opacity=\"0.7\"/><path aria-label=\"x1: 0.0649553021403; x2: 0.262051751127; y: 1\" role=\"graphics-symbol\" aria-roledescription=\"circle\" transform=\"translate(78.24776510701712,93.79482488729376)\" d=\"M2.7386127875258306,0A2.7386127875258306,2.7386127875258306,0,1,1,-2.7386127875258306,0A2.7386127875258306,2.7386127875258306,0,1,1,2.7386127875258306,0\" fill=\"#f58518\" stroke-width=\"2\" opacity=\"0.7\"/><path aria-label=\"x1: 0.15905346937; x2: −0.147442446993; y: 1\" role=\"graphics-symbol\" aria-roledescription=\"circle\" transform=\"translate(82.9526734684998,134.74424469931833)\" d=\"M2.7386127875258306,0A2.7386127875258306,2.7386127875258306,0,1,1,-2.7386127875258306,0A2.7386127875258306,2.7386127875258306,0,1,1,2.7386127875258306,0\" fill=\"#f58518\" stroke-width=\"2\" opacity=\"0.7\"/><path aria-label=\"x1: −0.0327298848768; x2: 0.255512364281; y: 1\" role=\"graphics-symbol\" aria-roledescription=\"circle\" transform=\"translate(73.36350575615785,94.44876357193424)\" d=\"M2.7386127875258306,0A2.7386127875258306,2.7386127875258306,0,1,1,-2.7386127875258306,0A2.7386127875258306,2.7386127875258306,0,1,1,2.7386127875258306,0\" fill=\"#f58518\" stroke-width=\"2\" opacity=\"0.7\"/><path aria-label=\"x1: 0.633416723333; x2: −0.537678627258; y: 1\" role=\"graphics-symbol\" aria-roledescription=\"circle\" transform=\"translate(106.67083616663271,173.76786272578465)\" d=\"M2.7386127875258306,0A2.7386127875258306,2.7386127875258306,0,1,1,-2.7386127875258306,0A2.7386127875258306,2.7386127875258306,0,1,1,2.7386127875258306,0\" fill=\"#f58518\" stroke-width=\"2\" opacity=\"0.7\"/><path aria-label=\"x1: −0.555155489809; x2: 0.77691291116; y: 0\" role=\"graphics-symbol\" aria-roledescription=\"circle\" transform=\"translate(47.24222550953977,42.3087088839531)\" d=\"M2.7386127875258306,0A2.7386127875258306,2.7386127875258306,0,1,1,-2.7386127875258306,0A2.7386127875258306,2.7386127875258306,0,1,1,2.7386127875258306,0\" fill=\"#4c78a8\" stroke-width=\"2\" opacity=\"0.7\"/><path aria-label=\"x1: 0.42513881178; x2: 0.8426196661; y: 0\" role=\"graphics-symbol\" aria-roledescription=\"circle\" transform=\"translate(96.25694058902351,35.7380333899866)\" d=\"M2.7386127875258306,0A2.7386127875258306,2.7386127875258306,0,1,1,-2.7386127875258306,0A2.7386127875258306,2.7386127875258306,0,1,1,2.7386127875258306,0\" fill=\"#4c78a8\" stroke-width=\"2\" opacity=\"0.7\"/><path aria-label=\"x1: 0.296185450667; x2: −0.521773485855; y: 1\" role=\"graphics-symbol\" aria-roledescription=\"circle\" transform=\"translate(89.80927253335632,172.17734858554454)\" d=\"M2.7386127875258306,0A2.7386127875258306,2.7386127875258306,0,1,1,-2.7386127875258306,0A2.7386127875258306,2.7386127875258306,0,1,1,2.7386127875258306,0\" fill=\"#f58518\" stroke-width=\"2\" opacity=\"0.7\"/><path aria-label=\"x1: −0.808063236762; x2: 0.63632547486; y: 0\" role=\"graphics-symbol\" aria-roledescription=\"circle\" transform=\"translate(34.59683816188279,56.367452514041204)\" d=\"M2.7386127875258306,0A2.7386127875258306,2.7386127875258306,0,1,1,-2.7386127875258306,0A2.7386127875258306,2.7386127875258306,0,1,1,2.7386127875258306,0\" fill=\"#4c78a8\" stroke-width=\"2\" opacity=\"0.7\"/><path aria-label=\"x1: −0.0160019639803; x2: −0.159262693329; y: 1\" role=\"graphics-symbol\" aria-roledescription=\"circle\" transform=\"translate(74.19990180098371,135.92626933290387)\" d=\"M2.7386127875258306,0A2.7386127875258306,2.7386127875258306,0,1,1,-2.7386127875258306,0A2.7386127875258306,2.7386127875258306,0,1,1,2.7386127875258306,0\" fill=\"#f58518\" stroke-width=\"2\" opacity=\"0.7\"/><path aria-label=\"x1: 1.84157904046; x2: −0.217588623158; y: 1\" role=\"graphics-symbol\" aria-roledescription=\"circle\" transform=\"translate(167.07895202311516,141.75886231575322)\" d=\"M2.7386127875258306,0A2.7386127875258306,2.7386127875258306,0,1,1,-2.7386127875258306,0A2.7386127875258306,2.7386127875258306,0,1,1,2.7386127875258306,0\" fill=\"#f58518\" stroke-width=\"2\" opacity=\"0.7\"/><path aria-label=\"x1: 0.000673108790646; x2: 0.940977019758; y: 0\" role=\"graphics-symbol\" aria-roledescription=\"circle\" transform=\"translate(75.03365543953232,25.902298024215842)\" d=\"M2.7386127875258306,0A2.7386127875258306,2.7386127875258306,0,1,1,-2.7386127875258306,0A2.7386127875258306,2.7386127875258306,0,1,1,2.7386127875258306,0\" fill=\"#4c78a8\" stroke-width=\"2\" opacity=\"0.7\"/><path aria-label=\"x1: 0.118400559841; x2: −0.0484343264364; y: 1\" role=\"graphics-symbol\" aria-roledescription=\"circle\" transform=\"translate(80.92002799204415,124.8434326436357)\" d=\"M2.7386127875258306,0A2.7386127875258306,2.7386127875258306,0,1,1,-2.7386127875258306,0A2.7386127875258306,2.7386127875258306,0,1,1,2.7386127875258306,0\" fill=\"#f58518\" stroke-width=\"2\" opacity=\"0.7\"/><path aria-label=\"x1: 2.01964822945; x2: 0.111245327651; y: 1\" role=\"graphics-symbol\" aria-roledescription=\"circle\" transform=\"translate(175.982411472562,108.87546723488093)\" d=\"M2.7386127875258306,0A2.7386127875258306,2.7386127875258306,0,1,1,-2.7386127875258306,0A2.7386127875258306,2.7386127875258306,0,1,1,2.7386127875258306,0\" fill=\"#f58518\" stroke-width=\"2\" opacity=\"0.7\"/><path aria-label=\"x1: 0.432648366914; x2: −0.573846207662; y: 1\" role=\"graphics-symbol\" aria-roledescription=\"circle\" transform=\"translate(96.63241834568397,177.38462076623512)\" d=\"M2.7386127875258306,0A2.7386127875258306,2.7386127875258306,0,1,1,-2.7386127875258306,0A2.7386127875258306,2.7386127875258306,0,1,1,2.7386127875258306,0\" fill=\"#f58518\" stroke-width=\"2\" opacity=\"0.7\"/><path aria-label=\"x1: 0.767844442628; x2: −0.596045804201; y: 1\" role=\"graphics-symbol\" aria-roledescription=\"circle\" transform=\"translate(113.39222213138906,179.60458042009301)\" d=\"M2.7386127875258306,0A2.7386127875258306,2.7386127875258306,0,1,1,-2.7386127875258306,0A2.7386127875258306,2.7386127875258306,0,1,1,2.7386127875258306,0\" fill=\"#f58518\" stroke-width=\"2\" opacity=\"0.7\"/><path aria-label=\"x1: 1.02685023329; x2: 0.0338665287505; y: 0\" role=\"graphics-symbol\" aria-roledescription=\"circle\" transform=\"translate(126.3425116645775,116.61334712494681)\" d=\"M2.7386127875258306,0A2.7386127875258306,2.7386127875258306,0,1,1,-2.7386127875258306,0A2.7386127875258306,2.7386127875258306,0,1,1,2.7386127875258306,0\" fill=\"#4c78a8\" stroke-width=\"2\" opacity=\"0.7\"/><path aria-label=\"x1: 0.0302930197343; x2: 0.0647205600437; y: 1\" role=\"graphics-symbol\" aria-roledescription=\"circle\" transform=\"translate(76.5146509867169,113.52794399563409)\" d=\"M2.7386127875258306,0A2.7386127875258306,2.7386127875258306,0,1,1,-2.7386127875258306,0A2.7386127875258306,2.7386127875258306,0,1,1,2.7386127875258306,0\" fill=\"#f58518\" stroke-width=\"2\" opacity=\"0.7\"/><path aria-label=\"x1: −0.504506860017; x2: 0.83940123422; y: 0\" role=\"graphics-symbol\" aria-roledescription=\"circle\" transform=\"translate(49.774656999166226,36.05987657798886)\" d=\"M2.7386127875258306,0A2.7386127875258306,2.7386127875258306,0,1,1,-2.7386127875258306,0A2.7386127875258306,2.7386127875258306,0,1,1,2.7386127875258306,0\" fill=\"#4c78a8\" stroke-width=\"2\" opacity=\"0.7\"/><path aria-label=\"x1: 0.122852625427; x2: 1.06079587474; y: 0\" role=\"graphics-symbol\" aria-roledescription=\"circle\" transform=\"translate(81.1426312713386,13.92041252615095)\" d=\"M2.7386127875258306,0A2.7386127875258306,2.7386127875258306,0,1,1,-2.7386127875258306,0A2.7386127875258306,2.7386127875258306,0,1,1,2.7386127875258306,0\" fill=\"#4c78a8\" stroke-width=\"2\" opacity=\"0.7\"/><path aria-label=\"x1: 1.95393749942; x2: 0.206452745052; y: 1\" role=\"graphics-symbol\" aria-roledescription=\"circle\" transform=\"translate(172.6968749710328,99.35472549483731)\" d=\"M2.7386127875258306,0A2.7386127875258306,2.7386127875258306,0,1,1,-2.7386127875258306,0A2.7386127875258306,2.7386127875258306,0,1,1,2.7386127875258306,0\" fill=\"#f58518\" stroke-width=\"2\" opacity=\"0.7\"/><path aria-label=\"x1: 1.93906685456; x2: −0.0730846216162; y: 1\" role=\"graphics-symbol\" aria-roledescription=\"circle\" transform=\"translate(171.95334272806255,127.30846216162479)\" d=\"M2.7386127875258306,0A2.7386127875258306,2.7386127875258306,0,1,1,-2.7386127875258306,0A2.7386127875258306,2.7386127875258306,0,1,1,2.7386127875258306,0\" fill=\"#f58518\" stroke-width=\"2\" opacity=\"0.7\"/><path aria-label=\"x1: 1.00207243771; x2: 0.20326774964; y: 0\" role=\"graphics-symbol\" aria-roledescription=\"circle\" transform=\"translate(125.10362188547919,99.67322503604903)\" d=\"M2.7386127875258306,0A2.7386127875258306,2.7386127875258306,0,1,1,-2.7386127875258306,0A2.7386127875258306,2.7386127875258306,0,1,1,2.7386127875258306,0\" fill=\"#4c78a8\" stroke-width=\"2\" opacity=\"0.7\"/><path aria-label=\"x1: −0.00455475092775; x2: 0.164895072998; y: 1\" role=\"graphics-symbol\" aria-roledescription=\"circle\" transform=\"translate(74.77226245361265,103.51049270015893)\" d=\"M2.7386127875258306,0A2.7386127875258306,2.7386127875258306,0,1,1,-2.7386127875258306,0A2.7386127875258306,2.7386127875258306,0,1,1,2.7386127875258306,0\" fill=\"#f58518\" stroke-width=\"2\" opacity=\"0.7\"/><path aria-label=\"x1: −0.356191937159; x2: 0.914321590989; y: 0\" role=\"graphics-symbol\" aria-roledescription=\"circle\" transform=\"translate(57.19040314205702,28.567840901111907)\" d=\"M2.7386127875258306,0A2.7386127875258306,2.7386127875258306,0,1,1,-2.7386127875258306,0A2.7386127875258306,2.7386127875258306,0,1,1,2.7386127875258306,0\" fill=\"#4c78a8\" stroke-width=\"2\" opacity=\"0.7\"/><path aria-label=\"x1: −0.861563715412; x2: 0.544881118356; y: 0\" role=\"graphics-symbol\" aria-roledescription=\"circle\" transform=\"translate(31.92181422938148,65.51188816443457)\" d=\"M2.7386127875258306,0A2.7386127875258306,2.7386127875258306,0,1,1,-2.7386127875258306,0A2.7386127875258306,2.7386127875258306,0,1,1,2.7386127875258306,0\" fill=\"#4c78a8\" stroke-width=\"2\" opacity=\"0.7\"/><path aria-label=\"x1: 0.667081413462; x2: 0.699544517117; y: 0\" role=\"graphics-symbol\" aria-roledescription=\"circle\" transform=\"translate(108.35407067312195,50.04554828828742)\" d=\"M2.7386127875258306,0A2.7386127875258306,2.7386127875258306,0,1,1,-2.7386127875258306,0A2.7386127875258306,2.7386127875258306,0,1,1,2.7386127875258306,0\" fill=\"#4c78a8\" stroke-width=\"2\" opacity=\"0.7\"/><path aria-label=\"x1: −0.898698803154; x2: 0.549609064859; y: 0\" role=\"graphics-symbol\" aria-roledescription=\"circle\" transform=\"translate(30.065059842279258,65.03909351410687)\" d=\"M2.7386127875258306,0A2.7386127875258306,2.7386127875258306,0,1,1,-2.7386127875258306,0A2.7386127875258306,2.7386127875258306,0,1,1,2.7386127875258306,0\" fill=\"#4c78a8\" stroke-width=\"2\" opacity=\"0.7\"/><path aria-label=\"x1: −0.988410309475; x2: 0.0694181136138; y: 0\" role=\"graphics-symbol\" aria-roledescription=\"circle\" transform=\"translate(25.57948452625785,113.05818863862254)\" d=\"M2.7386127875258306,0A2.7386127875258306,2.7386127875258306,0,1,1,-2.7386127875258306,0A2.7386127875258306,2.7386127875258306,0,1,1,2.7386127875258306,0\" fill=\"#4c78a8\" stroke-width=\"2\" opacity=\"0.7\"/><path aria-label=\"x1: 0.467057930338; x2: 0.883168359689; y: 0\" role=\"graphics-symbol\" aria-roledescription=\"circle\" transform=\"translate(98.35289651688738,31.683164031105115)\" d=\"M2.7386127875258306,0A2.7386127875258306,2.7386127875258306,0,1,1,-2.7386127875258306,0A2.7386127875258306,2.7386127875258306,0,1,1,2.7386127875258306,0\" fill=\"#4c78a8\" stroke-width=\"2\" opacity=\"0.7\"/><path aria-label=\"x1: 0.118182008865; x2: −0.142347915185; y: 1\" role=\"graphics-symbol\" aria-roledescription=\"circle\" transform=\"translate(80.90910044322663,134.2347915185107)\" d=\"M2.7386127875258306,0A2.7386127875258306,2.7386127875258306,0,1,1,-2.7386127875258306,0A2.7386127875258306,2.7386127875258306,0,1,1,2.7386127875258306,0\" fill=\"#f58518\" stroke-width=\"2\" opacity=\"0.7\"/><path aria-label=\"x1: 0.838612031642; x2: 0.561732660206; y: 0\" role=\"graphics-symbol\" aria-roledescription=\"circle\" transform=\"translate(116.93060158210955,63.82673397943543)\" d=\"M2.7386127875258306,0A2.7386127875258306,2.7386127875258306,0,1,1,-2.7386127875258306,0A2.7386127875258306,2.7386127875258306,0,1,1,2.7386127875258306,0\" fill=\"#4c78a8\" stroke-width=\"2\" opacity=\"0.7\"/><path aria-label=\"x1: 0.0406422664801; x2: 0.995574236142; y: 0\" role=\"graphics-symbol\" aria-roledescription=\"circle\" transform=\"translate(77.03211332400657,20.44257638582112)\" d=\"M2.7386127875258306,0A2.7386127875258306,2.7386127875258306,0,1,1,-2.7386127875258306,0A2.7386127875258306,2.7386127875258306,0,1,1,2.7386127875258306,0\" fill=\"#4c78a8\" stroke-width=\"2\" opacity=\"0.7\"/><path aria-label=\"x1: −0.757894661751; x2: 0.639222674241; y: 0\" role=\"graphics-symbol\" aria-roledescription=\"circle\" transform=\"translate(37.105266912442694,56.07773257587909)\" d=\"M2.7386127875258306,0A2.7386127875258306,2.7386127875258306,0,1,1,-2.7386127875258306,0A2.7386127875258306,2.7386127875258306,0,1,1,2.7386127875258306,0\" fill=\"#4c78a8\" stroke-width=\"2\" opacity=\"0.7\"/><path aria-label=\"x1: 0.11945594679; x2: −0.128166716946; y: 1\" role=\"graphics-symbol\" aria-roledescription=\"circle\" transform=\"translate(80.97279733947853,132.81667169458782)\" d=\"M2.7386127875258306,0A2.7386127875258306,2.7386127875258306,0,1,1,-2.7386127875258306,0A2.7386127875258306,2.7386127875258306,0,1,1,2.7386127875258306,0\" fill=\"#f58518\" stroke-width=\"2\" opacity=\"0.7\"/><path aria-label=\"x1: 0.0793436335445; x2: −0.213841520606; y: 1\" role=\"graphics-symbol\" aria-roledescription=\"circle\" transform=\"translate(78.9671816772242,141.38415206061495)\" d=\"M2.7386127875258306,0A2.7386127875258306,2.7386127875258306,0,1,1,-2.7386127875258306,0A2.7386127875258306,2.7386127875258306,0,1,1,2.7386127875258306,0\" fill=\"#f58518\" stroke-width=\"2\" opacity=\"0.7\"/><path aria-label=\"x1: 0.684122170007; x2: 0.861189550186; y: 0\" role=\"graphics-symbol\" aria-roledescription=\"circle\" transform=\"translate(109.20610850034325,33.881044981433384)\" d=\"M2.7386127875258306,0A2.7386127875258306,2.7386127875258306,0,1,1,-2.7386127875258306,0A2.7386127875258306,2.7386127875258306,0,1,1,2.7386127875258306,0\" fill=\"#4c78a8\" stroke-width=\"2\" opacity=\"0.7\"/><path aria-label=\"x1: 1.85840984614; x2: 0.303975964211; y: 1\" role=\"graphics-symbol\" aria-roledescription=\"circle\" transform=\"translate(167.92049230715165,89.60240357889431)\" d=\"M2.7386127875258306,0A2.7386127875258306,2.7386127875258306,0,1,1,-2.7386127875258306,0A2.7386127875258306,2.7386127875258306,0,1,1,2.7386127875258306,0\" fill=\"#f58518\" stroke-width=\"2\" opacity=\"0.7\"/><path aria-label=\"x1: 2.01318094115; x2: 0.163083451659; y: 1\" role=\"graphics-symbol\" aria-roledescription=\"circle\" transform=\"translate(175.65904705742986,103.69165483406579)\" d=\"M2.7386127875258306,0A2.7386127875258306,2.7386127875258306,0,1,1,-2.7386127875258306,0A2.7386127875258306,2.7386127875258306,0,1,1,2.7386127875258306,0\" fill=\"#f58518\" stroke-width=\"2\" opacity=\"0.7\"/><path aria-label=\"x1: 1.9894529181; x2: 0.0789728917106; y: 1\" role=\"graphics-symbol\" aria-roledescription=\"circle\" transform=\"translate(174.4726459050038,112.10271082893676)\" d=\"M2.7386127875258306,0A2.7386127875258306,2.7386127875258306,0,1,1,-2.7386127875258306,0A2.7386127875258306,2.7386127875258306,0,1,1,2.7386127875258306,0\" fill=\"#f58518\" stroke-width=\"2\" opacity=\"0.7\"/><path aria-label=\"x1: −0.989133499681; x2: 0.0967290413127; y: 0\" role=\"graphics-symbol\" aria-roledescription=\"circle\" transform=\"translate(25.54332501597269,110.32709586872838)\" d=\"M2.7386127875258306,0A2.7386127875258306,2.7386127875258306,0,1,1,-2.7386127875258306,0A2.7386127875258306,2.7386127875258306,0,1,1,2.7386127875258306,0\" fill=\"#4c78a8\" stroke-width=\"2\" opacity=\"0.7\"/></g><g class=\"mark-group role-legend\" role=\"graphics-symbol\" aria-roledescription=\"legend\" aria-label=\"Symbol legend titled 'y' for fill color with 2 values: 0, 1\"><g transform=\"translate(218,0)\"><path class=\"background\" aria-hidden=\"true\" d=\"M0,0h21v40h-21Z\" pointer-events=\"none\"/><g><g class=\"mark-group role-legend-entry\"><g transform=\"translate(0,16)\"><path class=\"background\" aria-hidden=\"true\" d=\"M0,0h0v0h0Z\" pointer-events=\"none\"/><g><g class=\"mark-group role-scope\" role=\"graphics-object\" aria-roledescription=\"group mark container\"><g transform=\"translate(0,0)\"><path class=\"background\" aria-hidden=\"true\" d=\"M0,0h21v11h-21Z\" pointer-events=\"none\" opacity=\"1\"/><g><g class=\"mark-symbol role-legend-symbol\" pointer-events=\"none\"><path transform=\"translate(6,6)\" d=\"M5,0A5,5,0,1,1,-5,0A5,5,0,1,1,5,0\" fill=\"#4c78a8\" stroke-width=\"1.5\" opacity=\"0.7\"/></g><g class=\"mark-text role-legend-label\" pointer-events=\"none\"><text text-anchor=\"start\" transform=\"translate(16,9)\" font-family=\"sans-serif\" font-size=\"10px\" fill=\"#000\" opacity=\"1\">0</text></g></g><path class=\"foreground\" aria-hidden=\"true\" d=\"\" pointer-events=\"none\" display=\"none\"/></g><g transform=\"translate(0,13)\"><path class=\"background\" aria-hidden=\"true\" d=\"M0,0h21v11h-21Z\" pointer-events=\"none\" opacity=\"1\"/><g><g class=\"mark-symbol role-legend-symbol\" pointer-events=\"none\"><path transform=\"translate(6,6)\" d=\"M5,0A5,5,0,1,1,-5,0A5,5,0,1,1,5,0\" fill=\"#f58518\" stroke-width=\"1.5\" opacity=\"0.7\"/></g><g class=\"mark-text role-legend-label\" pointer-events=\"none\"><text text-anchor=\"start\" transform=\"translate(16,9)\" font-family=\"sans-serif\" font-size=\"10px\" fill=\"#000\" opacity=\"1\">1</text></g></g><path class=\"foreground\" aria-hidden=\"true\" d=\"\" pointer-events=\"none\" display=\"none\"/></g></g></g><path class=\"foreground\" aria-hidden=\"true\" d=\"\" pointer-events=\"none\" display=\"none\"/></g></g><g class=\"mark-text role-legend-title\" pointer-events=\"none\"><text text-anchor=\"start\" transform=\"translate(0,9)\" font-family=\"sans-serif\" font-size=\"11px\" font-weight=\"bold\" fill=\"#000\" opacity=\"1\">y</text></g></g><path class=\"foreground\" aria-hidden=\"true\" d=\"\" pointer-events=\"none\" display=\"none\"/></g></g></g><path class=\"foreground\" aria-hidden=\"true\" d=\"\" display=\"none\"/></g></g></g></svg>\n"
      ],
      "text/plain": [
       "@vlplot(\n",
       "    mark=\"circle\",\n",
       "    encoding={\n",
       "        x={\n",
       "            field=\"x1\"\n",
       "        },\n",
       "        y={\n",
       "            field=\"x2\"\n",
       "        },\n",
       "        color={\n",
       "            field=\"y\",\n",
       "            type=\"nominal\"\n",
       "        }\n",
       "    },\n",
       "    data={\n",
       "        values=...\n",
       "    }\n",
       ")"
      ]
     },
     "execution_count": 35,
     "metadata": {},
     "output_type": "execute_result"
    }
   ],
   "source": [
    "using VegaLite\n",
    "dfHalfCircles |> @vlplot(:circle, x=:x1, y=:x2, color = :\"y:n\") "
   ]
  },
  {
   "cell_type": "markdown",
   "id": "796441b7",
   "metadata": {},
   "source": [
    "## Regression data generated from noisy linear models"
   ]
  },
  {
   "cell_type": "code",
   "execution_count": 36,
   "id": "818595ec",
   "metadata": {},
   "outputs": [
    {
     "data": {
      "text/html": [
       "<table class=\"data-frame\"><thead><tr><th></th><th>x1</th><th>x2</th><th>x3</th><th>x4</th><th>x5</th><th>y</th></tr><tr><th></th><th>Float64</th><th>Float64</th><th>Float64</th><th>Float64</th><th>Float64</th><th>Float64</th></tr></thead><tbody><p>3 rows × 6 columns</p><tr><th>1</th><td>0.170795</td><td>0.589843</td><td>-1.38378</td><td>-1.63984</td><td>0.397865</td><td>-26.7806</td></tr><tr><th>2</th><td>-0.979041</td><td>-2.1186</td><td>0.900343</td><td>-0.289349</td><td>1.08183</td><td>-1.4616</td></tr><tr><th>3</th><td>-0.659078</td><td>1.01347</td><td>0.420311</td><td>1.41233</td><td>0.160906</td><td>0.936487</td></tr></tbody></table>"
      ],
      "text/latex": [
       "\\begin{tabular}{r|cccccc}\n",
       "\t& x1 & x2 & x3 & x4 & x5 & y\\\\\n",
       "\t\\hline\n",
       "\t& Float64 & Float64 & Float64 & Float64 & Float64 & Float64\\\\\n",
       "\t\\hline\n",
       "\t1 & 0.170795 & 0.589843 & -1.38378 & -1.63984 & 0.397865 & -26.7806 \\\\\n",
       "\t2 & -0.979041 & -2.1186 & 0.900343 & -0.289349 & 1.08183 & -1.4616 \\\\\n",
       "\t3 & -0.659078 & 1.01347 & 0.420311 & 1.41233 & 0.160906 & 0.936487 \\\\\n",
       "\\end{tabular}\n"
      ],
      "text/plain": [
       "\u001b[1m3×6 DataFrame\u001b[0m\n",
       "\u001b[1m Row \u001b[0m│\u001b[1m x1        \u001b[0m\u001b[1m x2        \u001b[0m\u001b[1m x3        \u001b[0m\u001b[1m x4        \u001b[0m\u001b[1m x5       \u001b[0m\u001b[1m y          \u001b[0m\n",
       "\u001b[1m     \u001b[0m│\u001b[90m Float64   \u001b[0m\u001b[90m Float64   \u001b[0m\u001b[90m Float64   \u001b[0m\u001b[90m Float64   \u001b[0m\u001b[90m Float64  \u001b[0m\u001b[90m Float64    \u001b[0m\n",
       "─────┼──────────────────────────────────────────────────────────────────\n",
       "   1 │  0.170795   0.589843  -1.38378   -1.63984   0.397865  -26.7806\n",
       "   2 │ -0.979041  -2.1186     0.900343  -0.289349  1.08183    -1.4616\n",
       "   3 │ -0.659078   1.01347    0.420311   1.41233   0.160906    0.936487"
      ]
     },
     "execution_count": 36,
     "metadata": {},
     "output_type": "execute_result"
    }
   ],
   "source": [
    "using MLJ, DataFrames\n",
    "X, y = make_regression(100, 5; noise=0.5, sparse=0.2, outliers=0.1)\n",
    "dfRegression = DataFrame(X)\n",
    "dfRegression.y = y\n",
    "first(dfRegression, 3)"
   ]
  },
  {
   "cell_type": "code",
   "execution_count": null,
   "id": "1ba70e64",
   "metadata": {},
   "outputs": [],
   "source": []
  }
 ],
 "metadata": {
  "kernelspec": {
   "display_name": "Julia 1.6.2",
   "language": "julia",
   "name": "julia-1.6"
  },
  "language_info": {
   "file_extension": ".jl",
   "mimetype": "application/julia",
   "name": "julia",
   "version": "1.6.2"
  }
 },
 "nbformat": 4,
 "nbformat_minor": 5
}
